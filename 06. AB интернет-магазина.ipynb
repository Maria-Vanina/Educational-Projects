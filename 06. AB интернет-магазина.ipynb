{
 "cells": [
  {
   "cell_type": "markdown",
   "metadata": {},
   "source": [
    "# Проект. Принятие решений в бизнесе."
   ]
  },
  {
   "cell_type": "markdown",
   "metadata": {},
   "source": [
    "**ОГЛАВЛЕНИЕ** \n",
    "\n",
    "1. [Описание анализа](#intro1)\n",
    "2. [Описание данных](#intro2)\n",
    "3. [Загрузка данных и подготовка их к анализу](#intro3)\n",
    "4. [Часть 1. Приоритизация гипотез](#intro4)\n",
    "5. [Часть 2. Анализ A/B-теста](#intro5)\n",
    "6. [Выводы](#intro6)"
   ]
  },
  {
   "cell_type": "markdown",
   "metadata": {},
   "source": [
    "## Описание анализа  <a id='intro1'></a>\n",
    "Я — аналитик крупного интернет-магазина. Вместе с отделом маркетинга я подготовила список гипотез для увеличения выручки.\n",
    "Приоритизируем гипотезы, запустим A/B-тест и проанализируем результаты. \n"
   ]
  },
  {
   "cell_type": "markdown",
   "metadata": {},
   "source": [
    "## Описание данных <a id='intro2'></a>\n",
    "В моем распоряжении три датасета.\n",
    "\n",
    "- В файле hypothesis.csv 9 гипотез по увеличению выручки интернет-магазина с указанными параметрами Reach, Impact, Confidence, Effort.\n",
    " - \tHypothesis — краткое описание гипотезы;\n",
    " - Reach — охват пользователей по 10-балльной шкале;\n",
    " - Impact — влияние на пользователей по 10-балльной шкале;\n",
    " - Confidence — уверенность в гипотезе по 10-балльной шкале;\n",
    " - Efforts — затраты ресурсов на проверку гипотезы по 10-балльной шкале. Чем больше значение Efforts, тем дороже проверка гипотезы.\n",
    " \n",
    "\n",
    "- Файл orders.csv. \n",
    " - transactionId — идентификатор заказа;\n",
    " - visitorId — идентификатор пользователя, совершившего заказ;\n",
    " - date — дата, когда был совершён заказ;\n",
    " - revenue — выручка заказа;\n",
    " - group — группа A/B-теста, в которую попал заказ.\n",
    "\n",
    "\n",
    "- Файл visitors.csv. \n",
    " - date — дата;\n",
    " - group — группа A/B-теста;\n",
    " - visitors — количество пользователей в указанную дату в указанной группе A/B-теста\n"
   ]
  },
  {
   "cell_type": "markdown",
   "metadata": {},
   "source": [
    "## Загрузка данных и подготовка их к анализу <a id='intro3'></a>"
   ]
  },
  {
   "cell_type": "code",
   "execution_count": 1,
   "metadata": {},
   "outputs": [],
   "source": [
    "import pandas as pd\n",
    "import seaborn as sns\n",
    "from datetime import datetime, timedelta, date\n",
    "import matplotlib.pyplot as plt\n",
    "%matplotlib inline\n",
    "import numpy as np\n",
    "import scipy.stats as stats\n",
    "\n",
    "from pandas.plotting import register_matplotlib_converters\n",
    "# конвертеры, которые позволяют использовать типы pandas в matplotlib  \n",
    "register_matplotlib_converters()\n",
    "\n",
    "#import datetime as dt\n",
    "#import warnings"
   ]
  },
  {
   "cell_type": "code",
   "execution_count": 2,
   "metadata": {},
   "outputs": [],
   "source": [
    "hypothesis, orders, visitors = (\n",
    "    pd.read_csv('hypothesis.csv'),  # гипотезы\n",
    "    pd.read_csv('orders.csv'),  # информацию о заказах\n",
    "    pd.read_csv('visitors.csv')    # информацию о расходах на рекламу\n",
    ")"
   ]
  },
  {
   "cell_type": "code",
   "execution_count": 3,
   "metadata": {
    "scrolled": false
   },
   "outputs": [
    {
     "data": {
      "text/html": [
       "<div>\n",
       "<style scoped>\n",
       "    .dataframe tbody tr th:only-of-type {\n",
       "        vertical-align: middle;\n",
       "    }\n",
       "\n",
       "    .dataframe tbody tr th {\n",
       "        vertical-align: top;\n",
       "    }\n",
       "\n",
       "    .dataframe thead th {\n",
       "        text-align: right;\n",
       "    }\n",
       "</style>\n",
       "<table border=\"1\" class=\"dataframe\">\n",
       "  <thead>\n",
       "    <tr style=\"text-align: right;\">\n",
       "      <th></th>\n",
       "      <th>Hypothesis</th>\n",
       "      <th>Reach</th>\n",
       "      <th>Impact</th>\n",
       "      <th>Confidence</th>\n",
       "      <th>Efforts</th>\n",
       "    </tr>\n",
       "  </thead>\n",
       "  <tbody>\n",
       "    <tr>\n",
       "      <th>0</th>\n",
       "      <td>Добавить два новых канала привлечения трафика,...</td>\n",
       "      <td>3</td>\n",
       "      <td>10</td>\n",
       "      <td>8</td>\n",
       "      <td>6</td>\n",
       "    </tr>\n",
       "    <tr>\n",
       "      <th>1</th>\n",
       "      <td>Запустить собственную службу доставки, что сок...</td>\n",
       "      <td>2</td>\n",
       "      <td>5</td>\n",
       "      <td>4</td>\n",
       "      <td>10</td>\n",
       "    </tr>\n",
       "    <tr>\n",
       "      <th>2</th>\n",
       "      <td>Добавить блоки рекомендаций товаров на сайт ин...</td>\n",
       "      <td>8</td>\n",
       "      <td>3</td>\n",
       "      <td>7</td>\n",
       "      <td>3</td>\n",
       "    </tr>\n",
       "    <tr>\n",
       "      <th>3</th>\n",
       "      <td>Изменить структура категорий, что увеличит кон...</td>\n",
       "      <td>8</td>\n",
       "      <td>3</td>\n",
       "      <td>3</td>\n",
       "      <td>8</td>\n",
       "    </tr>\n",
       "    <tr>\n",
       "      <th>4</th>\n",
       "      <td>Изменить цвет фона главной страницы, чтобы уве...</td>\n",
       "      <td>3</td>\n",
       "      <td>1</td>\n",
       "      <td>1</td>\n",
       "      <td>1</td>\n",
       "    </tr>\n",
       "    <tr>\n",
       "      <th>5</th>\n",
       "      <td>Добавить страницу отзывов клиентов о магазине,...</td>\n",
       "      <td>3</td>\n",
       "      <td>2</td>\n",
       "      <td>2</td>\n",
       "      <td>3</td>\n",
       "    </tr>\n",
       "    <tr>\n",
       "      <th>6</th>\n",
       "      <td>Показать на главной странице баннеры с актуаль...</td>\n",
       "      <td>5</td>\n",
       "      <td>3</td>\n",
       "      <td>8</td>\n",
       "      <td>3</td>\n",
       "    </tr>\n",
       "    <tr>\n",
       "      <th>7</th>\n",
       "      <td>Добавить форму подписки на все основные страни...</td>\n",
       "      <td>10</td>\n",
       "      <td>7</td>\n",
       "      <td>8</td>\n",
       "      <td>5</td>\n",
       "    </tr>\n",
       "    <tr>\n",
       "      <th>8</th>\n",
       "      <td>Запустить акцию, дающую скидку на товар в день...</td>\n",
       "      <td>1</td>\n",
       "      <td>9</td>\n",
       "      <td>9</td>\n",
       "      <td>5</td>\n",
       "    </tr>\n",
       "  </tbody>\n",
       "</table>\n",
       "</div>"
      ],
      "text/plain": [
       "                                          Hypothesis  Reach  Impact  \\\n",
       "0  Добавить два новых канала привлечения трафика,...      3      10   \n",
       "1  Запустить собственную службу доставки, что сок...      2       5   \n",
       "2  Добавить блоки рекомендаций товаров на сайт ин...      8       3   \n",
       "3  Изменить структура категорий, что увеличит кон...      8       3   \n",
       "4  Изменить цвет фона главной страницы, чтобы уве...      3       1   \n",
       "5  Добавить страницу отзывов клиентов о магазине,...      3       2   \n",
       "6  Показать на главной странице баннеры с актуаль...      5       3   \n",
       "7  Добавить форму подписки на все основные страни...     10       7   \n",
       "8  Запустить акцию, дающую скидку на товар в день...      1       9   \n",
       "\n",
       "   Confidence  Efforts  \n",
       "0           8        6  \n",
       "1           4       10  \n",
       "2           7        3  \n",
       "3           3        8  \n",
       "4           1        1  \n",
       "5           2        3  \n",
       "6           8        3  \n",
       "7           8        5  \n",
       "8           9        5  "
      ]
     },
     "metadata": {},
     "output_type": "display_data"
    },
    {
     "name": "stdout",
     "output_type": "stream",
     "text": [
      "\n"
     ]
    },
    {
     "data": {
      "text/html": [
       "<div>\n",
       "<style scoped>\n",
       "    .dataframe tbody tr th:only-of-type {\n",
       "        vertical-align: middle;\n",
       "    }\n",
       "\n",
       "    .dataframe tbody tr th {\n",
       "        vertical-align: top;\n",
       "    }\n",
       "\n",
       "    .dataframe thead th {\n",
       "        text-align: right;\n",
       "    }\n",
       "</style>\n",
       "<table border=\"1\" class=\"dataframe\">\n",
       "  <thead>\n",
       "    <tr style=\"text-align: right;\">\n",
       "      <th></th>\n",
       "      <th>transactionId</th>\n",
       "      <th>visitorId</th>\n",
       "      <th>date</th>\n",
       "      <th>revenue</th>\n",
       "      <th>group</th>\n",
       "    </tr>\n",
       "  </thead>\n",
       "  <tbody>\n",
       "    <tr>\n",
       "      <th>0</th>\n",
       "      <td>3667963787</td>\n",
       "      <td>3312258926</td>\n",
       "      <td>2019-08-15</td>\n",
       "      <td>1650</td>\n",
       "      <td>B</td>\n",
       "    </tr>\n",
       "    <tr>\n",
       "      <th>1</th>\n",
       "      <td>2804400009</td>\n",
       "      <td>3642806036</td>\n",
       "      <td>2019-08-15</td>\n",
       "      <td>730</td>\n",
       "      <td>B</td>\n",
       "    </tr>\n",
       "    <tr>\n",
       "      <th>2</th>\n",
       "      <td>2961555356</td>\n",
       "      <td>4069496402</td>\n",
       "      <td>2019-08-15</td>\n",
       "      <td>400</td>\n",
       "      <td>A</td>\n",
       "    </tr>\n",
       "    <tr>\n",
       "      <th>3</th>\n",
       "      <td>3797467345</td>\n",
       "      <td>1196621759</td>\n",
       "      <td>2019-08-15</td>\n",
       "      <td>9759</td>\n",
       "      <td>B</td>\n",
       "    </tr>\n",
       "    <tr>\n",
       "      <th>4</th>\n",
       "      <td>2282983706</td>\n",
       "      <td>2322279887</td>\n",
       "      <td>2019-08-15</td>\n",
       "      <td>2308</td>\n",
       "      <td>B</td>\n",
       "    </tr>\n",
       "  </tbody>\n",
       "</table>\n",
       "</div>"
      ],
      "text/plain": [
       "   transactionId   visitorId        date  revenue group\n",
       "0     3667963787  3312258926  2019-08-15     1650     B\n",
       "1     2804400009  3642806036  2019-08-15      730     B\n",
       "2     2961555356  4069496402  2019-08-15      400     A\n",
       "3     3797467345  1196621759  2019-08-15     9759     B\n",
       "4     2282983706  2322279887  2019-08-15     2308     B"
      ]
     },
     "metadata": {},
     "output_type": "display_data"
    },
    {
     "name": "stdout",
     "output_type": "stream",
     "text": [
      "\n"
     ]
    },
    {
     "data": {
      "text/html": [
       "<div>\n",
       "<style scoped>\n",
       "    .dataframe tbody tr th:only-of-type {\n",
       "        vertical-align: middle;\n",
       "    }\n",
       "\n",
       "    .dataframe tbody tr th {\n",
       "        vertical-align: top;\n",
       "    }\n",
       "\n",
       "    .dataframe thead th {\n",
       "        text-align: right;\n",
       "    }\n",
       "</style>\n",
       "<table border=\"1\" class=\"dataframe\">\n",
       "  <thead>\n",
       "    <tr style=\"text-align: right;\">\n",
       "      <th></th>\n",
       "      <th>date</th>\n",
       "      <th>group</th>\n",
       "      <th>visitors</th>\n",
       "    </tr>\n",
       "  </thead>\n",
       "  <tbody>\n",
       "    <tr>\n",
       "      <th>0</th>\n",
       "      <td>2019-08-01</td>\n",
       "      <td>A</td>\n",
       "      <td>719</td>\n",
       "    </tr>\n",
       "    <tr>\n",
       "      <th>1</th>\n",
       "      <td>2019-08-02</td>\n",
       "      <td>A</td>\n",
       "      <td>619</td>\n",
       "    </tr>\n",
       "    <tr>\n",
       "      <th>2</th>\n",
       "      <td>2019-08-03</td>\n",
       "      <td>A</td>\n",
       "      <td>507</td>\n",
       "    </tr>\n",
       "    <tr>\n",
       "      <th>3</th>\n",
       "      <td>2019-08-04</td>\n",
       "      <td>A</td>\n",
       "      <td>717</td>\n",
       "    </tr>\n",
       "    <tr>\n",
       "      <th>4</th>\n",
       "      <td>2019-08-05</td>\n",
       "      <td>A</td>\n",
       "      <td>756</td>\n",
       "    </tr>\n",
       "  </tbody>\n",
       "</table>\n",
       "</div>"
      ],
      "text/plain": [
       "         date group  visitors\n",
       "0  2019-08-01     A       719\n",
       "1  2019-08-02     A       619\n",
       "2  2019-08-03     A       507\n",
       "3  2019-08-04     A       717\n",
       "4  2019-08-05     A       756"
      ]
     },
     "metadata": {},
     "output_type": "display_data"
    }
   ],
   "source": [
    "display(hypothesis)\n",
    "print()\n",
    "display(orders.head(5))\n",
    "print()\n",
    "display(visitors.head(5))"
   ]
  },
  {
   "cell_type": "markdown",
   "metadata": {},
   "source": [
    "Приведем названия столбцов к стилистически правильным:"
   ]
  },
  {
   "cell_type": "code",
   "execution_count": 4,
   "metadata": {
    "scrolled": false
   },
   "outputs": [
    {
     "data": {
      "text/plain": [
       "Index(['hypothesis', 'reach', 'impact', 'confidence', 'efforts'], dtype='object')"
      ]
     },
     "metadata": {},
     "output_type": "display_data"
    }
   ],
   "source": [
    "# в датафрейме hypothesis\n",
    "hypothesis = hypothesis.rename(\n",
    "    columns = {\n",
    "        'Hypothesis': 'hypothesis',\n",
    "        'Reach': 'reach',\n",
    "        'Impact': 'impact',\n",
    "        'Confidence': 'confidence',\n",
    "        'Efforts': 'efforts'\n",
    "    }\n",
    ")\n",
    "\n",
    "display(hypothesis.columns) # Проверим"
   ]
  },
  {
   "cell_type": "code",
   "execution_count": 5,
   "metadata": {},
   "outputs": [
    {
     "data": {
      "text/plain": [
       "Index(['transaction_id', 'visitor_id', 'date', 'revenue', 'group'], dtype='object')"
      ]
     },
     "metadata": {},
     "output_type": "display_data"
    }
   ],
   "source": [
    "# в датафрейме orders\n",
    "orders = orders.rename(\n",
    "    columns = {\n",
    "        'transactionId': 'transaction_id',\n",
    "        'visitorId': 'visitor_id'\n",
    "    }\n",
    ")\n",
    "\n",
    "display(orders.columns) # Проверим"
   ]
  },
  {
   "cell_type": "markdown",
   "metadata": {},
   "source": [
    "Посмотрим общую информацию."
   ]
  },
  {
   "cell_type": "code",
   "execution_count": 6,
   "metadata": {
    "scrolled": true
   },
   "outputs": [
    {
     "name": "stdout",
     "output_type": "stream",
     "text": [
      "<class 'pandas.core.frame.DataFrame'>\n",
      "RangeIndex: 9 entries, 0 to 8\n",
      "Data columns (total 5 columns):\n",
      " #   Column      Non-Null Count  Dtype \n",
      "---  ------      --------------  ----- \n",
      " 0   hypothesis  9 non-null      object\n",
      " 1   reach       9 non-null      int64 \n",
      " 2   impact      9 non-null      int64 \n",
      " 3   confidence  9 non-null      int64 \n",
      " 4   efforts     9 non-null      int64 \n",
      "dtypes: int64(4), object(1)\n",
      "memory usage: 488.0+ bytes\n"
     ]
    }
   ],
   "source": [
    "hypothesis.info()"
   ]
  },
  {
   "cell_type": "code",
   "execution_count": 7,
   "metadata": {
    "scrolled": true
   },
   "outputs": [
    {
     "name": "stdout",
     "output_type": "stream",
     "text": [
      "<class 'pandas.core.frame.DataFrame'>\n",
      "RangeIndex: 1197 entries, 0 to 1196\n",
      "Data columns (total 5 columns):\n",
      " #   Column          Non-Null Count  Dtype \n",
      "---  ------          --------------  ----- \n",
      " 0   transaction_id  1197 non-null   int64 \n",
      " 1   visitor_id      1197 non-null   int64 \n",
      " 2   date            1197 non-null   object\n",
      " 3   revenue         1197 non-null   int64 \n",
      " 4   group           1197 non-null   object\n",
      "dtypes: int64(3), object(2)\n",
      "memory usage: 46.9+ KB\n"
     ]
    }
   ],
   "source": [
    "orders.info()"
   ]
  },
  {
   "cell_type": "code",
   "execution_count": 8,
   "metadata": {
    "scrolled": true
   },
   "outputs": [
    {
     "name": "stdout",
     "output_type": "stream",
     "text": [
      "<class 'pandas.core.frame.DataFrame'>\n",
      "RangeIndex: 62 entries, 0 to 61\n",
      "Data columns (total 3 columns):\n",
      " #   Column    Non-Null Count  Dtype \n",
      "---  ------    --------------  ----- \n",
      " 0   date      62 non-null     object\n",
      " 1   group     62 non-null     object\n",
      " 2   visitors  62 non-null     int64 \n",
      "dtypes: int64(1), object(2)\n",
      "memory usage: 1.6+ KB\n"
     ]
    }
   ],
   "source": [
    "visitors.info()"
   ]
  },
  {
   "cell_type": "markdown",
   "metadata": {},
   "source": [
    "Пропусков нет."
   ]
  },
  {
   "cell_type": "markdown",
   "metadata": {},
   "source": [
    "Посмотрим есть ли в данных явные дубликаты."
   ]
  },
  {
   "cell_type": "code",
   "execution_count": 9,
   "metadata": {
    "scrolled": true
   },
   "outputs": [
    {
     "data": {
      "text/plain": [
       "0"
      ]
     },
     "metadata": {},
     "output_type": "display_data"
    },
    {
     "data": {
      "text/plain": [
       "0"
      ]
     },
     "metadata": {},
     "output_type": "display_data"
    },
    {
     "data": {
      "text/plain": [
       "0"
      ]
     },
     "metadata": {},
     "output_type": "display_data"
    }
   ],
   "source": [
    "# подсчёт явных дубликатов\n",
    "display(hypothesis.duplicated().sum())\n",
    "display(orders.duplicated().sum())\n",
    "display(visitors.duplicated().sum())"
   ]
  },
  {
   "cell_type": "markdown",
   "metadata": {},
   "source": [
    "Явных дубликатов нет. Данные готовы к проведению анализа."
   ]
  },
  {
   "cell_type": "markdown",
   "metadata": {},
   "source": [
    "Проверим количество участников теста, совпадают ли объемы групп."
   ]
  },
  {
   "cell_type": "code",
   "execution_count": 10,
   "metadata": {
    "scrolled": true
   },
   "outputs": [
    {
     "name": "stdout",
     "output_type": "stream",
     "text": [
      "Количество участников в группе А: 18736\n",
      "Количество участников в группе В: 18916\n",
      "Относительная разница между группами: 0.95 %\n"
     ]
    }
   ],
   "source": [
    "group_a = visitors.query('group == \"A\"')['visitors'].sum()\n",
    "group_b = visitors.query('group == \"B\"')['visitors'].sum()\n",
    "groups_difference = ((abs(1 - (group_a / group_b))) * 100).round(2)\n",
    "\n",
    "print('Количество участников в группе А:', group_a)\n",
    "print('Количество участников в группе В:', group_b)\n",
    "print(f'Относительная разница между группами: {groups_difference} %')"
   ]
  },
  {
   "cell_type": "markdown",
   "metadata": {},
   "source": [
    "Группы практически одинаковые. Проверим не попали ли одни и те же участники в разные группы."
   ]
  },
  {
   "cell_type": "code",
   "execution_count": 11,
   "metadata": {
    "scrolled": true
   },
   "outputs": [
    {
     "name": "stdout",
     "output_type": "stream",
     "text": [
      "group    58\n",
      "dtype: int64\n"
     ]
    }
   ],
   "source": [
    "print(orders.groupby('visitor_id').agg({'group': 'nunique'}).query('group > 1').count())"
   ]
  },
  {
   "cell_type": "markdown",
   "metadata": {},
   "source": [
    "Мы видим, что, к сожалению, есть пользователи, которые участвовали в обеих группах теста. Это означает, что тест проведен некорректно. Возможно предварительно не был проведен тест А/А. В данной ситуации у нас нет данных с идентифокаторами пользователей в таблице visitors для того, чтобы мы могли удалить пользователей попавших в обе группы. Нет смысла удалять из одной таблицы, если они останутся во второй. Оставляем так."
   ]
  },
  {
   "cell_type": "markdown",
   "metadata": {},
   "source": [
    "**Вывод:** В данных написание столбцов приведено к стилистически правильному написанию. В данных отстутствуют пропуски и явные и неявные дубликаты. Количество участников в группах различается - разница меньше 1%. В обе группы одновременно попало 58 участников. В идеале стоило бы остановить тест, провести доработку данных и повторить тест.\n",
    "\n",
    "Если удалить повторяющихся участников в таблице visitors, но оставить в таблице orders будет искажение данных, если оставить, то тоже будет искажение. Получается, что результаты в любом случае нельзя считать корректными, поэтому оставляем все как есть. Так как ислледование учебное - продолжим исследование."
   ]
  },
  {
   "cell_type": "markdown",
   "metadata": {},
   "source": [
    "## Часть 1. Приоритизация гипотез  <a id='intro4'></a>\n",
    "\n",
    "Рассчитаем ICE по формуле:\n",
    "\n",
    "ICE = влияние на пользователей(их опыт и удовлетворение от продукта)  *  уверенность в полученном влиянии на пользователя   /   стоимость тестирования гипотезы \n",
    "\n",
    "\n",
    "\n",
    "Рассчитаем RICE по формуле:\n",
    "\n",
    "RICE = количество пользователей, которых затронет изменение  *  влияние на пользователей(их опыт и удовлетворение от продукта)  *  уверенность в полученном влиянии на пользователя   /   стоимость тестирования гипотезы \n"
   ]
  },
  {
   "cell_type": "markdown",
   "metadata": {},
   "source": [
    "### Применим фреймворк ICE для приоритизации гипотез. Отсортируем их по убыванию приоритета.\n",
    "\n"
   ]
  },
  {
   "cell_type": "code",
   "execution_count": 12,
   "metadata": {
    "scrolled": false
   },
   "outputs": [
    {
     "name": "stdout",
     "output_type": "stream",
     "text": [
      "                                          hypothesis    ice\n",
      "8  Запустить акцию, дающую скидку на товар в день...  16.20\n",
      "0  Добавить два новых канала привлечения трафика,...  13.33\n",
      "7  Добавить форму подписки на все основные страни...  11.20\n",
      "6  Показать на главной странице баннеры с актуаль...   8.00\n",
      "2  Добавить блоки рекомендаций товаров на сайт ин...   7.00\n",
      "1  Запустить собственную службу доставки, что сок...   2.00\n",
      "5  Добавить страницу отзывов клиентов о магазине,...   1.33\n",
      "3  Изменить структура категорий, что увеличит кон...   1.12\n",
      "4  Изменить цвет фона главной страницы, чтобы уве...   1.00\n"
     ]
    }
   ],
   "source": [
    "hypothesis['ice'] = (hypothesis['impact'] * hypothesis['confidence']) / hypothesis['efforts']\n",
    "print((hypothesis.sort_values(by='ice', ascending=False)[['hypothesis', 'ice']]).round(2))"
   ]
  },
  {
   "cell_type": "markdown",
   "metadata": {},
   "source": [
    "Наиболее перспективные гипотезы:\n",
    "- №8 Запустить акцию, дающую скидку на товар в день рождения, \n",
    "- №0 Добавить два новых канала привлечения трафика, что позволит привлекать на 30% больше пользователей,\n",
    "- №7 Добавить форму подписки на все основные страницы, чтобы собрать базу клиентов для email-рассылок. \n",
    "\n",
    "У них наибольший показатель ICE."
   ]
  },
  {
   "cell_type": "markdown",
   "metadata": {},
   "source": [
    "### Применим фреймворк RICE для приоритизации гипотез. Отсортируйем их по убыванию приоритета."
   ]
  },
  {
   "cell_type": "code",
   "execution_count": 13,
   "metadata": {},
   "outputs": [
    {
     "name": "stdout",
     "output_type": "stream",
     "text": [
      "                                                                                            hypothesis  \\\n",
      "7     Добавить форму подписки на все основные страницы, чтобы собрать базу клиентов для email-рассылок   \n",
      "2  Добавить блоки рекомендаций товаров на сайт интернет магазина, чтобы повысить конверсию и средни...   \n",
      "0   Добавить два новых канала привлечения трафика, что позволит привлекать на 30% больше пользователей   \n",
      "6  Показать на главной странице баннеры с актуальными акциями и распродажами, чтобы увеличить конве...   \n",
      "8                                              Запустить акцию, дающую скидку на товар в день рождения   \n",
      "3  Изменить структура категорий, что увеличит конверсию, т.к. пользователи быстрее найдут нужный товар   \n",
      "1                            Запустить собственную службу доставки, что сократит срок доставки заказов   \n",
      "5             Добавить страницу отзывов клиентов о магазине, что позволит увеличить количество заказов   \n",
      "4                     Изменить цвет фона главной страницы, чтобы увеличить вовлеченность пользователей   \n",
      "\n",
      "    rice  \n",
      "7  112.0  \n",
      "2   56.0  \n",
      "0   40.0  \n",
      "6   40.0  \n",
      "8   16.2  \n",
      "3    9.0  \n",
      "1    4.0  \n",
      "5    4.0  \n",
      "4    3.0  \n"
     ]
    }
   ],
   "source": [
    "hypothesis['rice'] = hypothesis['reach'] * hypothesis['impact'] * hypothesis['confidence'] / hypothesis['efforts']\n",
    "pd.options.display.max_colwidth = 100\n",
    "print(hypothesis.sort_values(by='rice', ascending=False)[['hypothesis', 'rice']])"
   ]
  },
  {
   "cell_type": "markdown",
   "metadata": {},
   "source": [
    "И снова наиболее перспектичнвные гипотезы:\n",
    "- №0 Добавить два новых канала привлечения трафика, что позволит привлекать на 30% больше пользователей,\n",
    "- и №7 Добавить форму подписки на все основные страницы, чтобы собрать базу клиентов для email-рассылок, \n",
    "- но к ним вместо 8-ой присоединилась 2-ая (Добавить блоки рекомендаций товаров на сайт интернет магазина, чтобы повысить конверсию и средни...) и 6-я (Показать на главной странице баннеры с актуальными акциями и распродажами, чтобы увеличить конве...) гипотезы. \n",
    "\n",
    "И на первом месте сейчас стоит 7-ая (Добавить форму подписки на все основные страницы, чтобы собрать базу клиентов для email-рассылок), т.к. у нее показатель RICE выше всех - 112. "
   ]
  },
  {
   "cell_type": "markdown",
   "metadata": {},
   "source": [
    "### Укажем, как изменилась приоритизация гипотез при применении RICE вместо ICE. "
   ]
  },
  {
   "cell_type": "code",
   "execution_count": 14,
   "metadata": {
    "scrolled": false
   },
   "outputs": [
    {
     "name": "stdout",
     "output_type": "stream",
     "text": [
      "         ice   rice  reach\n",
      "7  11.200000  112.0     10\n",
      "2   7.000000   56.0      8\n",
      "3   1.125000    9.0      8\n",
      "6   8.000000   40.0      5\n",
      "0  13.333333   40.0      3\n",
      "4   1.000000    3.0      3\n",
      "5   1.333333    4.0      3\n",
      "1   2.000000    4.0      2\n",
      "8  16.200000   16.2      1\n"
     ]
    }
   ],
   "source": [
    "print(hypothesis.sort_values(by='reach', ascending=False)[['ice', 'rice', 'reach']])"
   ]
  },
  {
   "cell_type": "markdown",
   "metadata": {},
   "source": [
    "У гипотез изменились места, т.к. при рассчете RICE учитывается не только влияние, уверенность, усилия/простота расчета приоритезации гипотез, но и охват аудитории (т.е. как много пользователей затронет та или иная гипотеза), что не учитывается при расчете ICE."
   ]
  },
  {
   "cell_type": "markdown",
   "metadata": {},
   "source": [
    "## Часть 2. Анализ A/B-теста <a id='intro5'></a>"
   ]
  },
  {
   "cell_type": "markdown",
   "metadata": {},
   "source": [
    "### Построим график кумулятивной выручки по группам. "
   ]
  },
  {
   "cell_type": "code",
   "execution_count": 15,
   "metadata": {
    "scrolled": false
   },
   "outputs": [
    {
     "data": {
      "image/png": "[encoded data removed]",
      "text/plain": [
       "<Figure size 640x480 with 1 Axes>"
      ]
     },
     "metadata": {},
     "output_type": "display_data"
    }
   ],
   "source": [
    "dates_groups = orders[['date', 'group']].drop_duplicates()  #Создадим массив уникальных пар значений дат и групп теста \n",
    "\n",
    "orders_aggregated = dates_groups.apply(\n",
    "    lambda x: orders[\n",
    "        np.logical_and(\n",
    "            orders['date'] <= x['date'], orders['group'] == x['group']\n",
    "        )\n",
    "    ].agg(    #Агрегируем значения\n",
    "        {\n",
    "            'date': 'max',   \n",
    "            'group': 'max',\n",
    "            'transaction_id': 'nunique',\n",
    "            'visitor_id': 'nunique',\n",
    "            'revenue': 'sum',\n",
    "        }\n",
    "    ),\n",
    "    axis=1,\n",
    ").sort_values(by=['date', 'group'])\n",
    "\n",
    "visitors_aggregated = dates_groups.apply(\n",
    "    lambda x: visitors[\n",
    "        np.logical_and(\n",
    "            visitors['date'] <= x['date'], visitors['group'] == x['group']\n",
    "        )\n",
    "    ].agg({'date': 'max', 'group': 'max', 'visitors': 'sum'}),\n",
    "    axis=1,\n",
    ").sort_values(by=['date', 'group'])\n",
    "\n",
    "cumulative_data = orders_aggregated.merge(\n",
    "    visitors_aggregated, left_on=['date', 'group'], right_on=['date', 'group']\n",
    ")\n",
    "cumulative_data.columns = [\n",
    "    'date',\n",
    "    'group',\n",
    "    'orders',\n",
    "    'buyers',\n",
    "    'revenue',\n",
    "    'visitors',\n",
    "]\n",
    "\n",
    "# датафрейм с кумулятивным количеством заказов и кумулятивной выручкой по дням в группе А\n",
    "cumulative_revenue_a = cumulative_data[cumulative_data['group']=='A'][['date','revenue', 'orders']]\n",
    "\n",
    "# датафрейм с кумулятивным количеством заказов и кумулятивной выручкой по дням в группе B\n",
    "cumulative_revenue_b = cumulative_data[cumulative_data['group']=='B'][['date','revenue', 'orders']]\n",
    "\n",
    "# Строим график выручки группы А\n",
    "plt.plot(cumulative_revenue_a['date'], cumulative_revenue_a['revenue'], label='A')\n",
    "\n",
    "# Строим график выручки группы B\n",
    "plt.plot(cumulative_revenue_b['date'], cumulative_revenue_b['revenue'], label='B')\n",
    "\n",
    "plt.xticks(rotation = 90)\n",
    "plt.xlabel('Дата')\n",
    "plt.ylabel('Выручка')\n",
    "plt.title('Кумулятивная выручка по группам', fontsize=13)\n",
    "plt.legend()\n",
    "plt.show;"
   ]
  },
  {
   "cell_type": "markdown",
   "metadata": {},
   "source": [
    "Примерно в середине теста сегмент B вырвался вперёд и продолжал лидировать до конца теста. Похоже, что аномально большие заказы всё-таки влияют на результаты. При заключительном анализе их нужно удалить."
   ]
  },
  {
   "cell_type": "markdown",
   "metadata": {},
   "source": [
    "### Построим график кумулятивного среднего чека по группам."
   ]
  },
  {
   "cell_type": "code",
   "execution_count": 16,
   "metadata": {
    "scrolled": false
   },
   "outputs": [
    {
     "data": {
      "image/png": "[encoded data removed]",
      "text/plain": [
       "<Figure size 640x480 with 1 Axes>"
      ]
     },
     "metadata": {},
     "output_type": "display_data"
    }
   ],
   "source": [
    "plt.plot(cumulative_revenue_a['date'], cumulative_revenue_a['revenue']/cumulative_revenue_a['orders'], label='A')\n",
    "plt.plot(cumulative_revenue_b['date'], cumulative_revenue_b['revenue']/cumulative_revenue_b['orders'], label='B')\n",
    "\n",
    "plt.xticks(rotation = 90)\n",
    "plt.xlabel('Дата')\n",
    "plt.ylabel('Средний чек')\n",
    "plt.title('Кумулятивный средний чек по группам', fontsize=13)\n",
    "plt.legend()\n",
    "plt.show;"
   ]
  },
  {
   "cell_type": "markdown",
   "metadata": {},
   "source": [
    "Кумулятивное значение среднего чека по сегментам продолжает колебаться. Прежде, чем принимать решение по этой метрике надо провести дополнительный анализ выбросов, которые искажают результаты."
   ]
  },
  {
   "cell_type": "markdown",
   "metadata": {},
   "source": [
    "### Построим график относительного изменения кумулятивного среднего чека группы B к группе A."
   ]
  },
  {
   "cell_type": "code",
   "execution_count": 17,
   "metadata": {
    "scrolled": false
   },
   "outputs": [
    {
     "data": {
      "image/png": "[encoded data removed]",
      "text/plain": [
       "<Figure size 640x480 with 1 Axes>"
      ]
     },
     "metadata": {},
     "output_type": "display_data"
    }
   ],
   "source": [
    "# собираем данные в одном датафрейме\n",
    "merged_cumulative_revenue = cumulative_revenue_a.merge(cumulative_revenue_b, left_on='date', right_on='date', how='left', suffixes=['A', 'B'])\n",
    "\n",
    "# cтроим отношение средних чеков\n",
    "plt.plot(merged_cumulative_revenue['date'], (merged_cumulative_revenue['revenueB']/merged_cumulative_revenue['ordersB'])/(merged_cumulative_revenue['revenueA']/merged_cumulative_revenue['ordersA'])-1)\n",
    "\n",
    "# добавляем ось X\n",
    "plt.axhline(y=0, color='black', linestyle='--')\n",
    "\n",
    "plt.xticks(rotation = 90)\n",
    "plt.xlabel('Дата')\n",
    "plt.ylabel('Изменен.кумул.ср.чека')\n",
    "plt.title('Относительное изменения кумулятивного ср.чека группы В к группе А', fontsize=13)\n",
    "plt.show;"
   ]
  },
  {
   "cell_type": "markdown",
   "metadata": {},
   "source": [
    "Результаты теста значительно и резко менялись в несколько дат. Видимо, именно тогда были совершены аномальные заказы."
   ]
  },
  {
   "cell_type": "markdown",
   "metadata": {},
   "source": [
    "### Построим график кумулятивного среднего количества заказов на посетителя по группам. "
   ]
  },
  {
   "cell_type": "code",
   "execution_count": 18,
   "metadata": {
    "scrolled": false
   },
   "outputs": [
    {
     "data": {
      "image/png": "[encoded data removed]",
      "text/plain": [
       "<Figure size 640x480 with 1 Axes>"
      ]
     },
     "metadata": {},
     "output_type": "display_data"
    }
   ],
   "source": [
    "# считаем кумулятивную конверсию\n",
    "cumulative_data['conversion'] = cumulative_data['orders']/cumulative_data['visitors']\n",
    "\n",
    "# отделяем данные по группе A\n",
    "cumulative_data_a = cumulative_data[cumulative_data['group']=='A']\n",
    "\n",
    "# отделяем данные по группе B\n",
    "cumulative_data_b = cumulative_data[cumulative_data['group']=='B']\n",
    "\n",
    "# строим графики\n",
    "plt.plot(cumulative_data_a['date'], cumulative_data_a['conversion'], label='A')\n",
    "plt.plot(cumulative_data_b['date'], cumulative_data_b['conversion'], label='B')\n",
    "\n",
    "plt.axis(['2019-08-01', '2019-08-31',  0, 0.05])\n",
    "plt.xticks(rotation = 90)\n",
    "plt.xlabel('Дата')\n",
    "plt.ylabel('Среднее количество заказов')\n",
    "plt.title('Средняя конверсия заказов по группам', fontsize=13)\n",
    "plt.show\n",
    "plt.legend();"
   ]
  },
  {
   "cell_type": "markdown",
   "metadata": {},
   "source": [
    "В начале теста сегмент A имел бОльшую конверсию, но постепенно сегмент B выровнялся и зафиксировался примерно около одного значения, больше значения сегмента A.\n",
    "Мы изменили масштаб графика, чтобы было видно, что абсолютное значение колебания в начале и в конце теста не слишком большое: от 3% до 4%. Если не задать масштаб осей, будет казаться, что колебания продолжаются, и конверсия не установилась около своего среднего значения.\n",
    "\n",
    "У группы В показатель конверсии выше."
   ]
  },
  {
   "cell_type": "markdown",
   "metadata": {},
   "source": [
    "### Построим график относительного изменения кумулятивного среднего количества заказов на посетителя группы B к группе A."
   ]
  },
  {
   "cell_type": "code",
   "execution_count": 19,
   "metadata": {
    "scrolled": false
   },
   "outputs": [
    {
     "data": {
      "image/png": "[encoded data removed]",
      "text/plain": [
       "<Figure size 640x480 with 1 Axes>"
      ]
     },
     "metadata": {},
     "output_type": "display_data"
    }
   ],
   "source": [
    "merged_cumulative_conversions = cumulative_data_a[['date','conversion']].merge(cumulative_data_b[['date','conversion']], left_on='date', right_on='date', how='left', suffixes=['A', 'B'])\n",
    "\n",
    "plt.plot(merged_cumulative_conversions['date'], merged_cumulative_conversions['conversionB']/merged_cumulative_conversions['conversionA']-1)\n",
    "\n",
    "plt.axhline(y=0, color='black', linestyle='--')\n",
    "plt.axhline(y=0.2, color='grey', linestyle='--')\n",
    "\n",
    "plt.axis(['2019-08-01', '2019-08-31', -0.5, 0.5])\n",
    "plt.xticks(rotation = 90)\n",
    "plt.xlabel('Дата')\n",
    "plt.ylabel('Отн.прирост кум.ср.кол-ва заказов')\n",
    "plt.title('Относительный прирост конверсии группы B относительно группы A', fontsize=13)\n",
    "plt.show;"
   ]
  },
  {
   "cell_type": "markdown",
   "metadata": {},
   "source": [
    "Почти с самого начала теста группа B лидирует по конверсии: становится лучше и лучше, максимальное значение фиксировалось около прироста в 20% относительно группы A."
   ]
  },
  {
   "cell_type": "markdown",
   "metadata": {},
   "source": [
    "### Построим точечный график количества заказов по пользователям."
   ]
  },
  {
   "cell_type": "code",
   "execution_count": 20,
   "metadata": {
    "scrolled": false
   },
   "outputs": [
    {
     "data": {
      "image/png": "[encoded data removed]",
      "text/plain": [
       "<Figure size 640x480 with 1 Axes>"
      ]
     },
     "metadata": {},
     "output_type": "display_data"
    }
   ],
   "source": [
    "orders_by_users = (\n",
    "   orders.groupby('visitor_id', as_index=False)\n",
    "   .agg({'transaction_id': 'nunique'})\n",
    ")\n",
    "\n",
    "# серия из чисел от 0 до количества наблюдений в orders_by_users\n",
    "x_values = pd.Series(range(0, len(orders_by_users)))\n",
    "\n",
    "plt.scatter(x_values, orders_by_users['transaction_id']) \n",
    "\n",
    "plt.xlabel('Количество пользователей')\n",
    "plt.ylabel('Количество заказов')\n",
    "plt.title('Количество заказов по пользователям', fontsize=13)\n",
    "plt.show;"
   ]
  },
  {
   "cell_type": "markdown",
   "metadata": {},
   "source": [
    "Большенство пользователей сделали 1 заказ. Но видно, что есть те, кто сделал 2-3 и более заказов. Надо посмотреть их долю в общем количестве, посчитав выборочные перцентили."
   ]
  },
  {
   "cell_type": "markdown",
   "metadata": {},
   "source": [
    "### Посчитаем 95-й и 99-й перцентили количества заказов на пользователя. Выберем границу для определения аномальных пользователей."
   ]
  },
  {
   "cell_type": "code",
   "execution_count": 21,
   "metadata": {
    "scrolled": true
   },
   "outputs": [
    {
     "name": "stdout",
     "output_type": "stream",
     "text": [
      "[2. 4.]\n"
     ]
    }
   ],
   "source": [
    "print(np.percentile(orders_by_users['transaction_id'], [95, 99])) "
   ]
  },
  {
   "cell_type": "markdown",
   "metadata": {},
   "source": [
    "Теперь мы видим, что не более 5% пользователей совершали больше двух заказов. И не более 1% пользователей — больше четырех заказов. Таким образом отметку в 99-й перцентиль можно считать анаомалиями и исключить эти данные при дальнейшем анализе \"чистых данных\".\n"
   ]
  },
  {
   "cell_type": "markdown",
   "metadata": {},
   "source": [
    "### Построим точечный график стоимостей заказов."
   ]
  },
  {
   "cell_type": "code",
   "execution_count": 22,
   "metadata": {
    "scrolled": false
   },
   "outputs": [
    {
     "data": {
      "image/png": "[encoded data removed]",
      "text/plain": [
       "<Figure size 640x480 with 1 Axes>"
      ]
     },
     "metadata": {},
     "output_type": "display_data"
    }
   ],
   "source": [
    "x_values = pd.Series(range(0, len(orders['revenue'])))\n",
    "\n",
    "plt.scatter(x_values, orders['revenue'])\n",
    "\n",
    "plt.xlabel('Количество заказов')\n",
    "plt.ylabel('Выручка заказа, млн')\n",
    "plt.title('Стоимость заказов', fontsize=13)\n",
    "plt.show;"
   ]
  },
  {
   "cell_type": "markdown",
   "metadata": {},
   "source": [
    "На графике видно, что большинство заказов на стоимость до 170 тыс. Но есть выброс в районе 1,3 млн. По графику можно было бы выбрать границу аномальных заказов от 210 000. Однако допускается отсеивать не более 5% наблюдений с крайними значениями. Проверим долю стоимостей в общем количестве, посчитав выборочные перцентили."
   ]
  },
  {
   "cell_type": "markdown",
   "metadata": {},
   "source": [
    "### Посчитаем 95-й и 99-й перцентили стоимости заказов. Выберем границу для определения аномальных заказов."
   ]
  },
  {
   "cell_type": "code",
   "execution_count": 23,
   "metadata": {},
   "outputs": [
    {
     "name": "stdout",
     "output_type": "stream",
     "text": [
      "[28000.  58233.2]\n"
     ]
    }
   ],
   "source": [
    "print(np.percentile(orders['revenue'], [95, 99])) "
   ]
  },
  {
   "cell_type": "markdown",
   "metadata": {},
   "source": [
    "Не более, чем у 5% заказов чек дороже 28000 рублей. И не больше, чем у 1% заказов — дороже 58233 рублей. Таким образом отметку в 99-й перцентиль можно считать тоже анаомальной стоимостью заказов и исключить эти данные при дальнейшем анализе \"чистых данных\"."
   ]
  },
  {
   "cell_type": "markdown",
   "metadata": {},
   "source": [
    "### Посчитаем статистическую значимость различий в среднем количестве заказов на посетителя между группами по «сырым» данным."
   ]
  },
  {
   "cell_type": "markdown",
   "metadata": {},
   "source": [
    "Мы посчитаем статистическую значимость различий в среднем числе заказов на пользователя и среднем чеке между группами по «сырым» данным — без удаления аномальных пользователей.\n",
    "\n",
    "Сформулируем гипотезы. \n",
    "- Нулевая: *различий в среднем количестве заказов между группами нет*. \n",
    "- Альтернативная: *различия в среднем между группами есть*.\n",
    "\n",
    "Т.к. критерии у нас измерены количественно, выборки независимые, пользователи в различных группах, а так же имеются значительные выбросы то лучше использовать критерий Манна-Уитни, чтобы выбивающееся значение существенно не влияло на результат."
   ]
  },
  {
   "cell_type": "code",
   "execution_count": 24,
   "metadata": {
    "scrolled": true
   },
   "outputs": [
    {
     "name": "stdout",
     "output_type": "stream",
     "text": [
      "p-value: 0.01679\n",
      "Относительный прирост среднего группы B к конверсии группы A: 0.138\n"
     ]
    }
   ],
   "source": [
    "visitors_a_daily = visitors[visitors['group'] == 'A'][['date', 'visitors']]\n",
    "visitors_a_daily.columns = ['date', 'visitors_per_date_a']\n",
    "\n",
    "visitors_a_cummulative = visitors_a_daily.apply(\n",
    "    lambda x: visitors_a_daily[visitors_a_daily['date'] <= x['date']].agg(\n",
    "        {'date': 'max', 'visitors_per_date_a': 'sum'}\n",
    "    ),\n",
    "    axis=1,\n",
    ")\n",
    "visitors_a_cummulative.columns = ['date', 'visitors_cummulative_a']\n",
    "\n",
    "visitors_b_daily = visitors[visitors['group'] == 'B'][['date', 'visitors']]\n",
    "visitors_b_daily.columns = ['date', 'visitors_per_date_b']\n",
    "\n",
    "visitors_b_cummulative = visitors_b_daily.apply(\n",
    "    lambda x: visitors_b_daily[visitors_b_daily['date'] <= x['date']].agg(\n",
    "        {'date': 'max', 'visitors_per_date_b': 'sum'}\n",
    "    ),\n",
    "    axis=1,\n",
    ")\n",
    "visitors_b_cummulative.columns = ['date', 'visitors_cummulative_b']\n",
    "\n",
    "orders_a_daily = (\n",
    "    orders[orders['group'] == 'A'][['date', 'transaction_id', 'visitor_id', 'revenue']]\n",
    "    .groupby('date', as_index=False)\n",
    "    .agg({'transaction_id': pd.Series.nunique, 'revenue': 'sum'})\n",
    ")\n",
    "orders_a_daily.columns = ['date', 'orders_per_date_a', 'revenue_per_date_a']\n",
    "\n",
    "orders_a_cummulative = orders_a_daily.apply(\n",
    "    lambda x: orders_a_daily[orders_a_daily['date'] <= x['date']].agg(\n",
    "        {'date': 'max', 'orders_per_date_a': 'sum', 'revenue_per_date_a': 'sum'}\n",
    "    ),\n",
    "    axis=1,\n",
    ").sort_values(by=['date'])\n",
    "\n",
    "orders_a_cummulative.columns = [\n",
    "    'date',\n",
    "    'orders_cummulative_a',\n",
    "    'revenue_cummulative_a',\n",
    "]\n",
    "\n",
    "orders_b_daily = (\n",
    "    orders[orders['group'] == 'B'][['date', 'transaction_id', 'visitor_id', 'revenue']]\n",
    "    .groupby('date', as_index=False)\n",
    "    .agg({'transaction_id': pd.Series.nunique, 'revenue': 'sum'})\n",
    ")\n",
    "orders_b_daily.columns = ['date', 'orders_per_date_b', 'revenue_per_date_b']\n",
    "\n",
    "orders_b_cummulative = orders_b_daily.apply(\n",
    "    lambda x: orders_b_daily[orders_b_daily['date'] <= x['date']].agg(\n",
    "        {'date': 'max', 'orders_per_date_b': 'sum', 'revenue_per_date_b': 'sum'}\n",
    "    ),\n",
    "    axis=1,\n",
    ").sort_values(by=['date'])\n",
    "\n",
    "orders_b_cummulative.columns = [\n",
    "    'date',\n",
    "    'orders_cummulative_b',\n",
    "    'revenue_cummulative_b',\n",
    "]\n",
    "\n",
    "data = (\n",
    "    orders_a_daily.merge(\n",
    "        orders_b_daily, left_on='date', right_on='date', how='left'\n",
    "    )\n",
    "    .merge(orders_a_cummulative, left_on='date', right_on='date', how='left')\n",
    "    .merge(orders_b_cummulative, left_on='date', right_on='date', how='left')\n",
    "    .merge(visitors_a_daily, left_on='date', right_on='date', how='left')\n",
    "    .merge(visitors_b_daily, left_on='date', right_on='date', how='left')\n",
    "    .merge(visitors_a_cummulative, left_on='date', right_on='date', how='left')\n",
    "    .merge(visitors_b_cummulative, left_on='date', right_on='date', how='left')\n",
    ")\n",
    "\n",
    "# зак для кажд польз-ля группы А\n",
    "orders_by_users_a = (\n",
    "    orders[orders['group'] == 'A']\n",
    "    .groupby('visitor_id', as_index=False)\n",
    "    .agg({'transaction_id': pd.Series.nunique})\n",
    ")\n",
    "orders_by_users_a.columns = ['visitor', 'orders']\n",
    "\n",
    "# зак для кажд польз-ля группы В\n",
    "orders_by_users_b = (\n",
    "    orders[orders['group'] == 'B']\n",
    "    .groupby('visitor_id', as_index=False)\n",
    "    .agg({'transaction_id': pd.Series.nunique})\n",
    ")\n",
    "orders_by_users_b.columns = ['visitor', 'orders'] \n",
    "\n",
    "# кол-во заказов в группе А (список с кол-м заказов для кажд.польз; 0-для тех, кто не зак; \n",
    "# разнице между суммой посетителей и количеством записей )\n",
    "sample_a = pd.concat([orders_by_users_a['orders'], pd.Series(0, index=np.arange(data['visitors_per_date_a'].sum() - len(orders_by_users_a['orders'])), name='orders')],axis=0)\n",
    "\n",
    "# кол-во заказов в группе B (список с кол-м заказов для кажд.польз; 0-для тех, кто не зак; \n",
    "# разнице между суммой посетителей и количеством записей )\n",
    "sample_b = pd.concat([orders_by_users_b['orders'], pd.Series(0, index=np.arange(data['visitors_per_date_b'].sum() - len(orders_by_users_b['orders'])), name='orders')],axis=0)\n",
    "\n",
    "print('p-value:', \"{0:.5f}\".format(stats.mannwhitneyu(sample_a, sample_b)[1]))   # применим МУ и отформатируем p-value\n",
    "print('Относительный прирост среднего группы B к конверсии группы A:', \"{0:.3f}\".format(sample_b.mean() / sample_a.mean() - 1))   # прирост ср гр В к гр А"
   ]
  },
  {
   "cell_type": "markdown",
   "metadata": {},
   "source": [
    "P-value 0.01679 меньше 0.05, значит нулевую гипотезу отвергаем. Анализ «сырых данных» сообщает, что в среднем количестве заказов между группами есть статистически значимые различия. Относительный прирост среднего группы B к конверсии группы A равен 13,8%."
   ]
  },
  {
   "cell_type": "markdown",
   "metadata": {},
   "source": [
    "### Посчитаем статистическую значимость различий в среднем чеке заказа между группами по «сырым» данным."
   ]
  },
  {
   "cell_type": "markdown",
   "metadata": {},
   "source": [
    "Сформулируем гипотезы.\n",
    "\n",
    "- Нулевая: различий в среднем чеке между группами нет.\n",
    "- Альтернативная: различия в среднем между группами есть.\n",
    "\n",
    "Критерии у нас так же измерены количественно, выборки независимые, пользователи в различных группах, и так же имеются значительные выбросы то использовать будем так же критерий Манна-Уитни, чтобы выбивающееся значение существенно не влияло на результат."
   ]
  },
  {
   "cell_type": "code",
   "execution_count": 25,
   "metadata": {
    "scrolled": true
   },
   "outputs": [
    {
     "name": "stdout",
     "output_type": "stream",
     "text": [
      "p-value: 0.729\n",
      "Относительное различие среднего чека между сегментами: 0.259\n"
     ]
    }
   ],
   "source": [
    "print('p-value:', '{0:.3f}'.format(stats.mannwhitneyu(orders[orders['group']=='A']['revenue'], orders[orders['group']=='B']['revenue'])[1]))\n",
    "print('Относительное различие среднего чека между сегментами:', '{0:.3f}'.format(orders[orders['group']=='B']['revenue'].mean()/orders[orders['group']=='A']['revenue'].mean()-1))"
   ]
  },
  {
   "cell_type": "markdown",
   "metadata": {},
   "source": [
    "P-value больше 0.05 — статистически значимых отличий в среднем чеке между группами нет. Кроме того, относительное различие среднего чека между сегментами почти 26%\n",
    "\n",
    "Приступим к анализу аномалий."
   ]
  },
  {
   "cell_type": "markdown",
   "metadata": {},
   "source": [
    "### Посчитаем статистическую значимость различий в среднем количестве заказов на посетителя между группами по «очищенным» данным."
   ]
  },
  {
   "cell_type": "markdown",
   "metadata": {},
   "source": [
    "Примим за аномальных пользователей тех, кто совершил 4 заказа и более (99-й перцентил), за аномальную стоимость заказа - сумму свыше 58233 рублей (так же 99-й перцентил). Так мы уберём 1% пользователей с наибольшим числом заказов и около 1% заказов с наибольшей стоимостью."
   ]
  },
  {
   "cell_type": "code",
   "execution_count": 26,
   "metadata": {},
   "outputs": [],
   "source": [
    "# Подготовка к очистке от аномалий данных\n",
    "users_with_many_orders = pd.concat(\n",
    "    [\n",
    "        orders_by_users_a[orders_by_users_a['orders'] >= np.percentile(orders_by_users['transaction_id'], 99)]['visitor'],\n",
    "        orders_by_users_b[orders_by_users_b['orders'] >= np.percentile(orders_by_users['transaction_id'], 99)]['visitor'],\n",
    "    ],\n",
    "    axis=0,\n",
    ")\n",
    "users_with_expensive_orders = orders[orders['revenue'] > np.percentile(orders['revenue'], 99)]['visitor_id']\n",
    "\n",
    "abnormal_users = (      # вычисляем аномальные данные\n",
    "    pd.concat([users_with_many_orders, users_with_expensive_orders], axis=0)\n",
    "    .drop_duplicates()\n",
    "    .sort_values()\n",
    ")"
   ]
  },
  {
   "cell_type": "code",
   "execution_count": 27,
   "metadata": {
    "scrolled": true
   },
   "outputs": [
    {
     "data": {
      "text/plain": [
       "1.939864209505335"
      ]
     },
     "execution_count": 27,
     "metadata": {},
     "output_type": "execute_result"
    }
   ],
   "source": [
    "# Посмотрим относительные потери пользователей после удаления аномальных\n",
    "abnormal_users.value_counts().count()/len(orders['visitor_id'].unique()) * 100"
   ]
  },
  {
   "cell_type": "markdown",
   "metadata": {},
   "source": [
    "Потери пользователей составили 1,9%"
   ]
  },
  {
   "cell_type": "markdown",
   "metadata": {},
   "source": [
    "Посчитаем статистическую значимость различия среднего количества заказов после удаления аномальных пользователей."
   ]
  },
  {
   "cell_type": "markdown",
   "metadata": {},
   "source": [
    "Сформулируем гипотезы.\n",
    "\n",
    "- Нулевая: различий в среднем количестве заказов на посетителя по «очищенным» данным между группами нет.\n",
    "- Альтернативная: различия в среднем между группами есть.\n",
    "\n",
    "Критерии у нас те же - использовать будем критерий Манна-Уитни."
   ]
  },
  {
   "cell_type": "code",
   "execution_count": 28,
   "metadata": {
    "scrolled": true
   },
   "outputs": [
    {
     "name": "stdout",
     "output_type": "stream",
     "text": [
      "p-value: 0.01390\n",
      "Относительный прирост среднего группы B к конверсии группы A: 0.151\n"
     ]
    }
   ],
   "source": [
    "sample_a_filtered = pd.concat(\n",
    "    [\n",
    "        orders_by_users_a[\n",
    "            np.logical_not(orders_by_users_a['visitor'].isin(abnormal_users))\n",
    "        ]['orders'],\n",
    "        pd.Series(\n",
    "            0,\n",
    "            index=np.arange(\n",
    "                data['visitors_per_date_a'].sum() - len(orders_by_users_a['orders'])\n",
    "            ),\n",
    "            name='orders',\n",
    "        ),\n",
    "    ],\n",
    "    axis=0,\n",
    ")\n",
    "\n",
    "sample_b_filtered = pd.concat(\n",
    "    [\n",
    "        orders_by_users_b[\n",
    "            np.logical_not(orders_by_users_b['visitor'].isin(abnormal_users))\n",
    "        ]['orders'],\n",
    "        pd.Series(\n",
    "            0,\n",
    "            index=np.arange(\n",
    "                data['visitors_per_date_b'].sum() - len(orders_by_users_b['orders'])\n",
    "            ),\n",
    "            name='orders',\n",
    "        ),\n",
    "    ],\n",
    "    axis=0,\n",
    ")\n",
    "\n",
    "print('p-value:', '{0:.5f}'.format(stats.mannwhitneyu(sample_a_filtered, sample_b_filtered)[1]))\n",
    "print('Относительный прирост среднего группы B к конверсии группы A:', '{0:.3f}'.format(sample_b_filtered.mean()/sample_a_filtered.mean()-1))"
   ]
  },
  {
   "cell_type": "markdown",
   "metadata": {},
   "source": [
    "Как и в случае с сырыми данными, статистическая значимость достигнута. Сегмент B значительно лучше сегмента A. P-value меньше 0.05, В среднем количестве заказов между группами есть статистически значимые различия. Относительный прирост среднего группы B к конверсии группы A равен примерно 15%."
   ]
  },
  {
   "cell_type": "markdown",
   "metadata": {},
   "source": []
  },
  {
   "cell_type": "code",
   "execution_count": 29,
   "metadata": {},
   "outputs": [
    {
     "data": {
      "text/plain": [
       "1.939864209505335"
      ]
     },
     "execution_count": 29,
     "metadata": {},
     "output_type": "execute_result"
    }
   ],
   "source": [
    "#относительные потери пользователей\n",
    "abnormal_users.value_counts().count()/len(orders['visitor_id'].unique())*100"
   ]
  },
  {
   "cell_type": "markdown",
   "metadata": {},
   "source": [
    "Мы потеряли примерно 2% данных. Это вполне допустимо."
   ]
  },
  {
   "cell_type": "markdown",
   "metadata": {},
   "source": [
    "### Посчитаем статистическую значимость различий в среднем чеке заказа между группами по «очищенным» данным. "
   ]
  },
  {
   "cell_type": "markdown",
   "metadata": {},
   "source": [
    "Сформулируем гипотезы.\n",
    "\n",
    "- Нулевая: различий в среднем чеке заказа по «очищенным» данным между группами нет.\n",
    "- Альтернативная: различия в среднем между группами есть.\n",
    "\n",
    "Критерии у нас те же - использовать будем критерий Манна-Уитни."
   ]
  },
  {
   "cell_type": "code",
   "execution_count": 30,
   "metadata": {
    "scrolled": true
   },
   "outputs": [
    {
     "name": "stdout",
     "output_type": "stream",
     "text": [
      "p-value: 0.959\n",
      "Относительное различие среднего чека между сегментами: -0.014\n"
     ]
    }
   ],
   "source": [
    "print('p-value:', \n",
    "    '{0:.3f}'.format(\n",
    "        stats.mannwhitneyu(\n",
    "            orders[\n",
    "                np.logical_and(\n",
    "                    orders['group'] == 'A',\n",
    "                    np.logical_not(orders['visitor_id'].isin(abnormal_users)),\n",
    "                )\n",
    "            ]['revenue'],\n",
    "            orders[\n",
    "                np.logical_and(\n",
    "                    orders['group'] == 'B',\n",
    "                    np.logical_not(orders['visitor_id'].isin(abnormal_users)),\n",
    "                )\n",
    "            ]['revenue'],\n",
    "        )[1]\n",
    "    )\n",
    ")\n",
    "\n",
    "print('Относительное различие среднего чека между сегментами:', \n",
    "    \"{0:.3f}\".format(\n",
    "        orders[\n",
    "            np.logical_and(\n",
    "                orders['group'] == 'B',\n",
    "                np.logical_not(orders['visitor_id'].isin(abnormal_users)),\n",
    "            )\n",
    "        ]['revenue'].mean()\n",
    "        / orders[\n",
    "            np.logical_and(\n",
    "                orders['group'] == 'A',\n",
    "                np.logical_not(orders['visitor_id'].isin(abnormal_users)),\n",
    "            )\n",
    "        ]['revenue'].mean()\n",
    "        - 1\n",
    "    )\n",
    ")"
   ]
  },
  {
   "cell_type": "markdown",
   "metadata": {},
   "source": [
    "Статистической значимости между группами нет. Это значит, что после удаления выбросов в данных меньше шума; дисперсия снизилась.  Нулевая гипотеза не отвергается."
   ]
  },
  {
   "cell_type": "markdown",
   "metadata": {},
   "source": [
    "### Примим решение по результатам теста и объясним его. \n",
    "\n",
    "На основании проведенного анализа, правильным решение будет остановить тест. \n",
    "\n",
    "Статистически значимого различия ни до, ни после удаления аномалий в группах нет. Снижение ср.чека в группе В по \"очищенным\" данным получено случайным образом. \n",
    "\n",
    "По конверсии победила группа В. Увеличение конверсии (решения стать покупателем) - перспектива для роста выручки."
   ]
  },
  {
   "cell_type": "markdown",
   "metadata": {},
   "source": [
    "## Выводы <a id='intro6'></a>"
   ]
  },
  {
   "cell_type": "markdown",
   "metadata": {},
   "source": [
    "**1.** На стадии предоработки данных были выявлены значительные нарушения проведения теста, а именно - различное количество участников в группах и совпадающие участники в обеих группах. Так как это серьёзное нарушение и в реальной работе нужно было бы вообще отклонить результаты А/В теста, проведенного по таким данным. Из-за дубляжа пользователей в группе А и В, тест следовало признать некорректным и остановить сразу. Вернуться к стадии проведения теста А/А, отфильтровать данные и начать заново. Но мы пригнорируем данную находку. \n",
    "\n",
    "Далее я приоритезировала гипотезы ICE и RICE способами. Лидируют гипотезы примерно одни и те же:\n",
    "- №7 Добавить форму подписки на все основные страни.. - с самым большим охватом аудитории\n",
    "- №0 Добавить два новых канала привлечения трафика...\n",
    "\n",
    "Т.к. нужно учитывать не только влияние, уверенность, усилия/простота расчета приоритезации гипотез, но и охват аудитории я не ставлю в приоритет гипотезу №8 Запустить акцию, дающую скидку на товар в день... Несмотря на высокий показатель ICE у нее самый маленький показатель охвата аудитории.\n",
    "\n",
    "**2.** Оценила результаты A/B-теста визуально и выяснила, что в данных есть выбросы и нашла границу для их определения. Для количества заказов на пользователя она составили 4 и более заказов; для стоимости заказов - 58233 и более.\n",
    "\n",
    "Посчитала статистическую значимость различий в среднем числе заказов на пользователя и среднем чеке между группами по \"сырым\" данным — без удаления аномальных пользователей и по \"очищенным\" данным. Использовала непараметрический тест Уилкоксона-Манна-Уитни, с помощью которого проранжировала две выборки по порядку от меньшего к большему и сравнила ранги одних и тех же значений, попавших в обе выборки. Т.к. вероятности получения разных значений критерия Манна-Уитни рассчитаны теоретически, то этот метод дает возможность делать вывод о различии или его отсутствии для любого заданного уровня значимости.\n",
    "\n",
    "Результаты помогли определить, что тест можно считать состоявшимся, т.е. принимаем решение остановить его. По результатам победила группа В - при отсутствии статистически значимого различия по среднему чеку (как по \"сырым\", так и по \"очищенным\" данным) в этой группе наблюдается увеличение конверсии по сравниния с группой А. А соответственно и рост выручки."
   ]
  }
 ],
 "metadata": {
  "ExecuteTimeLog": [
   {
    "duration": 88,
    "start_time": "2023-02-21T10:19:07.454Z"
   },
   {
    "duration": 1387,
    "start_time": "2023-02-21T10:55:07.531Z"
   },
   {
    "duration": 296,
    "start_time": "2023-02-21T10:57:03.981Z"
   },
   {
    "duration": 118,
    "start_time": "2023-02-21T10:59:22.131Z"
   },
   {
    "duration": 9,
    "start_time": "2023-02-21T10:59:32.211Z"
   },
   {
    "duration": 24,
    "start_time": "2023-02-21T10:59:52.744Z"
   },
   {
    "duration": 6,
    "start_time": "2023-02-21T11:03:20.809Z"
   },
   {
    "duration": 12,
    "start_time": "2023-02-21T11:04:46.028Z"
   },
   {
    "duration": 10,
    "start_time": "2023-02-21T11:04:51.312Z"
   },
   {
    "duration": 1229,
    "start_time": "2023-02-22T11:18:47.421Z"
   },
   {
    "duration": 231,
    "start_time": "2023-02-22T11:18:48.652Z"
   },
   {
    "duration": 20,
    "start_time": "2023-02-22T11:18:48.884Z"
   },
   {
    "duration": 5,
    "start_time": "2023-02-22T11:18:48.905Z"
   },
   {
    "duration": 17,
    "start_time": "2023-02-22T11:18:48.911Z"
   },
   {
    "duration": 10,
    "start_time": "2023-02-22T11:18:48.929Z"
   },
   {
    "duration": 13,
    "start_time": "2023-02-22T11:19:56.852Z"
   },
   {
    "duration": 6,
    "start_time": "2023-02-22T11:24:22.439Z"
   },
   {
    "duration": 10,
    "start_time": "2023-02-22T11:24:23.921Z"
   },
   {
    "duration": 93,
    "start_time": "2023-02-22T11:26:22.857Z"
   },
   {
    "duration": 11,
    "start_time": "2023-02-22T11:26:53.585Z"
   },
   {
    "duration": 16,
    "start_time": "2023-02-22T11:27:36.581Z"
   },
   {
    "duration": 17,
    "start_time": "2023-02-22T11:28:19.733Z"
   },
   {
    "duration": 14,
    "start_time": "2023-02-22T11:29:00.822Z"
   },
   {
    "duration": 16,
    "start_time": "2023-02-22T11:30:36.865Z"
   },
   {
    "duration": 10,
    "start_time": "2023-02-22T11:38:05.825Z"
   },
   {
    "duration": 8,
    "start_time": "2023-02-22T11:39:58.212Z"
   },
   {
    "duration": 8,
    "start_time": "2023-02-22T11:57:44.126Z"
   },
   {
    "duration": 11,
    "start_time": "2023-02-22T11:58:13.715Z"
   },
   {
    "duration": 6,
    "start_time": "2023-02-22T12:00:12.571Z"
   },
   {
    "duration": 14,
    "start_time": "2023-02-22T12:08:35.061Z"
   },
   {
    "duration": 91,
    "start_time": "2023-02-22T12:08:35.077Z"
   },
   {
    "duration": 17,
    "start_time": "2023-02-22T12:08:35.170Z"
   },
   {
    "duration": 13,
    "start_time": "2023-02-22T12:08:35.189Z"
   },
   {
    "duration": 23,
    "start_time": "2023-02-22T12:08:35.204Z"
   },
   {
    "duration": 15,
    "start_time": "2023-02-22T12:08:35.229Z"
   },
   {
    "duration": 11,
    "start_time": "2023-02-22T12:08:35.245Z"
   },
   {
    "duration": 9,
    "start_time": "2023-02-22T12:08:35.267Z"
   },
   {
    "duration": 8,
    "start_time": "2023-02-22T12:08:35.278Z"
   },
   {
    "duration": 16,
    "start_time": "2023-02-22T12:08:35.289Z"
   },
   {
    "duration": 12,
    "start_time": "2023-02-22T12:08:35.307Z"
   },
   {
    "duration": 5,
    "start_time": "2023-02-22T12:47:50.729Z"
   },
   {
    "duration": 5,
    "start_time": "2023-02-22T12:48:06.572Z"
   },
   {
    "duration": 326,
    "start_time": "2023-02-22T12:50:53.603Z"
   },
   {
    "duration": 530,
    "start_time": "2023-02-22T12:52:46.720Z"
   },
   {
    "duration": 464,
    "start_time": "2023-02-22T12:52:57.665Z"
   },
   {
    "duration": 465,
    "start_time": "2023-02-22T12:56:41.184Z"
   },
   {
    "duration": 520,
    "start_time": "2023-02-22T13:00:17.528Z"
   },
   {
    "duration": 476,
    "start_time": "2023-02-22T13:01:02.147Z"
   },
   {
    "duration": 526,
    "start_time": "2023-02-22T13:01:07.856Z"
   },
   {
    "duration": 573,
    "start_time": "2023-02-22T13:02:08.133Z"
   },
   {
    "duration": 226,
    "start_time": "2023-02-22T13:06:30.085Z"
   },
   {
    "duration": 519,
    "start_time": "2023-02-22T13:07:11.366Z"
   },
   {
    "duration": 489,
    "start_time": "2023-02-22T13:07:21.201Z"
   },
   {
    "duration": 271,
    "start_time": "2023-02-22T13:07:31.560Z"
   },
   {
    "duration": 498,
    "start_time": "2023-02-22T13:08:03.429Z"
   },
   {
    "duration": 483,
    "start_time": "2023-02-22T13:08:08.297Z"
   },
   {
    "duration": 241,
    "start_time": "2023-02-22T13:08:13.888Z"
   },
   {
    "duration": 416,
    "start_time": "2023-02-22T13:09:03.461Z"
   },
   {
    "duration": 495,
    "start_time": "2023-02-22T13:12:41.454Z"
   },
   {
    "duration": 364,
    "start_time": "2023-02-22T13:14:11.489Z"
   },
   {
    "duration": 133,
    "start_time": "2023-02-22T13:15:41.757Z"
   },
   {
    "duration": 359,
    "start_time": "2023-02-22T13:15:52.636Z"
   },
   {
    "duration": 331,
    "start_time": "2023-02-22T13:18:20.882Z"
   },
   {
    "duration": 5,
    "start_time": "2023-02-22T13:20:44.208Z"
   },
   {
    "duration": 95,
    "start_time": "2023-02-22T13:20:44.215Z"
   },
   {
    "duration": 16,
    "start_time": "2023-02-22T13:20:44.312Z"
   },
   {
    "duration": 4,
    "start_time": "2023-02-22T13:20:44.330Z"
   },
   {
    "duration": 9,
    "start_time": "2023-02-22T13:20:44.337Z"
   },
   {
    "duration": 14,
    "start_time": "2023-02-22T13:20:44.348Z"
   },
   {
    "duration": 34,
    "start_time": "2023-02-22T13:20:44.364Z"
   },
   {
    "duration": 15,
    "start_time": "2023-02-22T13:20:44.400Z"
   },
   {
    "duration": 14,
    "start_time": "2023-02-22T13:20:44.416Z"
   },
   {
    "duration": 10,
    "start_time": "2023-02-22T13:20:44.431Z"
   },
   {
    "duration": 12,
    "start_time": "2023-02-22T13:20:44.444Z"
   },
   {
    "duration": 15,
    "start_time": "2023-02-22T13:20:44.458Z"
   },
   {
    "duration": 607,
    "start_time": "2023-02-22T13:20:44.475Z"
   },
   {
    "duration": 333,
    "start_time": "2023-02-22T13:20:45.085Z"
   },
   {
    "duration": 368,
    "start_time": "2023-02-22T13:20:45.420Z"
   },
   {
    "duration": 11,
    "start_time": "2023-02-22T13:20:45.790Z"
   },
   {
    "duration": 1072,
    "start_time": "2023-02-22T13:21:22.629Z"
   },
   {
    "duration": 85,
    "start_time": "2023-02-22T13:21:23.705Z"
   },
   {
    "duration": 21,
    "start_time": "2023-02-22T13:21:23.794Z"
   },
   {
    "duration": 5,
    "start_time": "2023-02-22T13:21:23.817Z"
   },
   {
    "duration": 11,
    "start_time": "2023-02-22T13:21:23.823Z"
   },
   {
    "duration": 30,
    "start_time": "2023-02-22T13:21:23.836Z"
   },
   {
    "duration": 24,
    "start_time": "2023-02-22T13:21:23.868Z"
   },
   {
    "duration": 10,
    "start_time": "2023-02-22T13:21:23.893Z"
   },
   {
    "duration": 10,
    "start_time": "2023-02-22T13:21:23.905Z"
   },
   {
    "duration": 8,
    "start_time": "2023-02-22T13:21:23.917Z"
   },
   {
    "duration": 7,
    "start_time": "2023-02-22T13:21:23.926Z"
   },
   {
    "duration": 7,
    "start_time": "2023-02-22T13:21:23.935Z"
   },
   {
    "duration": 570,
    "start_time": "2023-02-22T13:21:23.944Z"
   },
   {
    "duration": 259,
    "start_time": "2023-02-22T13:21:24.515Z"
   },
   {
    "duration": 392,
    "start_time": "2023-02-22T13:21:24.776Z"
   },
   {
    "duration": 119,
    "start_time": "2023-02-22T13:21:25.170Z"
   },
   {
    "duration": 529,
    "start_time": "2023-02-22T15:02:29.654Z"
   },
   {
    "duration": 514,
    "start_time": "2023-02-22T15:02:59.134Z"
   },
   {
    "duration": 334,
    "start_time": "2023-02-22T15:03:05.561Z"
   },
   {
    "duration": 364,
    "start_time": "2023-02-22T15:03:22.345Z"
   },
   {
    "duration": 524,
    "start_time": "2023-02-22T15:05:12.721Z"
   },
   {
    "duration": 254,
    "start_time": "2023-02-22T15:05:30.404Z"
   },
   {
    "duration": 272,
    "start_time": "2023-02-22T15:05:38.788Z"
   },
   {
    "duration": 341,
    "start_time": "2023-02-22T15:06:53.168Z"
   },
   {
    "duration": 530,
    "start_time": "2023-02-22T15:16:53.044Z"
   },
   {
    "duration": 256,
    "start_time": "2023-02-22T15:17:59.264Z"
   },
   {
    "duration": 1278,
    "start_time": "2023-02-22T15:21:39.280Z"
   },
   {
    "duration": 356,
    "start_time": "2023-02-22T15:23:05.231Z"
   },
   {
    "duration": 11,
    "start_time": "2023-02-22T15:35:08.898Z"
   },
   {
    "duration": 334,
    "start_time": "2023-02-22T15:35:31.669Z"
   },
   {
    "duration": 240,
    "start_time": "2023-02-22T15:35:42.415Z"
   },
   {
    "duration": 252,
    "start_time": "2023-02-22T15:37:09.797Z"
   },
   {
    "duration": 258,
    "start_time": "2023-02-22T15:45:24.159Z"
   },
   {
    "duration": 390,
    "start_time": "2023-02-22T15:45:35.036Z"
   },
   {
    "duration": 413,
    "start_time": "2023-02-22T15:47:24.759Z"
   },
   {
    "duration": 371,
    "start_time": "2023-02-22T15:48:59.073Z"
   },
   {
    "duration": 305,
    "start_time": "2023-02-22T15:49:19.706Z"
   },
   {
    "duration": 344,
    "start_time": "2023-02-22T15:49:30.534Z"
   },
   {
    "duration": 352,
    "start_time": "2023-02-22T15:51:23.590Z"
   },
   {
    "duration": 8,
    "start_time": "2023-02-22T15:59:12.028Z"
   },
   {
    "duration": 114,
    "start_time": "2023-02-22T15:59:41.055Z"
   },
   {
    "duration": 194,
    "start_time": "2023-02-22T16:00:16.214Z"
   },
   {
    "duration": 109,
    "start_time": "2023-02-22T16:01:16.605Z"
   },
   {
    "duration": 11,
    "start_time": "2023-02-22T16:03:09.387Z"
   },
   {
    "duration": 110,
    "start_time": "2023-02-22T16:03:18.631Z"
   },
   {
    "duration": 110,
    "start_time": "2023-02-22T16:03:27.977Z"
   },
   {
    "duration": 4,
    "start_time": "2023-02-22T16:09:06.332Z"
   },
   {
    "duration": 8,
    "start_time": "2023-02-22T16:09:59.058Z"
   },
   {
    "duration": 112,
    "start_time": "2023-02-22T16:10:15.190Z"
   },
   {
    "duration": 105,
    "start_time": "2023-02-22T16:10:22.041Z"
   },
   {
    "duration": 9,
    "start_time": "2023-02-22T16:11:36.501Z"
   },
   {
    "duration": 126,
    "start_time": "2023-02-22T16:11:45.003Z"
   },
   {
    "duration": 132,
    "start_time": "2023-02-22T16:13:28.978Z"
   },
   {
    "duration": 126,
    "start_time": "2023-02-22T16:17:42.534Z"
   },
   {
    "duration": 134,
    "start_time": "2023-02-22T16:17:58.946Z"
   },
   {
    "duration": 11,
    "start_time": "2023-02-22T16:19:24.981Z"
   },
   {
    "duration": 117,
    "start_time": "2023-02-22T16:24:08.028Z"
   },
   {
    "duration": 128,
    "start_time": "2023-02-22T16:24:21.261Z"
   },
   {
    "duration": 198,
    "start_time": "2023-02-22T16:34:04.136Z"
   },
   {
    "duration": 5,
    "start_time": "2023-02-22T16:38:30.425Z"
   },
   {
    "duration": 1088,
    "start_time": "2023-02-22T16:45:42.208Z"
   },
   {
    "duration": 75,
    "start_time": "2023-02-22T16:45:43.298Z"
   },
   {
    "duration": 21,
    "start_time": "2023-02-22T16:45:43.375Z"
   },
   {
    "duration": 5,
    "start_time": "2023-02-22T16:45:43.398Z"
   },
   {
    "duration": 10,
    "start_time": "2023-02-22T16:45:43.404Z"
   },
   {
    "duration": 11,
    "start_time": "2023-02-22T16:45:43.416Z"
   },
   {
    "duration": 17,
    "start_time": "2023-02-22T16:45:43.428Z"
   },
   {
    "duration": 22,
    "start_time": "2023-02-22T16:45:43.446Z"
   },
   {
    "duration": 12,
    "start_time": "2023-02-22T16:45:43.469Z"
   },
   {
    "duration": 9,
    "start_time": "2023-02-22T16:45:43.483Z"
   },
   {
    "duration": 8,
    "start_time": "2023-02-22T16:45:43.493Z"
   },
   {
    "duration": 9,
    "start_time": "2023-02-22T16:45:43.502Z"
   },
   {
    "duration": 573,
    "start_time": "2023-02-22T16:45:43.513Z"
   },
   {
    "duration": 283,
    "start_time": "2023-02-22T16:45:44.088Z"
   },
   {
    "duration": 381,
    "start_time": "2023-02-22T16:45:44.372Z"
   },
   {
    "duration": 303,
    "start_time": "2023-02-22T16:45:44.754Z"
   },
   {
    "duration": 378,
    "start_time": "2023-02-22T16:45:45.059Z"
   },
   {
    "duration": 122,
    "start_time": "2023-02-22T16:45:45.439Z"
   },
   {
    "duration": 5,
    "start_time": "2023-02-22T16:45:45.563Z"
   },
   {
    "duration": 153,
    "start_time": "2023-02-22T16:45:45.570Z"
   },
   {
    "duration": 4,
    "start_time": "2023-02-22T16:45:45.725Z"
   },
   {
    "duration": 1398,
    "start_time": "2023-02-24T13:03:46.506Z"
   },
   {
    "duration": 255,
    "start_time": "2023-02-24T13:03:47.906Z"
   },
   {
    "duration": 23,
    "start_time": "2023-02-24T13:03:48.163Z"
   },
   {
    "duration": 5,
    "start_time": "2023-02-24T13:03:48.187Z"
   },
   {
    "duration": 9,
    "start_time": "2023-02-24T13:03:48.195Z"
   },
   {
    "duration": 13,
    "start_time": "2023-02-24T13:03:48.206Z"
   },
   {
    "duration": 31,
    "start_time": "2023-02-24T13:03:48.220Z"
   },
   {
    "duration": 11,
    "start_time": "2023-02-24T13:03:48.253Z"
   },
   {
    "duration": 12,
    "start_time": "2023-02-24T13:03:48.266Z"
   },
   {
    "duration": 11,
    "start_time": "2023-02-24T13:03:48.280Z"
   },
   {
    "duration": 8,
    "start_time": "2023-02-24T13:03:48.292Z"
   },
   {
    "duration": 11,
    "start_time": "2023-02-24T13:03:48.302Z"
   },
   {
    "duration": 585,
    "start_time": "2023-02-24T13:03:48.315Z"
   },
   {
    "duration": 284,
    "start_time": "2023-02-24T13:03:48.904Z"
   },
   {
    "duration": 420,
    "start_time": "2023-02-24T13:03:49.190Z"
   },
   {
    "duration": 295,
    "start_time": "2023-02-24T13:03:49.611Z"
   },
   {
    "duration": 458,
    "start_time": "2023-02-24T13:03:49.908Z"
   },
   {
    "duration": 137,
    "start_time": "2023-02-24T13:03:50.368Z"
   },
   {
    "duration": 4,
    "start_time": "2023-02-24T13:03:50.507Z"
   },
   {
    "duration": 167,
    "start_time": "2023-02-24T13:03:50.513Z"
   },
   {
    "duration": 4,
    "start_time": "2023-02-24T13:03:50.682Z"
   },
   {
    "duration": 271,
    "start_time": "2023-02-24T13:03:50.688Z"
   },
   {
    "duration": 142,
    "start_time": "2023-02-24T13:05:26.159Z"
   },
   {
    "duration": 343,
    "start_time": "2023-02-24T13:30:57.652Z"
   },
   {
    "duration": 5,
    "start_time": "2023-02-24T13:31:49.401Z"
   },
   {
    "duration": 107,
    "start_time": "2023-02-24T13:31:49.408Z"
   },
   {
    "duration": 22,
    "start_time": "2023-02-24T13:31:49.517Z"
   },
   {
    "duration": 5,
    "start_time": "2023-02-24T13:31:49.542Z"
   },
   {
    "duration": 11,
    "start_time": "2023-02-24T13:31:49.549Z"
   },
   {
    "duration": 13,
    "start_time": "2023-02-24T13:31:49.562Z"
   },
   {
    "duration": 12,
    "start_time": "2023-02-24T13:31:49.577Z"
   },
   {
    "duration": 12,
    "start_time": "2023-02-24T13:31:49.591Z"
   },
   {
    "duration": 11,
    "start_time": "2023-02-24T13:31:49.605Z"
   },
   {
    "duration": 9,
    "start_time": "2023-02-24T13:31:49.618Z"
   },
   {
    "duration": 10,
    "start_time": "2023-02-24T13:31:49.648Z"
   },
   {
    "duration": 16,
    "start_time": "2023-02-24T13:31:49.660Z"
   },
   {
    "duration": 553,
    "start_time": "2023-02-24T13:31:49.678Z"
   },
   {
    "duration": 287,
    "start_time": "2023-02-24T13:31:50.235Z"
   },
   {
    "duration": 401,
    "start_time": "2023-02-24T13:31:50.524Z"
   },
   {
    "duration": 282,
    "start_time": "2023-02-24T13:31:50.927Z"
   },
   {
    "duration": 427,
    "start_time": "2023-02-24T13:31:51.211Z"
   },
   {
    "duration": 123,
    "start_time": "2023-02-24T13:31:51.648Z"
   },
   {
    "duration": 4,
    "start_time": "2023-02-24T13:31:51.773Z"
   },
   {
    "duration": 158,
    "start_time": "2023-02-24T13:31:51.778Z"
   },
   {
    "duration": 12,
    "start_time": "2023-02-24T13:31:51.937Z"
   },
   {
    "duration": 356,
    "start_time": "2023-02-24T13:31:51.950Z"
   },
   {
    "duration": 85,
    "start_time": "2023-02-24T13:36:30.155Z"
   },
   {
    "duration": 390,
    "start_time": "2023-02-24T13:36:46.194Z"
   },
   {
    "duration": 11,
    "start_time": "2023-02-24T13:52:02.509Z"
   },
   {
    "duration": 4,
    "start_time": "2023-02-24T13:55:02.941Z"
   },
   {
    "duration": 5,
    "start_time": "2023-02-24T13:56:57.418Z"
   },
   {
    "duration": 5,
    "start_time": "2023-02-24T13:57:06.652Z"
   },
   {
    "duration": 10,
    "start_time": "2023-02-24T14:02:02.286Z"
   },
   {
    "duration": 8,
    "start_time": "2023-02-24T14:05:19.342Z"
   },
   {
    "duration": 8,
    "start_time": "2023-02-24T14:06:58.109Z"
   },
   {
    "duration": 32,
    "start_time": "2023-02-24T14:12:43.347Z"
   },
   {
    "duration": 14,
    "start_time": "2023-02-24T14:17:53.368Z"
   },
   {
    "duration": 1505,
    "start_time": "2023-02-26T12:03:52.679Z"
   },
   {
    "duration": 223,
    "start_time": "2023-02-26T12:03:54.187Z"
   },
   {
    "duration": 23,
    "start_time": "2023-02-26T12:03:54.412Z"
   },
   {
    "duration": 5,
    "start_time": "2023-02-26T12:03:54.437Z"
   },
   {
    "duration": 6,
    "start_time": "2023-02-26T12:03:54.444Z"
   },
   {
    "duration": 18,
    "start_time": "2023-02-26T12:03:54.452Z"
   },
   {
    "duration": 48,
    "start_time": "2023-02-26T12:03:54.472Z"
   },
   {
    "duration": 30,
    "start_time": "2023-02-26T12:03:54.522Z"
   },
   {
    "duration": 15,
    "start_time": "2023-02-26T12:03:54.554Z"
   },
   {
    "duration": 55,
    "start_time": "2023-02-26T12:03:54.570Z"
   },
   {
    "duration": 40,
    "start_time": "2023-02-26T12:03:54.627Z"
   },
   {
    "duration": 55,
    "start_time": "2023-02-26T12:03:54.669Z"
   },
   {
    "duration": 605,
    "start_time": "2023-02-26T12:03:54.726Z"
   },
   {
    "duration": 342,
    "start_time": "2023-02-26T12:03:55.335Z"
   },
   {
    "duration": 535,
    "start_time": "2023-02-26T12:03:55.679Z"
   },
   {
    "duration": 381,
    "start_time": "2023-02-26T12:03:56.216Z"
   },
   {
    "duration": 372,
    "start_time": "2023-02-26T12:03:56.599Z"
   },
   {
    "duration": 146,
    "start_time": "2023-02-26T12:03:56.974Z"
   },
   {
    "duration": 5,
    "start_time": "2023-02-26T12:03:57.122Z"
   },
   {
    "duration": 181,
    "start_time": "2023-02-26T12:03:57.129Z"
   },
   {
    "duration": 6,
    "start_time": "2023-02-26T12:03:57.312Z"
   },
   {
    "duration": 492,
    "start_time": "2023-02-26T12:03:57.320Z"
   },
   {
    "duration": 11,
    "start_time": "2023-02-26T12:03:57.814Z"
   },
   {
    "duration": 15,
    "start_time": "2023-02-26T12:03:57.827Z"
   },
   {
    "duration": 47,
    "start_time": "2023-02-26T12:03:57.843Z"
   },
   {
    "duration": 17,
    "start_time": "2023-02-26T12:03:57.892Z"
   },
   {
    "duration": 143,
    "start_time": "2023-02-26T12:18:06.316Z"
   },
   {
    "duration": 161,
    "start_time": "2023-02-26T12:18:28.089Z"
   },
   {
    "duration": 20,
    "start_time": "2023-02-26T12:20:15.293Z"
   },
   {
    "duration": 762,
    "start_time": "2023-02-26T12:21:02.058Z"
   },
   {
    "duration": 142,
    "start_time": "2023-02-26T12:21:56.670Z"
   },
   {
    "duration": 139,
    "start_time": "2023-02-26T12:22:14.671Z"
   },
   {
    "duration": 136,
    "start_time": "2023-02-26T12:22:27.743Z"
   },
   {
    "duration": 119,
    "start_time": "2023-02-26T12:22:54.073Z"
   },
   {
    "duration": 60,
    "start_time": "2023-02-26T15:43:15.605Z"
   },
   {
    "duration": 8,
    "start_time": "2023-02-26T15:43:55.930Z"
   },
   {
    "duration": 8,
    "start_time": "2023-02-26T15:44:45.058Z"
   },
   {
    "duration": 1493,
    "start_time": "2023-02-26T15:44:55.011Z"
   },
   {
    "duration": 214,
    "start_time": "2023-02-26T15:44:56.506Z"
   },
   {
    "duration": 27,
    "start_time": "2023-02-26T15:44:56.722Z"
   },
   {
    "duration": 6,
    "start_time": "2023-02-26T15:44:56.752Z"
   },
   {
    "duration": 13,
    "start_time": "2023-02-26T15:44:56.760Z"
   },
   {
    "duration": 17,
    "start_time": "2023-02-26T15:44:56.775Z"
   },
   {
    "duration": 18,
    "start_time": "2023-02-26T15:44:56.794Z"
   },
   {
    "duration": 40,
    "start_time": "2023-02-26T15:44:56.814Z"
   },
   {
    "duration": 26,
    "start_time": "2023-02-26T15:44:56.856Z"
   },
   {
    "duration": 13,
    "start_time": "2023-02-26T15:44:56.885Z"
   },
   {
    "duration": 35,
    "start_time": "2023-02-26T15:44:56.900Z"
   },
   {
    "duration": 15,
    "start_time": "2023-02-26T15:44:56.937Z"
   },
   {
    "duration": 12,
    "start_time": "2023-02-26T15:44:56.953Z"
   },
   {
    "duration": 606,
    "start_time": "2023-02-26T15:44:56.967Z"
   },
   {
    "duration": 302,
    "start_time": "2023-02-26T15:44:57.575Z"
   },
   {
    "duration": 435,
    "start_time": "2023-02-26T15:44:57.879Z"
   },
   {
    "duration": 310,
    "start_time": "2023-02-26T15:44:58.316Z"
   },
   {
    "duration": 476,
    "start_time": "2023-02-26T15:44:58.628Z"
   },
   {
    "duration": 173,
    "start_time": "2023-02-26T15:44:59.108Z"
   },
   {
    "duration": 5,
    "start_time": "2023-02-26T15:44:59.283Z"
   },
   {
    "duration": 164,
    "start_time": "2023-02-26T15:44:59.290Z"
   },
   {
    "duration": 4,
    "start_time": "2023-02-26T15:44:59.456Z"
   },
   {
    "duration": 548,
    "start_time": "2023-02-26T15:44:59.462Z"
   },
   {
    "duration": 12,
    "start_time": "2023-02-26T15:45:00.012Z"
   },
   {
    "duration": 21,
    "start_time": "2023-02-26T15:45:00.026Z"
   },
   {
    "duration": 43,
    "start_time": "2023-02-26T15:45:00.049Z"
   },
   {
    "duration": 16,
    "start_time": "2023-02-26T15:45:00.093Z"
   },
   {
    "duration": 111,
    "start_time": "2023-02-26T15:49:33.103Z"
   },
   {
    "duration": 12,
    "start_time": "2023-02-26T15:49:57.934Z"
   },
   {
    "duration": 1119,
    "start_time": "2023-02-26T15:50:09.894Z"
   },
   {
    "duration": 66,
    "start_time": "2023-02-26T15:50:11.015Z"
   },
   {
    "duration": 21,
    "start_time": "2023-02-26T15:50:11.083Z"
   },
   {
    "duration": 5,
    "start_time": "2023-02-26T15:50:11.106Z"
   },
   {
    "duration": 6,
    "start_time": "2023-02-26T15:50:11.112Z"
   },
   {
    "duration": 14,
    "start_time": "2023-02-26T15:50:11.120Z"
   },
   {
    "duration": 13,
    "start_time": "2023-02-26T15:50:11.137Z"
   },
   {
    "duration": 11,
    "start_time": "2023-02-26T15:50:11.152Z"
   },
   {
    "duration": 15,
    "start_time": "2023-02-26T15:50:11.165Z"
   },
   {
    "duration": 9,
    "start_time": "2023-02-26T15:50:11.183Z"
   },
   {
    "duration": 124,
    "start_time": "2023-02-26T15:50:11.194Z"
   },
   {
    "duration": 0,
    "start_time": "2023-02-26T15:50:11.319Z"
   },
   {
    "duration": 0,
    "start_time": "2023-02-26T15:50:11.321Z"
   },
   {
    "duration": 0,
    "start_time": "2023-02-26T15:50:11.322Z"
   },
   {
    "duration": 0,
    "start_time": "2023-02-26T15:50:11.323Z"
   },
   {
    "duration": 0,
    "start_time": "2023-02-26T15:50:11.325Z"
   },
   {
    "duration": 0,
    "start_time": "2023-02-26T15:50:11.340Z"
   },
   {
    "duration": 0,
    "start_time": "2023-02-26T15:50:11.341Z"
   },
   {
    "duration": 0,
    "start_time": "2023-02-26T15:50:11.343Z"
   },
   {
    "duration": 0,
    "start_time": "2023-02-26T15:50:11.344Z"
   },
   {
    "duration": 0,
    "start_time": "2023-02-26T15:50:11.345Z"
   },
   {
    "duration": 0,
    "start_time": "2023-02-26T15:50:11.346Z"
   },
   {
    "duration": 0,
    "start_time": "2023-02-26T15:50:11.347Z"
   },
   {
    "duration": 0,
    "start_time": "2023-02-26T15:50:11.349Z"
   },
   {
    "duration": 0,
    "start_time": "2023-02-26T15:50:11.350Z"
   },
   {
    "duration": 0,
    "start_time": "2023-02-26T15:50:11.351Z"
   },
   {
    "duration": 0,
    "start_time": "2023-02-26T15:50:11.352Z"
   },
   {
    "duration": 0,
    "start_time": "2023-02-26T15:50:11.353Z"
   },
   {
    "duration": 13,
    "start_time": "2023-02-26T15:53:11.008Z"
   },
   {
    "duration": 11,
    "start_time": "2023-02-26T16:00:59.660Z"
   },
   {
    "duration": 72,
    "start_time": "2023-02-26T16:13:31.845Z"
   },
   {
    "duration": 51,
    "start_time": "2023-02-26T16:13:41.747Z"
   },
   {
    "duration": 51,
    "start_time": "2023-02-26T16:14:22.752Z"
   },
   {
    "duration": 10,
    "start_time": "2023-02-26T16:14:52.072Z"
   },
   {
    "duration": 7,
    "start_time": "2023-02-26T16:27:04.802Z"
   },
   {
    "duration": 69,
    "start_time": "2023-02-26T16:27:04.811Z"
   },
   {
    "duration": 18,
    "start_time": "2023-02-26T16:27:04.882Z"
   },
   {
    "duration": 5,
    "start_time": "2023-02-26T16:27:04.903Z"
   },
   {
    "duration": 9,
    "start_time": "2023-02-26T16:27:04.909Z"
   },
   {
    "duration": 12,
    "start_time": "2023-02-26T16:27:04.919Z"
   },
   {
    "duration": 30,
    "start_time": "2023-02-26T16:27:04.933Z"
   },
   {
    "duration": 29,
    "start_time": "2023-02-26T16:27:04.965Z"
   },
   {
    "duration": 12,
    "start_time": "2023-02-26T16:27:04.996Z"
   },
   {
    "duration": 9,
    "start_time": "2023-02-26T16:27:05.011Z"
   },
   {
    "duration": 15,
    "start_time": "2023-02-26T16:27:05.021Z"
   },
   {
    "duration": 10,
    "start_time": "2023-02-26T16:27:05.038Z"
   },
   {
    "duration": 14,
    "start_time": "2023-02-26T16:27:05.050Z"
   },
   {
    "duration": 12,
    "start_time": "2023-02-26T16:27:05.066Z"
   },
   {
    "duration": 577,
    "start_time": "2023-02-26T16:27:05.080Z"
   },
   {
    "duration": 296,
    "start_time": "2023-02-26T16:27:05.659Z"
   },
   {
    "duration": 381,
    "start_time": "2023-02-26T16:27:05.957Z"
   },
   {
    "duration": 300,
    "start_time": "2023-02-26T16:27:06.340Z"
   },
   {
    "duration": 379,
    "start_time": "2023-02-26T16:27:06.641Z"
   },
   {
    "duration": 154,
    "start_time": "2023-02-26T16:27:07.022Z"
   },
   {
    "duration": 4,
    "start_time": "2023-02-26T16:27:07.178Z"
   },
   {
    "duration": 164,
    "start_time": "2023-02-26T16:27:07.184Z"
   },
   {
    "duration": 4,
    "start_time": "2023-02-26T16:27:07.350Z"
   },
   {
    "duration": 470,
    "start_time": "2023-02-26T16:27:07.356Z"
   },
   {
    "duration": 17,
    "start_time": "2023-02-26T16:27:07.827Z"
   },
   {
    "duration": 8,
    "start_time": "2023-02-26T16:27:07.847Z"
   },
   {
    "duration": 29,
    "start_time": "2023-02-26T16:27:07.856Z"
   },
   {
    "duration": 15,
    "start_time": "2023-02-26T16:27:07.888Z"
   },
   {
    "duration": 409,
    "start_time": "2023-02-26T16:38:11.014Z"
   },
   {
    "duration": 263,
    "start_time": "2023-02-26T17:01:14.658Z"
   },
   {
    "duration": 281,
    "start_time": "2023-02-26T17:02:09.905Z"
   },
   {
    "duration": 304,
    "start_time": "2023-02-26T17:05:01.420Z"
   },
   {
    "duration": 434,
    "start_time": "2023-02-26T17:37:55.908Z"
   },
   {
    "duration": 285,
    "start_time": "2023-02-26T17:40:54.467Z"
   },
   {
    "duration": 282,
    "start_time": "2023-02-26T17:43:03.181Z"
   },
   {
    "duration": 182,
    "start_time": "2023-02-26T17:54:33.297Z"
   },
   {
    "duration": 194,
    "start_time": "2023-02-26T17:55:09.114Z"
   },
   {
    "duration": 296,
    "start_time": "2023-02-26T17:56:29.467Z"
   },
   {
    "duration": 406,
    "start_time": "2023-02-26T17:57:23.600Z"
   },
   {
    "duration": 255,
    "start_time": "2023-02-26T17:58:55.162Z"
   },
   {
    "duration": 279,
    "start_time": "2023-02-26T17:59:17.020Z"
   },
   {
    "duration": 5,
    "start_time": "2023-02-26T17:59:50.396Z"
   },
   {
    "duration": 5,
    "start_time": "2023-02-26T17:59:58.707Z"
   },
   {
    "duration": 249,
    "start_time": "2023-02-26T18:00:05.181Z"
   },
   {
    "duration": 6,
    "start_time": "2023-02-26T18:00:14.349Z"
   },
   {
    "duration": 232,
    "start_time": "2023-02-26T18:00:20.473Z"
   },
   {
    "duration": 275,
    "start_time": "2023-02-26T18:01:00.899Z"
   },
   {
    "duration": 306,
    "start_time": "2023-02-26T18:01:22.446Z"
   },
   {
    "duration": 334,
    "start_time": "2023-02-26T18:02:48.889Z"
   },
   {
    "duration": 406,
    "start_time": "2023-02-26T18:18:54.414Z"
   },
   {
    "duration": 355,
    "start_time": "2023-02-26T18:19:18.292Z"
   },
   {
    "duration": 353,
    "start_time": "2023-02-26T18:19:41.355Z"
   },
   {
    "duration": 492,
    "start_time": "2023-02-26T18:19:50.031Z"
   },
   {
    "duration": 146,
    "start_time": "2023-02-26T18:47:30.845Z"
   },
   {
    "duration": 164,
    "start_time": "2023-02-26T18:52:11.856Z"
   },
   {
    "duration": 13,
    "start_time": "2023-02-26T19:08:51.506Z"
   },
   {
    "duration": 46,
    "start_time": "2023-02-26T19:08:53.161Z"
   },
   {
    "duration": 398,
    "start_time": "2023-02-26T19:09:24.208Z"
   },
   {
    "duration": 380,
    "start_time": "2023-02-26T19:09:25.278Z"
   },
   {
    "duration": 8,
    "start_time": "2023-02-26T19:09:34.082Z"
   },
   {
    "duration": 33,
    "start_time": "2023-02-26T19:09:35.731Z"
   },
   {
    "duration": 9,
    "start_time": "2023-02-26T19:09:47.344Z"
   },
   {
    "duration": 31,
    "start_time": "2023-02-26T19:09:48.474Z"
   },
   {
    "duration": 1165,
    "start_time": "2023-02-26T20:20:59.158Z"
   },
   {
    "duration": 66,
    "start_time": "2023-02-26T20:21:00.325Z"
   },
   {
    "duration": 22,
    "start_time": "2023-02-26T20:21:00.393Z"
   },
   {
    "duration": 35,
    "start_time": "2023-02-26T20:21:00.417Z"
   },
   {
    "duration": 58,
    "start_time": "2023-02-26T20:21:00.454Z"
   },
   {
    "duration": 31,
    "start_time": "2023-02-26T20:21:00.513Z"
   },
   {
    "duration": 30,
    "start_time": "2023-02-26T20:21:00.546Z"
   },
   {
    "duration": 21,
    "start_time": "2023-02-26T20:21:00.578Z"
   },
   {
    "duration": 28,
    "start_time": "2023-02-26T20:21:00.601Z"
   },
   {
    "duration": 16,
    "start_time": "2023-02-26T20:21:00.632Z"
   },
   {
    "duration": 29,
    "start_time": "2023-02-26T20:21:00.650Z"
   },
   {
    "duration": 11,
    "start_time": "2023-02-26T20:21:00.681Z"
   },
   {
    "duration": 21,
    "start_time": "2023-02-26T20:21:00.694Z"
   },
   {
    "duration": 12,
    "start_time": "2023-02-26T20:21:00.717Z"
   },
   {
    "duration": 572,
    "start_time": "2023-02-26T20:21:00.730Z"
   },
   {
    "duration": 293,
    "start_time": "2023-02-26T20:21:01.304Z"
   },
   {
    "duration": 427,
    "start_time": "2023-02-26T20:21:01.599Z"
   },
   {
    "duration": 304,
    "start_time": "2023-02-26T20:21:02.028Z"
   },
   {
    "duration": 386,
    "start_time": "2023-02-26T20:21:02.334Z"
   },
   {
    "duration": 142,
    "start_time": "2023-02-26T20:21:02.722Z"
   },
   {
    "duration": 4,
    "start_time": "2023-02-26T20:21:02.866Z"
   },
   {
    "duration": 173,
    "start_time": "2023-02-26T20:21:02.872Z"
   },
   {
    "duration": 4,
    "start_time": "2023-02-26T20:21:03.047Z"
   },
   {
    "duration": 460,
    "start_time": "2023-02-26T20:21:03.053Z"
   },
   {
    "duration": 10,
    "start_time": "2023-02-26T20:21:03.515Z"
   },
   {
    "duration": 9,
    "start_time": "2023-02-26T20:21:03.539Z"
   },
   {
    "duration": 30,
    "start_time": "2023-02-26T20:21:03.550Z"
   },
   {
    "duration": 14,
    "start_time": "2023-02-26T20:21:03.583Z"
   },
   {
    "duration": 1858,
    "start_time": "2023-02-28T05:35:01.301Z"
   },
   {
    "duration": 344,
    "start_time": "2023-02-28T05:35:03.162Z"
   },
   {
    "duration": 29,
    "start_time": "2023-02-28T05:35:03.508Z"
   },
   {
    "duration": 33,
    "start_time": "2023-02-28T05:35:03.538Z"
   },
   {
    "duration": 33,
    "start_time": "2023-02-28T05:35:03.573Z"
   },
   {
    "duration": 24,
    "start_time": "2023-02-28T05:35:03.608Z"
   },
   {
    "duration": 24,
    "start_time": "2023-02-28T05:35:03.633Z"
   },
   {
    "duration": 54,
    "start_time": "2023-02-28T05:35:03.658Z"
   },
   {
    "duration": 20,
    "start_time": "2023-02-28T05:35:03.713Z"
   },
   {
    "duration": 73,
    "start_time": "2023-02-28T05:35:03.734Z"
   },
   {
    "duration": 30,
    "start_time": "2023-02-28T05:35:03.808Z"
   },
   {
    "duration": 70,
    "start_time": "2023-02-28T05:35:03.841Z"
   },
   {
    "duration": 29,
    "start_time": "2023-02-28T05:35:03.912Z"
   },
   {
    "duration": 49,
    "start_time": "2023-02-28T05:35:03.944Z"
   },
   {
    "duration": 648,
    "start_time": "2023-02-28T05:35:03.995Z"
   },
   {
    "duration": 323,
    "start_time": "2023-02-28T05:35:04.645Z"
   },
   {
    "duration": 422,
    "start_time": "2023-02-28T05:35:04.974Z"
   },
   {
    "duration": 336,
    "start_time": "2023-02-28T05:35:05.397Z"
   },
   {
    "duration": 461,
    "start_time": "2023-02-28T05:35:05.735Z"
   },
   {
    "duration": 163,
    "start_time": "2023-02-28T05:35:06.198Z"
   },
   {
    "duration": 11,
    "start_time": "2023-02-28T05:35:06.363Z"
   },
   {
    "duration": 236,
    "start_time": "2023-02-28T05:35:06.378Z"
   },
   {
    "duration": 5,
    "start_time": "2023-02-28T05:35:06.617Z"
   },
   {
    "duration": 498,
    "start_time": "2023-02-28T05:35:06.624Z"
   },
   {
    "duration": 9,
    "start_time": "2023-02-28T05:35:07.124Z"
   },
   {
    "duration": 26,
    "start_time": "2023-02-28T05:35:07.135Z"
   },
   {
    "duration": 70,
    "start_time": "2023-02-28T05:35:07.163Z"
   },
   {
    "duration": 25,
    "start_time": "2023-02-28T05:35:07.235Z"
   },
   {
    "duration": 11,
    "start_time": "2023-02-28T05:36:26.633Z"
   },
   {
    "duration": 135,
    "start_time": "2023-02-28T05:37:13.083Z"
   },
   {
    "duration": 114,
    "start_time": "2023-02-28T05:41:23.248Z"
   },
   {
    "duration": 18,
    "start_time": "2023-02-28T05:46:53.464Z"
   },
   {
    "duration": 497,
    "start_time": "2023-02-28T06:02:48.603Z"
   },
   {
    "duration": 513,
    "start_time": "2023-02-28T06:03:29.901Z"
   },
   {
    "duration": 544,
    "start_time": "2023-02-28T06:03:36.543Z"
   },
   {
    "duration": 22,
    "start_time": "2023-02-28T06:05:09.936Z"
   },
   {
    "duration": 69,
    "start_time": "2023-02-28T06:16:02.753Z"
   },
   {
    "duration": 28,
    "start_time": "2023-02-28T06:20:12.844Z"
   },
   {
    "duration": 1329,
    "start_time": "2023-02-28T11:36:17.386Z"
   },
   {
    "duration": 301,
    "start_time": "2023-02-28T11:36:18.717Z"
   },
   {
    "duration": 23,
    "start_time": "2023-02-28T11:36:19.020Z"
   },
   {
    "duration": 7,
    "start_time": "2023-02-28T11:36:19.046Z"
   },
   {
    "duration": 8,
    "start_time": "2023-02-28T11:36:19.054Z"
   },
   {
    "duration": 14,
    "start_time": "2023-02-28T11:36:19.064Z"
   },
   {
    "duration": 20,
    "start_time": "2023-02-28T11:36:19.080Z"
   },
   {
    "duration": 16,
    "start_time": "2023-02-28T11:36:19.102Z"
   },
   {
    "duration": 13,
    "start_time": "2023-02-28T11:36:19.120Z"
   },
   {
    "duration": 12,
    "start_time": "2023-02-28T11:36:19.137Z"
   },
   {
    "duration": 43,
    "start_time": "2023-02-28T11:36:19.151Z"
   },
   {
    "duration": 10,
    "start_time": "2023-02-28T11:36:19.196Z"
   },
   {
    "duration": 9,
    "start_time": "2023-02-28T11:36:19.208Z"
   },
   {
    "duration": 10,
    "start_time": "2023-02-28T11:36:19.219Z"
   },
   {
    "duration": 569,
    "start_time": "2023-02-28T11:36:19.231Z"
   },
   {
    "duration": 292,
    "start_time": "2023-02-28T11:36:19.802Z"
   },
   {
    "duration": 421,
    "start_time": "2023-02-28T11:36:20.096Z"
   },
   {
    "duration": 274,
    "start_time": "2023-02-28T11:36:20.519Z"
   },
   {
    "duration": 364,
    "start_time": "2023-02-28T11:36:20.795Z"
   },
   {
    "duration": 130,
    "start_time": "2023-02-28T11:36:21.160Z"
   },
   {
    "duration": 5,
    "start_time": "2023-02-28T11:36:21.292Z"
   },
   {
    "duration": 161,
    "start_time": "2023-02-28T11:36:21.298Z"
   },
   {
    "duration": 5,
    "start_time": "2023-02-28T11:36:21.460Z"
   },
   {
    "duration": 429,
    "start_time": "2023-02-28T11:36:21.466Z"
   },
   {
    "duration": 10,
    "start_time": "2023-02-28T11:36:21.897Z"
   },
   {
    "duration": 8,
    "start_time": "2023-02-28T11:36:21.909Z"
   },
   {
    "duration": 29,
    "start_time": "2023-02-28T11:36:21.918Z"
   },
   {
    "duration": 41,
    "start_time": "2023-02-28T11:36:21.950Z"
   },
   {
    "duration": 10,
    "start_time": "2023-02-28T11:37:17.095Z"
   },
   {
    "duration": 5,
    "start_time": "2023-02-28T11:41:49.381Z"
   },
   {
    "duration": 82,
    "start_time": "2023-02-28T11:41:49.388Z"
   },
   {
    "duration": 18,
    "start_time": "2023-02-28T11:41:49.472Z"
   },
   {
    "duration": 7,
    "start_time": "2023-02-28T11:41:49.491Z"
   },
   {
    "duration": 6,
    "start_time": "2023-02-28T11:41:49.500Z"
   },
   {
    "duration": 13,
    "start_time": "2023-02-28T11:41:49.508Z"
   },
   {
    "duration": 14,
    "start_time": "2023-02-28T11:41:49.523Z"
   },
   {
    "duration": 12,
    "start_time": "2023-02-28T11:41:49.540Z"
   },
   {
    "duration": 46,
    "start_time": "2023-02-28T11:41:49.554Z"
   },
   {
    "duration": 8,
    "start_time": "2023-02-28T11:41:49.601Z"
   },
   {
    "duration": 7,
    "start_time": "2023-02-28T11:41:49.612Z"
   },
   {
    "duration": 8,
    "start_time": "2023-02-28T11:41:49.621Z"
   },
   {
    "duration": 8,
    "start_time": "2023-02-28T11:41:49.631Z"
   },
   {
    "duration": 13,
    "start_time": "2023-02-28T11:41:49.640Z"
   },
   {
    "duration": 555,
    "start_time": "2023-02-28T11:41:49.654Z"
   },
   {
    "duration": 280,
    "start_time": "2023-02-28T11:41:50.211Z"
   },
   {
    "duration": 377,
    "start_time": "2023-02-28T11:41:50.493Z"
   },
   {
    "duration": 264,
    "start_time": "2023-02-28T11:41:50.872Z"
   },
   {
    "duration": 348,
    "start_time": "2023-02-28T11:41:51.137Z"
   },
   {
    "duration": 130,
    "start_time": "2023-02-28T11:41:51.490Z"
   },
   {
    "duration": 4,
    "start_time": "2023-02-28T11:41:51.623Z"
   },
   {
    "duration": 146,
    "start_time": "2023-02-28T11:41:51.629Z"
   },
   {
    "duration": 5,
    "start_time": "2023-02-28T11:41:51.777Z"
   },
   {
    "duration": 358,
    "start_time": "2023-02-28T11:41:51.791Z"
   },
   {
    "duration": 11,
    "start_time": "2023-02-28T11:41:52.151Z"
   },
   {
    "duration": 85,
    "start_time": "2023-02-28T11:41:52.163Z"
   },
   {
    "duration": 0,
    "start_time": "2023-02-28T11:41:52.250Z"
   },
   {
    "duration": 1,
    "start_time": "2023-02-28T11:41:52.252Z"
   },
   {
    "duration": 5,
    "start_time": "2023-02-28T11:42:04.263Z"
   },
   {
    "duration": 80,
    "start_time": "2023-02-28T11:42:04.270Z"
   },
   {
    "duration": 17,
    "start_time": "2023-02-28T11:42:04.351Z"
   },
   {
    "duration": 4,
    "start_time": "2023-02-28T11:42:04.369Z"
   },
   {
    "duration": 7,
    "start_time": "2023-02-28T11:42:04.375Z"
   },
   {
    "duration": 13,
    "start_time": "2023-02-28T11:42:04.384Z"
   },
   {
    "duration": 12,
    "start_time": "2023-02-28T11:42:04.398Z"
   },
   {
    "duration": 10,
    "start_time": "2023-02-28T11:42:04.411Z"
   },
   {
    "duration": 11,
    "start_time": "2023-02-28T11:42:04.423Z"
   },
   {
    "duration": 11,
    "start_time": "2023-02-28T11:42:04.436Z"
   },
   {
    "duration": 10,
    "start_time": "2023-02-28T11:42:04.448Z"
   },
   {
    "duration": 33,
    "start_time": "2023-02-28T11:42:04.460Z"
   },
   {
    "duration": 9,
    "start_time": "2023-02-28T11:42:04.494Z"
   },
   {
    "duration": 8,
    "start_time": "2023-02-28T11:42:04.505Z"
   },
   {
    "duration": 604,
    "start_time": "2023-02-28T11:42:04.515Z"
   },
   {
    "duration": 266,
    "start_time": "2023-02-28T11:42:05.121Z"
   },
   {
    "duration": 398,
    "start_time": "2023-02-28T11:42:05.391Z"
   },
   {
    "duration": 303,
    "start_time": "2023-02-28T11:42:05.791Z"
   },
   {
    "duration": 442,
    "start_time": "2023-02-28T11:42:06.096Z"
   },
   {
    "duration": 133,
    "start_time": "2023-02-28T11:42:06.541Z"
   },
   {
    "duration": 4,
    "start_time": "2023-02-28T11:42:06.675Z"
   },
   {
    "duration": 148,
    "start_time": "2023-02-28T11:42:06.681Z"
   },
   {
    "duration": 4,
    "start_time": "2023-02-28T11:42:06.831Z"
   },
   {
    "duration": 355,
    "start_time": "2023-02-28T11:42:06.837Z"
   },
   {
    "duration": 10,
    "start_time": "2023-02-28T11:42:07.194Z"
   },
   {
    "duration": 67,
    "start_time": "2023-02-28T11:42:07.205Z"
   },
   {
    "duration": 0,
    "start_time": "2023-02-28T11:42:07.273Z"
   },
   {
    "duration": 0,
    "start_time": "2023-02-28T11:42:07.274Z"
   },
   {
    "duration": 1139,
    "start_time": "2023-02-28T11:44:57.909Z"
   },
   {
    "duration": 78,
    "start_time": "2023-02-28T11:44:59.049Z"
   },
   {
    "duration": 22,
    "start_time": "2023-02-28T11:44:59.128Z"
   },
   {
    "duration": 5,
    "start_time": "2023-02-28T11:44:59.152Z"
   },
   {
    "duration": 10,
    "start_time": "2023-02-28T11:44:59.158Z"
   },
   {
    "duration": 16,
    "start_time": "2023-02-28T11:44:59.169Z"
   },
   {
    "duration": 11,
    "start_time": "2023-02-28T11:44:59.186Z"
   },
   {
    "duration": 11,
    "start_time": "2023-02-28T11:44:59.199Z"
   },
   {
    "duration": 11,
    "start_time": "2023-02-28T11:44:59.211Z"
   },
   {
    "duration": 9,
    "start_time": "2023-02-28T11:44:59.225Z"
   },
   {
    "duration": 11,
    "start_time": "2023-02-28T11:44:59.236Z"
   },
   {
    "duration": 9,
    "start_time": "2023-02-28T11:44:59.248Z"
   },
   {
    "duration": 43,
    "start_time": "2023-02-28T11:44:59.259Z"
   },
   {
    "duration": 7,
    "start_time": "2023-02-28T11:44:59.304Z"
   },
   {
    "duration": 555,
    "start_time": "2023-02-28T11:44:59.313Z"
   },
   {
    "duration": 275,
    "start_time": "2023-02-28T11:44:59.870Z"
   },
   {
    "duration": 398,
    "start_time": "2023-02-28T11:45:00.147Z"
   },
   {
    "duration": 285,
    "start_time": "2023-02-28T11:45:00.547Z"
   },
   {
    "duration": 356,
    "start_time": "2023-02-28T11:45:00.833Z"
   },
   {
    "duration": 129,
    "start_time": "2023-02-28T11:45:01.192Z"
   },
   {
    "duration": 4,
    "start_time": "2023-02-28T11:45:01.323Z"
   },
   {
    "duration": 158,
    "start_time": "2023-02-28T11:45:01.329Z"
   },
   {
    "duration": 5,
    "start_time": "2023-02-28T11:45:01.490Z"
   },
   {
    "duration": 459,
    "start_time": "2023-02-28T11:45:01.497Z"
   },
   {
    "duration": 11,
    "start_time": "2023-02-28T11:45:01.957Z"
   },
   {
    "duration": 133,
    "start_time": "2023-02-28T11:45:01.969Z"
   },
   {
    "duration": 0,
    "start_time": "2023-02-28T11:45:02.103Z"
   },
   {
    "duration": 0,
    "start_time": "2023-02-28T11:45:02.105Z"
   },
   {
    "duration": 120,
    "start_time": "2023-02-28T11:49:13.606Z"
   },
   {
    "duration": 9,
    "start_time": "2023-02-28T11:52:16.690Z"
   },
   {
    "duration": 6,
    "start_time": "2023-02-28T11:52:20.763Z"
   },
   {
    "duration": 85,
    "start_time": "2023-02-28T11:52:20.771Z"
   },
   {
    "duration": 19,
    "start_time": "2023-02-28T11:52:20.857Z"
   },
   {
    "duration": 6,
    "start_time": "2023-02-28T11:52:20.879Z"
   },
   {
    "duration": 7,
    "start_time": "2023-02-28T11:52:20.887Z"
   },
   {
    "duration": 14,
    "start_time": "2023-02-28T11:52:20.895Z"
   },
   {
    "duration": 12,
    "start_time": "2023-02-28T11:52:20.911Z"
   },
   {
    "duration": 12,
    "start_time": "2023-02-28T11:52:20.925Z"
   },
   {
    "duration": 13,
    "start_time": "2023-02-28T11:52:20.940Z"
   },
   {
    "duration": 11,
    "start_time": "2023-02-28T11:52:20.955Z"
   },
   {
    "duration": 31,
    "start_time": "2023-02-28T11:52:20.967Z"
   },
   {
    "duration": 11,
    "start_time": "2023-02-28T11:52:21.000Z"
   },
   {
    "duration": 9,
    "start_time": "2023-02-28T11:52:21.012Z"
   },
   {
    "duration": 10,
    "start_time": "2023-02-28T11:52:21.023Z"
   },
   {
    "duration": 551,
    "start_time": "2023-02-28T11:52:21.035Z"
   },
   {
    "duration": 306,
    "start_time": "2023-02-28T11:52:21.588Z"
   },
   {
    "duration": 405,
    "start_time": "2023-02-28T11:52:21.896Z"
   },
   {
    "duration": 330,
    "start_time": "2023-02-28T11:52:22.303Z"
   },
   {
    "duration": 410,
    "start_time": "2023-02-28T11:52:22.635Z"
   },
   {
    "duration": 144,
    "start_time": "2023-02-28T11:52:23.047Z"
   },
   {
    "duration": 5,
    "start_time": "2023-02-28T11:52:23.193Z"
   },
   {
    "duration": 159,
    "start_time": "2023-02-28T11:52:23.199Z"
   },
   {
    "duration": 4,
    "start_time": "2023-02-28T11:52:23.360Z"
   },
   {
    "duration": 386,
    "start_time": "2023-02-28T11:52:23.368Z"
   },
   {
    "duration": 11,
    "start_time": "2023-02-28T11:52:23.756Z"
   },
   {
    "duration": 30,
    "start_time": "2023-02-28T11:52:23.769Z"
   },
   {
    "duration": 45,
    "start_time": "2023-02-28T11:52:23.801Z"
   },
   {
    "duration": 19,
    "start_time": "2023-02-28T11:52:23.849Z"
   },
   {
    "duration": 1275,
    "start_time": "2023-03-01T09:39:28.806Z"
   },
   {
    "duration": 169,
    "start_time": "2023-03-01T09:39:30.083Z"
   },
   {
    "duration": 21,
    "start_time": "2023-03-01T09:39:30.254Z"
   },
   {
    "duration": 29,
    "start_time": "2023-03-01T09:39:30.277Z"
   },
   {
    "duration": 15,
    "start_time": "2023-03-01T09:39:30.308Z"
   },
   {
    "duration": 33,
    "start_time": "2023-03-01T09:39:30.324Z"
   },
   {
    "duration": 47,
    "start_time": "2023-03-01T09:39:30.358Z"
   },
   {
    "duration": 29,
    "start_time": "2023-03-01T09:39:30.407Z"
   },
   {
    "duration": 40,
    "start_time": "2023-03-01T09:39:30.438Z"
   },
   {
    "duration": 36,
    "start_time": "2023-03-01T09:39:30.480Z"
   },
   {
    "duration": 55,
    "start_time": "2023-03-01T09:39:30.518Z"
   },
   {
    "duration": 46,
    "start_time": "2023-03-01T09:39:30.574Z"
   },
   {
    "duration": 41,
    "start_time": "2023-03-01T09:39:30.622Z"
   },
   {
    "duration": 38,
    "start_time": "2023-03-01T09:39:30.664Z"
   },
   {
    "duration": 589,
    "start_time": "2023-03-01T09:39:30.704Z"
   },
   {
    "duration": 290,
    "start_time": "2023-03-01T09:39:31.295Z"
   },
   {
    "duration": 408,
    "start_time": "2023-03-01T09:39:31.587Z"
   },
   {
    "duration": 291,
    "start_time": "2023-03-01T09:39:31.997Z"
   },
   {
    "duration": 365,
    "start_time": "2023-03-01T09:39:32.290Z"
   },
   {
    "duration": 142,
    "start_time": "2023-03-01T09:39:32.656Z"
   },
   {
    "duration": 4,
    "start_time": "2023-03-01T09:39:32.799Z"
   },
   {
    "duration": 167,
    "start_time": "2023-03-01T09:39:32.805Z"
   },
   {
    "duration": 6,
    "start_time": "2023-03-01T09:39:32.974Z"
   },
   {
    "duration": 439,
    "start_time": "2023-03-01T09:39:32.982Z"
   },
   {
    "duration": 10,
    "start_time": "2023-03-01T09:39:33.423Z"
   },
   {
    "duration": 25,
    "start_time": "2023-03-01T09:39:33.434Z"
   },
   {
    "duration": 6,
    "start_time": "2023-03-01T09:39:33.461Z"
   },
   {
    "duration": 34,
    "start_time": "2023-03-01T09:39:33.469Z"
   },
   {
    "duration": 14,
    "start_time": "2023-03-01T09:39:33.504Z"
   },
   {
    "duration": 7,
    "start_time": "2023-03-01T09:39:33.519Z"
   },
   {
    "duration": 5,
    "start_time": "2023-03-01T09:40:22.894Z"
   }
  ],
  "kernelspec": {
   "display_name": "Python 3 (ipykernel)",
   "language": "python",
   "name": "python3"
  },
  "language_info": {
   "codemirror_mode": {
    "name": "ipython",
    "version": 3
   },
   "file_extension": ".py",
   "mimetype": "text/x-python",
   "name": "python",
   "nbconvert_exporter": "python",
   "pygments_lexer": "ipython3",
   "version": "3.9.13"
  },
  "toc": {
   "base_numbering": 1,
   "nav_menu": {},
   "number_sections": true,
   "sideBar": true,
   "skip_h1_title": true,
   "title_cell": "Table of Contents",
   "title_sidebar": "Contents",
   "toc_cell": false,
   "toc_position": {
    "height": "calc(100% - 180px)",
    "left": "10px",
    "top": "150px",
    "width": "312.889px"
   },
   "toc_section_display": true,
   "toc_window_display": true
  }
 },
 "nbformat": 4,
 "nbformat_minor": 2
}
