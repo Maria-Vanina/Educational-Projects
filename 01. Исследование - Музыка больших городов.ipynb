{
 "cells": [
  {
   "cell_type": "markdown",
   "metadata": {
    "id": "E0vqbgi9ay0H"
   },
   "source": [
    "# Проект - Музыка больших городов"
   ]
  },
  {
   "cell_type": "markdown",
   "metadata": {
    "id": "VUC88oWjTJw2"
   },
   "source": [
    "Как музыка, которая звучит по дороге на работу в понедельник утром, отличается от той, что играет в среду или в конце рабочей недели? Возьмем данные для Москвы и Петербурга. Сравним, что и в каком режиме слушают их жители.\n",
    "\n",
    "\n",
    "Сравнение Москвы и Петербурга окружено мифами. Например:\n",
    " * Москва — мегаполис, подчинённый жёсткому ритму рабочей недели;\n",
    " * Петербург — культурная столица, со своими вкусами.\n",
    "\n",
    "На данных Яндекс Музыки сравним поведение пользователей двух столиц.\n",
    "\n",
    "**Цель исследования** — проверьте три гипотезы:\n",
    "1. Активность пользователей зависит от дня недели. Причём в Москве и Петербурге это проявляется по-разному.\n",
    "2. В понедельник утром в Москве преобладают одни жанры, а в Петербурге — другие. Так же и вечером пятницы преобладают разные жанры — в зависимости от города. \n",
    "3. Москва и Петербург предпочитают разные жанры музыки. В Москве чаще слушают поп-музыку, в Петербурге — русский рэп.\n",
    "\n",
    "**Ход исследования**\n",
    "\n",
    "Данные о поведении пользователей вы получите из файла `yandex_music_project.csv`. О качестве данных ничего не известно. Поэтому перед проверкой гипотез понадобится обзор данных. \n",
    "\n",
    "Вы проверите данные на ошибки и оцените их влияние на исследование. Затем, на этапе предобработки вы поищете возможность исправить самые критичные ошибки данных.\n",
    " \n",
    "Таким образом, исследование пройдёт в три этапа:\n",
    " 1. Обзор данных.\n",
    " 2. Предобработка данных.\n",
    " 3. Проверка гипотез.\n",
    "\n"
   ]
  },
  {
   "cell_type": "markdown",
   "metadata": {
    "id": "Ml1hmfXC_Zcs"
   },
   "source": [
    "## Обзор данных\n",
    "\n",
    "Составим первое представление о данных Яндекс Музыки."
   ]
  },
  {
   "cell_type": "code",
   "execution_count": 2,
   "metadata": {
    "id": "AXN7PHPN_Zcs"
   },
   "outputs": [],
   "source": [
    "# импорт библиотеки pandas\n",
    "import pandas as pd"
   ]
  },
  {
   "cell_type": "code",
   "execution_count": 3,
   "metadata": {
    "id": "fFVu7vqh_Zct"
   },
   "outputs": [],
   "source": [
    "# чтение файла с данными и сохранение в df\n",
    "df = pd.read_csv('/datasets/yandex_music_project.csv')"
   ]
  },
  {
   "cell_type": "code",
   "execution_count": 4,
   "metadata": {
    "id": "oWTVX3gW_Zct"
   },
   "outputs": [
    {
     "data": {
      "text/html": [
       "<div>\n",
       "<style scoped>\n",
       "    .dataframe tbody tr th:only-of-type {\n",
       "        vertical-align: middle;\n",
       "    }\n",
       "\n",
       "    .dataframe tbody tr th {\n",
       "        vertical-align: top;\n",
       "    }\n",
       "\n",
       "    .dataframe thead th {\n",
       "        text-align: right;\n",
       "    }\n",
       "</style>\n",
       "<table border=\"1\" class=\"dataframe\">\n",
       "  <thead>\n",
       "    <tr style=\"text-align: right;\">\n",
       "      <th></th>\n",
       "      <th>userID</th>\n",
       "      <th>Track</th>\n",
       "      <th>artist</th>\n",
       "      <th>genre</th>\n",
       "      <th>City</th>\n",
       "      <th>time</th>\n",
       "      <th>Day</th>\n",
       "    </tr>\n",
       "  </thead>\n",
       "  <tbody>\n",
       "    <tr>\n",
       "      <th>0</th>\n",
       "      <td>FFB692EC</td>\n",
       "      <td>Kamigata To Boots</td>\n",
       "      <td>The Mass Missile</td>\n",
       "      <td>rock</td>\n",
       "      <td>Saint-Petersburg</td>\n",
       "      <td>20:28:33</td>\n",
       "      <td>Wednesday</td>\n",
       "    </tr>\n",
       "    <tr>\n",
       "      <th>1</th>\n",
       "      <td>55204538</td>\n",
       "      <td>Delayed Because of Accident</td>\n",
       "      <td>Andreas Rönnberg</td>\n",
       "      <td>rock</td>\n",
       "      <td>Moscow</td>\n",
       "      <td>14:07:09</td>\n",
       "      <td>Friday</td>\n",
       "    </tr>\n",
       "    <tr>\n",
       "      <th>2</th>\n",
       "      <td>20EC38</td>\n",
       "      <td>Funiculì funiculà</td>\n",
       "      <td>Mario Lanza</td>\n",
       "      <td>pop</td>\n",
       "      <td>Saint-Petersburg</td>\n",
       "      <td>20:58:07</td>\n",
       "      <td>Wednesday</td>\n",
       "    </tr>\n",
       "    <tr>\n",
       "      <th>3</th>\n",
       "      <td>A3DD03C9</td>\n",
       "      <td>Dragons in the Sunset</td>\n",
       "      <td>Fire + Ice</td>\n",
       "      <td>folk</td>\n",
       "      <td>Saint-Petersburg</td>\n",
       "      <td>08:37:09</td>\n",
       "      <td>Monday</td>\n",
       "    </tr>\n",
       "    <tr>\n",
       "      <th>4</th>\n",
       "      <td>E2DC1FAE</td>\n",
       "      <td>Soul People</td>\n",
       "      <td>Space Echo</td>\n",
       "      <td>dance</td>\n",
       "      <td>Moscow</td>\n",
       "      <td>08:34:34</td>\n",
       "      <td>Monday</td>\n",
       "    </tr>\n",
       "    <tr>\n",
       "      <th>5</th>\n",
       "      <td>842029A1</td>\n",
       "      <td>Преданная</td>\n",
       "      <td>IMPERVTOR</td>\n",
       "      <td>rusrap</td>\n",
       "      <td>Saint-Petersburg</td>\n",
       "      <td>13:09:41</td>\n",
       "      <td>Friday</td>\n",
       "    </tr>\n",
       "    <tr>\n",
       "      <th>6</th>\n",
       "      <td>4CB90AA5</td>\n",
       "      <td>True</td>\n",
       "      <td>Roman Messer</td>\n",
       "      <td>dance</td>\n",
       "      <td>Moscow</td>\n",
       "      <td>13:00:07</td>\n",
       "      <td>Wednesday</td>\n",
       "    </tr>\n",
       "    <tr>\n",
       "      <th>7</th>\n",
       "      <td>F03E1C1F</td>\n",
       "      <td>Feeling This Way</td>\n",
       "      <td>Polina Griffith</td>\n",
       "      <td>dance</td>\n",
       "      <td>Moscow</td>\n",
       "      <td>20:47:49</td>\n",
       "      <td>Wednesday</td>\n",
       "    </tr>\n",
       "    <tr>\n",
       "      <th>8</th>\n",
       "      <td>8FA1D3BE</td>\n",
       "      <td>И вновь продолжается бой</td>\n",
       "      <td>NaN</td>\n",
       "      <td>ruspop</td>\n",
       "      <td>Moscow</td>\n",
       "      <td>09:17:40</td>\n",
       "      <td>Friday</td>\n",
       "    </tr>\n",
       "    <tr>\n",
       "      <th>9</th>\n",
       "      <td>E772D5C0</td>\n",
       "      <td>Pessimist</td>\n",
       "      <td>NaN</td>\n",
       "      <td>dance</td>\n",
       "      <td>Saint-Petersburg</td>\n",
       "      <td>21:20:49</td>\n",
       "      <td>Wednesday</td>\n",
       "    </tr>\n",
       "  </tbody>\n",
       "</table>\n",
       "</div>"
      ],
      "text/plain": [
       "     userID                        Track            artist   genre  \\\n",
       "0  FFB692EC            Kamigata To Boots  The Mass Missile    rock   \n",
       "1  55204538  Delayed Because of Accident  Andreas Rönnberg    rock   \n",
       "2    20EC38            Funiculì funiculà       Mario Lanza     pop   \n",
       "3  A3DD03C9        Dragons in the Sunset        Fire + Ice    folk   \n",
       "4  E2DC1FAE                  Soul People        Space Echo   dance   \n",
       "5  842029A1                    Преданная         IMPERVTOR  rusrap   \n",
       "6  4CB90AA5                         True      Roman Messer   dance   \n",
       "7  F03E1C1F             Feeling This Way   Polina Griffith   dance   \n",
       "8  8FA1D3BE     И вновь продолжается бой               NaN  ruspop   \n",
       "9  E772D5C0                    Pessimist               NaN   dance   \n",
       "\n",
       "             City        time        Day  \n",
       "0  Saint-Petersburg  20:28:33  Wednesday  \n",
       "1            Moscow  14:07:09     Friday  \n",
       "2  Saint-Petersburg  20:58:07  Wednesday  \n",
       "3  Saint-Petersburg  08:37:09     Monday  \n",
       "4            Moscow  08:34:34     Monday  \n",
       "5  Saint-Petersburg  13:09:41     Friday  \n",
       "6            Moscow  13:00:07  Wednesday  \n",
       "7            Moscow  20:47:49  Wednesday  \n",
       "8            Moscow  09:17:40     Friday  \n",
       "9  Saint-Petersburg  21:20:49  Wednesday  "
      ]
     },
     "execution_count": 4,
     "metadata": {},
     "output_type": "execute_result"
    }
   ],
   "source": [
    "df.head(10)   # получение первых 10 строк таблицы df"
   ]
  },
  {
   "cell_type": "markdown",
   "metadata": {
    "id": "EO73Kwic_Zct",
    "tags": [
     "start_task"
    ]
   },
   "source": [
    "Получим общую информацию о таблице:"
   ]
  },
  {
   "cell_type": "code",
   "execution_count": 5,
   "metadata": {
    "id": "DSf2kIb-_Zct"
   },
   "outputs": [
    {
     "name": "stdout",
     "output_type": "stream",
     "text": [
      "<class 'pandas.core.frame.DataFrame'>\n",
      "RangeIndex: 65079 entries, 0 to 65078\n",
      "Data columns (total 7 columns):\n",
      " #   Column    Non-Null Count  Dtype \n",
      "---  ------    --------------  ----- \n",
      " 0     userID  65079 non-null  object\n",
      " 1   Track     63848 non-null  object\n",
      " 2   artist    57876 non-null  object\n",
      " 3   genre     63881 non-null  object\n",
      " 4     City    65079 non-null  object\n",
      " 5   time      65079 non-null  object\n",
      " 6   Day       65079 non-null  object\n",
      "dtypes: object(7)\n",
      "memory usage: 3.5+ MB\n"
     ]
    }
   ],
   "source": [
    "df.info()  # получение общей информации о данных в таблице df"
   ]
  },
  {
   "cell_type": "markdown",
   "metadata": {
    "id": "TaQ2Iwbr_Zct"
   },
   "source": [
    "**ВЫВОД:** в таблице семь столбцов. Тип данных во всех столбцах — `object`.\n",
    "\n",
    "Согласно документации к данным:\n",
    "* `userID` — идентификатор пользователя;\n",
    "* `Track` — название трека;  \n",
    "* `artist` — имя исполнителя;\n",
    "* `genre` — название жанра;\n",
    "* `City` — город пользователя;\n",
    "* `time` — время начала прослушивания;\n",
    "* `Day` — день недели.\n",
    "\n",
    "Количество значений в столбцах различается. Значит, в данных есть пропущенные значения.\n",
    "\n",
    "\n",
    "В названиях колонок видны нарушения стиля:\n",
    "* Строчные буквы сочетаются с прописными;\n",
    "* Встречаются пробелы;\n",
    "* Отсутствие нижнего регистра в userID\n",
    "\n",
    "В каждой строке таблицы — данные о прослушанном треке. Часть колонок описывает саму композицию: название, исполнителя и жанр. Остальные данные рассказывают о пользователе: из какого он города, когда он слушал музыку. \n",
    "\n",
    "Предварительно можно утверждать, что данных достаточно для проверки гипотез. Но встречаются пропуски в данных, а в названиях колонок — расхождения с хорошим стилем.\n",
    "\n",
    "Чтобы двигаться дальше, нужно устранить проблемы в данных."
   ]
  },
  {
   "cell_type": "markdown",
   "metadata": {
    "id": "SjYF6Ub9_Zct"
   },
   "source": [
    "## Предобработка данных\n",
    "Исправим стиль в заголовках столбцов, исключим пропуски. Затем проверим данные на дубликаты."
   ]
  },
  {
   "cell_type": "code",
   "execution_count": 7,
   "metadata": {
    "id": "oKOTdF_Q_Zct"
   },
   "outputs": [
    {
     "data": {
      "text/plain": [
       "Index(['  userID', 'Track', 'artist', 'genre', '  City  ', 'time', 'Day'], dtype='object')"
      ]
     },
     "execution_count": 7,
     "metadata": {},
     "output_type": "execute_result"
    }
   ],
   "source": [
    "df.columns # перечень названий столбцов таблицы df\n"
   ]
  },
  {
   "cell_type": "markdown",
   "metadata": {
    "id": "zj5534cv_Zct",
    "tags": [
     "start_task"
    ]
   },
   "source": [
    "Приведем названия в соответствие с хорошим стилем:\n",
    "* несколько слов в названии запишите в «змеином_регистре»,\n",
    "* все символы сделайте строчными,\n",
    "* устраните пробелы.\n",
    "\n",
    "Для этого переименуем колонки."
   ]
  },
  {
   "cell_type": "code",
   "execution_count": 8,
   "metadata": {
    "id": "ISlFqs5y_Zct"
   },
   "outputs": [],
   "source": [
    "# переименование столбцов\n",
    "df = df.rename(\n",
    "    columns = {\n",
    "        '  userID': 'user_id',\n",
    "        'Track': 'track',\n",
    "        '  City  ': 'city',\n",
    "        'Day': 'day'\n",
    "    }\n",
    ")"
   ]
  },
  {
   "cell_type": "code",
   "execution_count": 9,
   "metadata": {
    "id": "d4NOAmTW_Zct"
   },
   "outputs": [
    {
     "data": {
      "text/plain": [
       "Index(['user_id', 'track', 'artist', 'genre', 'city', 'time', 'day'], dtype='object')"
      ]
     },
     "execution_count": 9,
     "metadata": {},
     "output_type": "execute_result"
    }
   ],
   "source": [
    "# проверка результатов - перечень названий столбцов\n",
    "df.columns"
   ]
  },
  {
   "cell_type": "markdown",
   "metadata": {
    "id": "5ISfbcfY_Zct",
    "tags": [
     "start_task"
    ]
   },
   "source": [
    "### Пропуски значений\n",
    "\n",
    "Посчитаем, сколько в таблице пропущенных значений."
   ]
  },
  {
   "cell_type": "code",
   "execution_count": 10,
   "metadata": {
    "id": "RskX29qr_Zct"
   },
   "outputs": [
    {
     "data": {
      "text/plain": [
       "user_id       0\n",
       "track      1231\n",
       "artist     7203\n",
       "genre      1198\n",
       "city          0\n",
       "time          0\n",
       "day           0\n",
       "dtype: int64"
      ]
     },
     "execution_count": 10,
     "metadata": {},
     "output_type": "execute_result"
    }
   ],
   "source": [
    "# подсчёт пропусков\n",
    "df.isna().sum()"
   ]
  },
  {
   "cell_type": "markdown",
   "metadata": {
    "deletable": false,
    "editable": false,
    "id": "qubhgnlO_Zct"
   },
   "source": [
    "Не все пропущенные значения влияют на исследование. Так в `track` и `artist` пропуски не важны для вашей работы. Достаточно заменить их явными обозначениями.\n",
    "\n",
    "Но пропуски в `genre` могут помешать сравнению музыкальных вкусов в Москве и Санкт-Петербурге. На практике было бы правильно установить причину пропусков и восстановить данные. Такой возможности нет в учебном проекте. Придётся:\n",
    "* заполнить и эти пропуски явными обозначениями;\n",
    "* оценить, насколько они повредят расчётам. "
   ]
  },
  {
   "cell_type": "markdown",
   "metadata": {
    "id": "fSv2laPA_Zct",
    "tags": [
     "start_task"
    ]
   },
   "source": [
    "Заменим пропущенные значения в столбцах `track`, `artist` и `genre` на строку `'unknown'`. Для этого создадим список `columns_to_replace`, переберем его элементы циклом и для каждого столбца выполните замену пропущенных значений:"
   ]
  },
  {
   "cell_type": "code",
   "execution_count": 11,
   "metadata": {
    "id": "KplB5qWs_Zct"
   },
   "outputs": [],
   "source": [
    "# перебор названий столбцов в цикле и замена пропущенных значений на 'unknown'\n",
    "columns_to_replace = ['track', 'artist', 'genre']\n",
    "for column in columns_to_replace:\n",
    "    df[column] = df[column].fillna('unknown')"
   ]
  },
  {
   "cell_type": "markdown",
   "metadata": {
    "id": "Ilsm-MZo_Zct",
    "tags": [
     "start_task"
    ]
   },
   "source": [
    "Убедимся, что в таблице не осталось пропусков. "
   ]
  },
  {
   "cell_type": "code",
   "execution_count": 12,
   "metadata": {
    "id": "Tq4nYRX4_Zct"
   },
   "outputs": [
    {
     "data": {
      "text/plain": [
       "user_id    0\n",
       "track      0\n",
       "artist     0\n",
       "genre      0\n",
       "city       0\n",
       "time       0\n",
       "day        0\n",
       "dtype: int64"
      ]
     },
     "execution_count": 12,
     "metadata": {},
     "output_type": "execute_result"
    }
   ],
   "source": [
    "# подсчёт пропусков\n",
    "df.isna().sum()"
   ]
  },
  {
   "cell_type": "markdown",
   "metadata": {
    "id": "BWKRtBJ3_Zct",
    "tags": [
     "start_task"
    ]
   },
   "source": [
    "### Дубликаты"
   ]
  },
  {
   "cell_type": "code",
   "execution_count": 13,
   "metadata": {
    "id": "36eES_S0_Zct"
   },
   "outputs": [
    {
     "data": {
      "text/plain": [
       "3826"
      ]
     },
     "execution_count": 13,
     "metadata": {},
     "output_type": "execute_result"
    }
   ],
   "source": [
    "# подсчёт явных дубликатов\n",
    "df.duplicated().sum()"
   ]
  },
  {
   "cell_type": "code",
   "execution_count": 14,
   "metadata": {
    "id": "exFHq6tt_Zct"
   },
   "outputs": [],
   "source": [
    "# удаление явных дубликатов\n",
    "df = df.drop_duplicates().reset_index(drop=True)"
   ]
  },
  {
   "cell_type": "code",
   "execution_count": 15,
   "metadata": {
    "id": "-8PuNWQ0_Zct"
   },
   "outputs": [
    {
     "data": {
      "text/plain": [
       "0"
      ]
     },
     "execution_count": 15,
     "metadata": {},
     "output_type": "execute_result"
    }
   ],
   "source": [
    "# проверка на отсутствие явн.дубликатов\n",
    "df.duplicated().sum()"
   ]
  },
  {
   "cell_type": "markdown",
   "metadata": {
    "id": "QlFBsxAr_Zct"
   },
   "source": [
    "Теперь избавимся от неявных дубликатов в колонке `genre`."
   ]
  },
  {
   "cell_type": "markdown",
   "metadata": {
    "id": "eSjWwsOh_Zct",
    "tags": [
     "start_task"
    ]
   },
   "source": [
    "Выведим на экран список уникальных названий жанров, отсортированный в алфавитном порядке. Для этого:\n",
    "1. извлеките нужный столбец датафрейма; \n",
    "2. примените к нему метод сортировки;\n",
    "3. для отсортированного столбца вызовите метод, который вернёт уникальные значения из столбца."
   ]
  },
  {
   "cell_type": "code",
   "execution_count": 16,
   "metadata": {
    "id": "JIUcqzZN_Zct"
   },
   "outputs": [
    {
     "data": {
      "text/plain": [
       "array(['acid', 'acoustic', 'action', 'adult', 'africa', 'afrikaans',\n",
       "       'alternative', 'alternativepunk', 'ambient', 'americana',\n",
       "       'animated', 'anime', 'arabesk', 'arabic', 'arena',\n",
       "       'argentinetango', 'art', 'audiobook', 'author', 'avantgarde',\n",
       "       'axé', 'baile', 'balkan', 'beats', 'bigroom', 'black', 'bluegrass',\n",
       "       'blues', 'bollywood', 'bossa', 'brazilian', 'breakbeat', 'breaks',\n",
       "       'broadway', 'cantautori', 'cantopop', 'canzone', 'caribbean',\n",
       "       'caucasian', 'celtic', 'chamber', 'chanson', 'children', 'chill',\n",
       "       'chinese', 'choral', 'christian', 'christmas', 'classical',\n",
       "       'classicmetal', 'club', 'colombian', 'comedy', 'conjazz',\n",
       "       'contemporary', 'country', 'cuban', 'dance', 'dancehall',\n",
       "       'dancepop', 'dark', 'death', 'deep', 'deutschrock', 'deutschspr',\n",
       "       'dirty', 'disco', 'dnb', 'documentary', 'downbeat', 'downtempo',\n",
       "       'drum', 'dub', 'dubstep', 'eastern', 'easy', 'electronic',\n",
       "       'electropop', 'emo', 'entehno', 'epicmetal', 'estrada', 'ethnic',\n",
       "       'eurofolk', 'european', 'experimental', 'extrememetal', 'fado',\n",
       "       'fairytail', 'film', 'fitness', 'flamenco', 'folk', 'folklore',\n",
       "       'folkmetal', 'folkrock', 'folktronica', 'forró', 'frankreich',\n",
       "       'französisch', 'french', 'funk', 'future', 'gangsta', 'garage',\n",
       "       'german', 'ghazal', 'gitarre', 'glitch', 'gospel', 'gothic',\n",
       "       'grime', 'grunge', 'gypsy', 'handsup', \"hard'n'heavy\", 'hardcore',\n",
       "       'hardstyle', 'hardtechno', 'hip', 'hip-hop', 'hiphop',\n",
       "       'historisch', 'holiday', 'hop', 'horror', 'house', 'hymn', 'idm',\n",
       "       'independent', 'indian', 'indie', 'indipop', 'industrial',\n",
       "       'inspirational', 'instrumental', 'international', 'irish', 'jam',\n",
       "       'japanese', 'jazz', 'jewish', 'jpop', 'jungle', 'k-pop',\n",
       "       'karadeniz', 'karaoke', 'kayokyoku', 'korean', 'laiko', 'latin',\n",
       "       'latino', 'leftfield', 'local', 'lounge', 'loungeelectronic',\n",
       "       'lovers', 'malaysian', 'mandopop', 'marschmusik', 'meditative',\n",
       "       'mediterranean', 'melodic', 'metal', 'metalcore', 'mexican',\n",
       "       'middle', 'minimal', 'miscellaneous', 'modern', 'mood', 'mpb',\n",
       "       'muslim', 'native', 'neoklassik', 'neue', 'new', 'newage',\n",
       "       'newwave', 'nu', 'nujazz', 'numetal', 'oceania', 'old', 'opera',\n",
       "       'orchestral', 'other', 'piano', 'podcasts', 'pop', 'popdance',\n",
       "       'popelectronic', 'popeurodance', 'poprussian', 'post',\n",
       "       'posthardcore', 'postrock', 'power', 'progmetal', 'progressive',\n",
       "       'psychedelic', 'punjabi', 'punk', 'quebecois', 'ragga', 'ram',\n",
       "       'rancheras', 'rap', 'rave', 'reggae', 'reggaeton', 'regional',\n",
       "       'relax', 'religious', 'retro', 'rhythm', 'rnb', 'rnr', 'rock',\n",
       "       'rockabilly', 'rockalternative', 'rockindie', 'rockother',\n",
       "       'romance', 'roots', 'ruspop', 'rusrap', 'rusrock', 'russian',\n",
       "       'salsa', 'samba', 'scenic', 'schlager', 'self', 'sertanejo',\n",
       "       'shanson', 'shoegazing', 'showtunes', 'singer', 'ska', 'skarock',\n",
       "       'slow', 'smooth', 'soft', 'soul', 'soulful', 'sound', 'soundtrack',\n",
       "       'southern', 'specialty', 'speech', 'spiritual', 'sport',\n",
       "       'stonerrock', 'surf', 'swing', 'synthpop', 'synthrock',\n",
       "       'sängerportrait', 'tango', 'tanzorchester', 'taraftar', 'tatar',\n",
       "       'tech', 'techno', 'teen', 'thrash', 'top', 'traditional',\n",
       "       'tradjazz', 'trance', 'tribal', 'trip', 'triphop', 'tropical',\n",
       "       'türk', 'türkçe', 'ukrrock', 'unknown', 'urban', 'uzbek',\n",
       "       'variété', 'vi', 'videogame', 'vocal', 'western', 'world',\n",
       "       'worldbeat', 'ïîï', 'электроника'], dtype=object)"
      ]
     },
     "execution_count": 16,
     "metadata": {},
     "output_type": "execute_result"
    }
   ],
   "source": [
    "# Просмотр уникальных названий жанров\n",
    "df['genre'].sort_values().unique()\n"
   ]
  },
  {
   "cell_type": "markdown",
   "metadata": {
    "id": "qej-Qmuo_Zct",
    "tags": [
     "start_task"
    ]
   },
   "source": [
    "Мы видим неявные дубликаты названия `hiphop`:\n",
    "* *hip*,\n",
    "* *hop*,\n",
    "* *hip-hop*."
   ]
  },
  {
   "cell_type": "code",
   "execution_count": 17,
   "metadata": {
    "id": "ErNDkmns_Zct"
   },
   "outputs": [],
   "source": [
    "# Устранение неявных дубликатов\n",
    "def replace_wrong_values(wrong_values, correct_values):\n",
    "    for wrong_value in wrong_values:\n",
    "        df['genre'] = df['genre'].replace(wrong_value, correct_values)\n",
    "\n",
    "duplicates = ['hip', 'hip-hop', 'hop']\n",
    "name = 'hiphop'\n",
    "replace_wrong_values(duplicates, name)"
   ]
  },
  {
   "cell_type": "code",
   "execution_count": 18,
   "metadata": {
    "id": "wvixALnFG15m",
    "scrolled": false
   },
   "outputs": [
    {
     "data": {
      "text/plain": [
       "array(['acid', 'acoustic', 'action', 'adult', 'africa', 'afrikaans',\n",
       "       'alternative', 'alternativepunk', 'ambient', 'americana',\n",
       "       'animated', 'anime', 'arabesk', 'arabic', 'arena',\n",
       "       'argentinetango', 'art', 'audiobook', 'author', 'avantgarde',\n",
       "       'axé', 'baile', 'balkan', 'beats', 'bigroom', 'black', 'bluegrass',\n",
       "       'blues', 'bollywood', 'bossa', 'brazilian', 'breakbeat', 'breaks',\n",
       "       'broadway', 'cantautori', 'cantopop', 'canzone', 'caribbean',\n",
       "       'caucasian', 'celtic', 'chamber', 'chanson', 'children', 'chill',\n",
       "       'chinese', 'choral', 'christian', 'christmas', 'classical',\n",
       "       'classicmetal', 'club', 'colombian', 'comedy', 'conjazz',\n",
       "       'contemporary', 'country', 'cuban', 'dance', 'dancehall',\n",
       "       'dancepop', 'dark', 'death', 'deep', 'deutschrock', 'deutschspr',\n",
       "       'dirty', 'disco', 'dnb', 'documentary', 'downbeat', 'downtempo',\n",
       "       'drum', 'dub', 'dubstep', 'eastern', 'easy', 'electronic',\n",
       "       'electropop', 'emo', 'entehno', 'epicmetal', 'estrada', 'ethnic',\n",
       "       'eurofolk', 'european', 'experimental', 'extrememetal', 'fado',\n",
       "       'fairytail', 'film', 'fitness', 'flamenco', 'folk', 'folklore',\n",
       "       'folkmetal', 'folkrock', 'folktronica', 'forró', 'frankreich',\n",
       "       'französisch', 'french', 'funk', 'future', 'gangsta', 'garage',\n",
       "       'german', 'ghazal', 'gitarre', 'glitch', 'gospel', 'gothic',\n",
       "       'grime', 'grunge', 'gypsy', 'handsup', \"hard'n'heavy\", 'hardcore',\n",
       "       'hardstyle', 'hardtechno', 'hiphop', 'historisch', 'holiday',\n",
       "       'horror', 'house', 'hymn', 'idm', 'independent', 'indian', 'indie',\n",
       "       'indipop', 'industrial', 'inspirational', 'instrumental',\n",
       "       'international', 'irish', 'jam', 'japanese', 'jazz', 'jewish',\n",
       "       'jpop', 'jungle', 'k-pop', 'karadeniz', 'karaoke', 'kayokyoku',\n",
       "       'korean', 'laiko', 'latin', 'latino', 'leftfield', 'local',\n",
       "       'lounge', 'loungeelectronic', 'lovers', 'malaysian', 'mandopop',\n",
       "       'marschmusik', 'meditative', 'mediterranean', 'melodic', 'metal',\n",
       "       'metalcore', 'mexican', 'middle', 'minimal', 'miscellaneous',\n",
       "       'modern', 'mood', 'mpb', 'muslim', 'native', 'neoklassik', 'neue',\n",
       "       'new', 'newage', 'newwave', 'nu', 'nujazz', 'numetal', 'oceania',\n",
       "       'old', 'opera', 'orchestral', 'other', 'piano', 'podcasts', 'pop',\n",
       "       'popdance', 'popelectronic', 'popeurodance', 'poprussian', 'post',\n",
       "       'posthardcore', 'postrock', 'power', 'progmetal', 'progressive',\n",
       "       'psychedelic', 'punjabi', 'punk', 'quebecois', 'ragga', 'ram',\n",
       "       'rancheras', 'rap', 'rave', 'reggae', 'reggaeton', 'regional',\n",
       "       'relax', 'religious', 'retro', 'rhythm', 'rnb', 'rnr', 'rock',\n",
       "       'rockabilly', 'rockalternative', 'rockindie', 'rockother',\n",
       "       'romance', 'roots', 'ruspop', 'rusrap', 'rusrock', 'russian',\n",
       "       'salsa', 'samba', 'scenic', 'schlager', 'self', 'sertanejo',\n",
       "       'shanson', 'shoegazing', 'showtunes', 'singer', 'ska', 'skarock',\n",
       "       'slow', 'smooth', 'soft', 'soul', 'soulful', 'sound', 'soundtrack',\n",
       "       'southern', 'specialty', 'speech', 'spiritual', 'sport',\n",
       "       'stonerrock', 'surf', 'swing', 'synthpop', 'synthrock',\n",
       "       'sängerportrait', 'tango', 'tanzorchester', 'taraftar', 'tatar',\n",
       "       'tech', 'techno', 'teen', 'thrash', 'top', 'traditional',\n",
       "       'tradjazz', 'trance', 'tribal', 'trip', 'triphop', 'tropical',\n",
       "       'türk', 'türkçe', 'ukrrock', 'unknown', 'urban', 'uzbek',\n",
       "       'variété', 'vi', 'videogame', 'vocal', 'western', 'world',\n",
       "       'worldbeat', 'ïîï', 'электроника'], dtype=object)"
      ]
     },
     "execution_count": 18,
     "metadata": {},
     "output_type": "execute_result"
    }
   ],
   "source": [
    "# Проверка на неявные дубликаты\n",
    "df['genre'].sort_values().unique()"
   ]
  },
  {
   "cell_type": "markdown",
   "metadata": {
    "id": "jz6a9-7HQUDd"
   },
   "source": [
    "**Выводы**\n",
    "\n",
    "Предобработка обнаружила три проблемы в данных:\n",
    "\n",
    "- нарушения в стиле заголовков,\n",
    "- пропущенные значения,\n",
    "- дубликаты — явные и неявные.\n",
    "\n",
    "Мы исправили заголовки, чтобы упростить работу с таблицей. Без дубликатов исследование станет более точным.\n",
    "\n",
    "Пропущенные значения заменили на `'unknown'`. Ещё предстоит увидеть, не повредят ли исследованию пропуски в колонке `genre`.\n",
    "\n",
    "Теперь можно перейти к проверке гипотез. "
   ]
  },
  {
   "cell_type": "markdown",
   "metadata": {
    "deletable": false,
    "editable": false,
    "id": "WttZHXH0SqKk"
   },
   "source": [
    "## Проверка гипотез"
   ]
  },
  {
   "cell_type": "markdown",
   "metadata": {
    "deletable": false,
    "editable": false,
    "id": "Im936VVi_Zcu"
   },
   "source": [
    "### Сравнение поведения пользователей двух столиц"
   ]
  },
  {
   "cell_type": "markdown",
   "metadata": {
    "deletable": false,
    "editable": false,
    "id": "nwt_MuaL_Zcu"
   },
   "source": [
    "Первая гипотеза утверждает, что пользователи по-разному слушают музыку в Москве и Санкт-Петербурге. Проверьте это предположение по данным о трёх днях недели — понедельнике, среде и пятнице. Для этого:\n",
    "\n",
    "* Разделите пользователей Москвы и Санкт-Петербурга.\n",
    "* Сравните, сколько треков послушала каждая группа пользователей в понедельник, среду и пятницу.\n"
   ]
  },
  {
   "cell_type": "markdown",
   "metadata": {
    "id": "8Dw_YMmT_Zcu",
    "tags": [
     "start_task"
    ]
   },
   "source": [
    "Оценим активность пользователей в каждом городе. Сгруппируем данные по городу и посчитаем прослушивания в каждой группе."
   ]
  },
  {
   "cell_type": "code",
   "execution_count": 19,
   "metadata": {
    "id": "0_Qs96oh_Zcu"
   },
   "outputs": [
    {
     "data": {
      "text/plain": [
       "city\n",
       "Moscow              42741\n",
       "Saint-Petersburg    18512\n",
       "Name: track, dtype: int64"
      ]
     },
     "execution_count": 19,
     "metadata": {},
     "output_type": "execute_result"
    }
   ],
   "source": [
    "# Подсчёт прослушиваний в каждом городе\n",
    "df.groupby('city')['track'].count()"
   ]
  },
  {
   "cell_type": "markdown",
   "metadata": {
    "id": "dzli3w8o_Zcu",
    "tags": [
     "start_task"
    ]
   },
   "source": [
    "В Москве прослушиваний больше, чем в Петербурге. Из этого не следует, что московские пользователи чаще слушают музыку. Просто самих пользователей в Москве больше.\n",
    "\n",
    "\n",
    "\n",
    "Теперь сгруппируем данные по дню недели и посчитаем прослушивания в понедельник, среду и пятницу. "
   ]
  },
  {
   "cell_type": "code",
   "execution_count": 20,
   "metadata": {
    "id": "uZMKjiJz_Zcu"
   },
   "outputs": [
    {
     "data": {
      "text/plain": [
       "day\n",
       "Friday       21840\n",
       "Monday       21354\n",
       "Wednesday    18059\n",
       "Name: genre, dtype: int64"
      ]
     },
     "execution_count": 20,
     "metadata": {},
     "output_type": "execute_result"
    }
   ],
   "source": [
    "# Подсчёт прослушиваний в каждый из трёх дней\n",
    "df.groupby('day')['genre'].count()"
   ]
  },
  {
   "cell_type": "markdown",
   "metadata": {
    "deletable": false,
    "editable": false,
    "id": "cC2tNrlL_Zcu"
   },
   "source": [
    "В среднем пользователи из двух городов менее активны по средам. Но картина может измениться, если рассмотреть каждый город в отдельности."
   ]
  },
  {
   "cell_type": "markdown",
   "metadata": {
    "id": "POzs8bGa_Zcu",
    "tags": [
     "start_task"
    ]
   },
   "source": [
    "Создадим функцию `number_tracks()`, которая посчитает прослушивания для заданного дня и города. Ей понадобятся два параметра:\n",
    "* день недели,\n",
    "* название города.\n",
    "\n",
    "В функции сохраним в переменную строки исходной таблицы, у которых значение:\n",
    "  * в колонке `day` равно параметру `day`,\n",
    "  * в колонке `city` равно параметру `city`.\n",
    "\n",
    "Применим последовательную фильтрацию с логической индексацией.\n",
    "\n",
    "Затем посчитаем значения в столбце `user_id` получившейся таблицы. Результат сохраним в новую переменную. "
   ]
  },
  {
   "cell_type": "code",
   "execution_count": 21,
   "metadata": {
    "id": "Nz3GdQB1_Zcu"
   },
   "outputs": [],
   "source": [
    "# <создание функции number_tracks()>\n",
    "def number_tracks(day, city): # Объявляется функция с двумя параметрами: day, city.\n",
    "    #track_list_count = [] # В переменной track_list сохраняются те строки таблицы df, для которых \n",
    "    track_list = df[df['day'] == day] # значение в столбце 'day' равно параметру day и одновременно значение\n",
    "    track_list = track_list[track_list['city'] == city] # в столбце 'city' равно параметру city (используйте последовательную фильтрацию\n",
    "# с помощью логической индексации или сложные логические выражения в одну строку, если вы уже знакомы с ними).\n",
    "    track_list_count = track_list['user_id'].count() # В переменной track_list_count сохраняется число значений столбца 'user_id',\n",
    "# рассчитанное методом count() для таблицы track_list.\n",
    "    return track_list_count # Функция возвращает число - значение track_list_count.\n",
    "\n",
    "# Функция для подсчёта прослушиваний для конкретного города и дня.\n",
    "# С помощью последовательной фильтрации с логической индексацией она \n",
    "# сначала получит из исходной таблицы строки с нужным днём,\n",
    "# затем из результата отфильтрует строки с нужным городом,\n",
    "# методом count() посчитает количество значений в колонке user_id. \n",
    "# Это количество функция вернёт в качестве результата"
   ]
  },
  {
   "cell_type": "markdown",
   "metadata": {
    "id": "ytf7xFrFJQ2r",
    "tags": [
     "start_task"
    ]
   },
   "source": [
    "Вызовим ф-цию для каждогогорода каждого дня."
   ]
  },
  {
   "cell_type": "code",
   "execution_count": 22,
   "metadata": {
    "id": "rJcRATNQ_Zcu"
   },
   "outputs": [
    {
     "data": {
      "text/plain": [
       "15740"
      ]
     },
     "execution_count": 22,
     "metadata": {},
     "output_type": "execute_result"
    }
   ],
   "source": [
    "number_tracks(day='Monday', city='Moscow') # количество прослушиваний в Москве по понедельникам"
   ]
  },
  {
   "cell_type": "code",
   "execution_count": 23,
   "metadata": {
    "id": "hq_ncZ5T_Zcu"
   },
   "outputs": [
    {
     "data": {
      "text/plain": [
       "5614"
      ]
     },
     "execution_count": 23,
     "metadata": {},
     "output_type": "execute_result"
    }
   ],
   "source": [
    "number_tracks('Monday', 'Saint-Petersburg')# количество прослушиваний в Санкт-Петербурге по понедельникам"
   ]
  },
  {
   "cell_type": "code",
   "execution_count": 24,
   "metadata": {
    "id": "_NTy2VPU_Zcu"
   },
   "outputs": [
    {
     "data": {
      "text/plain": [
       "11056"
      ]
     },
     "execution_count": 24,
     "metadata": {},
     "output_type": "execute_result"
    }
   ],
   "source": [
    "number_tracks('Wednesday', 'Moscow') # количество прослушиваний в Москве по средам"
   ]
  },
  {
   "cell_type": "code",
   "execution_count": 25,
   "metadata": {
    "id": "j2y3TAwo_Zcu"
   },
   "outputs": [
    {
     "data": {
      "text/plain": [
       "7003"
      ]
     },
     "execution_count": 25,
     "metadata": {},
     "output_type": "execute_result"
    }
   ],
   "source": [
    "number_tracks('Wednesday', 'Saint-Petersburg')# количество прослушиваний в Санкт-Петербурге по средам"
   ]
  },
  {
   "cell_type": "code",
   "execution_count": 26,
   "metadata": {
    "id": "vYDw5u_K_Zcu"
   },
   "outputs": [
    {
     "data": {
      "text/plain": [
       "15945"
      ]
     },
     "execution_count": 26,
     "metadata": {},
     "output_type": "execute_result"
    }
   ],
   "source": [
    "number_tracks('Friday', 'Moscow')# количество прослушиваний в Москве по пятницам"
   ]
  },
  {
   "cell_type": "code",
   "execution_count": 27,
   "metadata": {
    "id": "8_yzFtW3_Zcu"
   },
   "outputs": [
    {
     "data": {
      "text/plain": [
       "5895"
      ]
     },
     "execution_count": 27,
     "metadata": {},
     "output_type": "execute_result"
    }
   ],
   "source": [
    "number_tracks('Friday', 'Saint-Petersburg') # количество прослушиваний в Санкт-Петербурге по пятницам"
   ]
  },
  {
   "cell_type": "markdown",
   "metadata": {
    "id": "7QXffbO-_Zcu",
    "tags": [
     "start_task"
    ]
   },
   "source": [
    "Создам таблицу с результатами."
   ]
  },
  {
   "cell_type": "code",
   "execution_count": 28,
   "metadata": {
    "id": "APAcLpOr_Zcu"
   },
   "outputs": [],
   "source": [
    "# Таблица с результатами\n",
    "info = pd.DataFrame(data=[['Moscow', 15740, 11056, 15945], ['Saint-Petersburg', 5614, 7003, 5895]], columns=['city','monday', 'wednesday', 'friday'])\n",
    "#print(info)"
   ]
  },
  {
   "cell_type": "markdown",
   "metadata": {
    "deletable": false,
    "editable": false,
    "id": "-EgPIHYu_Zcu"
   },
   "source": [
    "**Выводы**\n",
    "\n",
    "Данные показывают разницу поведения пользователей:\n",
    "\n",
    "- В Москве пик прослушиваний приходится на понедельник и пятницу, а в среду заметен спад.\n",
    "- В Петербурге, наоборот, больше слушают музыку по средам. Активность в понедельник и пятницу здесь почти в равной мере уступает среде.\n",
    "\n",
    "Значит, данные говорят в пользу первой гипотезы."
   ]
  },
  {
   "cell_type": "markdown",
   "metadata": {
    "deletable": false,
    "editable": false,
    "id": "atZAxtq4_Zcu"
   },
   "source": [
    "### Музыка в начале и в конце недели"
   ]
  },
  {
   "cell_type": "markdown",
   "metadata": {
    "deletable": false,
    "editable": false,
    "id": "eXrQqXFH_Zcu"
   },
   "source": [
    "Согласно второй гипотезе, утром в понедельник в Москве преобладают одни жанры, а в Петербурге — другие. Так же и вечером пятницы преобладают разные жанры — в зависимости от города."
   ]
  },
  {
   "cell_type": "markdown",
   "metadata": {
    "id": "S8UcW6Hw_Zcu",
    "tags": [
     "start_task"
    ]
   },
   "source": [
    "Сохраним таблицы с данными в две переменные:\n",
    "* по Москве — в `moscow_general`;\n",
    "* по Санкт-Петербургу — в `spb_general`."
   ]
  },
  {
   "cell_type": "code",
   "execution_count": 29,
   "metadata": {
    "id": "qeaFfM_P_Zcu"
   },
   "outputs": [],
   "source": [
    "# получение таблицы moscow_general из тех строк таблицы df, \n",
    "# для которых значение в столбце 'city' равно 'Moscow'\n",
    "moscow_general = df.loc[df.loc[:, 'city'] == 'Moscow']\n",
    "# moscow_general\n"
   ]
  },
  {
   "cell_type": "code",
   "execution_count": 30,
   "metadata": {
    "id": "ORaVRKto_Zcu"
   },
   "outputs": [],
   "source": [
    "# получение таблицы spb_general из тех строк таблицы df,\n",
    "# для которых значение в столбце 'city' равно 'Saint-Petersburg'\n",
    "spb_general = df.loc[df.loc[:, 'city'] == 'Saint-Petersburg']\n",
    "#spb_general\n"
   ]
  },
  {
   "cell_type": "markdown",
   "metadata": {
    "id": "MEJV-CX2_Zcu",
    "tags": [
     "start_task"
    ]
   },
   "source": [
    "Создим функцию `genre_weekday()` с четырьмя параметрами:\n",
    "* таблица (датафрейм) с данными,\n",
    "* день недели,\n",
    "* начальная временная метка в формате 'hh:mm', \n",
    "* последняя временная метка в формате 'hh:mm'.\n",
    "\n",
    "Функция должна вернуть информацию о топ-10 жанров тех треков, которые прослушивали в указанный день, в промежутке между двумя отметками времени."
   ]
  },
  {
   "cell_type": "code",
   "execution_count": 31,
   "metadata": {
    "id": "laJT9BYl_Zcu"
   },
   "outputs": [
    {
     "name": "stdout",
     "output_type": "stream",
     "text": [
      "genre\n",
      "pop            781\n",
      "dance          549\n",
      "electronic     480\n",
      "rock           474\n",
      "hiphop         286\n",
      "ruspop         186\n",
      "world          181\n",
      "rusrap         175\n",
      "alternative    164\n",
      "unknown        161\n",
      "Name: genre, dtype: int64\n"
     ]
    }
   ],
   "source": [
    "# Объявление функции genre_weekday() с параметрами table, day, time1, time2,\n",
    "# которая возвращает информацию о самых популярных жанрах в указанный день в\n",
    "# заданное время:\n",
    "# 1) в переменную genre_df сохраняются те строки переданного датафрейма table,\n",
    "#    для которых одновременно:\n",
    "#    - значение в столбце day равно значению аргумента day\n",
    "#    - значение в столбце time больше значения аргумента time1\n",
    "#    - значение в столбце time меньше значения аргумента time2\n",
    "#    Используйте последовательную фильтрацию с помощью логической индексации.\n",
    "# 2) сгруппировать датафрейм genre_df по столбцу genre, взять один из его\n",
    "#    столбцов и посчитать методом count() количество записей для каждого из\n",
    "#    присутствующих жанров, получившийся Series записать в переменную\n",
    "#    genre_df_count\n",
    "# 3) отсортировать genre_df_count по убыванию встречаемости и сохранить\n",
    "#    в переменную genre_df_sorted\n",
    "# 4) вернуть Series из 10 первых значений genre_df_sorted, это будут топ-10\n",
    "#    популярных жанров (в указанный день, в заданное время)\n",
    "\n",
    "def genre_weekday(df, day, time1, time2):\n",
    "    # последовательная фильтрация\n",
    "    # оставляем в genre_df только те строки df, у которых день равен day\n",
    "    genre_df = df[df['day'] == day] # ваш код здесь\n",
    "    # оставляем в genre_df только те строки genre_df, у кот. время меньше time2\n",
    "    genre_df = genre_df[genre_df['time'] > time1] # ваш код здесь\n",
    "    # оставляем в genre_df только те строки genre_df, у кот. время больше time1\n",
    "    genre_df = genre_df[genre_df['time'] < time2] # ваш код здесь\n",
    "    # сгруппируем отфильтрованный датафрейм по столбцу с названиями жанров, \n",
    "    # возьмём столбец genre и посчитаем кол-во строк для каждого жанра методом \n",
    "    # count()\n",
    "    genre_df_grouped = genre_df.groupby('genre')['genre'].count() # ваш код здесь\n",
    "    # отсортируем результат по убыванию (чтобы в начале Series оказались самые\n",
    "    # популярные жанры)\n",
    "    genre_df_sorted = genre_df_grouped.sort_values(ascending=False) # ваш код здесь\n",
    "    # вернём Series с 10 самыми популярными жанрами в указанный отрезок времени\n",
    "    # заданного дня\n",
    "    return genre_df_sorted[:10]\n",
    "\n",
    "print(genre_weekday(moscow_general, 'Monday', '07:00', '11:00'))"
   ]
  },
  {
   "cell_type": "markdown",
   "metadata": {
    "id": "la2s2_PF_Zcu",
    "tags": [
     "start_task"
    ]
   },
   "source": [
    "Cравним результаты функции `genre_weekday()` для Москвы и Санкт-Петербурга в понедельник утром (с 7:00 до 11:00) и в пятницу вечером (с 17:00 до 23:00):"
   ]
  },
  {
   "cell_type": "code",
   "execution_count": 32,
   "metadata": {
    "id": "yz7itPUQ_Zcu"
   },
   "outputs": [
    {
     "data": {
      "text/plain": [
       "genre\n",
       "pop            781\n",
       "dance          549\n",
       "electronic     480\n",
       "rock           474\n",
       "hiphop         286\n",
       "ruspop         186\n",
       "world          181\n",
       "rusrap         175\n",
       "alternative    164\n",
       "unknown        161\n",
       "Name: genre, dtype: int64"
      ]
     },
     "execution_count": 32,
     "metadata": {},
     "output_type": "execute_result"
    }
   ],
   "source": [
    "# вызов функции для утра понедельника в Москве (вместо df — таблица moscow_general)\n",
    "# объекты, хранящие время, являются строками и сравниваются как строки\n",
    "# пример вызова: genre_weekday(moscow_general, 'Monday', '07:00', '11:00')\n",
    "genre_weekday(moscow_general, 'Monday', '07:00', '11:00')"
   ]
  },
  {
   "cell_type": "code",
   "execution_count": 33,
   "metadata": {
    "id": "kwUcHPdy_Zcu"
   },
   "outputs": [
    {
     "data": {
      "text/plain": [
       "genre\n",
       "pop            218\n",
       "dance          182\n",
       "rock           162\n",
       "electronic     147\n",
       "hiphop          80\n",
       "ruspop          64\n",
       "alternative     58\n",
       "rusrap          55\n",
       "jazz            44\n",
       "classical       40\n",
       "Name: genre, dtype: int64"
      ]
     },
     "execution_count": 33,
     "metadata": {},
     "output_type": "execute_result"
    }
   ],
   "source": [
    "# вызов функции для утра понедельника в Петербурге (вместо df — таблица spb_general)\n",
    "genre_weekday(spb_general, 'Monday', '07:00', '11:00')"
   ]
  },
  {
   "cell_type": "code",
   "execution_count": 34,
   "metadata": {
    "id": "EzXVRE1o_Zcu"
   },
   "outputs": [
    {
     "data": {
      "text/plain": [
       "genre\n",
       "pop            713\n",
       "rock           517\n",
       "dance          495\n",
       "electronic     482\n",
       "hiphop         273\n",
       "world          208\n",
       "ruspop         170\n",
       "alternative    163\n",
       "classical      163\n",
       "rusrap         142\n",
       "Name: genre, dtype: int64"
      ]
     },
     "execution_count": 34,
     "metadata": {},
     "output_type": "execute_result"
    }
   ],
   "source": [
    "# вызов функции для вечера пятницы в Москве\n",
    "genre_weekday(moscow_general, 'Friday', '17:00', '23:00')"
   ]
  },
  {
   "cell_type": "code",
   "execution_count": 35,
   "metadata": {
    "id": "JZaEKu5v_Zcu"
   },
   "outputs": [
    {
     "data": {
      "text/plain": [
       "genre\n",
       "pop            256\n",
       "electronic     216\n",
       "rock           216\n",
       "dance          210\n",
       "hiphop          97\n",
       "alternative     63\n",
       "jazz            61\n",
       "classical       60\n",
       "rusrap          59\n",
       "world           54\n",
       "Name: genre, dtype: int64"
      ]
     },
     "execution_count": 35,
     "metadata": {},
     "output_type": "execute_result"
    }
   ],
   "source": [
    "# вызов функции для вечера пятницы в Петербурге\n",
    "genre_weekday(spb_general, 'Friday', '17:00', '23:00')"
   ]
  },
  {
   "cell_type": "markdown",
   "metadata": {
    "deletable": false,
    "editable": false,
    "id": "wrCe4MNX_Zcu"
   },
   "source": [
    "**Выводы**\n",
    "\n",
    "Если сравнить топ-10 жанров в понедельник утром, можно сделать такие выводы:\n",
    "\n",
    "1. В Москве и Петербурге слушают похожую музыку. Единственное отличие — в московский рейтинг вошёл жанр “world”, а в петербургский — джаз и классика.\n",
    "\n",
    "2. В Москве пропущенных значений оказалось так много, что значение `'unknown'` заняло десятое место среди самых популярных жанров. Значит, пропущенные значения занимают существенную долю в данных и угрожают достоверности исследования.\n",
    "\n",
    "Вечер пятницы не меняет эту картину. Некоторые жанры поднимаются немного выше, другие спускаются, но в целом топ-10 остаётся тем же самым.\n",
    "\n",
    "Таким образом, вторая гипотеза подтвердилась лишь частично:\n",
    "* Пользователи слушают похожую музыку в начале недели и в конце.\n",
    "* Разница между Москвой и Петербургом не слишком выражена. В Москве чаще слушают русскую популярную музыку, в Петербурге — джаз.\n",
    "\n",
    "Однако пропуски в данных ставят под сомнение этот результат. В Москве их так много, что рейтинг топ-10 мог бы выглядеть иначе, если бы не утерянные  данные о жанрах."
   ]
  },
  {
   "cell_type": "markdown",
   "metadata": {
    "deletable": false,
    "editable": false,
    "id": "JolODAqr_Zcu"
   },
   "source": [
    "### Жанровые предпочтения в Москве и Петербурге\n",
    "\n",
    "Гипотеза: Петербург — столица рэпа, музыку этого жанра там слушают чаще, чем в Москве.  А Москва — город контрастов, в котором, тем не менее, преобладает поп-музыка."
   ]
  },
  {
   "cell_type": "markdown",
   "metadata": {
    "id": "DlegSvaT_Zcu",
    "tags": [
     "start_task"
    ]
   },
   "source": [
    "Сгруппируем таблицу `moscow_general` по жанру и посчитаем прослушивания треков каждого жанра. Отсортируем сохраним его в таблице `moscow_genres`."
   ]
  },
  {
   "cell_type": "code",
   "execution_count": 36,
   "metadata": {
    "id": "r19lIPke_Zcu"
   },
   "outputs": [],
   "source": [
    "# одной строкой: группировка таблицы moscow_general по столбцу 'genre', \n",
    "# подсчёт числа значений 'genre' в этой группировке методом count(), \n",
    "# сортировка получившегося Series в порядке убывания и сохранение в \n",
    "# moscow_genres\n",
    "moscow_genres = moscow_general.groupby('genre')['genre'].count().sort_values(ascending=False)"
   ]
  },
  {
   "cell_type": "code",
   "execution_count": 37,
   "metadata": {
    "id": "WhCSooF8_Zcv"
   },
   "outputs": [
    {
     "data": {
      "text/plain": [
       "genre\n",
       "pop            5892\n",
       "dance          4435\n",
       "rock           3965\n",
       "electronic     3786\n",
       "hiphop         2096\n",
       "classical      1616\n",
       "world          1432\n",
       "alternative    1379\n",
       "ruspop         1372\n",
       "rusrap         1161\n",
       "Name: genre, dtype: int64"
      ]
     },
     "execution_count": 37,
     "metadata": {},
     "output_type": "execute_result"
    }
   ],
   "source": [
    "# просмотр первых 10 строк moscow_genres\n",
    "moscow_genres.head(10)"
   ]
  },
  {
   "cell_type": "markdown",
   "metadata": {
    "id": "cnPG2vnN_Zcv",
    "tags": [
     "start_task"
    ]
   },
   "source": [
    "Повторим то же для Петербурга."
   ]
  },
  {
   "cell_type": "code",
   "execution_count": 38,
   "metadata": {
    "id": "gluLIpE7_Zcv"
   },
   "outputs": [],
   "source": [
    "# одной строкой: группировка таблицы spb_general по столбцу 'genre', \n",
    "# подсчёт числа значений 'genre' в этой группировке методом count(), \n",
    "# сортировка получившегося Series в порядке убывания и сохранение в spb_genres\n",
    "spb_genres = spb_general.groupby('genre')['genre'].count().sort_values(ascending=False)"
   ]
  },
  {
   "cell_type": "code",
   "execution_count": 39,
   "metadata": {
    "id": "uaGJHjVU_Zcv"
   },
   "outputs": [
    {
     "data": {
      "text/plain": [
       "genre\n",
       "pop            2431\n",
       "dance          1932\n",
       "rock           1879\n",
       "electronic     1736\n",
       "hiphop          960\n",
       "alternative     649\n",
       "classical       646\n",
       "rusrap          564\n",
       "ruspop          538\n",
       "world           515\n",
       "Name: genre, dtype: int64"
      ]
     },
     "execution_count": 39,
     "metadata": {},
     "output_type": "execute_result"
    }
   ],
   "source": [
    "# просмотр первых 10 строк spb_genres\n",
    "spb_genres.head(10)"
   ]
  },
  {
   "cell_type": "markdown",
   "metadata": {
    "deletable": false,
    "editable": false,
    "id": "RY51YJYu_Zcv"
   },
   "source": [
    "**Выводы**"
   ]
  },
  {
   "cell_type": "markdown",
   "metadata": {
    "deletable": false,
    "editable": false,
    "id": "nVhnJEm__Zcv"
   },
   "source": [
    "Гипотеза частично подтвердилась:\n",
    "* Поп-музыка — самый популярный жанр в Москве, как и предполагала гипотеза. Более того, в топ-10 жанров встречается близкий жанр — русская популярная музыка.\n",
    "* Вопреки ожиданиям, рэп одинаково популярен в Москве и Петербурге. \n"
   ]
  },
  {
   "cell_type": "markdown",
   "metadata": {
    "deletable": false,
    "editable": false,
    "id": "ykKQ0N65_Zcv"
   },
   "source": [
    "## Итоги исследования"
   ]
  },
  {
   "cell_type": "markdown",
   "metadata": {
    "deletable": false,
    "editable": false,
    "id": "tjUwbHb3_Zcv"
   },
   "source": [
    "Вы проверили три гипотезы и установили:\n",
    "\n",
    "1. День недели по-разному влияет на активность пользователей в Москве и Петербурге. \n",
    "\n",
    "Первая гипотеза полностью подтвердилась.\n",
    "\n",
    "2. Музыкальные предпочтения не сильно меняются в течение недели — будь то Москва или Петербург. Небольшие различия заметны в начале недели, по понедельникам:\n",
    "* в Москве слушают музыку жанра “world”,\n",
    "* в Петербурге — джаз и классику.\n",
    "\n",
    "Таким образом, вторая гипотеза подтвердилась лишь отчасти. Этот результат мог оказаться иным, если бы не пропуски в данных.\n",
    "\n",
    "3. Во вкусах пользователей Москвы и Петербурга больше общего чем различий. Вопреки ожиданиям, предпочтения жанров в Петербурге напоминают московские.\n",
    "\n",
    "Третья гипотеза не подтвердилась. Если различия в предпочтениях и существуют, на основной массе пользователей они незаметны.\n",
    "\n",
    "**На практике исследования содержат проверки статистических гипотез.**\n",
    "Из данных одного сервиса не всегда можно сделать вывод о всех жителях города.\n",
    "Проверки статистических гипотез покажут, насколько они достоверны, исходя из имеющихся данных. \n",
    "С методами проверок гипотез вы ещё познакомитесь в следующих темах."
   ]
  }
 ],
 "metadata": {
  "ExecuteTimeLog": [
   {
    "duration": 424,
    "start_time": "2022-10-24T21:26:53.926Z"
   },
   {
    "duration": 62,
    "start_time": "2022-10-24T21:29:10.223Z"
   },
   {
    "duration": 9,
    "start_time": "2022-10-24T21:29:19.136Z"
   },
   {
    "duration": 9,
    "start_time": "2022-10-24T21:30:16.917Z"
   },
   {
    "duration": 51,
    "start_time": "2022-10-24T21:31:29.313Z"
   },
   {
    "duration": 6,
    "start_time": "2022-10-24T21:31:52.264Z"
   },
   {
    "duration": 8,
    "start_time": "2022-10-24T21:31:58.282Z"
   },
   {
    "duration": 9,
    "start_time": "2022-10-24T21:33:03.253Z"
   },
   {
    "duration": 43,
    "start_time": "2022-10-25T07:31:50.010Z"
   },
   {
    "duration": 77,
    "start_time": "2022-10-25T07:32:47.253Z"
   },
   {
    "duration": 6,
    "start_time": "2022-10-25T07:34:16.955Z"
   },
   {
    "duration": 5,
    "start_time": "2022-10-25T07:35:58.994Z"
   },
   {
    "duration": 5,
    "start_time": "2022-10-25T07:39:30.975Z"
   },
   {
    "duration": 6,
    "start_time": "2022-10-25T07:40:30.869Z"
   },
   {
    "duration": 6,
    "start_time": "2022-10-25T07:42:32.899Z"
   },
   {
    "duration": 66,
    "start_time": "2022-10-25T07:43:56.619Z"
   },
   {
    "duration": 5,
    "start_time": "2022-10-25T07:44:09.175Z"
   },
   {
    "duration": 75,
    "start_time": "2022-10-25T07:44:27.202Z"
   },
   {
    "duration": 6,
    "start_time": "2022-10-25T07:45:43.565Z"
   },
   {
    "duration": 73,
    "start_time": "2022-10-25T07:51:13.372Z"
   },
   {
    "duration": 5,
    "start_time": "2022-10-25T07:58:47.853Z"
   },
   {
    "duration": 824,
    "start_time": "2022-10-25T08:12:44.293Z"
   },
   {
    "duration": 160,
    "start_time": "2022-10-25T08:16:15.606Z"
   },
   {
    "duration": 173,
    "start_time": "2022-10-25T08:17:34.996Z"
   },
   {
    "duration": 189,
    "start_time": "2022-10-25T08:35:27.218Z"
   },
   {
    "duration": 144,
    "start_time": "2022-10-25T08:36:42.913Z"
   },
   {
    "duration": 4,
    "start_time": "2022-10-25T08:38:17.969Z"
   },
   {
    "duration": 22,
    "start_time": "2022-10-25T10:39:51.555Z"
   },
   {
    "duration": 1157,
    "start_time": "2022-10-25T10:47:03.481Z"
   },
   {
    "duration": 1134,
    "start_time": "2022-10-25T10:47:24.372Z"
   },
   {
    "duration": 1060,
    "start_time": "2022-10-25T10:54:35.520Z"
   },
   {
    "duration": 1175,
    "start_time": "2022-10-25T10:56:11.540Z"
   },
   {
    "duration": 1113,
    "start_time": "2022-10-25T10:57:00.243Z"
   },
   {
    "duration": 78,
    "start_time": "2022-10-25T11:06:51.265Z"
   },
   {
    "duration": 3,
    "start_time": "2022-10-25T11:06:57.518Z"
   },
   {
    "duration": 3,
    "start_time": "2022-10-25T11:10:47.266Z"
   },
   {
    "duration": 1789,
    "start_time": "2022-10-25T11:16:57.426Z"
   },
   {
    "duration": 11,
    "start_time": "2022-10-25T11:24:27.897Z"
   },
   {
    "duration": 28,
    "start_time": "2022-10-25T11:28:50.813Z"
   },
   {
    "duration": 30,
    "start_time": "2022-10-25T11:32:07.428Z"
   },
   {
    "duration": 61,
    "start_time": "2022-10-25T11:34:13.583Z"
   },
   {
    "duration": 58,
    "start_time": "2022-10-25T11:34:49.863Z"
   },
   {
    "duration": 57,
    "start_time": "2022-10-25T11:34:52.576Z"
   },
   {
    "duration": 60,
    "start_time": "2022-10-25T11:39:25.791Z"
   },
   {
    "duration": 11,
    "start_time": "2022-10-25T11:40:51.486Z"
   },
   {
    "duration": 50,
    "start_time": "2022-10-25T11:41:01.780Z"
   },
   {
    "duration": 53,
    "start_time": "2022-10-25T11:41:08.293Z"
   },
   {
    "duration": 7,
    "start_time": "2022-10-25T11:45:00.436Z"
   },
   {
    "duration": 9,
    "start_time": "2022-10-25T11:51:15.560Z"
   },
   {
    "duration": 9,
    "start_time": "2022-10-25T11:51:34.174Z"
   },
   {
    "duration": 6,
    "start_time": "2022-10-25T11:51:42.913Z"
   },
   {
    "duration": 11,
    "start_time": "2022-10-25T11:52:41.270Z"
   },
   {
    "duration": 10,
    "start_time": "2022-10-25T11:54:09.426Z"
   },
   {
    "duration": 6,
    "start_time": "2022-10-25T11:54:19.742Z"
   },
   {
    "duration": 8,
    "start_time": "2022-10-25T11:54:23.877Z"
   },
   {
    "duration": 9,
    "start_time": "2022-10-25T11:55:59.484Z"
   },
   {
    "duration": 10,
    "start_time": "2022-10-25T11:57:07.274Z"
   },
   {
    "duration": 7,
    "start_time": "2022-10-25T11:57:31.980Z"
   },
   {
    "duration": 6,
    "start_time": "2022-10-25T11:58:45.438Z"
   },
   {
    "duration": 6,
    "start_time": "2022-10-25T11:59:00.454Z"
   },
   {
    "duration": 7,
    "start_time": "2022-10-25T11:59:15.895Z"
   },
   {
    "duration": 7,
    "start_time": "2022-10-25T12:01:36.905Z"
   },
   {
    "duration": 7,
    "start_time": "2022-10-25T12:05:14.001Z"
   },
   {
    "duration": 6,
    "start_time": "2022-10-25T12:23:11.471Z"
   },
   {
    "duration": 6,
    "start_time": "2022-10-25T12:23:13.600Z"
   },
   {
    "duration": 6,
    "start_time": "2022-10-25T12:23:42.956Z"
   },
   {
    "duration": 6,
    "start_time": "2022-10-25T12:24:09.119Z"
   },
   {
    "duration": 6,
    "start_time": "2022-10-25T12:24:22.286Z"
   },
   {
    "duration": 3,
    "start_time": "2022-10-25T12:27:40.578Z"
   },
   {
    "duration": 6,
    "start_time": "2022-10-25T12:27:44.363Z"
   },
   {
    "duration": 9,
    "start_time": "2022-10-25T12:28:42.734Z"
   },
   {
    "duration": 8,
    "start_time": "2022-10-25T12:29:27.443Z"
   },
   {
    "duration": 6,
    "start_time": "2022-10-25T12:29:53.616Z"
   },
   {
    "duration": 7,
    "start_time": "2022-10-25T13:12:05.803Z"
   },
   {
    "duration": 6,
    "start_time": "2022-10-25T13:17:14.105Z"
   },
   {
    "duration": 2,
    "start_time": "2022-10-25T13:17:53.269Z"
   },
   {
    "duration": 155,
    "start_time": "2022-10-25T13:17:53.273Z"
   },
   {
    "duration": 10,
    "start_time": "2022-10-25T13:17:53.430Z"
   },
   {
    "duration": 36,
    "start_time": "2022-10-25T13:17:53.442Z"
   },
   {
    "duration": 3,
    "start_time": "2022-10-25T13:17:53.479Z"
   },
   {
    "duration": 24,
    "start_time": "2022-10-25T13:17:53.483Z"
   },
   {
    "duration": 16,
    "start_time": "2022-10-25T13:17:53.509Z"
   },
   {
    "duration": 11,
    "start_time": "2022-10-25T13:17:53.527Z"
   },
   {
    "duration": 26,
    "start_time": "2022-10-25T13:17:53.540Z"
   },
   {
    "duration": 62,
    "start_time": "2022-10-25T13:17:53.567Z"
   },
   {
    "duration": 21,
    "start_time": "2022-10-25T13:17:53.631Z"
   },
   {
    "duration": 67,
    "start_time": "2022-10-25T13:17:53.654Z"
   },
   {
    "duration": 69,
    "start_time": "2022-10-25T13:17:53.723Z"
   },
   {
    "duration": 55,
    "start_time": "2022-10-25T13:17:53.804Z"
   },
   {
    "duration": 6,
    "start_time": "2022-10-25T13:17:56.480Z"
   },
   {
    "duration": 9,
    "start_time": "2022-10-25T13:20:31.956Z"
   },
   {
    "duration": 39,
    "start_time": "2022-10-25T13:24:12.372Z"
   },
   {
    "duration": 38,
    "start_time": "2022-10-25T13:24:14.863Z"
   },
   {
    "duration": 37,
    "start_time": "2022-10-25T13:25:08.138Z"
   },
   {
    "duration": 39,
    "start_time": "2022-10-25T13:25:11.816Z"
   },
   {
    "duration": 6,
    "start_time": "2022-10-25T13:25:24.135Z"
   },
   {
    "duration": 2,
    "start_time": "2022-10-25T13:33:19.649Z"
   },
   {
    "duration": 143,
    "start_time": "2022-10-25T13:33:19.656Z"
   },
   {
    "duration": 11,
    "start_time": "2022-10-25T13:33:19.801Z"
   },
   {
    "duration": 27,
    "start_time": "2022-10-25T13:33:19.813Z"
   },
   {
    "duration": 3,
    "start_time": "2022-10-25T13:33:19.842Z"
   },
   {
    "duration": 7,
    "start_time": "2022-10-25T13:33:19.846Z"
   },
   {
    "duration": 10,
    "start_time": "2022-10-25T13:33:19.855Z"
   },
   {
    "duration": 3,
    "start_time": "2022-10-25T13:33:19.867Z"
   },
   {
    "duration": 51,
    "start_time": "2022-10-25T13:33:19.871Z"
   },
   {
    "duration": 1082,
    "start_time": "2022-10-25T13:33:22.451Z"
   },
   {
    "duration": 0,
    "start_time": "2022-10-25T13:33:23.536Z"
   },
   {
    "duration": 0,
    "start_time": "2022-10-25T13:33:23.537Z"
   },
   {
    "duration": 0,
    "start_time": "2022-10-25T13:33:23.538Z"
   },
   {
    "duration": 0,
    "start_time": "2022-10-25T13:33:23.540Z"
   },
   {
    "duration": 0,
    "start_time": "2022-10-25T13:33:23.542Z"
   },
   {
    "duration": 0,
    "start_time": "2022-10-25T13:33:23.543Z"
   },
   {
    "duration": 0,
    "start_time": "2022-10-25T13:33:23.544Z"
   },
   {
    "duration": 0,
    "start_time": "2022-10-25T13:33:23.545Z"
   },
   {
    "duration": 0,
    "start_time": "2022-10-25T13:33:23.547Z"
   },
   {
    "duration": 0,
    "start_time": "2022-10-25T13:33:23.548Z"
   },
   {
    "duration": 0,
    "start_time": "2022-10-25T13:33:23.550Z"
   },
   {
    "duration": 0,
    "start_time": "2022-10-25T13:33:23.551Z"
   },
   {
    "duration": 0,
    "start_time": "2022-10-25T13:33:23.551Z"
   },
   {
    "duration": 0,
    "start_time": "2022-10-25T13:33:23.552Z"
   },
   {
    "duration": 0,
    "start_time": "2022-10-25T13:33:23.553Z"
   },
   {
    "duration": 0,
    "start_time": "2022-10-25T13:33:23.554Z"
   },
   {
    "duration": 0,
    "start_time": "2022-10-25T13:33:23.555Z"
   },
   {
    "duration": 0,
    "start_time": "2022-10-25T13:33:23.556Z"
   },
   {
    "duration": 1,
    "start_time": "2022-10-25T13:33:23.556Z"
   },
   {
    "duration": 0,
    "start_time": "2022-10-25T13:33:23.557Z"
   },
   {
    "duration": 0,
    "start_time": "2022-10-25T13:33:23.558Z"
   },
   {
    "duration": 0,
    "start_time": "2022-10-25T13:33:23.559Z"
   },
   {
    "duration": 0,
    "start_time": "2022-10-25T13:33:23.560Z"
   },
   {
    "duration": 0,
    "start_time": "2022-10-25T13:33:23.561Z"
   },
   {
    "duration": 0,
    "start_time": "2022-10-25T13:33:23.561Z"
   },
   {
    "duration": 0,
    "start_time": "2022-10-25T13:33:23.562Z"
   },
   {
    "duration": 0,
    "start_time": "2022-10-25T13:33:23.563Z"
   },
   {
    "duration": 0,
    "start_time": "2022-10-25T13:33:23.564Z"
   },
   {
    "duration": 7,
    "start_time": "2022-10-25T13:33:32.982Z"
   },
   {
    "duration": 2,
    "start_time": "2022-10-25T13:34:42.687Z"
   },
   {
    "duration": 163,
    "start_time": "2022-10-25T13:34:42.694Z"
   },
   {
    "duration": 10,
    "start_time": "2022-10-25T13:34:42.859Z"
   },
   {
    "duration": 44,
    "start_time": "2022-10-25T13:34:42.871Z"
   },
   {
    "duration": 2,
    "start_time": "2022-10-25T13:34:42.917Z"
   },
   {
    "duration": 6,
    "start_time": "2022-10-25T13:34:42.920Z"
   },
   {
    "duration": 10,
    "start_time": "2022-10-25T13:34:42.927Z"
   },
   {
    "duration": 3,
    "start_time": "2022-10-25T13:34:42.939Z"
   },
   {
    "duration": 24,
    "start_time": "2022-10-25T13:34:42.943Z"
   },
   {
    "duration": 48,
    "start_time": "2022-10-25T13:34:42.968Z"
   },
   {
    "duration": 22,
    "start_time": "2022-10-25T13:34:43.018Z"
   },
   {
    "duration": 76,
    "start_time": "2022-10-25T13:34:43.042Z"
   },
   {
    "duration": 69,
    "start_time": "2022-10-25T13:34:43.120Z"
   },
   {
    "duration": 52,
    "start_time": "2022-10-25T13:34:43.204Z"
   },
   {
    "duration": 6,
    "start_time": "2022-10-25T13:34:43.257Z"
   },
   {
    "duration": 0,
    "start_time": "2022-10-25T13:34:43.265Z"
   },
   {
    "duration": 0,
    "start_time": "2022-10-25T13:34:43.266Z"
   },
   {
    "duration": 0,
    "start_time": "2022-10-25T13:34:43.267Z"
   },
   {
    "duration": 0,
    "start_time": "2022-10-25T13:34:43.268Z"
   },
   {
    "duration": 0,
    "start_time": "2022-10-25T13:34:43.269Z"
   },
   {
    "duration": 0,
    "start_time": "2022-10-25T13:34:43.270Z"
   },
   {
    "duration": 0,
    "start_time": "2022-10-25T13:34:43.271Z"
   },
   {
    "duration": 0,
    "start_time": "2022-10-25T13:34:43.272Z"
   },
   {
    "duration": 0,
    "start_time": "2022-10-25T13:34:43.273Z"
   },
   {
    "duration": 0,
    "start_time": "2022-10-25T13:34:43.274Z"
   },
   {
    "duration": 0,
    "start_time": "2022-10-25T13:34:43.306Z"
   },
   {
    "duration": 0,
    "start_time": "2022-10-25T13:34:43.307Z"
   },
   {
    "duration": 0,
    "start_time": "2022-10-25T13:34:43.307Z"
   },
   {
    "duration": 0,
    "start_time": "2022-10-25T13:34:43.309Z"
   },
   {
    "duration": 0,
    "start_time": "2022-10-25T13:34:43.310Z"
   },
   {
    "duration": 0,
    "start_time": "2022-10-25T13:34:43.311Z"
   },
   {
    "duration": 0,
    "start_time": "2022-10-25T13:34:43.312Z"
   },
   {
    "duration": 0,
    "start_time": "2022-10-25T13:34:43.313Z"
   },
   {
    "duration": 0,
    "start_time": "2022-10-25T13:34:43.314Z"
   },
   {
    "duration": 0,
    "start_time": "2022-10-25T13:34:43.315Z"
   },
   {
    "duration": 0,
    "start_time": "2022-10-25T13:34:43.316Z"
   },
   {
    "duration": 0,
    "start_time": "2022-10-25T13:34:43.317Z"
   },
   {
    "duration": 0,
    "start_time": "2022-10-25T13:34:43.318Z"
   },
   {
    "duration": 10,
    "start_time": "2022-10-25T13:35:37.470Z"
   },
   {
    "duration": 32,
    "start_time": "2022-10-25T13:37:12.518Z"
   },
   {
    "duration": 46,
    "start_time": "2022-10-25T16:31:47.217Z"
   },
   {
    "duration": 413,
    "start_time": "2022-10-25T16:32:16.097Z"
   },
   {
    "duration": 232,
    "start_time": "2022-10-25T16:32:16.513Z"
   },
   {
    "duration": 17,
    "start_time": "2022-10-25T16:32:16.747Z"
   },
   {
    "duration": 30,
    "start_time": "2022-10-25T16:32:16.766Z"
   },
   {
    "duration": 3,
    "start_time": "2022-10-25T16:32:16.797Z"
   },
   {
    "duration": 6,
    "start_time": "2022-10-25T16:32:16.801Z"
   },
   {
    "duration": 27,
    "start_time": "2022-10-25T16:32:16.809Z"
   },
   {
    "duration": 7,
    "start_time": "2022-10-25T16:32:16.838Z"
   },
   {
    "duration": 32,
    "start_time": "2022-10-25T16:32:16.846Z"
   },
   {
    "duration": 16,
    "start_time": "2022-10-25T16:32:16.881Z"
   },
   {
    "duration": 36,
    "start_time": "2022-10-25T16:32:16.899Z"
   },
   {
    "duration": 62,
    "start_time": "2022-10-25T16:32:16.937Z"
   },
   {
    "duration": 95,
    "start_time": "2022-10-25T16:32:17.001Z"
   },
   {
    "duration": 63,
    "start_time": "2022-10-25T16:32:17.097Z"
   },
   {
    "duration": 41,
    "start_time": "2022-10-25T16:32:17.162Z"
   },
   {
    "duration": 29,
    "start_time": "2022-10-25T16:32:17.205Z"
   },
   {
    "duration": 2,
    "start_time": "2022-10-25T16:32:17.236Z"
   },
   {
    "duration": 5,
    "start_time": "2022-10-25T16:32:17.240Z"
   },
   {
    "duration": 7,
    "start_time": "2022-10-25T16:32:17.246Z"
   },
   {
    "duration": 8,
    "start_time": "2022-10-25T16:32:17.254Z"
   },
   {
    "duration": 7,
    "start_time": "2022-10-25T16:32:17.263Z"
   },
   {
    "duration": 10,
    "start_time": "2022-10-25T16:32:17.271Z"
   },
   {
    "duration": 7,
    "start_time": "2022-10-25T16:32:17.282Z"
   },
   {
    "duration": 5,
    "start_time": "2022-10-25T16:32:17.290Z"
   },
   {
    "duration": 10,
    "start_time": "2022-10-25T16:32:17.296Z"
   },
   {
    "duration": 4,
    "start_time": "2022-10-25T16:32:17.308Z"
   },
   {
    "duration": 9,
    "start_time": "2022-10-25T16:32:17.313Z"
   },
   {
    "duration": 9,
    "start_time": "2022-10-25T16:32:17.325Z"
   },
   {
    "duration": 8,
    "start_time": "2022-10-25T16:32:17.336Z"
   },
   {
    "duration": 199,
    "start_time": "2022-10-25T16:32:17.346Z"
   },
   {
    "duration": 0,
    "start_time": "2022-10-25T16:32:17.547Z"
   },
   {
    "duration": 0,
    "start_time": "2022-10-25T16:32:17.549Z"
   },
   {
    "duration": 0,
    "start_time": "2022-10-25T16:32:17.550Z"
   },
   {
    "duration": 0,
    "start_time": "2022-10-25T16:32:17.551Z"
   },
   {
    "duration": 0,
    "start_time": "2022-10-25T16:32:17.553Z"
   },
   {
    "duration": 0,
    "start_time": "2022-10-25T16:32:17.553Z"
   },
   {
    "duration": 0,
    "start_time": "2022-10-25T16:32:17.554Z"
   },
   {
    "duration": 0,
    "start_time": "2022-10-25T16:32:17.555Z"
   },
   {
    "duration": 3,
    "start_time": "2022-10-25T16:41:15.723Z"
   },
   {
    "duration": 9,
    "start_time": "2022-10-25T17:21:13.849Z"
   },
   {
    "duration": 40,
    "start_time": "2022-10-25T17:23:20.761Z"
   },
   {
    "duration": 2,
    "start_time": "2022-10-25T17:31:20.573Z"
   },
   {
    "duration": 195,
    "start_time": "2022-10-25T17:31:20.577Z"
   },
   {
    "duration": 11,
    "start_time": "2022-10-25T17:31:20.773Z"
   },
   {
    "duration": 39,
    "start_time": "2022-10-25T17:31:20.786Z"
   },
   {
    "duration": 2,
    "start_time": "2022-10-25T17:31:20.834Z"
   },
   {
    "duration": 7,
    "start_time": "2022-10-25T17:31:20.838Z"
   },
   {
    "duration": 14,
    "start_time": "2022-10-25T17:31:20.846Z"
   },
   {
    "duration": 7,
    "start_time": "2022-10-25T17:31:20.861Z"
   },
   {
    "duration": 27,
    "start_time": "2022-10-25T17:31:20.870Z"
   },
   {
    "duration": 36,
    "start_time": "2022-10-25T17:31:20.899Z"
   },
   {
    "duration": 26,
    "start_time": "2022-10-25T17:31:20.939Z"
   },
   {
    "duration": 78,
    "start_time": "2022-10-25T17:31:20.966Z"
   },
   {
    "duration": 70,
    "start_time": "2022-10-25T17:31:21.045Z"
   },
   {
    "duration": 64,
    "start_time": "2022-10-25T17:31:21.116Z"
   },
   {
    "duration": 52,
    "start_time": "2022-10-25T17:31:21.182Z"
   },
   {
    "duration": 9,
    "start_time": "2022-10-25T17:31:21.236Z"
   },
   {
    "duration": 41,
    "start_time": "2022-10-25T17:31:21.246Z"
   },
   {
    "duration": 2,
    "start_time": "2022-10-25T17:31:21.289Z"
   },
   {
    "duration": 8,
    "start_time": "2022-10-25T17:31:21.292Z"
   },
   {
    "duration": 7,
    "start_time": "2022-10-25T17:31:21.301Z"
   },
   {
    "duration": 15,
    "start_time": "2022-10-25T17:31:21.309Z"
   },
   {
    "duration": 7,
    "start_time": "2022-10-25T17:31:21.326Z"
   },
   {
    "duration": 7,
    "start_time": "2022-10-25T17:31:21.335Z"
   },
   {
    "duration": 18,
    "start_time": "2022-10-25T17:31:21.343Z"
   },
   {
    "duration": 17,
    "start_time": "2022-10-25T17:31:21.363Z"
   },
   {
    "duration": 7,
    "start_time": "2022-10-25T17:31:21.382Z"
   },
   {
    "duration": 12,
    "start_time": "2022-10-25T17:31:21.391Z"
   },
   {
    "duration": 7,
    "start_time": "2022-10-25T17:31:21.404Z"
   },
   {
    "duration": 5,
    "start_time": "2022-10-25T17:31:21.414Z"
   },
   {
    "duration": 51,
    "start_time": "2022-10-25T17:31:21.420Z"
   },
   {
    "duration": 0,
    "start_time": "2022-10-25T17:31:21.472Z"
   },
   {
    "duration": 0,
    "start_time": "2022-10-25T17:31:21.474Z"
   },
   {
    "duration": 1,
    "start_time": "2022-10-25T17:31:21.475Z"
   },
   {
    "duration": 0,
    "start_time": "2022-10-25T17:31:21.476Z"
   },
   {
    "duration": 0,
    "start_time": "2022-10-25T17:31:21.477Z"
   },
   {
    "duration": 0,
    "start_time": "2022-10-25T17:31:21.478Z"
   },
   {
    "duration": 0,
    "start_time": "2022-10-25T17:31:21.480Z"
   },
   {
    "duration": 0,
    "start_time": "2022-10-25T17:31:21.481Z"
   },
   {
    "duration": 32,
    "start_time": "2022-10-25T17:42:49.812Z"
   },
   {
    "duration": 9,
    "start_time": "2022-10-25T17:45:08.550Z"
   },
   {
    "duration": 35,
    "start_time": "2022-10-25T17:47:34.597Z"
   },
   {
    "duration": 3,
    "start_time": "2022-10-25T18:18:50.609Z"
   },
   {
    "duration": 179,
    "start_time": "2022-10-25T18:18:50.614Z"
   },
   {
    "duration": 10,
    "start_time": "2022-10-25T18:18:50.795Z"
   },
   {
    "duration": 49,
    "start_time": "2022-10-25T18:18:50.807Z"
   },
   {
    "duration": 4,
    "start_time": "2022-10-25T18:18:50.858Z"
   },
   {
    "duration": 12,
    "start_time": "2022-10-25T18:18:50.864Z"
   },
   {
    "duration": 19,
    "start_time": "2022-10-25T18:18:50.878Z"
   },
   {
    "duration": 21,
    "start_time": "2022-10-25T18:18:50.900Z"
   },
   {
    "duration": 46,
    "start_time": "2022-10-25T18:18:50.922Z"
   },
   {
    "duration": 18,
    "start_time": "2022-10-25T18:18:50.970Z"
   },
   {
    "duration": 24,
    "start_time": "2022-10-25T18:18:50.991Z"
   },
   {
    "duration": 78,
    "start_time": "2022-10-25T18:18:51.017Z"
   },
   {
    "duration": 80,
    "start_time": "2022-10-25T18:18:51.097Z"
   },
   {
    "duration": 62,
    "start_time": "2022-10-25T18:18:51.178Z"
   },
   {
    "duration": 38,
    "start_time": "2022-10-25T18:18:51.242Z"
   },
   {
    "duration": 9,
    "start_time": "2022-10-25T18:18:51.282Z"
   },
   {
    "duration": 59,
    "start_time": "2022-10-25T18:18:51.293Z"
   },
   {
    "duration": 33,
    "start_time": "2022-10-25T18:18:51.354Z"
   },
   {
    "duration": 3,
    "start_time": "2022-10-25T18:18:51.388Z"
   },
   {
    "duration": 6,
    "start_time": "2022-10-25T18:18:51.392Z"
   },
   {
    "duration": 6,
    "start_time": "2022-10-25T18:18:51.399Z"
   },
   {
    "duration": 8,
    "start_time": "2022-10-25T18:18:51.406Z"
   },
   {
    "duration": 3,
    "start_time": "2022-10-25T18:18:51.433Z"
   },
   {
    "duration": 6,
    "start_time": "2022-10-25T18:18:51.437Z"
   },
   {
    "duration": 8,
    "start_time": "2022-10-25T18:18:51.445Z"
   },
   {
    "duration": 8,
    "start_time": "2022-10-25T18:18:51.454Z"
   },
   {
    "duration": 10,
    "start_time": "2022-10-25T18:18:51.464Z"
   },
   {
    "duration": 7,
    "start_time": "2022-10-25T18:18:51.475Z"
   },
   {
    "duration": 3,
    "start_time": "2022-10-25T18:18:51.485Z"
   },
   {
    "duration": 43,
    "start_time": "2022-10-25T18:18:51.490Z"
   },
   {
    "duration": 0,
    "start_time": "2022-10-25T18:18:51.534Z"
   },
   {
    "duration": 0,
    "start_time": "2022-10-25T18:18:51.536Z"
   },
   {
    "duration": 0,
    "start_time": "2022-10-25T18:18:51.537Z"
   },
   {
    "duration": 0,
    "start_time": "2022-10-25T18:18:51.539Z"
   },
   {
    "duration": 0,
    "start_time": "2022-10-25T18:18:51.540Z"
   },
   {
    "duration": 0,
    "start_time": "2022-10-25T18:18:51.541Z"
   },
   {
    "duration": 0,
    "start_time": "2022-10-25T18:18:51.543Z"
   },
   {
    "duration": 0,
    "start_time": "2022-10-25T18:18:51.545Z"
   },
   {
    "duration": 12,
    "start_time": "2022-10-25T18:21:45.329Z"
   },
   {
    "duration": 12,
    "start_time": "2022-10-25T18:27:31.140Z"
   },
   {
    "duration": 11,
    "start_time": "2022-10-25T18:28:50.310Z"
   },
   {
    "duration": 53,
    "start_time": "2022-10-26T12:10:30.824Z"
   },
   {
    "duration": 4,
    "start_time": "2022-10-26T12:12:00.119Z"
   },
   {
    "duration": 371,
    "start_time": "2022-10-26T12:28:05.647Z"
   },
   {
    "duration": 216,
    "start_time": "2022-10-26T12:28:06.021Z"
   },
   {
    "duration": 18,
    "start_time": "2022-10-26T12:28:06.239Z"
   },
   {
    "duration": 34,
    "start_time": "2022-10-26T12:28:06.258Z"
   },
   {
    "duration": 36,
    "start_time": "2022-10-26T12:28:06.294Z"
   },
   {
    "duration": 38,
    "start_time": "2022-10-26T12:28:06.331Z"
   },
   {
    "duration": 30,
    "start_time": "2022-10-26T12:28:06.371Z"
   },
   {
    "duration": 17,
    "start_time": "2022-10-26T12:28:06.403Z"
   },
   {
    "duration": 52,
    "start_time": "2022-10-26T12:28:06.422Z"
   },
   {
    "duration": 27,
    "start_time": "2022-10-26T12:28:06.476Z"
   },
   {
    "duration": 27,
    "start_time": "2022-10-26T12:28:06.504Z"
   },
   {
    "duration": 83,
    "start_time": "2022-10-26T12:28:06.532Z"
   },
   {
    "duration": 71,
    "start_time": "2022-10-26T12:28:06.617Z"
   },
   {
    "duration": 66,
    "start_time": "2022-10-26T12:28:06.693Z"
   },
   {
    "duration": 33,
    "start_time": "2022-10-26T12:28:06.760Z"
   },
   {
    "duration": 26,
    "start_time": "2022-10-26T12:28:06.794Z"
   },
   {
    "duration": 36,
    "start_time": "2022-10-26T12:28:06.822Z"
   },
   {
    "duration": 11,
    "start_time": "2022-10-26T12:28:06.860Z"
   },
   {
    "duration": 50,
    "start_time": "2022-10-26T12:28:06.873Z"
   },
   {
    "duration": 30,
    "start_time": "2022-10-26T12:28:06.925Z"
   },
   {
    "duration": 94,
    "start_time": "2022-10-26T12:28:06.956Z"
   },
   {
    "duration": 0,
    "start_time": "2022-10-26T12:28:07.051Z"
   },
   {
    "duration": 0,
    "start_time": "2022-10-26T12:28:07.053Z"
   },
   {
    "duration": 0,
    "start_time": "2022-10-26T12:28:07.054Z"
   },
   {
    "duration": 0,
    "start_time": "2022-10-26T12:28:07.055Z"
   },
   {
    "duration": 0,
    "start_time": "2022-10-26T12:28:07.057Z"
   },
   {
    "duration": 0,
    "start_time": "2022-10-26T12:28:07.058Z"
   },
   {
    "duration": 0,
    "start_time": "2022-10-26T12:28:07.059Z"
   },
   {
    "duration": 0,
    "start_time": "2022-10-26T12:28:07.060Z"
   },
   {
    "duration": 0,
    "start_time": "2022-10-26T12:28:07.062Z"
   },
   {
    "duration": 0,
    "start_time": "2022-10-26T12:28:07.063Z"
   },
   {
    "duration": 0,
    "start_time": "2022-10-26T12:28:07.064Z"
   },
   {
    "duration": 0,
    "start_time": "2022-10-26T12:28:07.065Z"
   },
   {
    "duration": 0,
    "start_time": "2022-10-26T12:28:07.067Z"
   },
   {
    "duration": 0,
    "start_time": "2022-10-26T12:28:07.068Z"
   },
   {
    "duration": 0,
    "start_time": "2022-10-26T12:28:07.069Z"
   },
   {
    "duration": 0,
    "start_time": "2022-10-26T12:28:07.070Z"
   },
   {
    "duration": 0,
    "start_time": "2022-10-26T12:28:07.071Z"
   },
   {
    "duration": 7,
    "start_time": "2022-10-26T12:29:35.930Z"
   },
   {
    "duration": 7,
    "start_time": "2022-10-26T12:29:39.113Z"
   },
   {
    "duration": 2,
    "start_time": "2022-10-26T12:29:46.466Z"
   },
   {
    "duration": 174,
    "start_time": "2022-10-26T12:29:46.470Z"
   },
   {
    "duration": 12,
    "start_time": "2022-10-26T12:29:46.646Z"
   },
   {
    "duration": 35,
    "start_time": "2022-10-26T12:29:46.659Z"
   },
   {
    "duration": 12,
    "start_time": "2022-10-26T12:29:46.697Z"
   },
   {
    "duration": 12,
    "start_time": "2022-10-26T12:29:46.711Z"
   },
   {
    "duration": 25,
    "start_time": "2022-10-26T12:29:46.724Z"
   },
   {
    "duration": 21,
    "start_time": "2022-10-26T12:29:46.751Z"
   },
   {
    "duration": 33,
    "start_time": "2022-10-26T12:29:46.773Z"
   },
   {
    "duration": 40,
    "start_time": "2022-10-26T12:29:46.808Z"
   },
   {
    "duration": 26,
    "start_time": "2022-10-26T12:29:46.851Z"
   },
   {
    "duration": 71,
    "start_time": "2022-10-26T12:29:46.878Z"
   },
   {
    "duration": 72,
    "start_time": "2022-10-26T12:29:46.951Z"
   },
   {
    "duration": 55,
    "start_time": "2022-10-26T12:29:47.025Z"
   },
   {
    "duration": 43,
    "start_time": "2022-10-26T12:29:47.081Z"
   },
   {
    "duration": 27,
    "start_time": "2022-10-26T12:29:47.126Z"
   },
   {
    "duration": 40,
    "start_time": "2022-10-26T12:29:47.154Z"
   },
   {
    "duration": 12,
    "start_time": "2022-10-26T12:29:47.195Z"
   },
   {
    "duration": 19,
    "start_time": "2022-10-26T12:29:47.208Z"
   },
   {
    "duration": 6,
    "start_time": "2022-10-26T12:29:47.229Z"
   },
   {
    "duration": 26,
    "start_time": "2022-10-26T12:29:47.236Z"
   },
   {
    "duration": 0,
    "start_time": "2022-10-26T12:29:47.264Z"
   },
   {
    "duration": 0,
    "start_time": "2022-10-26T12:29:47.265Z"
   },
   {
    "duration": 0,
    "start_time": "2022-10-26T12:29:47.266Z"
   },
   {
    "duration": 0,
    "start_time": "2022-10-26T12:29:47.267Z"
   },
   {
    "duration": 0,
    "start_time": "2022-10-26T12:29:47.268Z"
   },
   {
    "duration": 0,
    "start_time": "2022-10-26T12:29:47.269Z"
   },
   {
    "duration": 0,
    "start_time": "2022-10-26T12:29:47.270Z"
   },
   {
    "duration": 0,
    "start_time": "2022-10-26T12:29:47.271Z"
   },
   {
    "duration": 0,
    "start_time": "2022-10-26T12:29:47.272Z"
   },
   {
    "duration": 0,
    "start_time": "2022-10-26T12:29:47.273Z"
   },
   {
    "duration": 0,
    "start_time": "2022-10-26T12:29:47.274Z"
   },
   {
    "duration": 0,
    "start_time": "2022-10-26T12:29:47.275Z"
   },
   {
    "duration": 0,
    "start_time": "2022-10-26T12:29:47.276Z"
   },
   {
    "duration": 0,
    "start_time": "2022-10-26T12:29:47.277Z"
   },
   {
    "duration": 0,
    "start_time": "2022-10-26T12:29:47.278Z"
   },
   {
    "duration": 0,
    "start_time": "2022-10-26T12:29:47.279Z"
   },
   {
    "duration": 0,
    "start_time": "2022-10-26T12:29:47.280Z"
   },
   {
    "duration": 10,
    "start_time": "2022-10-26T12:30:08.001Z"
   },
   {
    "duration": 6,
    "start_time": "2022-10-26T12:40:23.301Z"
   },
   {
    "duration": 7,
    "start_time": "2022-10-26T12:40:26.627Z"
   },
   {
    "duration": 7,
    "start_time": "2022-10-26T12:40:51.186Z"
   },
   {
    "duration": 7,
    "start_time": "2022-10-26T12:41:34.092Z"
   },
   {
    "duration": 7,
    "start_time": "2022-10-26T12:47:49.865Z"
   },
   {
    "duration": 8,
    "start_time": "2022-10-26T12:48:20.471Z"
   },
   {
    "duration": 7,
    "start_time": "2022-10-26T12:51:51.908Z"
   },
   {
    "duration": 8,
    "start_time": "2022-10-26T12:52:33.603Z"
   },
   {
    "duration": 3,
    "start_time": "2022-10-26T12:53:51.687Z"
   },
   {
    "duration": 194,
    "start_time": "2022-10-26T12:53:51.693Z"
   },
   {
    "duration": 10,
    "start_time": "2022-10-26T12:53:51.890Z"
   },
   {
    "duration": 44,
    "start_time": "2022-10-26T12:53:51.901Z"
   },
   {
    "duration": 2,
    "start_time": "2022-10-26T12:53:51.947Z"
   },
   {
    "duration": 6,
    "start_time": "2022-10-26T12:53:51.951Z"
   },
   {
    "duration": 24,
    "start_time": "2022-10-26T12:53:51.958Z"
   },
   {
    "duration": 19,
    "start_time": "2022-10-26T12:53:51.984Z"
   },
   {
    "duration": 29,
    "start_time": "2022-10-26T12:53:52.004Z"
   },
   {
    "duration": 35,
    "start_time": "2022-10-26T12:53:52.034Z"
   },
   {
    "duration": 23,
    "start_time": "2022-10-26T12:53:52.071Z"
   },
   {
    "duration": 62,
    "start_time": "2022-10-26T12:53:52.095Z"
   },
   {
    "duration": 71,
    "start_time": "2022-10-26T12:53:52.159Z"
   },
   {
    "duration": 57,
    "start_time": "2022-10-26T12:53:52.232Z"
   },
   {
    "duration": 48,
    "start_time": "2022-10-26T12:53:52.291Z"
   },
   {
    "duration": 9,
    "start_time": "2022-10-26T12:53:52.341Z"
   },
   {
    "duration": 35,
    "start_time": "2022-10-26T12:53:52.351Z"
   },
   {
    "duration": 13,
    "start_time": "2022-10-26T12:53:52.387Z"
   },
   {
    "duration": 10,
    "start_time": "2022-10-26T12:53:52.421Z"
   },
   {
    "duration": 4,
    "start_time": "2022-10-26T12:53:52.432Z"
   },
   {
    "duration": 21,
    "start_time": "2022-10-26T12:53:52.437Z"
   },
   {
    "duration": 17,
    "start_time": "2022-10-26T12:53:52.460Z"
   },
   {
    "duration": 11,
    "start_time": "2022-10-26T12:53:52.478Z"
   },
   {
    "duration": 13,
    "start_time": "2022-10-26T12:53:52.491Z"
   },
   {
    "duration": 17,
    "start_time": "2022-10-26T12:53:52.506Z"
   },
   {
    "duration": 13,
    "start_time": "2022-10-26T12:53:52.524Z"
   },
   {
    "duration": 9,
    "start_time": "2022-10-26T12:53:52.539Z"
   },
   {
    "duration": 10,
    "start_time": "2022-10-26T12:53:52.549Z"
   },
   {
    "duration": 12,
    "start_time": "2022-10-26T12:53:52.562Z"
   },
   {
    "duration": 38,
    "start_time": "2022-10-26T12:53:52.576Z"
   },
   {
    "duration": 0,
    "start_time": "2022-10-26T12:53:52.615Z"
   },
   {
    "duration": 0,
    "start_time": "2022-10-26T12:53:52.617Z"
   },
   {
    "duration": 0,
    "start_time": "2022-10-26T12:53:52.618Z"
   },
   {
    "duration": 0,
    "start_time": "2022-10-26T12:53:52.619Z"
   },
   {
    "duration": 0,
    "start_time": "2022-10-26T12:53:52.621Z"
   },
   {
    "duration": 0,
    "start_time": "2022-10-26T12:53:52.622Z"
   },
   {
    "duration": 0,
    "start_time": "2022-10-26T12:53:52.623Z"
   },
   {
    "duration": 0,
    "start_time": "2022-10-26T12:53:52.624Z"
   },
   {
    "duration": 7,
    "start_time": "2022-10-26T12:55:11.126Z"
   },
   {
    "duration": 8,
    "start_time": "2022-10-26T12:59:08.023Z"
   },
   {
    "duration": 4,
    "start_time": "2022-10-26T13:22:44.427Z"
   },
   {
    "duration": 9,
    "start_time": "2022-10-26T13:26:19.015Z"
   },
   {
    "duration": 8,
    "start_time": "2022-10-26T13:26:50.021Z"
   },
   {
    "duration": 7,
    "start_time": "2022-10-26T13:27:13.300Z"
   },
   {
    "duration": 5,
    "start_time": "2022-10-26T13:47:19.823Z"
   },
   {
    "duration": 9,
    "start_time": "2022-10-26T13:47:36.155Z"
   },
   {
    "duration": 4,
    "start_time": "2022-10-26T13:49:26.064Z"
   },
   {
    "duration": 16,
    "start_time": "2022-10-26T13:49:26.070Z"
   },
   {
    "duration": 13,
    "start_time": "2022-10-26T13:49:26.088Z"
   },
   {
    "duration": 15,
    "start_time": "2022-10-26T13:49:26.102Z"
   },
   {
    "duration": 14,
    "start_time": "2022-10-26T13:49:26.119Z"
   },
   {
    "duration": 28,
    "start_time": "2022-10-26T13:49:26.135Z"
   },
   {
    "duration": 20,
    "start_time": "2022-10-26T13:49:26.165Z"
   },
   {
    "duration": 6,
    "start_time": "2022-10-26T13:49:26.186Z"
   },
   {
    "duration": 16,
    "start_time": "2022-10-26T13:49:26.193Z"
   },
   {
    "duration": 11,
    "start_time": "2022-10-26T13:49:26.210Z"
   },
   {
    "duration": 48,
    "start_time": "2022-10-26T13:49:26.223Z"
   },
   {
    "duration": 0,
    "start_time": "2022-10-26T13:49:26.273Z"
   },
   {
    "duration": 0,
    "start_time": "2022-10-26T13:49:26.274Z"
   },
   {
    "duration": 0,
    "start_time": "2022-10-26T13:49:26.276Z"
   },
   {
    "duration": 0,
    "start_time": "2022-10-26T13:49:26.277Z"
   },
   {
    "duration": 0,
    "start_time": "2022-10-26T13:49:26.278Z"
   },
   {
    "duration": 0,
    "start_time": "2022-10-26T13:49:26.280Z"
   },
   {
    "duration": 0,
    "start_time": "2022-10-26T13:49:26.281Z"
   },
   {
    "duration": 0,
    "start_time": "2022-10-26T13:49:26.282Z"
   },
   {
    "duration": 4,
    "start_time": "2022-10-26T13:50:01.293Z"
   },
   {
    "duration": 8,
    "start_time": "2022-10-26T13:50:05.642Z"
   },
   {
    "duration": 3,
    "start_time": "2022-10-26T13:50:08.576Z"
   },
   {
    "duration": 172,
    "start_time": "2022-10-26T13:50:08.581Z"
   },
   {
    "duration": 11,
    "start_time": "2022-10-26T13:50:08.754Z"
   },
   {
    "duration": 29,
    "start_time": "2022-10-26T13:50:08.766Z"
   },
   {
    "duration": 25,
    "start_time": "2022-10-26T13:50:08.797Z"
   },
   {
    "duration": 10,
    "start_time": "2022-10-26T13:50:08.823Z"
   },
   {
    "duration": 13,
    "start_time": "2022-10-26T13:50:08.834Z"
   },
   {
    "duration": 9,
    "start_time": "2022-10-26T13:50:08.850Z"
   },
   {
    "duration": 40,
    "start_time": "2022-10-26T13:50:08.861Z"
   },
   {
    "duration": 42,
    "start_time": "2022-10-26T13:50:08.903Z"
   },
   {
    "duration": 48,
    "start_time": "2022-10-26T13:50:08.948Z"
   },
   {
    "duration": 93,
    "start_time": "2022-10-26T13:50:08.998Z"
   },
   {
    "duration": 88,
    "start_time": "2022-10-26T13:50:09.094Z"
   },
   {
    "duration": 63,
    "start_time": "2022-10-26T13:50:09.184Z"
   },
   {
    "duration": 34,
    "start_time": "2022-10-26T13:50:09.248Z"
   },
   {
    "duration": 9,
    "start_time": "2022-10-26T13:50:09.283Z"
   },
   {
    "duration": 59,
    "start_time": "2022-10-26T13:50:09.293Z"
   },
   {
    "duration": 12,
    "start_time": "2022-10-26T13:50:09.354Z"
   },
   {
    "duration": 12,
    "start_time": "2022-10-26T13:50:09.368Z"
   },
   {
    "duration": 3,
    "start_time": "2022-10-26T13:50:09.382Z"
   },
   {
    "duration": 17,
    "start_time": "2022-10-26T13:50:09.387Z"
   },
   {
    "duration": 20,
    "start_time": "2022-10-26T13:50:09.421Z"
   },
   {
    "duration": 12,
    "start_time": "2022-10-26T13:50:09.443Z"
   },
   {
    "duration": 19,
    "start_time": "2022-10-26T13:50:09.456Z"
   },
   {
    "duration": 15,
    "start_time": "2022-10-26T13:50:09.477Z"
   },
   {
    "duration": 13,
    "start_time": "2022-10-26T13:50:09.494Z"
   },
   {
    "duration": 17,
    "start_time": "2022-10-26T13:50:09.508Z"
   },
   {
    "duration": 14,
    "start_time": "2022-10-26T13:50:09.527Z"
   },
   {
    "duration": 10,
    "start_time": "2022-10-26T13:50:09.544Z"
   },
   {
    "duration": 48,
    "start_time": "2022-10-26T13:50:09.556Z"
   },
   {
    "duration": 0,
    "start_time": "2022-10-26T13:50:09.605Z"
   },
   {
    "duration": 0,
    "start_time": "2022-10-26T13:50:09.607Z"
   },
   {
    "duration": 0,
    "start_time": "2022-10-26T13:50:09.608Z"
   },
   {
    "duration": 0,
    "start_time": "2022-10-26T13:50:09.609Z"
   },
   {
    "duration": 0,
    "start_time": "2022-10-26T13:50:09.610Z"
   },
   {
    "duration": 0,
    "start_time": "2022-10-26T13:50:09.611Z"
   },
   {
    "duration": 0,
    "start_time": "2022-10-26T13:50:09.612Z"
   },
   {
    "duration": 0,
    "start_time": "2022-10-26T13:50:09.614Z"
   },
   {
    "duration": 3,
    "start_time": "2022-10-26T14:01:43.709Z"
   },
   {
    "duration": 15,
    "start_time": "2022-10-26T14:01:49.567Z"
   },
   {
    "duration": 19,
    "start_time": "2022-10-26T14:03:59.536Z"
   },
   {
    "duration": 17,
    "start_time": "2022-10-26T14:04:02.499Z"
   },
   {
    "duration": 17,
    "start_time": "2022-10-26T14:04:03.161Z"
   },
   {
    "duration": 18,
    "start_time": "2022-10-26T14:04:04.015Z"
   },
   {
    "duration": 16,
    "start_time": "2022-10-26T14:04:07.343Z"
   },
   {
    "duration": 45,
    "start_time": "2022-10-26T14:29:23.841Z"
   },
   {
    "duration": 45,
    "start_time": "2022-10-26T14:35:00.059Z"
   },
   {
    "duration": 49,
    "start_time": "2022-10-26T14:36:18.675Z"
   },
   {
    "duration": 61,
    "start_time": "2022-10-26T14:42:19.211Z"
   },
   {
    "duration": 4,
    "start_time": "2022-10-26T14:46:49.216Z"
   },
   {
    "duration": 4,
    "start_time": "2022-10-26T14:46:52.558Z"
   },
   {
    "duration": 7,
    "start_time": "2022-10-26T14:48:54.395Z"
   },
   {
    "duration": 13,
    "start_time": "2022-10-26T14:49:02.847Z"
   },
   {
    "duration": 45,
    "start_time": "2022-10-26T14:49:15.281Z"
   },
   {
    "duration": 52,
    "start_time": "2022-10-26T14:53:11.901Z"
   },
   {
    "duration": 11,
    "start_time": "2022-10-26T14:53:38.179Z"
   },
   {
    "duration": 4,
    "start_time": "2022-10-26T14:57:05.695Z"
   },
   {
    "duration": 4,
    "start_time": "2022-10-26T14:57:10.372Z"
   },
   {
    "duration": 7,
    "start_time": "2022-10-26T14:57:33.088Z"
   },
   {
    "duration": 4,
    "start_time": "2022-10-26T15:05:04.069Z"
   },
   {
    "duration": 4,
    "start_time": "2022-10-26T15:05:22.467Z"
   },
   {
    "duration": 5,
    "start_time": "2022-10-26T15:14:54.176Z"
   },
   {
    "duration": 54,
    "start_time": "2022-10-26T15:15:14.710Z"
   },
   {
    "duration": 14,
    "start_time": "2022-10-26T15:15:25.407Z"
   },
   {
    "duration": 5,
    "start_time": "2022-10-26T15:15:45.823Z"
   },
   {
    "duration": 3,
    "start_time": "2022-10-26T15:15:51.410Z"
   },
   {
    "duration": 5,
    "start_time": "2022-10-26T15:16:09.137Z"
   },
   {
    "duration": 4,
    "start_time": "2022-10-26T15:20:12.131Z"
   },
   {
    "duration": 3,
    "start_time": "2022-10-26T15:20:14.568Z"
   },
   {
    "duration": 5,
    "start_time": "2022-10-26T15:20:18.229Z"
   },
   {
    "duration": 6,
    "start_time": "2022-10-26T15:23:29.913Z"
   },
   {
    "duration": 3,
    "start_time": "2022-10-26T15:23:55.768Z"
   },
   {
    "duration": 4,
    "start_time": "2022-10-26T15:23:58.741Z"
   },
   {
    "duration": 6,
    "start_time": "2022-10-26T15:24:02.943Z"
   },
   {
    "duration": 11,
    "start_time": "2022-10-26T15:25:27.076Z"
   },
   {
    "duration": 6,
    "start_time": "2022-10-26T15:26:04.672Z"
   },
   {
    "duration": 7,
    "start_time": "2022-10-26T15:29:21.743Z"
   },
   {
    "duration": 8,
    "start_time": "2022-10-26T15:29:42.956Z"
   },
   {
    "duration": 11,
    "start_time": "2022-10-26T15:34:57.057Z"
   },
   {
    "duration": 12,
    "start_time": "2022-10-26T15:34:59.321Z"
   },
   {
    "duration": 21,
    "start_time": "2022-10-26T15:35:04.015Z"
   },
   {
    "duration": 19,
    "start_time": "2022-10-26T15:37:07.760Z"
   },
   {
    "duration": 11,
    "start_time": "2022-10-26T15:53:20.220Z"
   },
   {
    "duration": 9,
    "start_time": "2022-10-26T15:57:57.554Z"
   },
   {
    "duration": 9,
    "start_time": "2022-10-26T16:03:19.786Z"
   },
   {
    "duration": 5,
    "start_time": "2022-10-26T16:03:50.586Z"
   },
   {
    "duration": 8,
    "start_time": "2022-10-26T16:09:04.819Z"
   },
   {
    "duration": 18,
    "start_time": "2022-10-26T16:19:40.257Z"
   },
   {
    "duration": 537,
    "start_time": "2022-10-27T10:46:56.524Z"
   },
   {
    "duration": 528,
    "start_time": "2022-10-27T10:46:57.064Z"
   },
   {
    "duration": 21,
    "start_time": "2022-10-27T10:46:57.595Z"
   },
   {
    "duration": 35,
    "start_time": "2022-10-27T10:46:57.618Z"
   },
   {
    "duration": 3,
    "start_time": "2022-10-27T10:46:57.655Z"
   },
   {
    "duration": 6,
    "start_time": "2022-10-27T10:46:57.660Z"
   },
   {
    "duration": 12,
    "start_time": "2022-10-27T10:46:57.669Z"
   },
   {
    "duration": 6,
    "start_time": "2022-10-27T10:46:57.683Z"
   },
   {
    "duration": 48,
    "start_time": "2022-10-27T10:46:57.723Z"
   },
   {
    "duration": 52,
    "start_time": "2022-10-27T10:46:57.775Z"
   },
   {
    "duration": 33,
    "start_time": "2022-10-27T10:46:57.830Z"
   },
   {
    "duration": 92,
    "start_time": "2022-10-27T10:46:57.865Z"
   },
   {
    "duration": 119,
    "start_time": "2022-10-27T10:46:57.960Z"
   },
   {
    "duration": 83,
    "start_time": "2022-10-27T10:46:58.081Z"
   },
   {
    "duration": 79,
    "start_time": "2022-10-27T10:46:58.166Z"
   },
   {
    "duration": 11,
    "start_time": "2022-10-27T10:46:58.247Z"
   },
   {
    "duration": 94,
    "start_time": "2022-10-27T10:46:58.261Z"
   },
   {
    "duration": 22,
    "start_time": "2022-10-27T10:46:58.357Z"
   },
   {
    "duration": 41,
    "start_time": "2022-10-27T10:46:58.383Z"
   },
   {
    "duration": 8,
    "start_time": "2022-10-27T10:46:58.427Z"
   },
   {
    "duration": 33,
    "start_time": "2022-10-27T10:46:58.437Z"
   },
   {
    "duration": 26,
    "start_time": "2022-10-27T10:46:58.473Z"
   },
   {
    "duration": 27,
    "start_time": "2022-10-27T10:46:58.523Z"
   },
   {
    "duration": 25,
    "start_time": "2022-10-27T10:46:58.552Z"
   },
   {
    "duration": 67,
    "start_time": "2022-10-27T10:46:58.579Z"
   },
   {
    "duration": 28,
    "start_time": "2022-10-27T10:46:58.649Z"
   },
   {
    "duration": 7,
    "start_time": "2022-10-27T10:46:58.680Z"
   },
   {
    "duration": 40,
    "start_time": "2022-10-27T10:46:58.692Z"
   },
   {
    "duration": 16,
    "start_time": "2022-10-27T10:46:58.734Z"
   },
   {
    "duration": 7,
    "start_time": "2022-10-27T10:46:58.753Z"
   },
   {
    "duration": 9,
    "start_time": "2022-10-27T10:46:58.762Z"
   },
   {
    "duration": 5,
    "start_time": "2022-10-27T10:46:58.774Z"
   },
   {
    "duration": 4,
    "start_time": "2022-10-27T10:46:58.781Z"
   },
   {
    "duration": 37,
    "start_time": "2022-10-27T10:46:58.787Z"
   },
   {
    "duration": 5,
    "start_time": "2022-10-27T10:46:58.827Z"
   },
   {
    "duration": 13,
    "start_time": "2022-10-27T10:46:58.835Z"
   },
   {
    "duration": 4,
    "start_time": "2022-10-27T10:46:58.850Z"
   },
   {
    "duration": 3,
    "start_time": "2022-10-27T10:46:58.856Z"
   },
   {
    "duration": 33,
    "start_time": "2022-10-27T11:12:57.834Z"
   },
   {
    "duration": 42,
    "start_time": "2022-10-27T11:15:31.833Z"
   },
   {
    "duration": 33,
    "start_time": "2022-10-27T11:15:56.846Z"
   },
   {
    "duration": 25,
    "start_time": "2022-10-27T11:18:18.001Z"
   },
   {
    "duration": 5,
    "start_time": "2022-10-27T11:25:45.588Z"
   },
   {
    "duration": 23,
    "start_time": "2022-10-27T11:25:49.199Z"
   },
   {
    "duration": 21,
    "start_time": "2022-10-27T11:26:06.536Z"
   },
   {
    "duration": 21,
    "start_time": "2022-10-27T11:26:44.243Z"
   },
   {
    "duration": 19,
    "start_time": "2022-10-27T11:26:53.593Z"
   },
   {
    "duration": 19,
    "start_time": "2022-10-27T11:26:57.666Z"
   },
   {
    "duration": 21,
    "start_time": "2022-10-27T11:27:00.339Z"
   },
   {
    "duration": 12,
    "start_time": "2022-10-27T11:27:52.979Z"
   },
   {
    "duration": 25,
    "start_time": "2022-10-27T12:04:59.071Z"
   },
   {
    "duration": 70,
    "start_time": "2022-10-27T12:08:18.757Z"
   },
   {
    "duration": 11,
    "start_time": "2022-10-27T12:10:44.006Z"
   },
   {
    "duration": 10,
    "start_time": "2022-10-27T12:11:03.463Z"
   },
   {
    "duration": 14,
    "start_time": "2022-10-27T12:11:10.079Z"
   },
   {
    "duration": 6,
    "start_time": "2022-10-27T12:11:17.697Z"
   },
   {
    "duration": 9,
    "start_time": "2022-10-27T12:12:41.955Z"
   },
   {
    "duration": 5,
    "start_time": "2022-10-27T12:13:15.690Z"
   },
   {
    "duration": 45,
    "start_time": "2023-01-25T16:25:35.615Z"
   },
   {
    "duration": 372,
    "start_time": "2023-01-25T16:27:07.120Z"
   },
   {
    "duration": 444,
    "start_time": "2023-01-25T16:27:07.494Z"
   },
   {
    "duration": 19,
    "start_time": "2023-01-25T16:27:07.940Z"
   },
   {
    "duration": 27,
    "start_time": "2023-01-25T16:27:07.961Z"
   },
   {
    "duration": 4,
    "start_time": "2023-01-25T16:27:07.989Z"
   },
   {
    "duration": 12,
    "start_time": "2023-01-25T16:27:07.995Z"
   },
   {
    "duration": 14,
    "start_time": "2023-01-25T16:27:08.010Z"
   },
   {
    "duration": 6,
    "start_time": "2023-01-25T16:27:08.026Z"
   },
   {
    "duration": 23,
    "start_time": "2023-01-25T16:27:08.033Z"
   },
   {
    "duration": 38,
    "start_time": "2023-01-25T16:27:08.060Z"
   },
   {
    "duration": 27,
    "start_time": "2023-01-25T16:27:08.100Z"
   },
   {
    "duration": 93,
    "start_time": "2023-01-25T16:27:08.129Z"
   },
   {
    "duration": 91,
    "start_time": "2023-01-25T16:27:08.224Z"
   },
   {
    "duration": 61,
    "start_time": "2023-01-25T16:27:08.316Z"
   },
   {
    "duration": 51,
    "start_time": "2023-01-25T16:27:08.378Z"
   },
   {
    "duration": 9,
    "start_time": "2023-01-25T16:27:08.430Z"
   },
   {
    "duration": 55,
    "start_time": "2023-01-25T16:27:08.441Z"
   },
   {
    "duration": 12,
    "start_time": "2023-01-25T16:27:08.498Z"
   },
   {
    "duration": 11,
    "start_time": "2023-01-25T16:27:08.512Z"
   },
   {
    "duration": 9,
    "start_time": "2023-01-25T16:27:08.524Z"
   },
   {
    "duration": 23,
    "start_time": "2023-01-25T16:27:08.534Z"
   },
   {
    "duration": 45,
    "start_time": "2023-01-25T16:27:08.558Z"
   },
   {
    "duration": 14,
    "start_time": "2023-01-25T16:27:08.604Z"
   },
   {
    "duration": 19,
    "start_time": "2023-01-25T16:27:08.619Z"
   },
   {
    "duration": 16,
    "start_time": "2023-01-25T16:27:08.640Z"
   },
   {
    "duration": 39,
    "start_time": "2023-01-25T16:27:08.658Z"
   },
   {
    "duration": 4,
    "start_time": "2023-01-25T16:27:08.698Z"
   },
   {
    "duration": 13,
    "start_time": "2023-01-25T16:27:08.705Z"
   },
   {
    "duration": 8,
    "start_time": "2023-01-25T16:27:08.720Z"
   },
   {
    "duration": 21,
    "start_time": "2023-01-25T16:27:08.730Z"
   },
   {
    "duration": 56,
    "start_time": "2023-01-25T16:27:08.753Z"
   },
   {
    "duration": 14,
    "start_time": "2023-01-25T16:27:08.810Z"
   },
   {
    "duration": 15,
    "start_time": "2023-01-25T16:27:08.826Z"
   },
   {
    "duration": 11,
    "start_time": "2023-01-25T16:27:08.843Z"
   },
   {
    "duration": 36,
    "start_time": "2023-01-25T16:27:08.856Z"
   },
   {
    "duration": 5,
    "start_time": "2023-01-25T16:27:08.895Z"
   },
   {
    "duration": 14,
    "start_time": "2023-01-25T16:27:08.902Z"
   },
   {
    "duration": 6,
    "start_time": "2023-01-25T16:27:08.917Z"
   }
  ],
  "colab": {
   "collapsed_sections": [
    "E0vqbgi9ay0H",
    "VUC88oWjTJw2"
   ],
   "name": "automatization_template_upd4.ipynb",
   "provenance": []
  },
  "kernelspec": {
   "display_name": "Python 3 (ipykernel)",
   "language": "python",
   "name": "python3"
  },
  "language_info": {
   "codemirror_mode": {
    "name": "ipython",
    "version": 3
   },
   "file_extension": ".py",
   "mimetype": "text/x-python",
   "name": "python",
   "nbconvert_exporter": "python",
   "pygments_lexer": "ipython3",
   "version": "3.9.13"
  },
  "toc": {
   "base_numbering": 1,
   "nav_menu": {
    "height": "215px",
    "width": "403px"
   },
   "number_sections": true,
   "sideBar": true,
   "skip_h1_title": true,
   "title_cell": "Table of Contents",
   "title_sidebar": "Contents",
   "toc_cell": false,
   "toc_position": {
    "height": "calc(100% - 180px)",
    "left": "10px",
    "top": "150px",
    "width": "285.825px"
   },
   "toc_section_display": true,
   "toc_window_display": false
  }
 },
 "nbformat": 4,
 "nbformat_minor": 1
}
