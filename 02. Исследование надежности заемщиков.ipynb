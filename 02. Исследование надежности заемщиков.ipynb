{
 "cells": [
  {
   "cell_type": "markdown",
   "id": "69923874",
   "metadata": {
    "deletable": false,
    "editable": false,
    "id": "c81daeeb"
   },
   "source": [
    "# Исследование надежности заемщиков\n"
   ]
  },
  {
   "cell_type": "markdown",
   "id": "04b80f7d",
   "metadata": {
    "deletable": false,
    "editable": false,
    "id": "827c20bf"
   },
   "source": [
    "Во второй части проекта вы выполните шаги 3 и 4. Их вручную проверит ревьюер.\n",
    "Чтобы вам не пришлось писать код заново для шагов 1 и 2, мы добавили авторские решения в ячейки с кодом. \n",
    "\n"
   ]
  },
  {
   "cell_type": "markdown",
   "id": "bf9af850",
   "metadata": {
    "deletable": false,
    "editable": false,
    "id": "744d7639"
   },
   "source": [
    "## Откройте таблицу и изучите общую информацию о данных"
   ]
  },
  {
   "cell_type": "markdown",
   "id": "6968a9ed",
   "metadata": {
    "deletable": false,
    "editable": false,
    "id": "e7a14c31"
   },
   "source": [
    "**Задание 1. Импортируйте библиотеку pandas. Считайте данные из csv-файла в датафрейм и сохраните в переменную `data`. Путь к файлу:**\n",
    "\n",
    "`/datasets/data.csv`"
   ]
  },
  {
   "cell_type": "code",
   "execution_count": 1,
   "id": "e435cd20",
   "metadata": {
    "id": "7bcf75c9"
   },
   "outputs": [],
   "source": [
    "# Импортируем библиотеки\n",
    "import pandas as pd\n",
    "import matplotlib.pyplot as plt\n",
    "import seaborn as sns"
   ]
  },
  {
   "cell_type": "code",
   "execution_count": 2,
   "id": "6c8ffaad",
   "metadata": {},
   "outputs": [],
   "source": [
    "# Читаем файл\n",
    "try:\n",
    "    data = pd.read_csv('/datasets/data.csv')\n",
    "except:\n",
    "    data = pd.read_csv('https://code.s3.yandex.net/datasets/data.csv')"
   ]
  },
  {
   "cell_type": "markdown",
   "id": "bbd517c7",
   "metadata": {
    "deletable": false,
    "editable": false,
    "id": "b8038fe3"
   },
   "source": [
    "**Задание 2. Выведите первые 20 строчек датафрейма `data` на экран.**"
   ]
  },
  {
   "cell_type": "code",
   "execution_count": 3,
   "id": "fac73f1f",
   "metadata": {
    "id": "2a7cab99",
    "outputId": "1a8f3ef2-d323-4ec2-ddf7-89670b5944c4"
   },
   "outputs": [
    {
     "data": {
      "text/html": [
       "<div>\n",
       "<style scoped>\n",
       "    .dataframe tbody tr th:only-of-type {\n",
       "        vertical-align: middle;\n",
       "    }\n",
       "\n",
       "    .dataframe tbody tr th {\n",
       "        vertical-align: top;\n",
       "    }\n",
       "\n",
       "    .dataframe thead th {\n",
       "        text-align: right;\n",
       "    }\n",
       "</style>\n",
       "<table border=\"1\" class=\"dataframe\">\n",
       "  <thead>\n",
       "    <tr style=\"text-align: right;\">\n",
       "      <th></th>\n",
       "      <th>children</th>\n",
       "      <th>days_employed</th>\n",
       "      <th>dob_years</th>\n",
       "      <th>education</th>\n",
       "      <th>education_id</th>\n",
       "      <th>family_status</th>\n",
       "      <th>family_status_id</th>\n",
       "      <th>gender</th>\n",
       "      <th>income_type</th>\n",
       "      <th>debt</th>\n",
       "      <th>total_income</th>\n",
       "      <th>purpose</th>\n",
       "    </tr>\n",
       "  </thead>\n",
       "  <tbody>\n",
       "    <tr>\n",
       "      <th>0</th>\n",
       "      <td>1</td>\n",
       "      <td>-8437.673028</td>\n",
       "      <td>42</td>\n",
       "      <td>высшее</td>\n",
       "      <td>0</td>\n",
       "      <td>женат / замужем</td>\n",
       "      <td>0</td>\n",
       "      <td>F</td>\n",
       "      <td>сотрудник</td>\n",
       "      <td>0</td>\n",
       "      <td>253875.639453</td>\n",
       "      <td>покупка жилья</td>\n",
       "    </tr>\n",
       "    <tr>\n",
       "      <th>1</th>\n",
       "      <td>1</td>\n",
       "      <td>-4024.803754</td>\n",
       "      <td>36</td>\n",
       "      <td>среднее</td>\n",
       "      <td>1</td>\n",
       "      <td>женат / замужем</td>\n",
       "      <td>0</td>\n",
       "      <td>F</td>\n",
       "      <td>сотрудник</td>\n",
       "      <td>0</td>\n",
       "      <td>112080.014102</td>\n",
       "      <td>приобретение автомобиля</td>\n",
       "    </tr>\n",
       "    <tr>\n",
       "      <th>2</th>\n",
       "      <td>0</td>\n",
       "      <td>-5623.422610</td>\n",
       "      <td>33</td>\n",
       "      <td>Среднее</td>\n",
       "      <td>1</td>\n",
       "      <td>женат / замужем</td>\n",
       "      <td>0</td>\n",
       "      <td>M</td>\n",
       "      <td>сотрудник</td>\n",
       "      <td>0</td>\n",
       "      <td>145885.952297</td>\n",
       "      <td>покупка жилья</td>\n",
       "    </tr>\n",
       "    <tr>\n",
       "      <th>3</th>\n",
       "      <td>3</td>\n",
       "      <td>-4124.747207</td>\n",
       "      <td>32</td>\n",
       "      <td>среднее</td>\n",
       "      <td>1</td>\n",
       "      <td>женат / замужем</td>\n",
       "      <td>0</td>\n",
       "      <td>M</td>\n",
       "      <td>сотрудник</td>\n",
       "      <td>0</td>\n",
       "      <td>267628.550329</td>\n",
       "      <td>дополнительное образование</td>\n",
       "    </tr>\n",
       "    <tr>\n",
       "      <th>4</th>\n",
       "      <td>0</td>\n",
       "      <td>340266.072047</td>\n",
       "      <td>53</td>\n",
       "      <td>среднее</td>\n",
       "      <td>1</td>\n",
       "      <td>гражданский брак</td>\n",
       "      <td>1</td>\n",
       "      <td>F</td>\n",
       "      <td>пенсионер</td>\n",
       "      <td>0</td>\n",
       "      <td>158616.077870</td>\n",
       "      <td>сыграть свадьбу</td>\n",
       "    </tr>\n",
       "    <tr>\n",
       "      <th>5</th>\n",
       "      <td>0</td>\n",
       "      <td>-926.185831</td>\n",
       "      <td>27</td>\n",
       "      <td>высшее</td>\n",
       "      <td>0</td>\n",
       "      <td>гражданский брак</td>\n",
       "      <td>1</td>\n",
       "      <td>M</td>\n",
       "      <td>компаньон</td>\n",
       "      <td>0</td>\n",
       "      <td>255763.565419</td>\n",
       "      <td>покупка жилья</td>\n",
       "    </tr>\n",
       "    <tr>\n",
       "      <th>6</th>\n",
       "      <td>0</td>\n",
       "      <td>-2879.202052</td>\n",
       "      <td>43</td>\n",
       "      <td>высшее</td>\n",
       "      <td>0</td>\n",
       "      <td>женат / замужем</td>\n",
       "      <td>0</td>\n",
       "      <td>F</td>\n",
       "      <td>компаньон</td>\n",
       "      <td>0</td>\n",
       "      <td>240525.971920</td>\n",
       "      <td>операции с жильем</td>\n",
       "    </tr>\n",
       "    <tr>\n",
       "      <th>7</th>\n",
       "      <td>0</td>\n",
       "      <td>-152.779569</td>\n",
       "      <td>50</td>\n",
       "      <td>СРЕДНЕЕ</td>\n",
       "      <td>1</td>\n",
       "      <td>женат / замужем</td>\n",
       "      <td>0</td>\n",
       "      <td>M</td>\n",
       "      <td>сотрудник</td>\n",
       "      <td>0</td>\n",
       "      <td>135823.934197</td>\n",
       "      <td>образование</td>\n",
       "    </tr>\n",
       "    <tr>\n",
       "      <th>8</th>\n",
       "      <td>2</td>\n",
       "      <td>-6929.865299</td>\n",
       "      <td>35</td>\n",
       "      <td>ВЫСШЕЕ</td>\n",
       "      <td>0</td>\n",
       "      <td>гражданский брак</td>\n",
       "      <td>1</td>\n",
       "      <td>F</td>\n",
       "      <td>сотрудник</td>\n",
       "      <td>0</td>\n",
       "      <td>95856.832424</td>\n",
       "      <td>на проведение свадьбы</td>\n",
       "    </tr>\n",
       "    <tr>\n",
       "      <th>9</th>\n",
       "      <td>0</td>\n",
       "      <td>-2188.756445</td>\n",
       "      <td>41</td>\n",
       "      <td>среднее</td>\n",
       "      <td>1</td>\n",
       "      <td>женат / замужем</td>\n",
       "      <td>0</td>\n",
       "      <td>M</td>\n",
       "      <td>сотрудник</td>\n",
       "      <td>0</td>\n",
       "      <td>144425.938277</td>\n",
       "      <td>покупка жилья для семьи</td>\n",
       "    </tr>\n",
       "    <tr>\n",
       "      <th>10</th>\n",
       "      <td>2</td>\n",
       "      <td>-4171.483647</td>\n",
       "      <td>36</td>\n",
       "      <td>высшее</td>\n",
       "      <td>0</td>\n",
       "      <td>женат / замужем</td>\n",
       "      <td>0</td>\n",
       "      <td>M</td>\n",
       "      <td>компаньон</td>\n",
       "      <td>0</td>\n",
       "      <td>113943.491460</td>\n",
       "      <td>покупка недвижимости</td>\n",
       "    </tr>\n",
       "    <tr>\n",
       "      <th>11</th>\n",
       "      <td>0</td>\n",
       "      <td>-792.701887</td>\n",
       "      <td>40</td>\n",
       "      <td>среднее</td>\n",
       "      <td>1</td>\n",
       "      <td>женат / замужем</td>\n",
       "      <td>0</td>\n",
       "      <td>F</td>\n",
       "      <td>сотрудник</td>\n",
       "      <td>0</td>\n",
       "      <td>77069.234271</td>\n",
       "      <td>покупка коммерческой недвижимости</td>\n",
       "    </tr>\n",
       "    <tr>\n",
       "      <th>12</th>\n",
       "      <td>0</td>\n",
       "      <td>NaN</td>\n",
       "      <td>65</td>\n",
       "      <td>среднее</td>\n",
       "      <td>1</td>\n",
       "      <td>гражданский брак</td>\n",
       "      <td>1</td>\n",
       "      <td>M</td>\n",
       "      <td>пенсионер</td>\n",
       "      <td>0</td>\n",
       "      <td>NaN</td>\n",
       "      <td>сыграть свадьбу</td>\n",
       "    </tr>\n",
       "    <tr>\n",
       "      <th>13</th>\n",
       "      <td>0</td>\n",
       "      <td>-1846.641941</td>\n",
       "      <td>54</td>\n",
       "      <td>неоконченное высшее</td>\n",
       "      <td>2</td>\n",
       "      <td>женат / замужем</td>\n",
       "      <td>0</td>\n",
       "      <td>F</td>\n",
       "      <td>сотрудник</td>\n",
       "      <td>0</td>\n",
       "      <td>130458.228857</td>\n",
       "      <td>приобретение автомобиля</td>\n",
       "    </tr>\n",
       "    <tr>\n",
       "      <th>14</th>\n",
       "      <td>0</td>\n",
       "      <td>-1844.956182</td>\n",
       "      <td>56</td>\n",
       "      <td>высшее</td>\n",
       "      <td>0</td>\n",
       "      <td>гражданский брак</td>\n",
       "      <td>1</td>\n",
       "      <td>F</td>\n",
       "      <td>компаньон</td>\n",
       "      <td>1</td>\n",
       "      <td>165127.911772</td>\n",
       "      <td>покупка жилой недвижимости</td>\n",
       "    </tr>\n",
       "    <tr>\n",
       "      <th>15</th>\n",
       "      <td>1</td>\n",
       "      <td>-972.364419</td>\n",
       "      <td>26</td>\n",
       "      <td>среднее</td>\n",
       "      <td>1</td>\n",
       "      <td>женат / замужем</td>\n",
       "      <td>0</td>\n",
       "      <td>F</td>\n",
       "      <td>сотрудник</td>\n",
       "      <td>0</td>\n",
       "      <td>116820.904450</td>\n",
       "      <td>строительство собственной недвижимости</td>\n",
       "    </tr>\n",
       "    <tr>\n",
       "      <th>16</th>\n",
       "      <td>0</td>\n",
       "      <td>-1719.934226</td>\n",
       "      <td>35</td>\n",
       "      <td>среднее</td>\n",
       "      <td>1</td>\n",
       "      <td>женат / замужем</td>\n",
       "      <td>0</td>\n",
       "      <td>F</td>\n",
       "      <td>сотрудник</td>\n",
       "      <td>0</td>\n",
       "      <td>289202.704229</td>\n",
       "      <td>недвижимость</td>\n",
       "    </tr>\n",
       "    <tr>\n",
       "      <th>17</th>\n",
       "      <td>0</td>\n",
       "      <td>-2369.999720</td>\n",
       "      <td>33</td>\n",
       "      <td>высшее</td>\n",
       "      <td>0</td>\n",
       "      <td>гражданский брак</td>\n",
       "      <td>1</td>\n",
       "      <td>M</td>\n",
       "      <td>сотрудник</td>\n",
       "      <td>0</td>\n",
       "      <td>90410.586745</td>\n",
       "      <td>строительство недвижимости</td>\n",
       "    </tr>\n",
       "    <tr>\n",
       "      <th>18</th>\n",
       "      <td>0</td>\n",
       "      <td>400281.136913</td>\n",
       "      <td>53</td>\n",
       "      <td>среднее</td>\n",
       "      <td>1</td>\n",
       "      <td>вдовец / вдова</td>\n",
       "      <td>2</td>\n",
       "      <td>F</td>\n",
       "      <td>пенсионер</td>\n",
       "      <td>0</td>\n",
       "      <td>56823.777243</td>\n",
       "      <td>на покупку подержанного автомобиля</td>\n",
       "    </tr>\n",
       "    <tr>\n",
       "      <th>19</th>\n",
       "      <td>0</td>\n",
       "      <td>-10038.818549</td>\n",
       "      <td>48</td>\n",
       "      <td>СРЕДНЕЕ</td>\n",
       "      <td>1</td>\n",
       "      <td>в разводе</td>\n",
       "      <td>3</td>\n",
       "      <td>F</td>\n",
       "      <td>сотрудник</td>\n",
       "      <td>0</td>\n",
       "      <td>242831.107982</td>\n",
       "      <td>на покупку своего автомобиля</td>\n",
       "    </tr>\n",
       "  </tbody>\n",
       "</table>\n",
       "</div>"
      ],
      "text/plain": [
       "    children  days_employed  dob_years            education  education_id  \\\n",
       "0          1   -8437.673028         42               высшее             0   \n",
       "1          1   -4024.803754         36              среднее             1   \n",
       "2          0   -5623.422610         33              Среднее             1   \n",
       "3          3   -4124.747207         32              среднее             1   \n",
       "4          0  340266.072047         53              среднее             1   \n",
       "5          0    -926.185831         27               высшее             0   \n",
       "6          0   -2879.202052         43               высшее             0   \n",
       "7          0    -152.779569         50              СРЕДНЕЕ             1   \n",
       "8          2   -6929.865299         35               ВЫСШЕЕ             0   \n",
       "9          0   -2188.756445         41              среднее             1   \n",
       "10         2   -4171.483647         36               высшее             0   \n",
       "11         0    -792.701887         40              среднее             1   \n",
       "12         0            NaN         65              среднее             1   \n",
       "13         0   -1846.641941         54  неоконченное высшее             2   \n",
       "14         0   -1844.956182         56               высшее             0   \n",
       "15         1    -972.364419         26              среднее             1   \n",
       "16         0   -1719.934226         35              среднее             1   \n",
       "17         0   -2369.999720         33               высшее             0   \n",
       "18         0  400281.136913         53              среднее             1   \n",
       "19         0  -10038.818549         48              СРЕДНЕЕ             1   \n",
       "\n",
       "       family_status  family_status_id gender income_type  debt  \\\n",
       "0    женат / замужем                 0      F   сотрудник     0   \n",
       "1    женат / замужем                 0      F   сотрудник     0   \n",
       "2    женат / замужем                 0      M   сотрудник     0   \n",
       "3    женат / замужем                 0      M   сотрудник     0   \n",
       "4   гражданский брак                 1      F   пенсионер     0   \n",
       "5   гражданский брак                 1      M   компаньон     0   \n",
       "6    женат / замужем                 0      F   компаньон     0   \n",
       "7    женат / замужем                 0      M   сотрудник     0   \n",
       "8   гражданский брак                 1      F   сотрудник     0   \n",
       "9    женат / замужем                 0      M   сотрудник     0   \n",
       "10   женат / замужем                 0      M   компаньон     0   \n",
       "11   женат / замужем                 0      F   сотрудник     0   \n",
       "12  гражданский брак                 1      M   пенсионер     0   \n",
       "13   женат / замужем                 0      F   сотрудник     0   \n",
       "14  гражданский брак                 1      F   компаньон     1   \n",
       "15   женат / замужем                 0      F   сотрудник     0   \n",
       "16   женат / замужем                 0      F   сотрудник     0   \n",
       "17  гражданский брак                 1      M   сотрудник     0   \n",
       "18    вдовец / вдова                 2      F   пенсионер     0   \n",
       "19         в разводе                 3      F   сотрудник     0   \n",
       "\n",
       "     total_income                                 purpose  \n",
       "0   253875.639453                           покупка жилья  \n",
       "1   112080.014102                 приобретение автомобиля  \n",
       "2   145885.952297                           покупка жилья  \n",
       "3   267628.550329              дополнительное образование  \n",
       "4   158616.077870                         сыграть свадьбу  \n",
       "5   255763.565419                           покупка жилья  \n",
       "6   240525.971920                       операции с жильем  \n",
       "7   135823.934197                             образование  \n",
       "8    95856.832424                   на проведение свадьбы  \n",
       "9   144425.938277                 покупка жилья для семьи  \n",
       "10  113943.491460                    покупка недвижимости  \n",
       "11   77069.234271       покупка коммерческой недвижимости  \n",
       "12            NaN                         сыграть свадьбу  \n",
       "13  130458.228857                 приобретение автомобиля  \n",
       "14  165127.911772              покупка жилой недвижимости  \n",
       "15  116820.904450  строительство собственной недвижимости  \n",
       "16  289202.704229                            недвижимость  \n",
       "17   90410.586745              строительство недвижимости  \n",
       "18   56823.777243      на покупку подержанного автомобиля  \n",
       "19  242831.107982            на покупку своего автомобиля  "
      ]
     },
     "execution_count": 3,
     "metadata": {},
     "output_type": "execute_result"
    }
   ],
   "source": [
    "data.head(20)"
   ]
  },
  {
   "cell_type": "markdown",
   "id": "2802d27f",
   "metadata": {
    "deletable": false,
    "editable": false,
    "id": "1c12e233"
   },
   "source": [
    "**Задание 3. Выведите основную информацию о датафрейме с помощью метода `info()`.**"
   ]
  },
  {
   "cell_type": "code",
   "execution_count": 4,
   "id": "f2a81501",
   "metadata": {
    "id": "2b757bca",
    "outputId": "15376089-8dad-46c9-b520-c05248d43158"
   },
   "outputs": [
    {
     "name": "stdout",
     "output_type": "stream",
     "text": [
      "<class 'pandas.core.frame.DataFrame'>\n",
      "RangeIndex: 21525 entries, 0 to 21524\n",
      "Data columns (total 12 columns):\n",
      " #   Column            Non-Null Count  Dtype  \n",
      "---  ------            --------------  -----  \n",
      " 0   children          21525 non-null  int64  \n",
      " 1   days_employed     19351 non-null  float64\n",
      " 2   dob_years         21525 non-null  int64  \n",
      " 3   education         21525 non-null  object \n",
      " 4   education_id      21525 non-null  int64  \n",
      " 5   family_status     21525 non-null  object \n",
      " 6   family_status_id  21525 non-null  int64  \n",
      " 7   gender            21525 non-null  object \n",
      " 8   income_type       21525 non-null  object \n",
      " 9   debt              21525 non-null  int64  \n",
      " 10  total_income      19351 non-null  float64\n",
      " 11  purpose           21525 non-null  object \n",
      "dtypes: float64(2), int64(5), object(5)\n",
      "memory usage: 2.0+ MB\n"
     ]
    }
   ],
   "source": [
    "data.info()"
   ]
  },
  {
   "cell_type": "markdown",
   "id": "384b41f4",
   "metadata": {
    "deletable": false,
    "editable": false,
    "id": "333ec665"
   },
   "source": [
    "## Предобработка данных"
   ]
  },
  {
   "cell_type": "markdown",
   "id": "e21223b2",
   "metadata": {
    "deletable": false,
    "editable": false,
    "id": "02d92d53"
   },
   "source": [
    "### Удаление пропусков"
   ]
  },
  {
   "cell_type": "markdown",
   "id": "e857ac73",
   "metadata": {
    "deletable": false,
    "editable": false,
    "id": "cd84967c"
   },
   "source": [
    "**Задание 4. Выведите количество пропущенных значений для каждого столбца. Используйте комбинацию двух методов.**"
   ]
  },
  {
   "cell_type": "code",
   "execution_count": 5,
   "id": "3b893ec6",
   "metadata": {
    "id": "7f9b2309",
    "outputId": "81f4d817-781c-465c-ed15-91ce4446810d"
   },
   "outputs": [
    {
     "data": {
      "text/plain": [
       "children               0\n",
       "days_employed       2174\n",
       "dob_years              0\n",
       "education              0\n",
       "education_id           0\n",
       "family_status          0\n",
       "family_status_id       0\n",
       "gender                 0\n",
       "income_type            0\n",
       "debt                   0\n",
       "total_income        2174\n",
       "purpose                0\n",
       "dtype: int64"
      ]
     },
     "execution_count": 5,
     "metadata": {},
     "output_type": "execute_result"
    }
   ],
   "source": [
    "data.isna().sum()"
   ]
  },
  {
   "cell_type": "markdown",
   "id": "3e677bb8",
   "metadata": {
    "deletable": false,
    "editable": false,
    "id": "db86e27b"
   },
   "source": [
    "**Задание 5. В двух столбцах есть пропущенные значения. Один из них — `days_employed`. Пропуски в этом столбце вы обработаете на следующем этапе. Другой столбец с пропущенными значениями — `total_income` — хранит данные о доходах. На сумму дохода сильнее всего влияет тип занятости, поэтому заполнить пропуски в этом столбце нужно медианным значением по каждому типу из столбца `income_type`. Например, у человека с типом занятости `сотрудник` пропуск в столбце `total_income` должен быть заполнен медианным доходом среди всех записей с тем же типом.**"
   ]
  },
  {
   "cell_type": "code",
   "execution_count": 6,
   "id": "8b4d0394",
   "metadata": {
    "id": "42006a93"
   },
   "outputs": [],
   "source": [
    "for t in data['income_type'].unique():\n",
    "    data.loc[(data['income_type'] == t) & (data['total_income'].isna()), 'total_income'] = \\\n",
    "    data.loc[(data['income_type'] == t), 'total_income'].median()"
   ]
  },
  {
   "cell_type": "markdown",
   "id": "f8d7bca7",
   "metadata": {
    "deletable": false,
    "editable": false,
    "id": "89da5ece"
   },
   "source": [
    "### Обработка аномальных значений"
   ]
  },
  {
   "cell_type": "markdown",
   "id": "a35cfb92",
   "metadata": {
    "deletable": false,
    "editable": false,
    "id": "57964554"
   },
   "source": [
    "**Задание 6. В данных могут встречаться артефакты (аномалии) — значения, которые не отражают действительность и появились по какой-то ошибке. таким артефактом будет отрицательное количество дней трудового стажа в столбце `days_employed`. Для реальных данных это нормально. Обработайте значения в этом столбце: замените все отрицательные значения положительными с помощью метода `abs()`.**"
   ]
  },
  {
   "cell_type": "code",
   "execution_count": 7,
   "id": "6bbfb9a8",
   "metadata": {
    "id": "f6f055bf"
   },
   "outputs": [],
   "source": [
    "data['days_employed'] = data['days_employed'].abs()"
   ]
  },
  {
   "cell_type": "markdown",
   "id": "fa5cffd4",
   "metadata": {
    "deletable": false,
    "editable": false,
    "id": "6107dd2f"
   },
   "source": [
    "**Задание 7. Для каждого типа занятости выведите медианное значение трудового стажа `days_employed` в днях.**"
   ]
  },
  {
   "cell_type": "code",
   "execution_count": 8,
   "id": "d5bd2b3c",
   "metadata": {
    "id": "85a5faf6",
    "outputId": "801ef80e-522b-4668-f34e-565af7432bcf"
   },
   "outputs": [
    {
     "data": {
      "text/plain": [
       "income_type\n",
       "безработный        366413.652744\n",
       "в декрете            3296.759962\n",
       "госслужащий          2689.368353\n",
       "компаньон            1547.382223\n",
       "пенсионер          365213.306266\n",
       "предприниматель       520.848083\n",
       "сотрудник            1574.202821\n",
       "студент               578.751554\n",
       "Name: days_employed, dtype: float64"
      ]
     },
     "execution_count": 8,
     "metadata": {},
     "output_type": "execute_result"
    }
   ],
   "source": [
    "data.groupby('income_type')['days_employed'].agg('median')"
   ]
  },
  {
   "cell_type": "markdown",
   "id": "317573bf",
   "metadata": {
    "deletable": false,
    "editable": false,
    "id": "38d1a030"
   },
   "source": [
    "У двух типов (безработные и пенсионеры) получатся аномально большие значения. Исправить такие значения сложно, поэтому оставьте их как есть. Тем более этот столбец не понадобится вам для исследования."
   ]
  },
  {
   "cell_type": "markdown",
   "id": "976af13d",
   "metadata": {
    "deletable": false,
    "editable": false,
    "id": "d8a9f147"
   },
   "source": [
    "**Задание 8. Выведите перечень уникальных значений столбца `children`.**"
   ]
  },
  {
   "cell_type": "code",
   "execution_count": 9,
   "id": "89633655",
   "metadata": {
    "id": "ef5056eb",
    "outputId": "6975b15c-7f95-4697-d16d-a0c79b657b03"
   },
   "outputs": [
    {
     "data": {
      "text/plain": [
       "array([ 1,  0,  3,  2, -1,  4, 20,  5], dtype=int64)"
      ]
     },
     "execution_count": 9,
     "metadata": {},
     "output_type": "execute_result"
    }
   ],
   "source": [
    "data['children'].unique()"
   ]
  },
  {
   "cell_type": "markdown",
   "id": "903df45b",
   "metadata": {
    "deletable": false,
    "editable": false,
    "id": "40b9ebf2"
   },
   "source": [
    "**Задание 9. В столбце `children` есть два аномальных значения. Удалите строки, в которых встречаются такие аномальные значения из датафрейма `data`.**"
   ]
  },
  {
   "cell_type": "code",
   "execution_count": 10,
   "id": "95632fa2",
   "metadata": {
    "id": "3ff9801d"
   },
   "outputs": [],
   "source": [
    "data = data[(data['children'] != -1) & (data['children'] != 20)]"
   ]
  },
  {
   "cell_type": "markdown",
   "id": "d9d82918",
   "metadata": {
    "deletable": false,
    "editable": false,
    "id": "bbc4d0ce"
   },
   "source": [
    "**Задание 10. Ещё раз выведите перечень уникальных значений столбца `children`, чтобы убедиться, что артефакты удалены.**"
   ]
  },
  {
   "cell_type": "code",
   "execution_count": 11,
   "id": "d7228edb",
   "metadata": {
    "id": "ad4fa8b7",
    "outputId": "b2097101-d49d-44d9-901b-32a65c9463d1"
   },
   "outputs": [
    {
     "data": {
      "text/plain": [
       "array([1, 0, 3, 2, 4, 5], dtype=int64)"
      ]
     },
     "execution_count": 11,
     "metadata": {},
     "output_type": "execute_result"
    }
   ],
   "source": [
    "data['children'].unique()"
   ]
  },
  {
   "cell_type": "markdown",
   "id": "b36dc11c",
   "metadata": {
    "deletable": false,
    "editable": false,
    "id": "75440b63"
   },
   "source": [
    "### Удаление пропусков (продолжение)"
   ]
  },
  {
   "cell_type": "markdown",
   "id": "d0952c50",
   "metadata": {
    "deletable": false,
    "editable": false,
    "id": "f4ea573f"
   },
   "source": [
    "**Задание 11. Заполните пропуски в столбце `days_employed` медианными значениями по каждого типа занятости `income_type`.**"
   ]
  },
  {
   "cell_type": "code",
   "execution_count": 12,
   "id": "b2929323",
   "metadata": {
    "id": "af6b1a7e"
   },
   "outputs": [],
   "source": [
    "for t in data['income_type'].unique():\n",
    "    data.loc[(data['income_type'] == t) & (data['days_employed'].isna()), 'days_employed'] = \\\n",
    "    data.loc[(data['income_type'] == t), 'days_employed'].median()"
   ]
  },
  {
   "cell_type": "markdown",
   "id": "0781db2c",
   "metadata": {
    "deletable": false,
    "editable": false,
    "id": "2753f40d"
   },
   "source": [
    "**Задание 12. Убедитесь, что все пропуски заполнены. Проверьте себя и ещё раз выведите количество пропущенных значений для каждого столбца с помощью двух методов.**"
   ]
  },
  {
   "cell_type": "code",
   "execution_count": 13,
   "id": "f2864627",
   "metadata": {
    "id": "55f78bc2",
    "outputId": "8da1e4e1-358e-4e87-98c9-f261bce0a7b2"
   },
   "outputs": [
    {
     "data": {
      "text/plain": [
       "children            0\n",
       "days_employed       0\n",
       "dob_years           0\n",
       "education           0\n",
       "education_id        0\n",
       "family_status       0\n",
       "family_status_id    0\n",
       "gender              0\n",
       "income_type         0\n",
       "debt                0\n",
       "total_income        0\n",
       "purpose             0\n",
       "dtype: int64"
      ]
     },
     "execution_count": 13,
     "metadata": {},
     "output_type": "execute_result"
    }
   ],
   "source": [
    "data.isna().sum()"
   ]
  },
  {
   "cell_type": "markdown",
   "id": "1e678498",
   "metadata": {
    "deletable": false,
    "editable": false,
    "id": "ddc81e43"
   },
   "source": [
    "### Изменение типов данных"
   ]
  },
  {
   "cell_type": "markdown",
   "id": "b5bf0eac",
   "metadata": {
    "deletable": false,
    "editable": false,
    "id": "42d19d24"
   },
   "source": [
    "**Задание 13. Замените вещественный тип данных в столбце `total_income` на целочисленный с помощью метода `astype()`.**"
   ]
  },
  {
   "cell_type": "code",
   "execution_count": 14,
   "id": "ab4529db",
   "metadata": {
    "id": "920b65ad"
   },
   "outputs": [],
   "source": [
    "data['total_income'] = data['total_income'].astype(int)"
   ]
  },
  {
   "cell_type": "markdown",
   "id": "4ee3f10e",
   "metadata": {
    "deletable": false,
    "editable": false,
    "id": "80c420ba"
   },
   "source": [
    "### Обработка дубликатов"
   ]
  },
  {
   "cell_type": "markdown",
   "id": "3cdace61",
   "metadata": {
    "deletable": false,
    "editable": false
   },
   "source": [
    "**Задание 14. Обработайте неявные дубликаты в столбце `education`. В этом столбце есть одни и те же значения, но записанные по-разному: с использованием заглавных и строчных букв. Приведите их к нижнему регистру. Проверьте остальные столбцы.**"
   ]
  },
  {
   "cell_type": "code",
   "execution_count": 15,
   "id": "6065dfbb",
   "metadata": {},
   "outputs": [],
   "source": [
    "data['education'] = data['education'].str.lower()"
   ]
  },
  {
   "cell_type": "markdown",
   "id": "222564bf",
   "metadata": {
    "deletable": false,
    "editable": false,
    "id": "dc587695"
   },
   "source": [
    "**Задание 15. Выведите на экран количество строк-дубликатов в данных. Если такие строки присутствуют, удалите их.**"
   ]
  },
  {
   "cell_type": "code",
   "execution_count": 16,
   "id": "bee6fa87",
   "metadata": {
    "id": "3ee445e4",
    "outputId": "9684deba-1934-42d1-99e1-cda61740f822"
   },
   "outputs": [
    {
     "data": {
      "text/plain": [
       "71"
      ]
     },
     "execution_count": 16,
     "metadata": {},
     "output_type": "execute_result"
    }
   ],
   "source": [
    "data.duplicated().sum()"
   ]
  },
  {
   "cell_type": "code",
   "execution_count": 17,
   "id": "5adab187",
   "metadata": {
    "id": "8575fe05"
   },
   "outputs": [],
   "source": [
    "data = data.drop_duplicates()"
   ]
  },
  {
   "cell_type": "markdown",
   "id": "f36cbd4a",
   "metadata": {
    "deletable": false,
    "editable": false,
    "id": "9904cf55"
   },
   "source": [
    "### Категоризация данных"
   ]
  },
  {
   "cell_type": "markdown",
   "id": "989bcc3e",
   "metadata": {
    "deletable": false,
    "editable": false,
    "id": "72fcc8a2"
   },
   "source": [
    "**Задание 16. На основании диапазонов, указанных ниже, создайте в датафрейме `data` столбец `total_income_category` с категориями:**\n",
    "\n",
    "- 0–30000 — `'E'`;\n",
    "- 30001–50000 — `'D'`;\n",
    "- 50001–200000 — `'C'`;\n",
    "- 200001–1000000 — `'B'`;\n",
    "- 1000001 и выше — `'A'`.\n",
    "\n",
    "\n",
    "**Например, кредитополучателю с доходом 25000 нужно назначить категорию `'E'`, а клиенту, получающему 235000, — `'B'`. Используйте собственную функцию с именем `categorize_income()` и метод `apply()`.**"
   ]
  },
  {
   "cell_type": "code",
   "execution_count": 18,
   "id": "c097e110",
   "metadata": {
    "id": "e1771346"
   },
   "outputs": [],
   "source": [
    "def categorize_income(income):\n",
    "    try:\n",
    "        if 0 <= income <= 30000:\n",
    "            return 'E'\n",
    "        elif 30001 <= income <= 50000:\n",
    "            return 'D'\n",
    "        elif 50001 <= income <= 200000:\n",
    "            return 'C'\n",
    "        elif 200001 <= income <= 1000000:\n",
    "            return 'B'\n",
    "        elif income >= 1000001:\n",
    "            return 'A'\n",
    "    except:\n",
    "        pass"
   ]
  },
  {
   "cell_type": "code",
   "execution_count": 19,
   "id": "3f7517da",
   "metadata": {
    "id": "d5f3586d"
   },
   "outputs": [],
   "source": [
    "data['total_income_category'] = data['total_income'].apply(categorize_income)"
   ]
  },
  {
   "cell_type": "markdown",
   "id": "e67e858b",
   "metadata": {
    "deletable": false,
    "editable": false,
    "id": "dde49b5c"
   },
   "source": [
    "**Задание 17. Выведите на экран перечень уникальных целей взятия кредита из столбца `purpose`.**"
   ]
  },
  {
   "cell_type": "code",
   "execution_count": 20,
   "id": "95e9b60f",
   "metadata": {
    "id": "f67ce9b3",
    "outputId": "673c12d9-7d7e-4ae0-9812-c622c89dd244"
   },
   "outputs": [
    {
     "data": {
      "text/plain": [
       "array(['покупка жилья', 'приобретение автомобиля',\n",
       "       'дополнительное образование', 'сыграть свадьбу',\n",
       "       'операции с жильем', 'образование', 'на проведение свадьбы',\n",
       "       'покупка жилья для семьи', 'покупка недвижимости',\n",
       "       'покупка коммерческой недвижимости', 'покупка жилой недвижимости',\n",
       "       'строительство собственной недвижимости', 'недвижимость',\n",
       "       'строительство недвижимости', 'на покупку подержанного автомобиля',\n",
       "       'на покупку своего автомобиля',\n",
       "       'операции с коммерческой недвижимостью',\n",
       "       'строительство жилой недвижимости', 'жилье',\n",
       "       'операции со своей недвижимостью', 'автомобили',\n",
       "       'заняться образованием', 'сделка с подержанным автомобилем',\n",
       "       'получение образования', 'автомобиль', 'свадьба',\n",
       "       'получение дополнительного образования', 'покупка своего жилья',\n",
       "       'операции с недвижимостью', 'получение высшего образования',\n",
       "       'свой автомобиль', 'сделка с автомобилем',\n",
       "       'профильное образование', 'высшее образование',\n",
       "       'покупка жилья для сдачи', 'на покупку автомобиля', 'ремонт жилью',\n",
       "       'заняться высшим образованием'], dtype=object)"
      ]
     },
     "execution_count": 20,
     "metadata": {},
     "output_type": "execute_result"
    }
   ],
   "source": [
    "data['purpose'].unique()"
   ]
  },
  {
   "cell_type": "markdown",
   "id": "36b4bb61",
   "metadata": {
    "deletable": false,
    "editable": false,
    "id": "85d0aef0"
   },
   "source": [
    "**Задание 18. Создайте функцию, которая на основании данных из столбца `purpose` сформирует новый столбец `purpose_category`, в который войдут следующие категории:**\n",
    "\n",
    "- `'операции с автомобилем'`,\n",
    "- `'операции с недвижимостью'`,\n",
    "- `'проведение свадьбы'`,\n",
    "- `'получение образования'`.\n",
    "\n",
    "**Например, если в столбце `purpose` находится подстрока `'на покупку автомобиля'`, то в столбце `purpose_category` должна появиться строка `'операции с автомобилем'`.**\n",
    "\n",
    "**Используйте собственную функцию с именем `categorize_purpose()` и метод `apply()`. Изучите данные в столбце `purpose` и определите, какие подстроки помогут вам правильно определить категорию.**"
   ]
  },
  {
   "cell_type": "code",
   "execution_count": 21,
   "id": "d8c9b9dc",
   "metadata": {
    "id": "e149fab4"
   },
   "outputs": [],
   "source": [
    "def categorize_purpose(row):\n",
    "    try:\n",
    "        if 'автом' in row:\n",
    "            return 'операции с автомобилем'\n",
    "        elif 'жил' in row or 'недвиж' in row:\n",
    "            return 'операции с недвижимостью'\n",
    "        elif 'свад' in row:\n",
    "            return 'проведение свадьбы'\n",
    "        elif 'образов' in row:\n",
    "            return 'получение образования'\n",
    "    except:\n",
    "        return 'нет категории'"
   ]
  },
  {
   "cell_type": "code",
   "execution_count": 22,
   "id": "0d6b448a",
   "metadata": {
    "id": "bf36e69b"
   },
   "outputs": [],
   "source": [
    "data['purpose_category'] = data['purpose'].apply(categorize_purpose)"
   ]
  },
  {
   "cell_type": "markdown",
   "id": "442cc7e9",
   "metadata": {
    "deletable": false,
    "editable": false,
    "id": "09b242bf"
   },
   "source": [
    "### Шаг 3. Исследуйте данные и ответьте на вопросы"
   ]
  },
  {
   "cell_type": "markdown",
   "id": "3764194b",
   "metadata": {
    "deletable": false,
    "editable": false,
    "id": "c5d66278"
   },
   "source": [
    "#### 3.1 Есть ли зависимость между количеством детей и возвратом кредита в срок?"
   ]
  },
  {
   "cell_type": "markdown",
   "id": "cd6c7cd0",
   "metadata": {},
   "source": [
    "**Посчитаем количество имевших задолженность в зависимости от количества детей.**"
   ]
  },
  {
   "cell_type": "code",
   "execution_count": 24,
   "id": "87255174",
   "metadata": {
    "scrolled": true
   },
   "outputs": [
    {
     "data": {
      "text/html": [
       "<div>\n",
       "<style scoped>\n",
       "    .dataframe tbody tr th:only-of-type {\n",
       "        vertical-align: middle;\n",
       "    }\n",
       "\n",
       "    .dataframe tbody tr th {\n",
       "        vertical-align: top;\n",
       "    }\n",
       "\n",
       "    .dataframe thead tr th {\n",
       "        text-align: left;\n",
       "    }\n",
       "\n",
       "    .dataframe thead tr:last-of-type th {\n",
       "        text-align: right;\n",
       "    }\n",
       "</style>\n",
       "<table border=\"1\" class=\"dataframe\">\n",
       "  <thead>\n",
       "    <tr>\n",
       "      <th></th>\n",
       "      <th>sum</th>\n",
       "      <th>count</th>\n",
       "      <th>mean</th>\n",
       "    </tr>\n",
       "    <tr>\n",
       "      <th></th>\n",
       "      <th>debt</th>\n",
       "      <th>debt</th>\n",
       "      <th>debt</th>\n",
       "    </tr>\n",
       "    <tr>\n",
       "      <th>children</th>\n",
       "      <th></th>\n",
       "      <th></th>\n",
       "      <th></th>\n",
       "    </tr>\n",
       "  </thead>\n",
       "  <tbody>\n",
       "    <tr>\n",
       "      <th>0</th>\n",
       "      <td>1063</td>\n",
       "      <td>14091</td>\n",
       "      <td>0.075438</td>\n",
       "    </tr>\n",
       "    <tr>\n",
       "      <th>1</th>\n",
       "      <td>444</td>\n",
       "      <td>4808</td>\n",
       "      <td>0.092346</td>\n",
       "    </tr>\n",
       "    <tr>\n",
       "      <th>2</th>\n",
       "      <td>194</td>\n",
       "      <td>2052</td>\n",
       "      <td>0.094542</td>\n",
       "    </tr>\n",
       "    <tr>\n",
       "      <th>3</th>\n",
       "      <td>27</td>\n",
       "      <td>330</td>\n",
       "      <td>0.081818</td>\n",
       "    </tr>\n",
       "    <tr>\n",
       "      <th>4</th>\n",
       "      <td>4</td>\n",
       "      <td>41</td>\n",
       "      <td>0.097561</td>\n",
       "    </tr>\n",
       "    <tr>\n",
       "      <th>5</th>\n",
       "      <td>0</td>\n",
       "      <td>9</td>\n",
       "      <td>0.000000</td>\n",
       "    </tr>\n",
       "  </tbody>\n",
       "</table>\n",
       "</div>"
      ],
      "text/plain": [
       "           sum  count      mean\n",
       "          debt   debt      debt\n",
       "children                       \n",
       "0         1063  14091  0.075438\n",
       "1          444   4808  0.092346\n",
       "2          194   2052  0.094542\n",
       "3           27    330  0.081818\n",
       "4            4     41  0.097561\n",
       "5            0      9  0.000000"
      ]
     },
     "execution_count": 24,
     "metadata": {},
     "output_type": "execute_result"
    }
   ],
   "source": [
    "children_dept = pd.pivot_table(data, \n",
    "                               index=['children'], \n",
    "                               values='debt', \n",
    "                               aggfunc=['sum', 'count', 'mean']) # сформируем сводную таблицу, выведем кол-во должников \n",
    "                            # по категориям кол-ва детей, и проанализируем их отношение к общему кол-ву. \n",
    "children_dept\n"
   ]
  },
  {
   "cell_type": "markdown",
   "id": "f714295b",
   "metadata": {},
   "source": [
    "**Добавим столбец с процентом невозврата в категории.**"
   ]
  },
  {
   "cell_type": "code",
   "execution_count": 25,
   "id": "fafed0f7",
   "metadata": {
    "scrolled": true
   },
   "outputs": [
    {
     "data": {
      "text/html": [
       "<div>\n",
       "<style scoped>\n",
       "    .dataframe tbody tr th:only-of-type {\n",
       "        vertical-align: middle;\n",
       "    }\n",
       "\n",
       "    .dataframe tbody tr th {\n",
       "        vertical-align: top;\n",
       "    }\n",
       "\n",
       "    .dataframe thead tr th {\n",
       "        text-align: left;\n",
       "    }\n",
       "\n",
       "    .dataframe thead tr:last-of-type th {\n",
       "        text-align: right;\n",
       "    }\n",
       "</style>\n",
       "<table border=\"1\" class=\"dataframe\">\n",
       "  <thead>\n",
       "    <tr>\n",
       "      <th></th>\n",
       "      <th>sum</th>\n",
       "      <th>count</th>\n",
       "      <th>mean</th>\n",
       "      <th>non_return_percent</th>\n",
       "    </tr>\n",
       "    <tr>\n",
       "      <th></th>\n",
       "      <th>debt</th>\n",
       "      <th>debt</th>\n",
       "      <th>debt</th>\n",
       "      <th></th>\n",
       "    </tr>\n",
       "    <tr>\n",
       "      <th>children</th>\n",
       "      <th></th>\n",
       "      <th></th>\n",
       "      <th></th>\n",
       "      <th></th>\n",
       "    </tr>\n",
       "  </thead>\n",
       "  <tbody>\n",
       "    <tr>\n",
       "      <th>0</th>\n",
       "      <td>1063</td>\n",
       "      <td>14091</td>\n",
       "      <td>0.075438</td>\n",
       "      <td>7.54</td>\n",
       "    </tr>\n",
       "    <tr>\n",
       "      <th>1</th>\n",
       "      <td>444</td>\n",
       "      <td>4808</td>\n",
       "      <td>0.092346</td>\n",
       "      <td>9.23</td>\n",
       "    </tr>\n",
       "    <tr>\n",
       "      <th>2</th>\n",
       "      <td>194</td>\n",
       "      <td>2052</td>\n",
       "      <td>0.094542</td>\n",
       "      <td>9.45</td>\n",
       "    </tr>\n",
       "    <tr>\n",
       "      <th>3</th>\n",
       "      <td>27</td>\n",
       "      <td>330</td>\n",
       "      <td>0.081818</td>\n",
       "      <td>8.18</td>\n",
       "    </tr>\n",
       "    <tr>\n",
       "      <th>4</th>\n",
       "      <td>4</td>\n",
       "      <td>41</td>\n",
       "      <td>0.097561</td>\n",
       "      <td>9.76</td>\n",
       "    </tr>\n",
       "    <tr>\n",
       "      <th>5</th>\n",
       "      <td>0</td>\n",
       "      <td>9</td>\n",
       "      <td>0.000000</td>\n",
       "      <td>0.00</td>\n",
       "    </tr>\n",
       "  </tbody>\n",
       "</table>\n",
       "</div>"
      ],
      "text/plain": [
       "           sum  count      mean non_return_percent\n",
       "          debt   debt      debt                   \n",
       "children                                          \n",
       "0         1063  14091  0.075438               7.54\n",
       "1          444   4808  0.092346               9.23\n",
       "2          194   2052  0.094542               9.45\n",
       "3           27    330  0.081818               8.18\n",
       "4            4     41  0.097561               9.76\n",
       "5            0      9  0.000000               0.00"
      ]
     },
     "execution_count": 25,
     "metadata": {},
     "output_type": "execute_result"
    }
   ],
   "source": [
    "children_dept['non_return_percent'] = round(children_dept['mean'] * 100, 2) \n",
    "children_dept"
   ]
  },
  {
   "cell_type": "markdown",
   "id": "5f1c6682",
   "metadata": {},
   "source": [
    "**Добавим столбец с отношением общего кол-ва в категории к общему количеству клиентов. Чтобы понять какую долю эти клиенты составляют в общем количестве клиентов.**"
   ]
  },
  {
   "cell_type": "code",
   "execution_count": 26,
   "id": "57714a65",
   "metadata": {
    "scrolled": true
   },
   "outputs": [
    {
     "data": {
      "text/html": [
       "<div>\n",
       "<style scoped>\n",
       "    .dataframe tbody tr th:only-of-type {\n",
       "        vertical-align: middle;\n",
       "    }\n",
       "\n",
       "    .dataframe tbody tr th {\n",
       "        vertical-align: top;\n",
       "    }\n",
       "\n",
       "    .dataframe thead tr th {\n",
       "        text-align: left;\n",
       "    }\n",
       "\n",
       "    .dataframe thead tr:last-of-type th {\n",
       "        text-align: right;\n",
       "    }\n",
       "</style>\n",
       "<table border=\"1\" class=\"dataframe\">\n",
       "  <thead>\n",
       "    <tr>\n",
       "      <th></th>\n",
       "      <th>sum</th>\n",
       "      <th>count</th>\n",
       "      <th>mean</th>\n",
       "      <th>non_return_percent</th>\n",
       "      <th>percent_of_dept</th>\n",
       "    </tr>\n",
       "    <tr>\n",
       "      <th></th>\n",
       "      <th>debt</th>\n",
       "      <th>debt</th>\n",
       "      <th>debt</th>\n",
       "      <th></th>\n",
       "      <th></th>\n",
       "    </tr>\n",
       "    <tr>\n",
       "      <th>children</th>\n",
       "      <th></th>\n",
       "      <th></th>\n",
       "      <th></th>\n",
       "      <th></th>\n",
       "      <th></th>\n",
       "    </tr>\n",
       "  </thead>\n",
       "  <tbody>\n",
       "    <tr>\n",
       "      <th>0</th>\n",
       "      <td>1063</td>\n",
       "      <td>14091</td>\n",
       "      <td>0.075438</td>\n",
       "      <td>7.54</td>\n",
       "      <td>66.06</td>\n",
       "    </tr>\n",
       "    <tr>\n",
       "      <th>1</th>\n",
       "      <td>444</td>\n",
       "      <td>4808</td>\n",
       "      <td>0.092346</td>\n",
       "      <td>9.23</td>\n",
       "      <td>22.54</td>\n",
       "    </tr>\n",
       "    <tr>\n",
       "      <th>2</th>\n",
       "      <td>194</td>\n",
       "      <td>2052</td>\n",
       "      <td>0.094542</td>\n",
       "      <td>9.45</td>\n",
       "      <td>9.62</td>\n",
       "    </tr>\n",
       "    <tr>\n",
       "      <th>3</th>\n",
       "      <td>27</td>\n",
       "      <td>330</td>\n",
       "      <td>0.081818</td>\n",
       "      <td>8.18</td>\n",
       "      <td>1.55</td>\n",
       "    </tr>\n",
       "    <tr>\n",
       "      <th>4</th>\n",
       "      <td>4</td>\n",
       "      <td>41</td>\n",
       "      <td>0.097561</td>\n",
       "      <td>9.76</td>\n",
       "      <td>0.19</td>\n",
       "    </tr>\n",
       "    <tr>\n",
       "      <th>5</th>\n",
       "      <td>0</td>\n",
       "      <td>9</td>\n",
       "      <td>0.000000</td>\n",
       "      <td>0.00</td>\n",
       "      <td>0.04</td>\n",
       "    </tr>\n",
       "  </tbody>\n",
       "</table>\n",
       "</div>"
      ],
      "text/plain": [
       "           sum  count      mean non_return_percent percent_of_dept\n",
       "          debt   debt      debt                                   \n",
       "children                                                          \n",
       "0         1063  14091  0.075438               7.54           66.06\n",
       "1          444   4808  0.092346               9.23           22.54\n",
       "2          194   2052  0.094542               9.45            9.62\n",
       "3           27    330  0.081818               8.18            1.55\n",
       "4            4     41  0.097561               9.76            0.19\n",
       "5            0      9  0.000000               0.00            0.04"
      ]
     },
     "execution_count": 26,
     "metadata": {},
     "output_type": "execute_result"
    }
   ],
   "source": [
    "children_dept['percent_of_dept'] = round(data.groupby('children')['debt'].count() / data.groupby('children')['debt'].count().sum() * 100, 2)\n",
    "children_dept"
   ]
  },
  {
   "cell_type": "markdown",
   "id": "c132746b",
   "metadata": {},
   "source": [
    "**Отсортируем столбец с процентами невернувших в категории по убыванию.**"
   ]
  },
  {
   "cell_type": "code",
   "execution_count": 27,
   "id": "aac52984",
   "metadata": {
    "id": "2cacfc4a",
    "scrolled": true
   },
   "outputs": [
    {
     "data": {
      "text/html": [
       "<div>\n",
       "<style scoped>\n",
       "    .dataframe tbody tr th:only-of-type {\n",
       "        vertical-align: middle;\n",
       "    }\n",
       "\n",
       "    .dataframe tbody tr th {\n",
       "        vertical-align: top;\n",
       "    }\n",
       "\n",
       "    .dataframe thead tr th {\n",
       "        text-align: left;\n",
       "    }\n",
       "\n",
       "    .dataframe thead tr:last-of-type th {\n",
       "        text-align: right;\n",
       "    }\n",
       "</style>\n",
       "<table border=\"1\" class=\"dataframe\">\n",
       "  <thead>\n",
       "    <tr>\n",
       "      <th></th>\n",
       "      <th>sum</th>\n",
       "      <th>count</th>\n",
       "      <th>mean</th>\n",
       "      <th>non_return_percent</th>\n",
       "      <th>percent_of_dept</th>\n",
       "    </tr>\n",
       "    <tr>\n",
       "      <th></th>\n",
       "      <th>debt</th>\n",
       "      <th>debt</th>\n",
       "      <th>debt</th>\n",
       "      <th></th>\n",
       "      <th></th>\n",
       "    </tr>\n",
       "    <tr>\n",
       "      <th>children</th>\n",
       "      <th></th>\n",
       "      <th></th>\n",
       "      <th></th>\n",
       "      <th></th>\n",
       "      <th></th>\n",
       "    </tr>\n",
       "  </thead>\n",
       "  <tbody>\n",
       "    <tr>\n",
       "      <th>4</th>\n",
       "      <td>4</td>\n",
       "      <td>41</td>\n",
       "      <td>0.097561</td>\n",
       "      <td>9.76</td>\n",
       "      <td>0.19</td>\n",
       "    </tr>\n",
       "    <tr>\n",
       "      <th>2</th>\n",
       "      <td>194</td>\n",
       "      <td>2052</td>\n",
       "      <td>0.094542</td>\n",
       "      <td>9.45</td>\n",
       "      <td>9.62</td>\n",
       "    </tr>\n",
       "    <tr>\n",
       "      <th>1</th>\n",
       "      <td>444</td>\n",
       "      <td>4808</td>\n",
       "      <td>0.092346</td>\n",
       "      <td>9.23</td>\n",
       "      <td>22.54</td>\n",
       "    </tr>\n",
       "    <tr>\n",
       "      <th>3</th>\n",
       "      <td>27</td>\n",
       "      <td>330</td>\n",
       "      <td>0.081818</td>\n",
       "      <td>8.18</td>\n",
       "      <td>1.55</td>\n",
       "    </tr>\n",
       "    <tr>\n",
       "      <th>0</th>\n",
       "      <td>1063</td>\n",
       "      <td>14091</td>\n",
       "      <td>0.075438</td>\n",
       "      <td>7.54</td>\n",
       "      <td>66.06</td>\n",
       "    </tr>\n",
       "    <tr>\n",
       "      <th>5</th>\n",
       "      <td>0</td>\n",
       "      <td>9</td>\n",
       "      <td>0.000000</td>\n",
       "      <td>0.00</td>\n",
       "      <td>0.04</td>\n",
       "    </tr>\n",
       "  </tbody>\n",
       "</table>\n",
       "</div>"
      ],
      "text/plain": [
       "           sum  count      mean non_return_percent percent_of_dept\n",
       "          debt   debt      debt                                   \n",
       "children                                                          \n",
       "4            4     41  0.097561               9.76            0.19\n",
       "2          194   2052  0.094542               9.45            9.62\n",
       "1          444   4808  0.092346               9.23           22.54\n",
       "3           27    330  0.081818               8.18            1.55\n",
       "0         1063  14091  0.075438               7.54           66.06\n",
       "5            0      9  0.000000               0.00            0.04"
      ]
     },
     "execution_count": 27,
     "metadata": {},
     "output_type": "execute_result"
    }
   ],
   "source": [
    "children_dept.sort_values('non_return_percent', ascending=False) "
   ]
  },
  {
   "cell_type": "markdown",
   "id": "8a2c2e7a",
   "metadata": {},
   "source": [
    "Визуализируем зависимость."
   ]
  },
  {
   "cell_type": "code",
   "execution_count": 28,
   "id": "eebe9c25",
   "metadata": {},
   "outputs": [
    {
     "data": {
      "image/png": "[encoded data removed]",
      "text/plain": [
       "<Figure size 800x320 with 1 Axes>"
      ]
     },
     "metadata": {},
     "output_type": "display_data"
    }
   ],
   "source": [
    "# готовим данные для подсчёта кредитов в зависимости от количества детей\n",
    "data_ch = data.groupby('children')[['children']].count()\n",
    "# применяем стиль whitegrid из библиотеки seaborn\n",
    "sns.set_style('whitegrid')\n",
    "# назначаем размер графика\n",
    "plt.figure(figsize=(10, 4))\n",
    "# строим линейный график средствами seaborn\n",
    "sns.lineplot(x=data_ch.index, y='children', data=data_ch, marker='D')\n",
    "# формируем заголовок графика и подписи осей средствами matplotlib\n",
    "plt.title('График зависимости количества кредитов от количества детей')\n",
    "plt.xlabel('Количество детей')\n",
    "plt.ylabel('Количество кредитов')\n",
    "# отображаем график на экране\n",
    "plt.show()"
   ]
  },
  {
   "cell_type": "markdown",
   "id": "14eb6c6d",
   "metadata": {
    "id": "3a6b99ec"
   },
   "source": [
    "**Из проведенного анализа видно, что присутствует зависимость задолженности от количества детей у заемщиков. Но из-за того, что группы клиентов с 3 и более детьмы слишком малочисленны (менее 1,6% от общего объема клиентов) учитывать данные по ним не совсем корректно.**\n",
    "\n",
    "**Таким образом можно сделать следующий вывод:**\n",
    "\n",
    "**- самый большой процент невозврата у клиентов с 2-мя детьми, но доля таких клиентов в общем объеме составляет около 10%**\n",
    "\n",
    "**- чуть ниже процент невозврата у клиентов 1-м ребенком. И надо обратить внимание, что доля клентов с 1 ребенком составляет почти 23% от всех клиентов;**\n",
    "\n",
    "**- ниже всего процент невозврата у клиентов без детей. И их доля от общего объема самая большая - более 66%**"
   ]
  },
  {
   "cell_type": "markdown",
   "id": "09ff0d68",
   "metadata": {
    "deletable": false,
    "editable": false,
    "id": "97be82ca"
   },
   "source": [
    "#### 3.2 Есть ли зависимость между семейным положением и возвратом кредита в срок?"
   ]
  },
  {
   "cell_type": "markdown",
   "id": "d48d40ae",
   "metadata": {
    "id": "dc3f7ee8"
   },
   "source": [
    "**Проверим соотносится ли показатель family_status_id к family_status, чтобы быть уверенным, что можно фильтровать по любому из пареметров.**"
   ]
  },
  {
   "cell_type": "code",
   "execution_count": 29,
   "id": "37a80af4",
   "metadata": {
    "scrolled": true
   },
   "outputs": [
    {
     "data": {
      "text/html": [
       "<div>\n",
       "<style scoped>\n",
       "    .dataframe tbody tr th:only-of-type {\n",
       "        vertical-align: middle;\n",
       "    }\n",
       "\n",
       "    .dataframe tbody tr th {\n",
       "        vertical-align: top;\n",
       "    }\n",
       "\n",
       "    .dataframe thead th {\n",
       "        text-align: right;\n",
       "    }\n",
       "</style>\n",
       "<table border=\"1\" class=\"dataframe\">\n",
       "  <thead>\n",
       "    <tr style=\"text-align: right;\">\n",
       "      <th></th>\n",
       "      <th>family_status</th>\n",
       "      <th>family_status_id</th>\n",
       "    </tr>\n",
       "  </thead>\n",
       "  <tbody>\n",
       "    <tr>\n",
       "      <th>0</th>\n",
       "      <td>женат / замужем</td>\n",
       "      <td>0</td>\n",
       "    </tr>\n",
       "    <tr>\n",
       "      <th>4</th>\n",
       "      <td>гражданский брак</td>\n",
       "      <td>1</td>\n",
       "    </tr>\n",
       "    <tr>\n",
       "      <th>18</th>\n",
       "      <td>вдовец / вдова</td>\n",
       "      <td>2</td>\n",
       "    </tr>\n",
       "    <tr>\n",
       "      <th>19</th>\n",
       "      <td>в разводе</td>\n",
       "      <td>3</td>\n",
       "    </tr>\n",
       "    <tr>\n",
       "      <th>24</th>\n",
       "      <td>Не женат / не замужем</td>\n",
       "      <td>4</td>\n",
       "    </tr>\n",
       "  </tbody>\n",
       "</table>\n",
       "</div>"
      ],
      "text/plain": [
       "            family_status  family_status_id\n",
       "0         женат / замужем                 0\n",
       "4        гражданский брак                 1\n",
       "18         вдовец / вдова                 2\n",
       "19              в разводе                 3\n",
       "24  Не женат / не замужем                 4"
      ]
     },
     "execution_count": 29,
     "metadata": {},
     "output_type": "execute_result"
    }
   ],
   "source": [
    "data[['family_status', 'family_status_id']].drop_duplicates()"
   ]
  },
  {
   "cell_type": "markdown",
   "id": "b6ea7bab",
   "metadata": {},
   "source": [
    "**Мы увидели, что значения в столбцах family_status и family_status_id сопоставимы.**"
   ]
  },
  {
   "cell_type": "markdown",
   "id": "169c4474",
   "metadata": {},
   "source": [
    "**Сформируем сводную таблицу, выведем кол-во должников по категориям в зависимости от семейного положения, и проанализируем их отношение к общему кол-ву.**\n"
   ]
  },
  {
   "cell_type": "code",
   "execution_count": 30,
   "id": "5800e78d",
   "metadata": {},
   "outputs": [
    {
     "data": {
      "text/html": [
       "<div>\n",
       "<style scoped>\n",
       "    .dataframe tbody tr th:only-of-type {\n",
       "        vertical-align: middle;\n",
       "    }\n",
       "\n",
       "    .dataframe tbody tr th {\n",
       "        vertical-align: top;\n",
       "    }\n",
       "\n",
       "    .dataframe thead tr th {\n",
       "        text-align: left;\n",
       "    }\n",
       "\n",
       "    .dataframe thead tr:last-of-type th {\n",
       "        text-align: right;\n",
       "    }\n",
       "</style>\n",
       "<table border=\"1\" class=\"dataframe\">\n",
       "  <thead>\n",
       "    <tr>\n",
       "      <th></th>\n",
       "      <th>sum</th>\n",
       "      <th>count</th>\n",
       "      <th>mean</th>\n",
       "    </tr>\n",
       "    <tr>\n",
       "      <th></th>\n",
       "      <th>debt</th>\n",
       "      <th>debt</th>\n",
       "      <th>debt</th>\n",
       "    </tr>\n",
       "    <tr>\n",
       "      <th>family_status</th>\n",
       "      <th></th>\n",
       "      <th></th>\n",
       "      <th></th>\n",
       "    </tr>\n",
       "  </thead>\n",
       "  <tbody>\n",
       "    <tr>\n",
       "      <th>Не женат / не замужем</th>\n",
       "      <td>273</td>\n",
       "      <td>2796</td>\n",
       "      <td>0.097639</td>\n",
       "    </tr>\n",
       "    <tr>\n",
       "      <th>в разводе</th>\n",
       "      <td>84</td>\n",
       "      <td>1189</td>\n",
       "      <td>0.070648</td>\n",
       "    </tr>\n",
       "    <tr>\n",
       "      <th>вдовец / вдова</th>\n",
       "      <td>63</td>\n",
       "      <td>951</td>\n",
       "      <td>0.066246</td>\n",
       "    </tr>\n",
       "    <tr>\n",
       "      <th>гражданский брак</th>\n",
       "      <td>385</td>\n",
       "      <td>4134</td>\n",
       "      <td>0.093130</td>\n",
       "    </tr>\n",
       "    <tr>\n",
       "      <th>женат / замужем</th>\n",
       "      <td>927</td>\n",
       "      <td>12261</td>\n",
       "      <td>0.075606</td>\n",
       "    </tr>\n",
       "  </tbody>\n",
       "</table>\n",
       "</div>"
      ],
      "text/plain": [
       "                       sum  count      mean\n",
       "                      debt   debt      debt\n",
       "family_status                              \n",
       "Не женат / не замужем  273   2796  0.097639\n",
       "в разводе               84   1189  0.070648\n",
       "вдовец / вдова          63    951  0.066246\n",
       "гражданский брак       385   4134  0.093130\n",
       "женат / замужем        927  12261  0.075606"
      ]
     },
     "execution_count": 30,
     "metadata": {},
     "output_type": "execute_result"
    }
   ],
   "source": [
    "fstatus_dept = pd.pivot_table(data, \n",
    "                              index=['family_status'], \n",
    "                              values='debt', \n",
    "                              aggfunc=['sum', 'count', 'mean']) \n",
    "fstatus_dept"
   ]
  },
  {
   "cell_type": "markdown",
   "id": "81182c15",
   "metadata": {},
   "source": [
    "**Добавим столбец с процентом невозврата в категории.**"
   ]
  },
  {
   "cell_type": "code",
   "execution_count": 31,
   "id": "93b9787a",
   "metadata": {
    "scrolled": false
   },
   "outputs": [
    {
     "data": {
      "text/html": [
       "<div>\n",
       "<style scoped>\n",
       "    .dataframe tbody tr th:only-of-type {\n",
       "        vertical-align: middle;\n",
       "    }\n",
       "\n",
       "    .dataframe tbody tr th {\n",
       "        vertical-align: top;\n",
       "    }\n",
       "\n",
       "    .dataframe thead tr th {\n",
       "        text-align: left;\n",
       "    }\n",
       "\n",
       "    .dataframe thead tr:last-of-type th {\n",
       "        text-align: right;\n",
       "    }\n",
       "</style>\n",
       "<table border=\"1\" class=\"dataframe\">\n",
       "  <thead>\n",
       "    <tr>\n",
       "      <th></th>\n",
       "      <th>sum</th>\n",
       "      <th>count</th>\n",
       "      <th>mean</th>\n",
       "      <th>non_return_percent</th>\n",
       "    </tr>\n",
       "    <tr>\n",
       "      <th></th>\n",
       "      <th>debt</th>\n",
       "      <th>debt</th>\n",
       "      <th>debt</th>\n",
       "      <th></th>\n",
       "    </tr>\n",
       "    <tr>\n",
       "      <th>family_status</th>\n",
       "      <th></th>\n",
       "      <th></th>\n",
       "      <th></th>\n",
       "      <th></th>\n",
       "    </tr>\n",
       "  </thead>\n",
       "  <tbody>\n",
       "    <tr>\n",
       "      <th>Не женат / не замужем</th>\n",
       "      <td>273</td>\n",
       "      <td>2796</td>\n",
       "      <td>0.097639</td>\n",
       "      <td>9.76</td>\n",
       "    </tr>\n",
       "    <tr>\n",
       "      <th>в разводе</th>\n",
       "      <td>84</td>\n",
       "      <td>1189</td>\n",
       "      <td>0.070648</td>\n",
       "      <td>7.06</td>\n",
       "    </tr>\n",
       "    <tr>\n",
       "      <th>вдовец / вдова</th>\n",
       "      <td>63</td>\n",
       "      <td>951</td>\n",
       "      <td>0.066246</td>\n",
       "      <td>6.62</td>\n",
       "    </tr>\n",
       "    <tr>\n",
       "      <th>гражданский брак</th>\n",
       "      <td>385</td>\n",
       "      <td>4134</td>\n",
       "      <td>0.093130</td>\n",
       "      <td>9.31</td>\n",
       "    </tr>\n",
       "    <tr>\n",
       "      <th>женат / замужем</th>\n",
       "      <td>927</td>\n",
       "      <td>12261</td>\n",
       "      <td>0.075606</td>\n",
       "      <td>7.56</td>\n",
       "    </tr>\n",
       "  </tbody>\n",
       "</table>\n",
       "</div>"
      ],
      "text/plain": [
       "                       sum  count      mean non_return_percent\n",
       "                      debt   debt      debt                   \n",
       "family_status                                                 \n",
       "Не женат / не замужем  273   2796  0.097639               9.76\n",
       "в разводе               84   1189  0.070648               7.06\n",
       "вдовец / вдова          63    951  0.066246               6.62\n",
       "гражданский брак       385   4134  0.093130               9.31\n",
       "женат / замужем        927  12261  0.075606               7.56"
      ]
     },
     "execution_count": 31,
     "metadata": {},
     "output_type": "execute_result"
    }
   ],
   "source": [
    "fstatus_dept['non_return_percent'] = round(fstatus_dept['mean'] * 100, 2)\n",
    "fstatus_dept"
   ]
  },
  {
   "cell_type": "markdown",
   "id": "7bc98514",
   "metadata": {},
   "source": [
    "**Добавим столбец с отношением общего кол-ва в категории к общему количеству клиентов. Чтобы понять какую долю эти клиенты составляют в общем количестве клиентов.**"
   ]
  },
  {
   "cell_type": "code",
   "execution_count": 32,
   "id": "aedfb78f",
   "metadata": {},
   "outputs": [
    {
     "data": {
      "text/html": [
       "<div>\n",
       "<style scoped>\n",
       "    .dataframe tbody tr th:only-of-type {\n",
       "        vertical-align: middle;\n",
       "    }\n",
       "\n",
       "    .dataframe tbody tr th {\n",
       "        vertical-align: top;\n",
       "    }\n",
       "\n",
       "    .dataframe thead tr th {\n",
       "        text-align: left;\n",
       "    }\n",
       "\n",
       "    .dataframe thead tr:last-of-type th {\n",
       "        text-align: right;\n",
       "    }\n",
       "</style>\n",
       "<table border=\"1\" class=\"dataframe\">\n",
       "  <thead>\n",
       "    <tr>\n",
       "      <th></th>\n",
       "      <th>sum</th>\n",
       "      <th>count</th>\n",
       "      <th>mean</th>\n",
       "      <th>non_return_percent</th>\n",
       "      <th>percent_of_dept</th>\n",
       "    </tr>\n",
       "    <tr>\n",
       "      <th></th>\n",
       "      <th>debt</th>\n",
       "      <th>debt</th>\n",
       "      <th>debt</th>\n",
       "      <th></th>\n",
       "      <th></th>\n",
       "    </tr>\n",
       "    <tr>\n",
       "      <th>family_status</th>\n",
       "      <th></th>\n",
       "      <th></th>\n",
       "      <th></th>\n",
       "      <th></th>\n",
       "      <th></th>\n",
       "    </tr>\n",
       "  </thead>\n",
       "  <tbody>\n",
       "    <tr>\n",
       "      <th>Не женат / не замужем</th>\n",
       "      <td>273</td>\n",
       "      <td>2796</td>\n",
       "      <td>0.097639</td>\n",
       "      <td>9.76</td>\n",
       "      <td>13.11</td>\n",
       "    </tr>\n",
       "    <tr>\n",
       "      <th>в разводе</th>\n",
       "      <td>84</td>\n",
       "      <td>1189</td>\n",
       "      <td>0.070648</td>\n",
       "      <td>7.06</td>\n",
       "      <td>5.57</td>\n",
       "    </tr>\n",
       "    <tr>\n",
       "      <th>вдовец / вдова</th>\n",
       "      <td>63</td>\n",
       "      <td>951</td>\n",
       "      <td>0.066246</td>\n",
       "      <td>6.62</td>\n",
       "      <td>4.46</td>\n",
       "    </tr>\n",
       "    <tr>\n",
       "      <th>гражданский брак</th>\n",
       "      <td>385</td>\n",
       "      <td>4134</td>\n",
       "      <td>0.093130</td>\n",
       "      <td>9.31</td>\n",
       "      <td>19.38</td>\n",
       "    </tr>\n",
       "    <tr>\n",
       "      <th>женат / замужем</th>\n",
       "      <td>927</td>\n",
       "      <td>12261</td>\n",
       "      <td>0.075606</td>\n",
       "      <td>7.56</td>\n",
       "      <td>57.48</td>\n",
       "    </tr>\n",
       "  </tbody>\n",
       "</table>\n",
       "</div>"
      ],
      "text/plain": [
       "                       sum  count      mean non_return_percent percent_of_dept\n",
       "                      debt   debt      debt                                   \n",
       "family_status                                                                 \n",
       "Не женат / не замужем  273   2796  0.097639               9.76           13.11\n",
       "в разводе               84   1189  0.070648               7.06            5.57\n",
       "вдовец / вдова          63    951  0.066246               6.62            4.46\n",
       "гражданский брак       385   4134  0.093130               9.31           19.38\n",
       "женат / замужем        927  12261  0.075606               7.56           57.48"
      ]
     },
     "execution_count": 32,
     "metadata": {},
     "output_type": "execute_result"
    }
   ],
   "source": [
    "fstatus_dept['percent_of_dept'] = round(data.groupby('family_status')['debt'].count() / data.groupby('family_status')['debt'].count().sum() * 100, 2)\n",
    "fstatus_dept"
   ]
  },
  {
   "cell_type": "markdown",
   "id": "03f92666",
   "metadata": {},
   "source": [
    "**Отсортируем столбец с процентами невернувших в категории по убыванию.**"
   ]
  },
  {
   "cell_type": "code",
   "execution_count": 33,
   "id": "c6c69667",
   "metadata": {
    "scrolled": false
   },
   "outputs": [
    {
     "data": {
      "text/html": [
       "<div>\n",
       "<style scoped>\n",
       "    .dataframe tbody tr th:only-of-type {\n",
       "        vertical-align: middle;\n",
       "    }\n",
       "\n",
       "    .dataframe tbody tr th {\n",
       "        vertical-align: top;\n",
       "    }\n",
       "\n",
       "    .dataframe thead tr th {\n",
       "        text-align: left;\n",
       "    }\n",
       "\n",
       "    .dataframe thead tr:last-of-type th {\n",
       "        text-align: right;\n",
       "    }\n",
       "</style>\n",
       "<table border=\"1\" class=\"dataframe\">\n",
       "  <thead>\n",
       "    <tr>\n",
       "      <th></th>\n",
       "      <th>sum</th>\n",
       "      <th>count</th>\n",
       "      <th>mean</th>\n",
       "      <th>non_return_percent</th>\n",
       "      <th>percent_of_dept</th>\n",
       "    </tr>\n",
       "    <tr>\n",
       "      <th></th>\n",
       "      <th>debt</th>\n",
       "      <th>debt</th>\n",
       "      <th>debt</th>\n",
       "      <th></th>\n",
       "      <th></th>\n",
       "    </tr>\n",
       "    <tr>\n",
       "      <th>family_status</th>\n",
       "      <th></th>\n",
       "      <th></th>\n",
       "      <th></th>\n",
       "      <th></th>\n",
       "      <th></th>\n",
       "    </tr>\n",
       "  </thead>\n",
       "  <tbody>\n",
       "    <tr>\n",
       "      <th>Не женат / не замужем</th>\n",
       "      <td>273</td>\n",
       "      <td>2796</td>\n",
       "      <td>0.097639</td>\n",
       "      <td>9.76</td>\n",
       "      <td>13.11</td>\n",
       "    </tr>\n",
       "    <tr>\n",
       "      <th>гражданский брак</th>\n",
       "      <td>385</td>\n",
       "      <td>4134</td>\n",
       "      <td>0.093130</td>\n",
       "      <td>9.31</td>\n",
       "      <td>19.38</td>\n",
       "    </tr>\n",
       "    <tr>\n",
       "      <th>женат / замужем</th>\n",
       "      <td>927</td>\n",
       "      <td>12261</td>\n",
       "      <td>0.075606</td>\n",
       "      <td>7.56</td>\n",
       "      <td>57.48</td>\n",
       "    </tr>\n",
       "    <tr>\n",
       "      <th>в разводе</th>\n",
       "      <td>84</td>\n",
       "      <td>1189</td>\n",
       "      <td>0.070648</td>\n",
       "      <td>7.06</td>\n",
       "      <td>5.57</td>\n",
       "    </tr>\n",
       "    <tr>\n",
       "      <th>вдовец / вдова</th>\n",
       "      <td>63</td>\n",
       "      <td>951</td>\n",
       "      <td>0.066246</td>\n",
       "      <td>6.62</td>\n",
       "      <td>4.46</td>\n",
       "    </tr>\n",
       "  </tbody>\n",
       "</table>\n",
       "</div>"
      ],
      "text/plain": [
       "                       sum  count      mean non_return_percent percent_of_dept\n",
       "                      debt   debt      debt                                   \n",
       "family_status                                                                 \n",
       "Не женат / не замужем  273   2796  0.097639               9.76           13.11\n",
       "гражданский брак       385   4134  0.093130               9.31           19.38\n",
       "женат / замужем        927  12261  0.075606               7.56           57.48\n",
       "в разводе               84   1189  0.070648               7.06            5.57\n",
       "вдовец / вдова          63    951  0.066246               6.62            4.46"
      ]
     },
     "execution_count": 33,
     "metadata": {},
     "output_type": "execute_result"
    }
   ],
   "source": [
    "fstatus_dept.sort_values('non_return_percent', ascending=False) "
   ]
  },
  {
   "cell_type": "markdown",
   "id": "d3597708",
   "metadata": {},
   "source": [
    "**Из проведенного анализа нет четкого понимания о присутствии зависимости невозврата в срок и семейного положения. Попробуем сгруппировать категории в подкатегории - состояли в браке и не состояли.**"
   ]
  },
  {
   "cell_type": "code",
   "execution_count": 34,
   "id": "b3e47c5b",
   "metadata": {},
   "outputs": [],
   "source": [
    "def categorize_fstat(ind):\n",
    "    try:\n",
    "        if 'Не женат / не замужем' in ind or 'гражданский брак' in ind:\n",
    "            return 'не состояли в браке'\n",
    "        elif 'женат / замужем' in ind or 'в разводе' in ind or 'вдовец / вдова' in ind:\n",
    "            return 'состояли в браке'\n",
    "    except:\n",
    "        return 'проверить'\n",
    "    \n",
    "data['fstatus_category'] = data['family_status'].apply(categorize_fstat)"
   ]
  },
  {
   "cell_type": "code",
   "execution_count": 35,
   "id": "a697ab4f",
   "metadata": {
    "scrolled": true
   },
   "outputs": [
    {
     "data": {
      "text/html": [
       "<div>\n",
       "<style scoped>\n",
       "    .dataframe tbody tr th:only-of-type {\n",
       "        vertical-align: middle;\n",
       "    }\n",
       "\n",
       "    .dataframe tbody tr th {\n",
       "        vertical-align: top;\n",
       "    }\n",
       "\n",
       "    .dataframe thead tr th {\n",
       "        text-align: left;\n",
       "    }\n",
       "\n",
       "    .dataframe thead tr:last-of-type th {\n",
       "        text-align: right;\n",
       "    }\n",
       "</style>\n",
       "<table border=\"1\" class=\"dataframe\">\n",
       "  <thead>\n",
       "    <tr>\n",
       "      <th></th>\n",
       "      <th>sum</th>\n",
       "      <th>count</th>\n",
       "      <th>mean</th>\n",
       "    </tr>\n",
       "    <tr>\n",
       "      <th></th>\n",
       "      <th>debt</th>\n",
       "      <th>debt</th>\n",
       "      <th>debt</th>\n",
       "    </tr>\n",
       "    <tr>\n",
       "      <th>fstatus_category</th>\n",
       "      <th></th>\n",
       "      <th></th>\n",
       "      <th></th>\n",
       "    </tr>\n",
       "  </thead>\n",
       "  <tbody>\n",
       "    <tr>\n",
       "      <th>не состояли в браке</th>\n",
       "      <td>658</td>\n",
       "      <td>6930</td>\n",
       "      <td>0.094949</td>\n",
       "    </tr>\n",
       "    <tr>\n",
       "      <th>состояли в браке</th>\n",
       "      <td>1074</td>\n",
       "      <td>14401</td>\n",
       "      <td>0.074578</td>\n",
       "    </tr>\n",
       "  </tbody>\n",
       "</table>\n",
       "</div>"
      ],
      "text/plain": [
       "                      sum  count      mean\n",
       "                     debt   debt      debt\n",
       "fstatus_category                          \n",
       "не состояли в браке   658   6930  0.094949\n",
       "состояли в браке     1074  14401  0.074578"
      ]
     },
     "execution_count": 35,
     "metadata": {},
     "output_type": "execute_result"
    }
   ],
   "source": [
    "fstatus_dept = pd.pivot_table(data, \n",
    "                              index=['fstatus_category'], \n",
    "                              values='debt', \n",
    "                              aggfunc=['sum', 'count', 'mean']) \n",
    "fstatus_dept"
   ]
  },
  {
   "cell_type": "code",
   "execution_count": 36,
   "id": "f943573f",
   "metadata": {},
   "outputs": [
    {
     "data": {
      "text/html": [
       "<div>\n",
       "<style scoped>\n",
       "    .dataframe tbody tr th:only-of-type {\n",
       "        vertical-align: middle;\n",
       "    }\n",
       "\n",
       "    .dataframe tbody tr th {\n",
       "        vertical-align: top;\n",
       "    }\n",
       "\n",
       "    .dataframe thead tr th {\n",
       "        text-align: left;\n",
       "    }\n",
       "\n",
       "    .dataframe thead tr:last-of-type th {\n",
       "        text-align: right;\n",
       "    }\n",
       "</style>\n",
       "<table border=\"1\" class=\"dataframe\">\n",
       "  <thead>\n",
       "    <tr>\n",
       "      <th></th>\n",
       "      <th>sum</th>\n",
       "      <th>count</th>\n",
       "      <th>mean</th>\n",
       "      <th>non_return_percent</th>\n",
       "    </tr>\n",
       "    <tr>\n",
       "      <th></th>\n",
       "      <th>debt</th>\n",
       "      <th>debt</th>\n",
       "      <th>debt</th>\n",
       "      <th></th>\n",
       "    </tr>\n",
       "    <tr>\n",
       "      <th>fstatus_category</th>\n",
       "      <th></th>\n",
       "      <th></th>\n",
       "      <th></th>\n",
       "      <th></th>\n",
       "    </tr>\n",
       "  </thead>\n",
       "  <tbody>\n",
       "    <tr>\n",
       "      <th>не состояли в браке</th>\n",
       "      <td>658</td>\n",
       "      <td>6930</td>\n",
       "      <td>0.094949</td>\n",
       "      <td>9.49</td>\n",
       "    </tr>\n",
       "    <tr>\n",
       "      <th>состояли в браке</th>\n",
       "      <td>1074</td>\n",
       "      <td>14401</td>\n",
       "      <td>0.074578</td>\n",
       "      <td>7.46</td>\n",
       "    </tr>\n",
       "  </tbody>\n",
       "</table>\n",
       "</div>"
      ],
      "text/plain": [
       "                      sum  count      mean non_return_percent\n",
       "                     debt   debt      debt                   \n",
       "fstatus_category                                             \n",
       "не состояли в браке   658   6930  0.094949               9.49\n",
       "состояли в браке     1074  14401  0.074578               7.46"
      ]
     },
     "execution_count": 36,
     "metadata": {},
     "output_type": "execute_result"
    }
   ],
   "source": [
    "fstatus_dept['non_return_percent'] = round(fstatus_dept['mean'] * 100, 2)\n",
    "fstatus_dept"
   ]
  },
  {
   "cell_type": "markdown",
   "id": "49adda6f",
   "metadata": {
    "id": "1cef7837"
   },
   "source": [
    "**ВЫВОД:**\n",
    "\n",
    "По итогам проведенного анализа можно сделать вывод, что есть прямая зависимость между семейным положением и возвратом кредита в срок - у клиентов не состоявших в браке процент невозврата по кредиту больше, чем у людей состоящих(вших) в браке.**"
   ]
  },
  {
   "cell_type": "markdown",
   "id": "b1b3ed75",
   "metadata": {
    "deletable": false,
    "editable": false,
    "id": "1e8b2fca"
   },
   "source": [
    "#### 3.3 Есть ли зависимость между уровнем дохода и возвратом кредита в срок?"
   ]
  },
  {
   "cell_type": "markdown",
   "id": "0f631d1e",
   "metadata": {},
   "source": [
    "**Проверим, есть ли зависимость возврата от уровня дохода.**"
   ]
  },
  {
   "cell_type": "markdown",
   "id": "723e3485",
   "metadata": {},
   "source": [
    "**Сформируем сводную таблицу, выведем кол-во должников по категориям в зависимости от уровня дохода, и проанализируем их отношение к общему кол-ву.**"
   ]
  },
  {
   "cell_type": "code",
   "execution_count": 37,
   "id": "9fda1284",
   "metadata": {
    "id": "cd7e3720",
    "scrolled": true
   },
   "outputs": [
    {
     "data": {
      "text/html": [
       "<div>\n",
       "<style scoped>\n",
       "    .dataframe tbody tr th:only-of-type {\n",
       "        vertical-align: middle;\n",
       "    }\n",
       "\n",
       "    .dataframe tbody tr th {\n",
       "        vertical-align: top;\n",
       "    }\n",
       "\n",
       "    .dataframe thead tr th {\n",
       "        text-align: left;\n",
       "    }\n",
       "\n",
       "    .dataframe thead tr:last-of-type th {\n",
       "        text-align: right;\n",
       "    }\n",
       "</style>\n",
       "<table border=\"1\" class=\"dataframe\">\n",
       "  <thead>\n",
       "    <tr>\n",
       "      <th></th>\n",
       "      <th>sum</th>\n",
       "      <th>count</th>\n",
       "      <th>mean</th>\n",
       "    </tr>\n",
       "    <tr>\n",
       "      <th></th>\n",
       "      <th>debt</th>\n",
       "      <th>debt</th>\n",
       "      <th>debt</th>\n",
       "    </tr>\n",
       "    <tr>\n",
       "      <th>total_income_category</th>\n",
       "      <th></th>\n",
       "      <th></th>\n",
       "      <th></th>\n",
       "    </tr>\n",
       "  </thead>\n",
       "  <tbody>\n",
       "    <tr>\n",
       "      <th>A</th>\n",
       "      <td>2</td>\n",
       "      <td>25</td>\n",
       "      <td>0.080000</td>\n",
       "    </tr>\n",
       "    <tr>\n",
       "      <th>B</th>\n",
       "      <td>354</td>\n",
       "      <td>5014</td>\n",
       "      <td>0.070602</td>\n",
       "    </tr>\n",
       "    <tr>\n",
       "      <th>C</th>\n",
       "      <td>1353</td>\n",
       "      <td>15921</td>\n",
       "      <td>0.084982</td>\n",
       "    </tr>\n",
       "    <tr>\n",
       "      <th>D</th>\n",
       "      <td>21</td>\n",
       "      <td>349</td>\n",
       "      <td>0.060172</td>\n",
       "    </tr>\n",
       "    <tr>\n",
       "      <th>E</th>\n",
       "      <td>2</td>\n",
       "      <td>22</td>\n",
       "      <td>0.090909</td>\n",
       "    </tr>\n",
       "  </tbody>\n",
       "</table>\n",
       "</div>"
      ],
      "text/plain": [
       "                        sum  count      mean\n",
       "                       debt   debt      debt\n",
       "total_income_category                       \n",
       "A                         2     25  0.080000\n",
       "B                       354   5014  0.070602\n",
       "C                      1353  15921  0.084982\n",
       "D                        21    349  0.060172\n",
       "E                         2     22  0.090909"
      ]
     },
     "execution_count": 37,
     "metadata": {},
     "output_type": "execute_result"
    }
   ],
   "source": [
    "income_dept = pd.pivot_table(data, \n",
    "                              index=['total_income_category'], \n",
    "                              values='debt', \n",
    "                              aggfunc=['sum', 'count', 'mean']) \n",
    "income_dept"
   ]
  },
  {
   "cell_type": "markdown",
   "id": "296ddd07",
   "metadata": {},
   "source": [
    "**Добавим столбец с процентом невозврата в категории.**"
   ]
  },
  {
   "cell_type": "code",
   "execution_count": 38,
   "id": "dafb98a7",
   "metadata": {},
   "outputs": [
    {
     "data": {
      "text/html": [
       "<div>\n",
       "<style scoped>\n",
       "    .dataframe tbody tr th:only-of-type {\n",
       "        vertical-align: middle;\n",
       "    }\n",
       "\n",
       "    .dataframe tbody tr th {\n",
       "        vertical-align: top;\n",
       "    }\n",
       "\n",
       "    .dataframe thead tr th {\n",
       "        text-align: left;\n",
       "    }\n",
       "\n",
       "    .dataframe thead tr:last-of-type th {\n",
       "        text-align: right;\n",
       "    }\n",
       "</style>\n",
       "<table border=\"1\" class=\"dataframe\">\n",
       "  <thead>\n",
       "    <tr>\n",
       "      <th></th>\n",
       "      <th>sum</th>\n",
       "      <th>count</th>\n",
       "      <th>mean</th>\n",
       "      <th>non_return_percent</th>\n",
       "    </tr>\n",
       "    <tr>\n",
       "      <th></th>\n",
       "      <th>debt</th>\n",
       "      <th>debt</th>\n",
       "      <th>debt</th>\n",
       "      <th></th>\n",
       "    </tr>\n",
       "    <tr>\n",
       "      <th>total_income_category</th>\n",
       "      <th></th>\n",
       "      <th></th>\n",
       "      <th></th>\n",
       "      <th></th>\n",
       "    </tr>\n",
       "  </thead>\n",
       "  <tbody>\n",
       "    <tr>\n",
       "      <th>A</th>\n",
       "      <td>2</td>\n",
       "      <td>25</td>\n",
       "      <td>0.080000</td>\n",
       "      <td>8.00</td>\n",
       "    </tr>\n",
       "    <tr>\n",
       "      <th>B</th>\n",
       "      <td>354</td>\n",
       "      <td>5014</td>\n",
       "      <td>0.070602</td>\n",
       "      <td>7.06</td>\n",
       "    </tr>\n",
       "    <tr>\n",
       "      <th>C</th>\n",
       "      <td>1353</td>\n",
       "      <td>15921</td>\n",
       "      <td>0.084982</td>\n",
       "      <td>8.50</td>\n",
       "    </tr>\n",
       "    <tr>\n",
       "      <th>D</th>\n",
       "      <td>21</td>\n",
       "      <td>349</td>\n",
       "      <td>0.060172</td>\n",
       "      <td>6.02</td>\n",
       "    </tr>\n",
       "    <tr>\n",
       "      <th>E</th>\n",
       "      <td>2</td>\n",
       "      <td>22</td>\n",
       "      <td>0.090909</td>\n",
       "      <td>9.09</td>\n",
       "    </tr>\n",
       "  </tbody>\n",
       "</table>\n",
       "</div>"
      ],
      "text/plain": [
       "                        sum  count      mean non_return_percent\n",
       "                       debt   debt      debt                   \n",
       "total_income_category                                          \n",
       "A                         2     25  0.080000               8.00\n",
       "B                       354   5014  0.070602               7.06\n",
       "C                      1353  15921  0.084982               8.50\n",
       "D                        21    349  0.060172               6.02\n",
       "E                         2     22  0.090909               9.09"
      ]
     },
     "execution_count": 38,
     "metadata": {},
     "output_type": "execute_result"
    }
   ],
   "source": [
    "income_dept['non_return_percent'] = round(income_dept['mean'] * 100, 2)\n",
    "income_dept"
   ]
  },
  {
   "cell_type": "markdown",
   "id": "a4f3ae67",
   "metadata": {},
   "source": [
    "**Добавим столбец с отношением общего кол-ва в категории к общему количеству клиентов. Чтобы понять какую долю эти клиенты составляют в общем количестве клиентов.**"
   ]
  },
  {
   "cell_type": "code",
   "execution_count": 39,
   "id": "e56c78a8",
   "metadata": {},
   "outputs": [
    {
     "data": {
      "text/html": [
       "<div>\n",
       "<style scoped>\n",
       "    .dataframe tbody tr th:only-of-type {\n",
       "        vertical-align: middle;\n",
       "    }\n",
       "\n",
       "    .dataframe tbody tr th {\n",
       "        vertical-align: top;\n",
       "    }\n",
       "\n",
       "    .dataframe thead tr th {\n",
       "        text-align: left;\n",
       "    }\n",
       "\n",
       "    .dataframe thead tr:last-of-type th {\n",
       "        text-align: right;\n",
       "    }\n",
       "</style>\n",
       "<table border=\"1\" class=\"dataframe\">\n",
       "  <thead>\n",
       "    <tr>\n",
       "      <th></th>\n",
       "      <th>sum</th>\n",
       "      <th>count</th>\n",
       "      <th>mean</th>\n",
       "      <th>non_return_percent</th>\n",
       "      <th>percent_of_dept</th>\n",
       "    </tr>\n",
       "    <tr>\n",
       "      <th></th>\n",
       "      <th>debt</th>\n",
       "      <th>debt</th>\n",
       "      <th>debt</th>\n",
       "      <th></th>\n",
       "      <th></th>\n",
       "    </tr>\n",
       "    <tr>\n",
       "      <th>total_income_category</th>\n",
       "      <th></th>\n",
       "      <th></th>\n",
       "      <th></th>\n",
       "      <th></th>\n",
       "      <th></th>\n",
       "    </tr>\n",
       "  </thead>\n",
       "  <tbody>\n",
       "    <tr>\n",
       "      <th>A</th>\n",
       "      <td>2</td>\n",
       "      <td>25</td>\n",
       "      <td>0.080000</td>\n",
       "      <td>8.00</td>\n",
       "      <td>0.12</td>\n",
       "    </tr>\n",
       "    <tr>\n",
       "      <th>B</th>\n",
       "      <td>354</td>\n",
       "      <td>5014</td>\n",
       "      <td>0.070602</td>\n",
       "      <td>7.06</td>\n",
       "      <td>23.51</td>\n",
       "    </tr>\n",
       "    <tr>\n",
       "      <th>C</th>\n",
       "      <td>1353</td>\n",
       "      <td>15921</td>\n",
       "      <td>0.084982</td>\n",
       "      <td>8.50</td>\n",
       "      <td>74.64</td>\n",
       "    </tr>\n",
       "    <tr>\n",
       "      <th>D</th>\n",
       "      <td>21</td>\n",
       "      <td>349</td>\n",
       "      <td>0.060172</td>\n",
       "      <td>6.02</td>\n",
       "      <td>1.64</td>\n",
       "    </tr>\n",
       "    <tr>\n",
       "      <th>E</th>\n",
       "      <td>2</td>\n",
       "      <td>22</td>\n",
       "      <td>0.090909</td>\n",
       "      <td>9.09</td>\n",
       "      <td>0.10</td>\n",
       "    </tr>\n",
       "  </tbody>\n",
       "</table>\n",
       "</div>"
      ],
      "text/plain": [
       "                        sum  count      mean non_return_percent  \\\n",
       "                       debt   debt      debt                      \n",
       "total_income_category                                             \n",
       "A                         2     25  0.080000               8.00   \n",
       "B                       354   5014  0.070602               7.06   \n",
       "C                      1353  15921  0.084982               8.50   \n",
       "D                        21    349  0.060172               6.02   \n",
       "E                         2     22  0.090909               9.09   \n",
       "\n",
       "                      percent_of_dept  \n",
       "                                       \n",
       "total_income_category                  \n",
       "A                                0.12  \n",
       "B                               23.51  \n",
       "C                               74.64  \n",
       "D                                1.64  \n",
       "E                                0.10  "
      ]
     },
     "execution_count": 39,
     "metadata": {},
     "output_type": "execute_result"
    }
   ],
   "source": [
    "income_dept['percent_of_dept'] = round(data.groupby('total_income_category')['debt'].count() / data.groupby('total_income_category')['debt'].count().sum() * 100, 2)\n",
    "income_dept"
   ]
  },
  {
   "cell_type": "markdown",
   "id": "a7a74f45",
   "metadata": {},
   "source": [
    "**Отсортируем столбец с процентами невернувших в категории по убыванию.**"
   ]
  },
  {
   "cell_type": "code",
   "execution_count": 40,
   "id": "103ea1dd",
   "metadata": {
    "scrolled": false
   },
   "outputs": [
    {
     "data": {
      "text/html": [
       "<div>\n",
       "<style scoped>\n",
       "    .dataframe tbody tr th:only-of-type {\n",
       "        vertical-align: middle;\n",
       "    }\n",
       "\n",
       "    .dataframe tbody tr th {\n",
       "        vertical-align: top;\n",
       "    }\n",
       "\n",
       "    .dataframe thead tr th {\n",
       "        text-align: left;\n",
       "    }\n",
       "\n",
       "    .dataframe thead tr:last-of-type th {\n",
       "        text-align: right;\n",
       "    }\n",
       "</style>\n",
       "<table border=\"1\" class=\"dataframe\">\n",
       "  <thead>\n",
       "    <tr>\n",
       "      <th></th>\n",
       "      <th>sum</th>\n",
       "      <th>count</th>\n",
       "      <th>mean</th>\n",
       "      <th>non_return_percent</th>\n",
       "      <th>percent_of_dept</th>\n",
       "    </tr>\n",
       "    <tr>\n",
       "      <th></th>\n",
       "      <th>debt</th>\n",
       "      <th>debt</th>\n",
       "      <th>debt</th>\n",
       "      <th></th>\n",
       "      <th></th>\n",
       "    </tr>\n",
       "    <tr>\n",
       "      <th>total_income_category</th>\n",
       "      <th></th>\n",
       "      <th></th>\n",
       "      <th></th>\n",
       "      <th></th>\n",
       "      <th></th>\n",
       "    </tr>\n",
       "  </thead>\n",
       "  <tbody>\n",
       "    <tr>\n",
       "      <th>E</th>\n",
       "      <td>2</td>\n",
       "      <td>22</td>\n",
       "      <td>0.090909</td>\n",
       "      <td>9.09</td>\n",
       "      <td>0.10</td>\n",
       "    </tr>\n",
       "    <tr>\n",
       "      <th>C</th>\n",
       "      <td>1353</td>\n",
       "      <td>15921</td>\n",
       "      <td>0.084982</td>\n",
       "      <td>8.50</td>\n",
       "      <td>74.64</td>\n",
       "    </tr>\n",
       "    <tr>\n",
       "      <th>A</th>\n",
       "      <td>2</td>\n",
       "      <td>25</td>\n",
       "      <td>0.080000</td>\n",
       "      <td>8.00</td>\n",
       "      <td>0.12</td>\n",
       "    </tr>\n",
       "    <tr>\n",
       "      <th>B</th>\n",
       "      <td>354</td>\n",
       "      <td>5014</td>\n",
       "      <td>0.070602</td>\n",
       "      <td>7.06</td>\n",
       "      <td>23.51</td>\n",
       "    </tr>\n",
       "    <tr>\n",
       "      <th>D</th>\n",
       "      <td>21</td>\n",
       "      <td>349</td>\n",
       "      <td>0.060172</td>\n",
       "      <td>6.02</td>\n",
       "      <td>1.64</td>\n",
       "    </tr>\n",
       "  </tbody>\n",
       "</table>\n",
       "</div>"
      ],
      "text/plain": [
       "                        sum  count      mean non_return_percent  \\\n",
       "                       debt   debt      debt                      \n",
       "total_income_category                                             \n",
       "E                         2     22  0.090909               9.09   \n",
       "C                      1353  15921  0.084982               8.50   \n",
       "A                         2     25  0.080000               8.00   \n",
       "B                       354   5014  0.070602               7.06   \n",
       "D                        21    349  0.060172               6.02   \n",
       "\n",
       "                      percent_of_dept  \n",
       "                                       \n",
       "total_income_category                  \n",
       "E                                0.10  \n",
       "C                               74.64  \n",
       "A                                0.12  \n",
       "B                               23.51  \n",
       "D                                1.64  "
      ]
     },
     "execution_count": 40,
     "metadata": {},
     "output_type": "execute_result"
    }
   ],
   "source": [
    "income_dept.sort_values('non_return_percent', ascending=False) "
   ]
  },
  {
   "cell_type": "markdown",
   "id": "a73e1190",
   "metadata": {
    "id": "e8593def"
   },
   "source": [
    "**ВЫВОД:**\n",
    "\n",
    "Ввиду того, что группы клиентов категорий A, D, E слишком малочисленны, делать вывод на основании данных по ним не совсем корректно.\n",
    "\n",
    "Таким образом можно сделать вывод, что просматривается зависимость возврата кредита от уровня дохода.\n",
    "\n",
    "Так мы видим, что:\n",
    "\n",
    "- у клиентов с уровнем дохода категории C (50001-200000) выше процент невозврата - 8,5%, так же стоит учесть то, что доля клиентов такой категории составляет 74,64% от общего количества клиентов;\n",
    "\n",
    "- у клиентов категории В (200001-1000000) процент невозврата меньше, и доля таких клиентов от общего объема составляет около 23,5%."
   ]
  },
  {
   "cell_type": "markdown",
   "id": "45677d33",
   "metadata": {
    "deletable": false,
    "editable": false,
    "id": "99ecbd1f"
   },
   "source": [
    "#### 3.4 Как разные цели кредита влияют на его возврат в срок?"
   ]
  },
  {
   "cell_type": "markdown",
   "id": "b3c125e7",
   "metadata": {},
   "source": [
    "**Проверим, есть ли зависимость возврата от цели кредита. Сформируем сводную таблицу, выведем кол-во должников по категориям и проанализируем их отношение к общему кол-ву."
   ]
  },
  {
   "cell_type": "code",
   "execution_count": 41,
   "id": "2120dfd9",
   "metadata": {
    "id": "2b687290"
   },
   "outputs": [
    {
     "data": {
      "text/html": [
       "<div>\n",
       "<style scoped>\n",
       "    .dataframe tbody tr th:only-of-type {\n",
       "        vertical-align: middle;\n",
       "    }\n",
       "\n",
       "    .dataframe tbody tr th {\n",
       "        vertical-align: top;\n",
       "    }\n",
       "\n",
       "    .dataframe thead tr th {\n",
       "        text-align: left;\n",
       "    }\n",
       "\n",
       "    .dataframe thead tr:last-of-type th {\n",
       "        text-align: right;\n",
       "    }\n",
       "</style>\n",
       "<table border=\"1\" class=\"dataframe\">\n",
       "  <thead>\n",
       "    <tr>\n",
       "      <th></th>\n",
       "      <th>sum</th>\n",
       "      <th>count</th>\n",
       "      <th>mean</th>\n",
       "    </tr>\n",
       "    <tr>\n",
       "      <th></th>\n",
       "      <th>debt</th>\n",
       "      <th>debt</th>\n",
       "      <th>debt</th>\n",
       "    </tr>\n",
       "    <tr>\n",
       "      <th>purpose_category</th>\n",
       "      <th></th>\n",
       "      <th></th>\n",
       "      <th></th>\n",
       "    </tr>\n",
       "  </thead>\n",
       "  <tbody>\n",
       "    <tr>\n",
       "      <th>операции с автомобилем</th>\n",
       "      <td>400</td>\n",
       "      <td>4279</td>\n",
       "      <td>0.093480</td>\n",
       "    </tr>\n",
       "    <tr>\n",
       "      <th>операции с недвижимостью</th>\n",
       "      <td>780</td>\n",
       "      <td>10751</td>\n",
       "      <td>0.072551</td>\n",
       "    </tr>\n",
       "    <tr>\n",
       "      <th>получение образования</th>\n",
       "      <td>369</td>\n",
       "      <td>3988</td>\n",
       "      <td>0.092528</td>\n",
       "    </tr>\n",
       "    <tr>\n",
       "      <th>проведение свадьбы</th>\n",
       "      <td>183</td>\n",
       "      <td>2313</td>\n",
       "      <td>0.079118</td>\n",
       "    </tr>\n",
       "  </tbody>\n",
       "</table>\n",
       "</div>"
      ],
      "text/plain": [
       "                          sum  count      mean\n",
       "                         debt   debt      debt\n",
       "purpose_category                              \n",
       "операции с автомобилем    400   4279  0.093480\n",
       "операции с недвижимостью  780  10751  0.072551\n",
       "получение образования     369   3988  0.092528\n",
       "проведение свадьбы        183   2313  0.079118"
      ]
     },
     "execution_count": 41,
     "metadata": {},
     "output_type": "execute_result"
    }
   ],
   "source": [
    "purpose_dept = pd.pivot_table(data, \n",
    "                              index=['purpose_category'], \n",
    "                              values='debt', \n",
    "                              aggfunc=['sum', 'count', 'mean']) \n",
    "purpose_dept"
   ]
  },
  {
   "cell_type": "markdown",
   "id": "ed7a523d",
   "metadata": {},
   "source": [
    "**Добавим столбец с процентом невозврата в категории.**"
   ]
  },
  {
   "cell_type": "code",
   "execution_count": 42,
   "id": "b8db5095",
   "metadata": {},
   "outputs": [
    {
     "data": {
      "text/html": [
       "<div>\n",
       "<style scoped>\n",
       "    .dataframe tbody tr th:only-of-type {\n",
       "        vertical-align: middle;\n",
       "    }\n",
       "\n",
       "    .dataframe tbody tr th {\n",
       "        vertical-align: top;\n",
       "    }\n",
       "\n",
       "    .dataframe thead tr th {\n",
       "        text-align: left;\n",
       "    }\n",
       "\n",
       "    .dataframe thead tr:last-of-type th {\n",
       "        text-align: right;\n",
       "    }\n",
       "</style>\n",
       "<table border=\"1\" class=\"dataframe\">\n",
       "  <thead>\n",
       "    <tr>\n",
       "      <th></th>\n",
       "      <th>sum</th>\n",
       "      <th>count</th>\n",
       "      <th>mean</th>\n",
       "      <th>non_return_percent</th>\n",
       "    </tr>\n",
       "    <tr>\n",
       "      <th></th>\n",
       "      <th>debt</th>\n",
       "      <th>debt</th>\n",
       "      <th>debt</th>\n",
       "      <th></th>\n",
       "    </tr>\n",
       "    <tr>\n",
       "      <th>purpose_category</th>\n",
       "      <th></th>\n",
       "      <th></th>\n",
       "      <th></th>\n",
       "      <th></th>\n",
       "    </tr>\n",
       "  </thead>\n",
       "  <tbody>\n",
       "    <tr>\n",
       "      <th>операции с автомобилем</th>\n",
       "      <td>400</td>\n",
       "      <td>4279</td>\n",
       "      <td>0.093480</td>\n",
       "      <td>9.35</td>\n",
       "    </tr>\n",
       "    <tr>\n",
       "      <th>операции с недвижимостью</th>\n",
       "      <td>780</td>\n",
       "      <td>10751</td>\n",
       "      <td>0.072551</td>\n",
       "      <td>7.26</td>\n",
       "    </tr>\n",
       "    <tr>\n",
       "      <th>получение образования</th>\n",
       "      <td>369</td>\n",
       "      <td>3988</td>\n",
       "      <td>0.092528</td>\n",
       "      <td>9.25</td>\n",
       "    </tr>\n",
       "    <tr>\n",
       "      <th>проведение свадьбы</th>\n",
       "      <td>183</td>\n",
       "      <td>2313</td>\n",
       "      <td>0.079118</td>\n",
       "      <td>7.91</td>\n",
       "    </tr>\n",
       "  </tbody>\n",
       "</table>\n",
       "</div>"
      ],
      "text/plain": [
       "                          sum  count      mean non_return_percent\n",
       "                         debt   debt      debt                   \n",
       "purpose_category                                                 \n",
       "операции с автомобилем    400   4279  0.093480               9.35\n",
       "операции с недвижимостью  780  10751  0.072551               7.26\n",
       "получение образования     369   3988  0.092528               9.25\n",
       "проведение свадьбы        183   2313  0.079118               7.91"
      ]
     },
     "execution_count": 42,
     "metadata": {},
     "output_type": "execute_result"
    }
   ],
   "source": [
    "purpose_dept['non_return_percent'] = round(purpose_dept['mean'] * 100, 2)\n",
    "purpose_dept"
   ]
  },
  {
   "cell_type": "markdown",
   "id": "97e6659b",
   "metadata": {},
   "source": [
    "**Добавим столбец с отношением общего кол-ва в категории к общему количеству клиентов. Чтобы понять какую долю эти клиенты составляют в общем количестве клиентов.**"
   ]
  },
  {
   "cell_type": "code",
   "execution_count": 43,
   "id": "d7f049e1",
   "metadata": {},
   "outputs": [
    {
     "data": {
      "text/html": [
       "<div>\n",
       "<style scoped>\n",
       "    .dataframe tbody tr th:only-of-type {\n",
       "        vertical-align: middle;\n",
       "    }\n",
       "\n",
       "    .dataframe tbody tr th {\n",
       "        vertical-align: top;\n",
       "    }\n",
       "\n",
       "    .dataframe thead tr th {\n",
       "        text-align: left;\n",
       "    }\n",
       "\n",
       "    .dataframe thead tr:last-of-type th {\n",
       "        text-align: right;\n",
       "    }\n",
       "</style>\n",
       "<table border=\"1\" class=\"dataframe\">\n",
       "  <thead>\n",
       "    <tr>\n",
       "      <th></th>\n",
       "      <th>sum</th>\n",
       "      <th>count</th>\n",
       "      <th>mean</th>\n",
       "      <th>non_return_percent</th>\n",
       "      <th>percent_of_dept</th>\n",
       "    </tr>\n",
       "    <tr>\n",
       "      <th></th>\n",
       "      <th>debt</th>\n",
       "      <th>debt</th>\n",
       "      <th>debt</th>\n",
       "      <th></th>\n",
       "      <th></th>\n",
       "    </tr>\n",
       "    <tr>\n",
       "      <th>purpose_category</th>\n",
       "      <th></th>\n",
       "      <th></th>\n",
       "      <th></th>\n",
       "      <th></th>\n",
       "      <th></th>\n",
       "    </tr>\n",
       "  </thead>\n",
       "  <tbody>\n",
       "    <tr>\n",
       "      <th>операции с автомобилем</th>\n",
       "      <td>400</td>\n",
       "      <td>4279</td>\n",
       "      <td>0.093480</td>\n",
       "      <td>9.35</td>\n",
       "      <td>20.06</td>\n",
       "    </tr>\n",
       "    <tr>\n",
       "      <th>операции с недвижимостью</th>\n",
       "      <td>780</td>\n",
       "      <td>10751</td>\n",
       "      <td>0.072551</td>\n",
       "      <td>7.26</td>\n",
       "      <td>50.40</td>\n",
       "    </tr>\n",
       "    <tr>\n",
       "      <th>получение образования</th>\n",
       "      <td>369</td>\n",
       "      <td>3988</td>\n",
       "      <td>0.092528</td>\n",
       "      <td>9.25</td>\n",
       "      <td>18.70</td>\n",
       "    </tr>\n",
       "    <tr>\n",
       "      <th>проведение свадьбы</th>\n",
       "      <td>183</td>\n",
       "      <td>2313</td>\n",
       "      <td>0.079118</td>\n",
       "      <td>7.91</td>\n",
       "      <td>10.84</td>\n",
       "    </tr>\n",
       "  </tbody>\n",
       "</table>\n",
       "</div>"
      ],
      "text/plain": [
       "                          sum  count      mean non_return_percent  \\\n",
       "                         debt   debt      debt                      \n",
       "purpose_category                                                    \n",
       "операции с автомобилем    400   4279  0.093480               9.35   \n",
       "операции с недвижимостью  780  10751  0.072551               7.26   \n",
       "получение образования     369   3988  0.092528               9.25   \n",
       "проведение свадьбы        183   2313  0.079118               7.91   \n",
       "\n",
       "                         percent_of_dept  \n",
       "                                          \n",
       "purpose_category                          \n",
       "операции с автомобилем             20.06  \n",
       "операции с недвижимостью           50.40  \n",
       "получение образования              18.70  \n",
       "проведение свадьбы                 10.84  "
      ]
     },
     "execution_count": 43,
     "metadata": {},
     "output_type": "execute_result"
    }
   ],
   "source": [
    "purpose_dept['percent_of_dept'] = round(data.groupby('purpose_category')['debt'].count() / data.groupby('purpose_category')['debt'].count().sum() * 100, 2)\n",
    "purpose_dept"
   ]
  },
  {
   "cell_type": "markdown",
   "id": "659e0506",
   "metadata": {},
   "source": [
    "**Отсортируем столбец с процентами невернувших в категории по убыванию.**"
   ]
  },
  {
   "cell_type": "code",
   "execution_count": 44,
   "id": "4608654a",
   "metadata": {},
   "outputs": [
    {
     "data": {
      "text/html": [
       "<div>\n",
       "<style scoped>\n",
       "    .dataframe tbody tr th:only-of-type {\n",
       "        vertical-align: middle;\n",
       "    }\n",
       "\n",
       "    .dataframe tbody tr th {\n",
       "        vertical-align: top;\n",
       "    }\n",
       "\n",
       "    .dataframe thead tr th {\n",
       "        text-align: left;\n",
       "    }\n",
       "\n",
       "    .dataframe thead tr:last-of-type th {\n",
       "        text-align: right;\n",
       "    }\n",
       "</style>\n",
       "<table border=\"1\" class=\"dataframe\">\n",
       "  <thead>\n",
       "    <tr>\n",
       "      <th></th>\n",
       "      <th>sum</th>\n",
       "      <th>count</th>\n",
       "      <th>mean</th>\n",
       "      <th>non_return_percent</th>\n",
       "      <th>percent_of_dept</th>\n",
       "    </tr>\n",
       "    <tr>\n",
       "      <th></th>\n",
       "      <th>debt</th>\n",
       "      <th>debt</th>\n",
       "      <th>debt</th>\n",
       "      <th></th>\n",
       "      <th></th>\n",
       "    </tr>\n",
       "    <tr>\n",
       "      <th>purpose_category</th>\n",
       "      <th></th>\n",
       "      <th></th>\n",
       "      <th></th>\n",
       "      <th></th>\n",
       "      <th></th>\n",
       "    </tr>\n",
       "  </thead>\n",
       "  <tbody>\n",
       "    <tr>\n",
       "      <th>операции с автомобилем</th>\n",
       "      <td>400</td>\n",
       "      <td>4279</td>\n",
       "      <td>0.093480</td>\n",
       "      <td>9.35</td>\n",
       "      <td>20.06</td>\n",
       "    </tr>\n",
       "    <tr>\n",
       "      <th>получение образования</th>\n",
       "      <td>369</td>\n",
       "      <td>3988</td>\n",
       "      <td>0.092528</td>\n",
       "      <td>9.25</td>\n",
       "      <td>18.70</td>\n",
       "    </tr>\n",
       "    <tr>\n",
       "      <th>проведение свадьбы</th>\n",
       "      <td>183</td>\n",
       "      <td>2313</td>\n",
       "      <td>0.079118</td>\n",
       "      <td>7.91</td>\n",
       "      <td>10.84</td>\n",
       "    </tr>\n",
       "    <tr>\n",
       "      <th>операции с недвижимостью</th>\n",
       "      <td>780</td>\n",
       "      <td>10751</td>\n",
       "      <td>0.072551</td>\n",
       "      <td>7.26</td>\n",
       "      <td>50.40</td>\n",
       "    </tr>\n",
       "  </tbody>\n",
       "</table>\n",
       "</div>"
      ],
      "text/plain": [
       "                          sum  count      mean non_return_percent  \\\n",
       "                         debt   debt      debt                      \n",
       "purpose_category                                                    \n",
       "операции с автомобилем    400   4279  0.093480               9.35   \n",
       "получение образования     369   3988  0.092528               9.25   \n",
       "проведение свадьбы        183   2313  0.079118               7.91   \n",
       "операции с недвижимостью  780  10751  0.072551               7.26   \n",
       "\n",
       "                         percent_of_dept  \n",
       "                                          \n",
       "purpose_category                          \n",
       "операции с автомобилем             20.06  \n",
       "получение образования              18.70  \n",
       "проведение свадьбы                 10.84  \n",
       "операции с недвижимостью           50.40  "
      ]
     },
     "execution_count": 44,
     "metadata": {},
     "output_type": "execute_result"
    }
   ],
   "source": [
    "purpose_dept.sort_values('non_return_percent', ascending=False) "
   ]
  },
  {
   "cell_type": "markdown",
   "id": "497b9586",
   "metadata": {
    "id": "b4bb2ce6"
   },
   "source": [
    "**ВЫВОД:**\n",
    "Проведя анализ можно сделать вывод, что:\n",
    "\n",
    "- процент невозврата кредита, приобретенного для целей операции с недвижимостью и образование примерно одинаковый, и составляет около 9,5%, в общем объеме клиентов доля тоже примерно одинаковая - 19-20%;\n",
    "\n",
    "- на проведение свадьбы процент невозврата ниже и составялет чуть меньше 8%, при этом доля таких клиентов в общем объеме меньше всего и составляет около 11%;\n",
    "\n",
    "- меньше всего процент невозврата кредита преобретаемого для опреций с недвижимостью - около 7,3% и доля таких клиентов в общем объеме составляет более 50%"
   ]
  },
  {
   "cell_type": "markdown",
   "id": "2ba88721",
   "metadata": {
    "id": "9da2ceda"
   },
   "source": [
    "Причинами припусков в исходных данных могут быть:\n",
    "\n",
    "- нежелание опрашиваемого предоставить информацию;\n",
    "\n",
    "- возможно технические ошибки при выгрузке данных;\n",
    "\n",
    "- человеческий фактор - сотрудник банка не заполнил все поля при анкетировании.\n",
    "\n",
    "Заполнять пропуски для количественных переменных лучше медианным значением, так как в данных могут быть значения сильно выделяющиеся из общей массы. Медиана как-бы нивелирует разрывы в данных. Тогда как среднее значение может выдать некорректные для дальнейшего анализа цифры."
   ]
  },
  {
   "cell_type": "markdown",
   "id": "a6a93ed4",
   "metadata": {},
   "source": [
    "**3.5 Связь между доходом и образованием**"
   ]
  },
  {
   "cell_type": "markdown",
   "id": "df1882b2",
   "metadata": {},
   "source": [
    "Теперь ответим на вопрос, влияет ли образование на уровень дохода и наличие задолженности. Попробуем отразить всё на одном графике. \n",
    "\n",
    "Построим столбчатую диаграмму. Чтобы сформировать столбцы, сгруппируем данные по категориям образования и вычислим медианный доход. Параметру `hue` метода `barplot()` передадим категории задолженности."
   ]
  },
  {
   "cell_type": "code",
   "execution_count": 45,
   "id": "a5d6571d",
   "metadata": {
    "scrolled": false
   },
   "outputs": [
    {
     "data": {
      "image/png": "[encoded data removed]",
      "text/plain": [
       "<Figure size 800x320 with 1 Axes>"
      ]
     },
     "metadata": {},
     "output_type": "display_data"
    }
   ],
   "source": [
    "# группируем данные по образованию и задолженности и считаем медианный доход\n",
    "data_ed = data.groupby(['education', 'debt'], \\\n",
    "                        as_index = False)[['total_income']].median()\n",
    "# используем стиль dark из библиотеки seaborn\n",
    "sns.set_style('dark')\n",
    "# назначаем размер графика\n",
    "plt.figure(figsize=(10, 4))\n",
    "# строим столбчатый график средствами seaborn\n",
    "sns.barplot(x='total_income', y='education', data=data_ed, hue='debt')\n",
    "# формируем заголовок графика и подписи осей средствами matplotlib\n",
    "plt.title('График дохода в зависимости от образования')\n",
    "plt.xlabel('Медианный доход')\n",
    "plt.ylabel('Образование')\n",
    "# поворачиваем подписи значений по оси X на 45 градусов\n",
    "plt.xticks(rotation=45)\n",
    "# выбираем положение легенды и указываем размер шрифта\n",
    "plt.legend(loc='lower right', fontsize=10)\n",
    "# добавляем сетку\n",
    "plt.grid()\n",
    "# отображаем график на экране\n",
    "plt.show()"
   ]
  },
  {
   "cell_type": "markdown",
   "id": "03974cb0",
   "metadata": {},
   "source": [
    "Должниками бывают люди и с высшим, и с начальным образованием. Однако среди людей с учёной степенью должников нет вообще."
   ]
  },
  {
   "cell_type": "markdown",
   "id": "cf4b8d74",
   "metadata": {},
   "source": [
    "### Поиск закономерностей"
   ]
  },
  {
   "cell_type": "markdown",
   "id": "c04e5a1d",
   "metadata": {},
   "source": [
    "Проанализируем данные в столбце со стажем days_employed. Построим график scatter (англ. «разброс, рассеивание»), чтобы отобразить зависимость стажа от дохода. Такие графики аналитики обычно строят для себя, поэтому их можно не оформлять. Укажем лишь несколько параметров, чтобы график получился более контрастным."
   ]
  },
  {
   "cell_type": "code",
   "execution_count": 46,
   "id": "cfcf2f1a",
   "metadata": {
    "scrolled": false
   },
   "outputs": [
    {
     "data": {
      "image/png": "[encoded data removed]",
      "text/plain": [
       "<Figure size 640x480 with 1 Axes>"
      ]
     },
     "metadata": {},
     "output_type": "display_data"
    }
   ],
   "source": [
    "# задаём параметры графика\n",
    "sns.set_style('darkgrid',\n",
    "              {'axes.facecolor': '0.8',\n",
    "               'grid.color': '0.1',\n",
    "               'figure.facecolor': '0.95'})\n",
    "# строим график scatter средствами seaborn\n",
    "sns.scatterplot(x='total_income', y='days_employed', data=data)\n",
    "# отображаем график на экране\n",
    "plt.show()"
   ]
  },
  {
   "cell_type": "markdown",
   "id": "9e7bd6d5",
   "metadata": {},
   "source": [
    "Стала видна странность: значения трудового стажа находятся либо около нуля и небольших значений, либо в промежутке от 300000 до 400000. О таких аномалиях стоит сообщать заказчику: возможно, это ошибка выгрузки."
   ]
  },
  {
   "cell_type": "markdown",
   "id": "309e3317",
   "metadata": {
    "deletable": false,
    "editable": false,
    "id": "6db5255a"
   },
   "source": [
    "### Шаг 4: общий вывод."
   ]
  },
  {
   "cell_type": "markdown",
   "id": "ed9ba47a",
   "metadata": {
    "id": "bad65432"
   },
   "source": [
    "**Наиболее привлекательнымм клиентами для банка считаются вдовцы или люди, находящиеся в разводе с доходом 30000-50000, приобретаемые кредит для операций с недвижимостью. Менее привлекательными являются не состоящие в официальном браке с 1 или 2 детьми, доходом до 30000, берущие кредит на преобретение автомобиля.**"
   ]
  },
  {
   "cell_type": "code",
   "execution_count": null,
   "id": "cc22b135",
   "metadata": {},
   "outputs": [],
   "source": []
  }
 ],
 "metadata": {
  "ExecuteTimeLog": [
   {
    "duration": 455,
    "start_time": "2022-11-09T07:57:54.140Z"
   },
   {
    "duration": 19,
    "start_time": "2022-11-09T07:57:54.597Z"
   },
   {
    "duration": 14,
    "start_time": "2022-11-09T07:57:54.618Z"
   },
   {
    "duration": 10,
    "start_time": "2022-11-09T07:57:54.634Z"
   },
   {
    "duration": 41,
    "start_time": "2022-11-09T07:57:54.645Z"
   },
   {
    "duration": 3,
    "start_time": "2022-11-09T07:57:54.688Z"
   },
   {
    "duration": 12,
    "start_time": "2022-11-09T07:57:54.692Z"
   },
   {
    "duration": 4,
    "start_time": "2022-11-09T07:57:54.706Z"
   },
   {
    "duration": 13,
    "start_time": "2022-11-09T07:57:54.711Z"
   },
   {
    "duration": 7,
    "start_time": "2022-11-09T07:57:54.727Z"
   },
   {
    "duration": 56,
    "start_time": "2022-11-09T07:57:54.735Z"
   },
   {
    "duration": 10,
    "start_time": "2022-11-09T07:57:54.792Z"
   },
   {
    "duration": 6,
    "start_time": "2022-11-09T07:57:54.804Z"
   },
   {
    "duration": 21,
    "start_time": "2022-11-09T07:57:54.812Z"
   },
   {
    "duration": 31,
    "start_time": "2022-11-09T07:57:54.842Z"
   },
   {
    "duration": 21,
    "start_time": "2022-11-09T07:57:54.875Z"
   },
   {
    "duration": 3,
    "start_time": "2022-11-09T07:57:54.897Z"
   },
   {
    "duration": 13,
    "start_time": "2022-11-09T07:57:54.901Z"
   },
   {
    "duration": 13,
    "start_time": "2022-11-09T07:57:54.916Z"
   },
   {
    "duration": 6,
    "start_time": "2022-11-09T07:57:54.931Z"
   },
   {
    "duration": 14,
    "start_time": "2022-11-09T07:57:54.938Z"
   },
   {
    "duration": 2,
    "start_time": "2022-11-09T07:57:54.954Z"
   },
   {
    "duration": 5,
    "start_time": "2022-11-09T07:57:54.958Z"
   },
   {
    "duration": 14,
    "start_time": "2022-11-09T07:57:54.965Z"
   },
   {
    "duration": 5,
    "start_time": "2022-11-09T07:57:54.980Z"
   },
   {
    "duration": 16,
    "start_time": "2022-11-09T08:36:54.030Z"
   },
   {
    "duration": 11,
    "start_time": "2022-11-09T08:40:31.971Z"
   },
   {
    "duration": 14,
    "start_time": "2022-11-09T08:46:28.516Z"
   },
   {
    "duration": 70,
    "start_time": "2022-11-09T08:58:41.665Z"
   },
   {
    "duration": 21,
    "start_time": "2022-11-09T08:59:05.317Z"
   },
   {
    "duration": 19,
    "start_time": "2022-11-09T08:59:22.515Z"
   },
   {
    "duration": 5,
    "start_time": "2022-11-09T09:00:10.085Z"
   },
   {
    "duration": 8,
    "start_time": "2022-11-09T09:00:30.487Z"
   },
   {
    "duration": 6,
    "start_time": "2022-11-09T09:01:15.497Z"
   },
   {
    "duration": 7,
    "start_time": "2022-11-09T09:01:55.076Z"
   },
   {
    "duration": 7,
    "start_time": "2022-11-09T09:11:34.481Z"
   },
   {
    "duration": 20,
    "start_time": "2022-11-09T09:37:55.933Z"
   },
   {
    "duration": 5,
    "start_time": "2022-11-09T09:45:17.131Z"
   },
   {
    "duration": 4,
    "start_time": "2022-11-09T09:45:20.272Z"
   },
   {
    "duration": 6,
    "start_time": "2022-11-09T09:45:28.124Z"
   },
   {
    "duration": 6,
    "start_time": "2022-11-09T09:45:56.192Z"
   },
   {
    "duration": 6,
    "start_time": "2022-11-09T09:46:11.777Z"
   },
   {
    "duration": 4,
    "start_time": "2022-11-09T09:46:18.289Z"
   },
   {
    "duration": 931,
    "start_time": "2022-11-09T09:51:24.103Z"
   },
   {
    "duration": 8,
    "start_time": "2022-11-09T09:53:31.464Z"
   },
   {
    "duration": 76,
    "start_time": "2022-11-09T09:53:59.939Z"
   },
   {
    "duration": 8,
    "start_time": "2022-11-09T09:59:37.220Z"
   },
   {
    "duration": 10,
    "start_time": "2022-11-09T10:31:05.739Z"
   },
   {
    "duration": 12,
    "start_time": "2022-11-09T10:37:06.252Z"
   },
   {
    "duration": 12,
    "start_time": "2022-11-09T10:37:41.406Z"
   },
   {
    "duration": 6,
    "start_time": "2022-11-09T10:37:49.824Z"
   },
   {
    "duration": 3,
    "start_time": "2022-11-09T11:07:38.086Z"
   },
   {
    "duration": 22,
    "start_time": "2022-11-09T11:07:46.167Z"
   },
   {
    "duration": 5,
    "start_time": "2022-11-09T11:11:31.843Z"
   },
   {
    "duration": 12,
    "start_time": "2022-11-09T11:11:37.308Z"
   },
   {
    "duration": 9,
    "start_time": "2022-11-09T11:13:45.416Z"
   },
   {
    "duration": 7,
    "start_time": "2022-11-09T11:15:34.046Z"
   },
   {
    "duration": 6,
    "start_time": "2022-11-09T11:16:01.566Z"
   },
   {
    "duration": 7,
    "start_time": "2022-11-09T11:16:04.777Z"
   },
   {
    "duration": 11,
    "start_time": "2022-11-09T11:16:06.576Z"
   },
   {
    "duration": 50,
    "start_time": "2022-11-09T16:41:01.675Z"
   },
   {
    "duration": 4,
    "start_time": "2022-11-09T17:13:40.631Z"
   },
   {
    "duration": 6,
    "start_time": "2022-11-09T17:31:10.515Z"
   },
   {
    "duration": 7,
    "start_time": "2022-11-09T17:32:03.667Z"
   },
   {
    "duration": 10,
    "start_time": "2022-11-09T17:32:53.274Z"
   },
   {
    "duration": 4,
    "start_time": "2022-11-09T17:47:25.094Z"
   },
   {
    "duration": 59,
    "start_time": "2022-11-09T17:47:31.691Z"
   },
   {
    "duration": 6,
    "start_time": "2022-11-09T17:47:40.918Z"
   },
   {
    "duration": 6,
    "start_time": "2022-11-09T17:48:45.856Z"
   },
   {
    "duration": 9,
    "start_time": "2022-11-09T17:48:46.884Z"
   },
   {
    "duration": 8,
    "start_time": "2022-11-09T17:51:46.890Z"
   },
   {
    "duration": 710,
    "start_time": "2022-11-09T17:52:02.431Z"
   },
   {
    "duration": 22,
    "start_time": "2022-11-09T17:52:03.143Z"
   },
   {
    "duration": 15,
    "start_time": "2022-11-09T17:52:03.166Z"
   },
   {
    "duration": 10,
    "start_time": "2022-11-09T17:52:03.183Z"
   },
   {
    "duration": 53,
    "start_time": "2022-11-09T17:52:03.195Z"
   },
   {
    "duration": 3,
    "start_time": "2022-11-09T17:52:03.250Z"
   },
   {
    "duration": 14,
    "start_time": "2022-11-09T17:52:03.255Z"
   },
   {
    "duration": 6,
    "start_time": "2022-11-09T17:52:03.270Z"
   },
   {
    "duration": 8,
    "start_time": "2022-11-09T17:52:03.277Z"
   },
   {
    "duration": 4,
    "start_time": "2022-11-09T17:52:03.287Z"
   },
   {
    "duration": 87,
    "start_time": "2022-11-09T17:52:03.292Z"
   },
   {
    "duration": 13,
    "start_time": "2022-11-09T17:52:03.381Z"
   },
   {
    "duration": 4,
    "start_time": "2022-11-09T17:52:03.396Z"
   },
   {
    "duration": 17,
    "start_time": "2022-11-09T17:52:03.402Z"
   },
   {
    "duration": 35,
    "start_time": "2022-11-09T17:52:03.420Z"
   },
   {
    "duration": 27,
    "start_time": "2022-11-09T17:52:03.457Z"
   },
   {
    "duration": 6,
    "start_time": "2022-11-09T17:52:03.486Z"
   },
   {
    "duration": 14,
    "start_time": "2022-11-09T17:52:03.494Z"
   },
   {
    "duration": 29,
    "start_time": "2022-11-09T17:52:03.510Z"
   },
   {
    "duration": 8,
    "start_time": "2022-11-09T17:52:03.540Z"
   },
   {
    "duration": 13,
    "start_time": "2022-11-09T17:52:03.550Z"
   },
   {
    "duration": 19,
    "start_time": "2022-11-09T17:52:03.565Z"
   },
   {
    "duration": 37,
    "start_time": "2022-11-09T17:52:03.586Z"
   },
   {
    "duration": 9,
    "start_time": "2022-11-09T17:52:03.625Z"
   },
   {
    "duration": 0,
    "start_time": "2022-11-09T17:52:03.637Z"
   },
   {
    "duration": 0,
    "start_time": "2022-11-09T17:52:03.638Z"
   },
   {
    "duration": 0,
    "start_time": "2022-11-09T17:52:03.640Z"
   },
   {
    "duration": 0,
    "start_time": "2022-11-09T17:52:03.641Z"
   },
   {
    "duration": 0,
    "start_time": "2022-11-09T17:52:03.643Z"
   },
   {
    "duration": 0,
    "start_time": "2022-11-09T17:52:03.645Z"
   },
   {
    "duration": 0,
    "start_time": "2022-11-09T17:52:03.646Z"
   },
   {
    "duration": 0,
    "start_time": "2022-11-09T17:52:03.647Z"
   },
   {
    "duration": 4,
    "start_time": "2022-11-09T17:52:23.478Z"
   },
   {
    "duration": 31,
    "start_time": "2022-11-09T17:52:25.943Z"
   },
   {
    "duration": 29,
    "start_time": "2022-11-09T17:52:35.980Z"
   },
   {
    "duration": 27,
    "start_time": "2022-11-09T17:53:24.325Z"
   },
   {
    "duration": 3,
    "start_time": "2022-11-09T17:54:10.189Z"
   },
   {
    "duration": 37,
    "start_time": "2022-11-09T17:54:11.893Z"
   },
   {
    "duration": 532,
    "start_time": "2022-11-10T08:16:15.132Z"
   },
   {
    "duration": 23,
    "start_time": "2022-11-10T08:16:15.666Z"
   },
   {
    "duration": 26,
    "start_time": "2022-11-10T08:16:15.691Z"
   },
   {
    "duration": 42,
    "start_time": "2022-11-10T08:16:15.719Z"
   },
   {
    "duration": 50,
    "start_time": "2022-11-10T08:16:15.762Z"
   },
   {
    "duration": 17,
    "start_time": "2022-11-10T08:16:15.814Z"
   },
   {
    "duration": 51,
    "start_time": "2022-11-10T08:16:15.834Z"
   },
   {
    "duration": 19,
    "start_time": "2022-11-10T08:16:15.887Z"
   },
   {
    "duration": 41,
    "start_time": "2022-11-10T08:16:15.908Z"
   },
   {
    "duration": 19,
    "start_time": "2022-11-10T08:16:15.953Z"
   },
   {
    "duration": 71,
    "start_time": "2022-11-10T08:16:15.974Z"
   },
   {
    "duration": 11,
    "start_time": "2022-11-10T08:16:16.047Z"
   },
   {
    "duration": 38,
    "start_time": "2022-11-10T08:16:16.060Z"
   },
   {
    "duration": 44,
    "start_time": "2022-11-10T08:16:16.100Z"
   },
   {
    "duration": 44,
    "start_time": "2022-11-10T08:16:16.146Z"
   },
   {
    "duration": 29,
    "start_time": "2022-11-10T08:16:16.192Z"
   },
   {
    "duration": 12,
    "start_time": "2022-11-10T08:16:16.223Z"
   },
   {
    "duration": 25,
    "start_time": "2022-11-10T08:16:16.236Z"
   },
   {
    "duration": 22,
    "start_time": "2022-11-10T08:16:16.263Z"
   },
   {
    "duration": 8,
    "start_time": "2022-11-10T08:16:16.286Z"
   },
   {
    "duration": 27,
    "start_time": "2022-11-10T08:16:16.296Z"
   },
   {
    "duration": 39,
    "start_time": "2022-11-10T08:16:16.325Z"
   },
   {
    "duration": 26,
    "start_time": "2022-11-10T08:16:16.366Z"
   },
   {
    "duration": 1168,
    "start_time": "2022-11-10T08:16:16.393Z"
   },
   {
    "duration": 0,
    "start_time": "2022-11-10T08:16:17.563Z"
   },
   {
    "duration": 0,
    "start_time": "2022-11-10T08:16:17.564Z"
   },
   {
    "duration": 0,
    "start_time": "2022-11-10T08:16:17.565Z"
   },
   {
    "duration": 0,
    "start_time": "2022-11-10T08:16:17.566Z"
   },
   {
    "duration": 0,
    "start_time": "2022-11-10T08:16:17.567Z"
   },
   {
    "duration": 0,
    "start_time": "2022-11-10T08:16:17.568Z"
   },
   {
    "duration": 0,
    "start_time": "2022-11-10T08:16:17.569Z"
   },
   {
    "duration": 11,
    "start_time": "2022-11-10T08:55:57.462Z"
   },
   {
    "duration": 718,
    "start_time": "2022-11-10T09:00:06.972Z"
   },
   {
    "duration": 1184,
    "start_time": "2022-11-10T09:00:55.577Z"
   },
   {
    "duration": 41,
    "start_time": "2022-11-10T09:07:50.455Z"
   },
   {
    "duration": 28,
    "start_time": "2022-11-10T09:08:16.456Z"
   },
   {
    "duration": 39,
    "start_time": "2022-11-10T09:08:39.725Z"
   },
   {
    "duration": 1185,
    "start_time": "2022-11-10T09:13:39.170Z"
   },
   {
    "duration": 3,
    "start_time": "2022-11-10T09:20:14.015Z"
   },
   {
    "duration": 4,
    "start_time": "2022-11-10T09:20:16.493Z"
   },
   {
    "duration": 9,
    "start_time": "2022-11-10T09:21:06.758Z"
   },
   {
    "duration": 8,
    "start_time": "2022-11-10T09:25:41.875Z"
   },
   {
    "duration": 8,
    "start_time": "2022-11-10T09:25:58.399Z"
   },
   {
    "duration": 7,
    "start_time": "2022-11-10T09:26:19.675Z"
   },
   {
    "duration": 8,
    "start_time": "2022-11-10T09:27:33.891Z"
   },
   {
    "duration": 29,
    "start_time": "2022-11-10T09:27:49.794Z"
   },
   {
    "duration": 7,
    "start_time": "2022-11-10T09:28:15.585Z"
   },
   {
    "duration": 14,
    "start_time": "2022-11-10T09:28:21.894Z"
   },
   {
    "duration": 15,
    "start_time": "2022-11-10T09:39:44.313Z"
   },
   {
    "duration": 0,
    "start_time": "2022-11-10T09:43:37.907Z"
   },
   {
    "duration": 0,
    "start_time": "2022-11-10T09:43:53.118Z"
   },
   {
    "duration": 1639,
    "start_time": "2022-11-10T09:43:58.121Z"
   },
   {
    "duration": 17,
    "start_time": "2022-11-10T09:44:12.109Z"
   },
   {
    "duration": 95,
    "start_time": "2022-11-10T10:41:10.636Z"
   },
   {
    "duration": 20,
    "start_time": "2022-11-10T10:41:10.733Z"
   },
   {
    "duration": 36,
    "start_time": "2022-11-10T10:41:10.756Z"
   },
   {
    "duration": 28,
    "start_time": "2022-11-10T10:41:10.795Z"
   },
   {
    "duration": 38,
    "start_time": "2022-11-10T10:41:10.825Z"
   },
   {
    "duration": 4,
    "start_time": "2022-11-10T10:41:10.866Z"
   },
   {
    "duration": 20,
    "start_time": "2022-11-10T10:41:10.871Z"
   },
   {
    "duration": 30,
    "start_time": "2022-11-10T10:41:10.893Z"
   },
   {
    "duration": 9,
    "start_time": "2022-11-10T10:41:10.925Z"
   },
   {
    "duration": 4,
    "start_time": "2022-11-10T10:41:10.938Z"
   },
   {
    "duration": 37,
    "start_time": "2022-11-10T10:41:10.944Z"
   },
   {
    "duration": 10,
    "start_time": "2022-11-10T10:41:10.983Z"
   },
   {
    "duration": 3,
    "start_time": "2022-11-10T10:41:11.023Z"
   },
   {
    "duration": 16,
    "start_time": "2022-11-10T10:41:11.028Z"
   },
   {
    "duration": 43,
    "start_time": "2022-11-10T10:41:11.045Z"
   },
   {
    "duration": 21,
    "start_time": "2022-11-10T10:41:11.090Z"
   },
   {
    "duration": 11,
    "start_time": "2022-11-10T10:41:11.113Z"
   },
   {
    "duration": 23,
    "start_time": "2022-11-10T10:41:11.126Z"
   },
   {
    "duration": 20,
    "start_time": "2022-11-10T10:41:11.151Z"
   },
   {
    "duration": 18,
    "start_time": "2022-11-10T10:41:11.174Z"
   },
   {
    "duration": 16,
    "start_time": "2022-11-10T10:41:11.194Z"
   },
   {
    "duration": 32,
    "start_time": "2022-11-10T10:41:11.212Z"
   },
   {
    "duration": 73,
    "start_time": "2022-11-10T10:41:11.246Z"
   },
   {
    "duration": 0,
    "start_time": "2022-11-10T10:41:11.320Z"
   },
   {
    "duration": 0,
    "start_time": "2022-11-10T10:41:11.322Z"
   },
   {
    "duration": 0,
    "start_time": "2022-11-10T10:41:11.323Z"
   },
   {
    "duration": 0,
    "start_time": "2022-11-10T10:41:11.325Z"
   },
   {
    "duration": 0,
    "start_time": "2022-11-10T10:41:11.327Z"
   },
   {
    "duration": 0,
    "start_time": "2022-11-10T10:41:11.328Z"
   },
   {
    "duration": 0,
    "start_time": "2022-11-10T10:41:11.329Z"
   },
   {
    "duration": 0,
    "start_time": "2022-11-10T10:41:11.330Z"
   },
   {
    "duration": 0,
    "start_time": "2022-11-10T10:41:11.331Z"
   },
   {
    "duration": 13,
    "start_time": "2022-11-10T10:43:45.981Z"
   },
   {
    "duration": 70,
    "start_time": "2022-11-10T10:46:19.185Z"
   },
   {
    "duration": 16,
    "start_time": "2022-11-10T10:46:19.257Z"
   },
   {
    "duration": 20,
    "start_time": "2022-11-10T10:46:19.275Z"
   },
   {
    "duration": 32,
    "start_time": "2022-11-10T10:46:19.298Z"
   },
   {
    "duration": 57,
    "start_time": "2022-11-10T10:46:19.332Z"
   },
   {
    "duration": 5,
    "start_time": "2022-11-10T10:46:19.391Z"
   },
   {
    "duration": 10,
    "start_time": "2022-11-10T10:46:19.423Z"
   },
   {
    "duration": 5,
    "start_time": "2022-11-10T10:46:19.435Z"
   },
   {
    "duration": 7,
    "start_time": "2022-11-10T10:46:19.442Z"
   },
   {
    "duration": 6,
    "start_time": "2022-11-10T10:46:19.452Z"
   },
   {
    "duration": 66,
    "start_time": "2022-11-10T10:46:19.459Z"
   },
   {
    "duration": 12,
    "start_time": "2022-11-10T10:46:19.529Z"
   },
   {
    "duration": 5,
    "start_time": "2022-11-10T10:46:19.543Z"
   },
   {
    "duration": 19,
    "start_time": "2022-11-10T10:46:19.550Z"
   },
   {
    "duration": 24,
    "start_time": "2022-11-10T10:46:19.571Z"
   },
   {
    "duration": 42,
    "start_time": "2022-11-10T10:46:19.597Z"
   },
   {
    "duration": 5,
    "start_time": "2022-11-10T10:46:19.641Z"
   },
   {
    "duration": 25,
    "start_time": "2022-11-10T10:46:19.648Z"
   },
   {
    "duration": 23,
    "start_time": "2022-11-10T10:46:19.675Z"
   },
   {
    "duration": 18,
    "start_time": "2022-11-10T10:46:19.700Z"
   },
   {
    "duration": 21,
    "start_time": "2022-11-10T10:46:19.720Z"
   },
   {
    "duration": 48,
    "start_time": "2022-11-10T10:46:19.743Z"
   },
   {
    "duration": 14,
    "start_time": "2022-11-10T10:46:19.793Z"
   },
   {
    "duration": 16,
    "start_time": "2022-11-10T10:46:19.808Z"
   },
   {
    "duration": 25,
    "start_time": "2022-11-10T10:46:19.827Z"
   },
   {
    "duration": 74,
    "start_time": "2022-11-10T10:46:19.853Z"
   },
   {
    "duration": 0,
    "start_time": "2022-11-10T10:46:19.929Z"
   },
   {
    "duration": 0,
    "start_time": "2022-11-10T10:46:19.930Z"
   },
   {
    "duration": 0,
    "start_time": "2022-11-10T10:46:19.931Z"
   },
   {
    "duration": 0,
    "start_time": "2022-11-10T10:46:19.933Z"
   },
   {
    "duration": 76,
    "start_time": "2022-11-10T10:50:32.139Z"
   },
   {
    "duration": 75,
    "start_time": "2022-11-10T10:51:23.772Z"
   },
   {
    "duration": 15,
    "start_time": "2022-11-10T10:51:40.803Z"
   },
   {
    "duration": 13,
    "start_time": "2022-11-10T10:51:57.528Z"
   },
   {
    "duration": 65,
    "start_time": "2022-11-10T10:52:04.445Z"
   },
   {
    "duration": 16,
    "start_time": "2022-11-10T10:52:04.512Z"
   },
   {
    "duration": 36,
    "start_time": "2022-11-10T10:52:04.530Z"
   },
   {
    "duration": 24,
    "start_time": "2022-11-10T10:52:04.568Z"
   },
   {
    "duration": 58,
    "start_time": "2022-11-10T10:52:04.593Z"
   },
   {
    "duration": 4,
    "start_time": "2022-11-10T10:52:04.653Z"
   },
   {
    "duration": 27,
    "start_time": "2022-11-10T10:52:04.659Z"
   },
   {
    "duration": 13,
    "start_time": "2022-11-10T10:52:04.688Z"
   },
   {
    "duration": 25,
    "start_time": "2022-11-10T10:52:04.703Z"
   },
   {
    "duration": 23,
    "start_time": "2022-11-10T10:52:04.731Z"
   },
   {
    "duration": 52,
    "start_time": "2022-11-10T10:52:04.756Z"
   },
   {
    "duration": 10,
    "start_time": "2022-11-10T10:52:04.810Z"
   },
   {
    "duration": 19,
    "start_time": "2022-11-10T10:52:04.821Z"
   },
   {
    "duration": 48,
    "start_time": "2022-11-10T10:52:04.841Z"
   },
   {
    "duration": 32,
    "start_time": "2022-11-10T10:52:04.891Z"
   },
   {
    "duration": 33,
    "start_time": "2022-11-10T10:52:04.925Z"
   },
   {
    "duration": 3,
    "start_time": "2022-11-10T10:52:04.960Z"
   },
   {
    "duration": 33,
    "start_time": "2022-11-10T10:52:04.965Z"
   },
   {
    "duration": 24,
    "start_time": "2022-11-10T10:52:05.000Z"
   },
   {
    "duration": 22,
    "start_time": "2022-11-10T10:52:05.026Z"
   },
   {
    "duration": 55,
    "start_time": "2022-11-10T10:52:05.050Z"
   },
   {
    "duration": 51,
    "start_time": "2022-11-10T10:52:05.106Z"
   },
   {
    "duration": 14,
    "start_time": "2022-11-10T10:52:05.159Z"
   },
   {
    "duration": 29,
    "start_time": "2022-11-10T10:52:05.174Z"
   },
   {
    "duration": 34,
    "start_time": "2022-11-10T10:52:05.205Z"
   },
   {
    "duration": 18,
    "start_time": "2022-11-10T10:52:05.241Z"
   },
   {
    "duration": 21,
    "start_time": "2022-11-10T10:52:05.261Z"
   },
   {
    "duration": 12,
    "start_time": "2022-11-10T11:02:44.639Z"
   },
   {
    "duration": 12,
    "start_time": "2022-11-10T11:02:54.481Z"
   },
   {
    "duration": 68,
    "start_time": "2022-11-10T11:03:06.766Z"
   },
   {
    "duration": 16,
    "start_time": "2022-11-10T11:03:06.836Z"
   },
   {
    "duration": 17,
    "start_time": "2022-11-10T11:03:06.854Z"
   },
   {
    "duration": 10,
    "start_time": "2022-11-10T11:03:06.873Z"
   },
   {
    "duration": 64,
    "start_time": "2022-11-10T11:03:06.885Z"
   },
   {
    "duration": 3,
    "start_time": "2022-11-10T11:03:06.951Z"
   },
   {
    "duration": 11,
    "start_time": "2022-11-10T11:03:06.955Z"
   },
   {
    "duration": 6,
    "start_time": "2022-11-10T11:03:06.968Z"
   },
   {
    "duration": 10,
    "start_time": "2022-11-10T11:03:06.975Z"
   },
   {
    "duration": 4,
    "start_time": "2022-11-10T11:03:06.988Z"
   },
   {
    "duration": 58,
    "start_time": "2022-11-10T11:03:06.994Z"
   },
   {
    "duration": 10,
    "start_time": "2022-11-10T11:03:07.054Z"
   },
   {
    "duration": 3,
    "start_time": "2022-11-10T11:03:07.066Z"
   },
   {
    "duration": 19,
    "start_time": "2022-11-10T11:03:07.071Z"
   },
   {
    "duration": 35,
    "start_time": "2022-11-10T11:03:07.092Z"
   },
   {
    "duration": 20,
    "start_time": "2022-11-10T11:03:07.129Z"
   },
   {
    "duration": 4,
    "start_time": "2022-11-10T11:03:07.151Z"
   },
   {
    "duration": 14,
    "start_time": "2022-11-10T11:03:07.156Z"
   },
   {
    "duration": 12,
    "start_time": "2022-11-10T11:03:07.171Z"
   },
   {
    "duration": 4,
    "start_time": "2022-11-10T11:03:07.185Z"
   },
   {
    "duration": 31,
    "start_time": "2022-11-10T11:03:07.191Z"
   },
   {
    "duration": 35,
    "start_time": "2022-11-10T11:03:07.224Z"
   },
   {
    "duration": 6,
    "start_time": "2022-11-10T11:03:07.261Z"
   },
   {
    "duration": 19,
    "start_time": "2022-11-10T11:03:07.269Z"
   },
   {
    "duration": 16,
    "start_time": "2022-11-10T11:03:07.290Z"
   },
   {
    "duration": 5,
    "start_time": "2022-11-10T11:03:07.322Z"
   },
   {
    "duration": 5,
    "start_time": "2022-11-10T11:03:07.329Z"
   },
   {
    "duration": 4,
    "start_time": "2022-11-10T11:03:07.337Z"
   },
   {
    "duration": 15,
    "start_time": "2022-11-10T11:06:08.559Z"
   },
   {
    "duration": 21,
    "start_time": "2022-11-10T11:06:21.423Z"
   },
   {
    "duration": 16,
    "start_time": "2022-11-10T11:06:27.545Z"
   },
   {
    "duration": 29,
    "start_time": "2022-11-10T11:06:33.671Z"
   },
   {
    "duration": 12,
    "start_time": "2022-11-10T11:09:56.781Z"
   },
   {
    "duration": 16,
    "start_time": "2022-11-10T11:10:23.832Z"
   },
   {
    "duration": 1205,
    "start_time": "2022-11-10T11:10:43.902Z"
   },
   {
    "duration": 19,
    "start_time": "2022-11-10T11:10:52.559Z"
   },
   {
    "duration": 13,
    "start_time": "2022-11-10T11:13:16.195Z"
   },
   {
    "duration": 73,
    "start_time": "2022-11-10T11:14:51.310Z"
   },
   {
    "duration": 13,
    "start_time": "2022-11-10T11:21:54.958Z"
   },
   {
    "duration": 15,
    "start_time": "2022-11-10T11:32:47.353Z"
   },
   {
    "duration": 15,
    "start_time": "2022-11-10T11:33:16.219Z"
   },
   {
    "duration": 65,
    "start_time": "2022-11-10T11:33:29.989Z"
   },
   {
    "duration": 16,
    "start_time": "2022-11-10T11:33:30.056Z"
   },
   {
    "duration": 38,
    "start_time": "2022-11-10T11:33:30.073Z"
   },
   {
    "duration": 38,
    "start_time": "2022-11-10T11:33:30.113Z"
   },
   {
    "duration": 57,
    "start_time": "2022-11-10T11:33:30.153Z"
   },
   {
    "duration": 4,
    "start_time": "2022-11-10T11:33:30.211Z"
   },
   {
    "duration": 21,
    "start_time": "2022-11-10T11:33:30.216Z"
   },
   {
    "duration": 28,
    "start_time": "2022-11-10T11:33:30.239Z"
   },
   {
    "duration": 30,
    "start_time": "2022-11-10T11:33:30.269Z"
   },
   {
    "duration": 27,
    "start_time": "2022-11-10T11:33:30.301Z"
   },
   {
    "duration": 48,
    "start_time": "2022-11-10T11:33:30.330Z"
   },
   {
    "duration": 11,
    "start_time": "2022-11-10T11:33:30.380Z"
   },
   {
    "duration": 11,
    "start_time": "2022-11-10T11:33:30.393Z"
   },
   {
    "duration": 31,
    "start_time": "2022-11-10T11:33:30.406Z"
   },
   {
    "duration": 37,
    "start_time": "2022-11-10T11:33:30.439Z"
   },
   {
    "duration": 19,
    "start_time": "2022-11-10T11:33:30.477Z"
   },
   {
    "duration": 3,
    "start_time": "2022-11-10T11:33:30.498Z"
   },
   {
    "duration": 22,
    "start_time": "2022-11-10T11:33:30.503Z"
   },
   {
    "duration": 14,
    "start_time": "2022-11-10T11:33:30.526Z"
   },
   {
    "duration": 19,
    "start_time": "2022-11-10T11:33:30.542Z"
   },
   {
    "duration": 23,
    "start_time": "2022-11-10T11:33:30.563Z"
   },
   {
    "duration": 34,
    "start_time": "2022-11-10T11:33:30.588Z"
   },
   {
    "duration": 29,
    "start_time": "2022-11-10T11:33:30.623Z"
   },
   {
    "duration": 21,
    "start_time": "2022-11-10T11:33:30.654Z"
   },
   {
    "duration": 0,
    "start_time": "2022-11-10T11:33:30.676Z"
   },
   {
    "duration": 0,
    "start_time": "2022-11-10T11:33:30.678Z"
   },
   {
    "duration": 0,
    "start_time": "2022-11-10T11:33:30.679Z"
   },
   {
    "duration": 0,
    "start_time": "2022-11-10T11:33:30.680Z"
   },
   {
    "duration": 21,
    "start_time": "2022-11-10T11:37:57.588Z"
   },
   {
    "duration": 68,
    "start_time": "2022-11-10T11:38:00.972Z"
   },
   {
    "duration": 17,
    "start_time": "2022-11-10T11:38:01.042Z"
   },
   {
    "duration": 28,
    "start_time": "2022-11-10T11:38:01.061Z"
   },
   {
    "duration": 84,
    "start_time": "2022-11-10T11:38:01.091Z"
   },
   {
    "duration": 61,
    "start_time": "2022-11-10T11:38:01.177Z"
   },
   {
    "duration": 4,
    "start_time": "2022-11-10T11:38:01.240Z"
   },
   {
    "duration": 31,
    "start_time": "2022-11-10T11:38:01.245Z"
   },
   {
    "duration": 18,
    "start_time": "2022-11-10T11:38:01.278Z"
   },
   {
    "duration": 24,
    "start_time": "2022-11-10T11:38:01.297Z"
   },
   {
    "duration": 7,
    "start_time": "2022-11-10T11:38:01.324Z"
   },
   {
    "duration": 70,
    "start_time": "2022-11-10T11:38:01.332Z"
   },
   {
    "duration": 11,
    "start_time": "2022-11-10T11:38:01.404Z"
   },
   {
    "duration": 13,
    "start_time": "2022-11-10T11:38:01.417Z"
   },
   {
    "duration": 28,
    "start_time": "2022-11-10T11:38:01.433Z"
   },
   {
    "duration": 43,
    "start_time": "2022-11-10T11:38:01.464Z"
   },
   {
    "duration": 21,
    "start_time": "2022-11-10T11:38:01.509Z"
   },
   {
    "duration": 4,
    "start_time": "2022-11-10T11:38:01.532Z"
   },
   {
    "duration": 14,
    "start_time": "2022-11-10T11:38:01.537Z"
   },
   {
    "duration": 14,
    "start_time": "2022-11-10T11:38:01.553Z"
   },
   {
    "duration": 12,
    "start_time": "2022-11-10T11:38:01.569Z"
   },
   {
    "duration": 22,
    "start_time": "2022-11-10T11:38:01.583Z"
   },
   {
    "duration": 39,
    "start_time": "2022-11-10T11:38:01.608Z"
   },
   {
    "duration": 24,
    "start_time": "2022-11-10T11:38:01.649Z"
   },
   {
    "duration": 39,
    "start_time": "2022-11-10T11:38:01.675Z"
   },
   {
    "duration": 0,
    "start_time": "2022-11-10T11:38:01.716Z"
   },
   {
    "duration": 0,
    "start_time": "2022-11-10T11:38:01.717Z"
   },
   {
    "duration": 0,
    "start_time": "2022-11-10T11:38:01.718Z"
   },
   {
    "duration": 0,
    "start_time": "2022-11-10T11:38:01.719Z"
   },
   {
    "duration": 0,
    "start_time": "2022-11-10T11:38:01.721Z"
   },
   {
    "duration": 17,
    "start_time": "2022-11-10T11:38:58.309Z"
   },
   {
    "duration": 17,
    "start_time": "2022-11-10T11:40:13.937Z"
   },
   {
    "duration": 17,
    "start_time": "2022-11-10T11:40:23.080Z"
   },
   {
    "duration": 64,
    "start_time": "2022-11-10T11:40:27.404Z"
   },
   {
    "duration": 15,
    "start_time": "2022-11-10T11:40:27.471Z"
   },
   {
    "duration": 37,
    "start_time": "2022-11-10T11:40:27.488Z"
   },
   {
    "duration": 14,
    "start_time": "2022-11-10T11:40:27.528Z"
   },
   {
    "duration": 41,
    "start_time": "2022-11-10T11:40:27.543Z"
   },
   {
    "duration": 4,
    "start_time": "2022-11-10T11:40:27.585Z"
   },
   {
    "duration": 21,
    "start_time": "2022-11-10T11:40:27.590Z"
   },
   {
    "duration": 22,
    "start_time": "2022-11-10T11:40:27.612Z"
   },
   {
    "duration": 22,
    "start_time": "2022-11-10T11:40:27.636Z"
   },
   {
    "duration": 22,
    "start_time": "2022-11-10T11:40:27.660Z"
   },
   {
    "duration": 59,
    "start_time": "2022-11-10T11:40:27.684Z"
   },
   {
    "duration": 10,
    "start_time": "2022-11-10T11:40:27.744Z"
   },
   {
    "duration": 13,
    "start_time": "2022-11-10T11:40:27.755Z"
   },
   {
    "duration": 25,
    "start_time": "2022-11-10T11:40:27.770Z"
   },
   {
    "duration": 43,
    "start_time": "2022-11-10T11:40:27.796Z"
   },
   {
    "duration": 36,
    "start_time": "2022-11-10T11:40:27.841Z"
   },
   {
    "duration": 6,
    "start_time": "2022-11-10T11:40:27.879Z"
   },
   {
    "duration": 33,
    "start_time": "2022-11-10T11:40:27.886Z"
   },
   {
    "duration": 7,
    "start_time": "2022-11-10T11:40:27.921Z"
   },
   {
    "duration": 23,
    "start_time": "2022-11-10T11:40:27.930Z"
   },
   {
    "duration": 28,
    "start_time": "2022-11-10T11:40:27.955Z"
   },
   {
    "duration": 107,
    "start_time": "2022-11-10T11:40:27.985Z"
   },
   {
    "duration": 18,
    "start_time": "2022-11-10T11:40:28.095Z"
   },
   {
    "duration": 38,
    "start_time": "2022-11-10T11:40:28.115Z"
   },
   {
    "duration": 35,
    "start_time": "2022-11-10T11:40:28.155Z"
   },
   {
    "duration": 100,
    "start_time": "2022-11-10T11:40:28.192Z"
   },
   {
    "duration": 0,
    "start_time": "2022-11-10T11:40:28.293Z"
   },
   {
    "duration": 0,
    "start_time": "2022-11-10T11:40:28.295Z"
   },
   {
    "duration": 0,
    "start_time": "2022-11-10T11:40:28.297Z"
   },
   {
    "duration": 1126,
    "start_time": "2022-11-10T11:42:14.856Z"
   },
   {
    "duration": 23,
    "start_time": "2022-11-10T11:42:24.043Z"
   },
   {
    "duration": 62,
    "start_time": "2022-11-10T11:42:28.604Z"
   },
   {
    "duration": 17,
    "start_time": "2022-11-10T11:42:28.669Z"
   },
   {
    "duration": 38,
    "start_time": "2022-11-10T11:42:28.687Z"
   },
   {
    "duration": 9,
    "start_time": "2022-11-10T11:42:28.727Z"
   },
   {
    "duration": 34,
    "start_time": "2022-11-10T11:42:28.738Z"
   },
   {
    "duration": 3,
    "start_time": "2022-11-10T11:42:28.774Z"
   },
   {
    "duration": 11,
    "start_time": "2022-11-10T11:42:28.778Z"
   },
   {
    "duration": 32,
    "start_time": "2022-11-10T11:42:28.791Z"
   },
   {
    "duration": 5,
    "start_time": "2022-11-10T11:42:28.825Z"
   },
   {
    "duration": 6,
    "start_time": "2022-11-10T11:42:28.833Z"
   },
   {
    "duration": 40,
    "start_time": "2022-11-10T11:42:28.840Z"
   },
   {
    "duration": 10,
    "start_time": "2022-11-10T11:42:28.881Z"
   },
   {
    "duration": 30,
    "start_time": "2022-11-10T11:42:28.893Z"
   },
   {
    "duration": 12,
    "start_time": "2022-11-10T11:42:28.925Z"
   },
   {
    "duration": 18,
    "start_time": "2022-11-10T11:42:28.939Z"
   },
   {
    "duration": 18,
    "start_time": "2022-11-10T11:42:28.959Z"
   },
   {
    "duration": 3,
    "start_time": "2022-11-10T11:42:28.979Z"
   },
   {
    "duration": 11,
    "start_time": "2022-11-10T11:42:28.984Z"
   },
   {
    "duration": 30,
    "start_time": "2022-11-10T11:42:28.997Z"
   },
   {
    "duration": 3,
    "start_time": "2022-11-10T11:42:29.029Z"
   },
   {
    "duration": 12,
    "start_time": "2022-11-10T11:42:29.034Z"
   },
   {
    "duration": 28,
    "start_time": "2022-11-10T11:42:29.048Z"
   },
   {
    "duration": 15,
    "start_time": "2022-11-10T11:42:29.077Z"
   },
   {
    "duration": 47,
    "start_time": "2022-11-10T11:42:29.093Z"
   },
   {
    "duration": 16,
    "start_time": "2022-11-10T11:42:29.143Z"
   },
   {
    "duration": 72,
    "start_time": "2022-11-10T11:42:29.160Z"
   },
   {
    "duration": 0,
    "start_time": "2022-11-10T11:42:29.233Z"
   },
   {
    "duration": 0,
    "start_time": "2022-11-10T11:42:29.234Z"
   },
   {
    "duration": 0,
    "start_time": "2022-11-10T11:42:29.236Z"
   },
   {
    "duration": 16,
    "start_time": "2022-11-10T11:43:09.969Z"
   },
   {
    "duration": 18,
    "start_time": "2022-11-10T11:43:15.333Z"
   },
   {
    "duration": 82,
    "start_time": "2022-11-10T11:43:42.699Z"
   },
   {
    "duration": 17,
    "start_time": "2022-11-10T11:43:42.784Z"
   },
   {
    "duration": 21,
    "start_time": "2022-11-10T11:43:42.822Z"
   },
   {
    "duration": 96,
    "start_time": "2022-11-10T11:43:42.846Z"
   },
   {
    "duration": 47,
    "start_time": "2022-11-10T11:43:42.944Z"
   },
   {
    "duration": 3,
    "start_time": "2022-11-10T11:43:42.992Z"
   },
   {
    "duration": 11,
    "start_time": "2022-11-10T11:43:42.997Z"
   },
   {
    "duration": 4,
    "start_time": "2022-11-10T11:43:43.010Z"
   },
   {
    "duration": 6,
    "start_time": "2022-11-10T11:43:43.023Z"
   },
   {
    "duration": 8,
    "start_time": "2022-11-10T11:43:43.032Z"
   },
   {
    "duration": 37,
    "start_time": "2022-11-10T11:43:43.042Z"
   },
   {
    "duration": 9,
    "start_time": "2022-11-10T11:43:43.080Z"
   },
   {
    "duration": 31,
    "start_time": "2022-11-10T11:43:43.091Z"
   },
   {
    "duration": 12,
    "start_time": "2022-11-10T11:43:43.124Z"
   },
   {
    "duration": 25,
    "start_time": "2022-11-10T11:43:43.137Z"
   },
   {
    "duration": 19,
    "start_time": "2022-11-10T11:43:43.164Z"
   },
   {
    "duration": 4,
    "start_time": "2022-11-10T11:43:43.185Z"
   },
   {
    "duration": 34,
    "start_time": "2022-11-10T11:43:43.191Z"
   },
   {
    "duration": 9,
    "start_time": "2022-11-10T11:43:43.227Z"
   },
   {
    "duration": 4,
    "start_time": "2022-11-10T11:43:43.238Z"
   },
   {
    "duration": 15,
    "start_time": "2022-11-10T11:43:43.243Z"
   },
   {
    "duration": 37,
    "start_time": "2022-11-10T11:43:43.261Z"
   },
   {
    "duration": 41,
    "start_time": "2022-11-10T11:43:43.299Z"
   },
   {
    "duration": 15,
    "start_time": "2022-11-10T11:43:43.342Z"
   },
   {
    "duration": 0,
    "start_time": "2022-11-10T11:43:43.359Z"
   },
   {
    "duration": 0,
    "start_time": "2022-11-10T11:43:43.361Z"
   },
   {
    "duration": 0,
    "start_time": "2022-11-10T11:43:43.363Z"
   },
   {
    "duration": 0,
    "start_time": "2022-11-10T11:43:43.365Z"
   },
   {
    "duration": 13,
    "start_time": "2022-11-10T11:43:58.876Z"
   },
   {
    "duration": 7,
    "start_time": "2022-11-10T11:57:17.172Z"
   },
   {
    "duration": 10,
    "start_time": "2022-11-10T12:01:39.964Z"
   },
   {
    "duration": 98,
    "start_time": "2022-11-10T12:07:09.855Z"
   },
   {
    "duration": 5,
    "start_time": "2022-11-10T12:07:18.715Z"
   },
   {
    "duration": 19,
    "start_time": "2022-11-10T12:07:27.672Z"
   },
   {
    "duration": 19,
    "start_time": "2022-11-10T12:08:04.133Z"
   },
   {
    "duration": 19,
    "start_time": "2022-11-10T12:15:59.870Z"
   },
   {
    "duration": 18,
    "start_time": "2022-11-10T12:19:07.841Z"
   },
   {
    "duration": 16,
    "start_time": "2022-11-10T12:19:25.400Z"
   },
   {
    "duration": 69,
    "start_time": "2022-11-10T12:19:31.570Z"
   },
   {
    "duration": 20,
    "start_time": "2022-11-10T12:19:31.642Z"
   },
   {
    "duration": 26,
    "start_time": "2022-11-10T12:19:31.665Z"
   },
   {
    "duration": 30,
    "start_time": "2022-11-10T12:19:31.692Z"
   },
   {
    "duration": 36,
    "start_time": "2022-11-10T12:19:31.725Z"
   },
   {
    "duration": 4,
    "start_time": "2022-11-10T12:19:31.763Z"
   },
   {
    "duration": 41,
    "start_time": "2022-11-10T12:19:31.768Z"
   },
   {
    "duration": 32,
    "start_time": "2022-11-10T12:19:31.811Z"
   },
   {
    "duration": 51,
    "start_time": "2022-11-10T12:19:31.845Z"
   },
   {
    "duration": 20,
    "start_time": "2022-11-10T12:19:31.898Z"
   },
   {
    "duration": 60,
    "start_time": "2022-11-10T12:19:31.920Z"
   },
   {
    "duration": 11,
    "start_time": "2022-11-10T12:19:31.981Z"
   },
   {
    "duration": 13,
    "start_time": "2022-11-10T12:19:31.994Z"
   },
   {
    "duration": 22,
    "start_time": "2022-11-10T12:19:32.010Z"
   },
   {
    "duration": 25,
    "start_time": "2022-11-10T12:19:32.034Z"
   },
   {
    "duration": 20,
    "start_time": "2022-11-10T12:19:32.060Z"
   },
   {
    "duration": 4,
    "start_time": "2022-11-10T12:19:32.082Z"
   },
   {
    "duration": 34,
    "start_time": "2022-11-10T12:19:32.087Z"
   },
   {
    "duration": 19,
    "start_time": "2022-11-10T12:19:32.124Z"
   },
   {
    "duration": 4,
    "start_time": "2022-11-10T12:19:32.145Z"
   },
   {
    "duration": 20,
    "start_time": "2022-11-10T12:19:32.151Z"
   },
   {
    "duration": 38,
    "start_time": "2022-11-10T12:19:32.173Z"
   },
   {
    "duration": 22,
    "start_time": "2022-11-10T12:19:32.213Z"
   },
   {
    "duration": 20,
    "start_time": "2022-11-10T12:19:32.237Z"
   },
   {
    "duration": 0,
    "start_time": "2022-11-10T12:19:32.259Z"
   },
   {
    "duration": 0,
    "start_time": "2022-11-10T12:19:32.260Z"
   },
   {
    "duration": 0,
    "start_time": "2022-11-10T12:19:32.261Z"
   },
   {
    "duration": 0,
    "start_time": "2022-11-10T12:19:32.263Z"
   },
   {
    "duration": 0,
    "start_time": "2022-11-10T12:19:32.264Z"
   },
   {
    "duration": 0,
    "start_time": "2022-11-10T12:19:32.265Z"
   },
   {
    "duration": 0,
    "start_time": "2022-11-10T12:19:32.266Z"
   },
   {
    "duration": 17,
    "start_time": "2022-11-10T12:20:01.553Z"
   },
   {
    "duration": 19,
    "start_time": "2022-11-10T12:20:29.306Z"
   },
   {
    "duration": 10,
    "start_time": "2022-11-10T12:20:37.754Z"
   },
   {
    "duration": 16,
    "start_time": "2022-11-10T12:20:51.719Z"
   },
   {
    "duration": 32,
    "start_time": "2022-11-10T12:46:41.460Z"
   },
   {
    "duration": 5,
    "start_time": "2022-11-10T12:47:25.107Z"
   },
   {
    "duration": 30,
    "start_time": "2022-11-10T12:49:23.246Z"
   },
   {
    "duration": 20,
    "start_time": "2022-11-10T13:32:17.635Z"
   },
   {
    "duration": 25,
    "start_time": "2022-11-10T13:32:36.326Z"
   },
   {
    "duration": 30,
    "start_time": "2022-11-10T13:32:46.452Z"
   },
   {
    "duration": 22,
    "start_time": "2022-11-10T13:32:49.356Z"
   },
   {
    "duration": 9,
    "start_time": "2022-11-10T13:33:40.999Z"
   },
   {
    "duration": 13,
    "start_time": "2022-11-10T13:33:58.280Z"
   },
   {
    "duration": 4,
    "start_time": "2022-11-10T13:46:15.405Z"
   },
   {
    "duration": 9,
    "start_time": "2022-11-10T13:56:16.671Z"
   },
   {
    "duration": 9,
    "start_time": "2022-11-10T13:56:27.928Z"
   },
   {
    "duration": 10,
    "start_time": "2022-11-10T13:56:29.651Z"
   },
   {
    "duration": 16,
    "start_time": "2022-11-10T13:56:35.059Z"
   },
   {
    "duration": 66,
    "start_time": "2022-11-10T13:56:38.979Z"
   },
   {
    "duration": 15,
    "start_time": "2022-11-10T13:56:39.047Z"
   },
   {
    "duration": 17,
    "start_time": "2022-11-10T13:56:39.064Z"
   },
   {
    "duration": 10,
    "start_time": "2022-11-10T13:56:39.083Z"
   },
   {
    "duration": 35,
    "start_time": "2022-11-10T13:56:39.123Z"
   },
   {
    "duration": 3,
    "start_time": "2022-11-10T13:56:39.160Z"
   },
   {
    "duration": 12,
    "start_time": "2022-11-10T13:56:39.164Z"
   },
   {
    "duration": 9,
    "start_time": "2022-11-10T13:56:39.177Z"
   },
   {
    "duration": 7,
    "start_time": "2022-11-10T13:56:39.187Z"
   },
   {
    "duration": 29,
    "start_time": "2022-11-10T13:56:39.197Z"
   },
   {
    "duration": 35,
    "start_time": "2022-11-10T13:56:39.228Z"
   },
   {
    "duration": 9,
    "start_time": "2022-11-10T13:56:39.265Z"
   },
   {
    "duration": 4,
    "start_time": "2022-11-10T13:56:39.276Z"
   },
   {
    "duration": 40,
    "start_time": "2022-11-10T13:56:39.282Z"
   },
   {
    "duration": 20,
    "start_time": "2022-11-10T13:56:39.324Z"
   },
   {
    "duration": 20,
    "start_time": "2022-11-10T13:56:39.346Z"
   },
   {
    "duration": 5,
    "start_time": "2022-11-10T13:56:39.368Z"
   },
   {
    "duration": 11,
    "start_time": "2022-11-10T13:56:39.375Z"
   },
   {
    "duration": 37,
    "start_time": "2022-11-10T13:56:39.388Z"
   },
   {
    "duration": 6,
    "start_time": "2022-11-10T13:56:39.427Z"
   },
   {
    "duration": 11,
    "start_time": "2022-11-10T13:56:39.434Z"
   },
   {
    "duration": 31,
    "start_time": "2022-11-10T13:56:39.447Z"
   },
   {
    "duration": 14,
    "start_time": "2022-11-10T13:56:39.480Z"
   },
   {
    "duration": 39,
    "start_time": "2022-11-10T13:56:39.496Z"
   },
   {
    "duration": 14,
    "start_time": "2022-11-10T13:56:39.537Z"
   },
   {
    "duration": 9,
    "start_time": "2022-11-10T13:56:39.555Z"
   },
   {
    "duration": 30,
    "start_time": "2022-11-10T13:56:39.566Z"
   },
   {
    "duration": 23,
    "start_time": "2022-11-10T13:56:39.622Z"
   },
   {
    "duration": 14,
    "start_time": "2022-11-10T13:56:39.647Z"
   },
   {
    "duration": 3,
    "start_time": "2022-11-10T13:56:39.663Z"
   },
   {
    "duration": 5,
    "start_time": "2022-11-10T13:56:39.668Z"
   },
   {
    "duration": 23,
    "start_time": "2022-11-10T13:59:34.358Z"
   },
   {
    "duration": 22,
    "start_time": "2022-11-10T13:59:46.082Z"
   },
   {
    "duration": 14,
    "start_time": "2022-11-10T13:59:47.043Z"
   },
   {
    "duration": 22,
    "start_time": "2022-11-10T13:59:53.730Z"
   },
   {
    "duration": 72,
    "start_time": "2022-11-10T14:00:03.609Z"
   },
   {
    "duration": 16,
    "start_time": "2022-11-10T14:00:03.683Z"
   },
   {
    "duration": 32,
    "start_time": "2022-11-10T14:00:03.701Z"
   },
   {
    "duration": 11,
    "start_time": "2022-11-10T14:00:03.735Z"
   },
   {
    "duration": 36,
    "start_time": "2022-11-10T14:00:03.748Z"
   },
   {
    "duration": 4,
    "start_time": "2022-11-10T14:00:03.785Z"
   },
   {
    "duration": 52,
    "start_time": "2022-11-10T14:00:03.790Z"
   },
   {
    "duration": 7,
    "start_time": "2022-11-10T14:00:03.844Z"
   },
   {
    "duration": 9,
    "start_time": "2022-11-10T14:00:03.853Z"
   },
   {
    "duration": 9,
    "start_time": "2022-11-10T14:00:03.864Z"
   },
   {
    "duration": 38,
    "start_time": "2022-11-10T14:00:03.875Z"
   },
   {
    "duration": 11,
    "start_time": "2022-11-10T14:00:03.914Z"
   },
   {
    "duration": 15,
    "start_time": "2022-11-10T14:00:03.926Z"
   },
   {
    "duration": 18,
    "start_time": "2022-11-10T14:00:03.944Z"
   },
   {
    "duration": 20,
    "start_time": "2022-11-10T14:00:03.964Z"
   },
   {
    "duration": 20,
    "start_time": "2022-11-10T14:00:03.985Z"
   },
   {
    "duration": 3,
    "start_time": "2022-11-10T14:00:04.007Z"
   },
   {
    "duration": 13,
    "start_time": "2022-11-10T14:00:04.022Z"
   },
   {
    "duration": 16,
    "start_time": "2022-11-10T14:00:04.037Z"
   },
   {
    "duration": 21,
    "start_time": "2022-11-10T14:00:04.055Z"
   },
   {
    "duration": 19,
    "start_time": "2022-11-10T14:00:04.079Z"
   },
   {
    "duration": 48,
    "start_time": "2022-11-10T14:00:04.100Z"
   },
   {
    "duration": 18,
    "start_time": "2022-11-10T14:00:04.151Z"
   },
   {
    "duration": 24,
    "start_time": "2022-11-10T14:00:04.171Z"
   },
   {
    "duration": 34,
    "start_time": "2022-11-10T14:00:04.197Z"
   },
   {
    "duration": 16,
    "start_time": "2022-11-10T14:00:04.233Z"
   },
   {
    "duration": 50,
    "start_time": "2022-11-10T14:00:04.251Z"
   },
   {
    "duration": 26,
    "start_time": "2022-11-10T14:00:04.303Z"
   },
   {
    "duration": 15,
    "start_time": "2022-11-10T14:00:04.330Z"
   },
   {
    "duration": 8,
    "start_time": "2022-11-10T14:00:04.346Z"
   },
   {
    "duration": 13,
    "start_time": "2022-11-10T14:00:04.356Z"
   },
   {
    "duration": 17,
    "start_time": "2022-11-10T14:01:30.499Z"
   },
   {
    "duration": 15,
    "start_time": "2022-11-10T14:01:31.922Z"
   },
   {
    "duration": 23,
    "start_time": "2022-11-10T14:02:17.987Z"
   },
   {
    "duration": 28,
    "start_time": "2022-11-10T14:02:19.000Z"
   },
   {
    "duration": 14,
    "start_time": "2022-11-10T14:03:09.285Z"
   },
   {
    "duration": 16,
    "start_time": "2022-11-10T14:03:10.398Z"
   },
   {
    "duration": 15,
    "start_time": "2022-11-10T14:03:13.087Z"
   },
   {
    "duration": 32,
    "start_time": "2022-11-10T14:03:16.799Z"
   },
   {
    "duration": 18,
    "start_time": "2022-11-10T14:03:19.052Z"
   },
   {
    "duration": 22,
    "start_time": "2022-11-10T14:03:39.106Z"
   },
   {
    "duration": 18,
    "start_time": "2022-11-10T14:03:47.001Z"
   },
   {
    "duration": 15,
    "start_time": "2022-11-10T14:03:47.869Z"
   },
   {
    "duration": 34,
    "start_time": "2022-11-10T14:03:51.875Z"
   },
   {
    "duration": 16,
    "start_time": "2022-11-10T14:03:53.934Z"
   },
   {
    "duration": 19,
    "start_time": "2022-11-10T14:04:05.784Z"
   },
   {
    "duration": 17,
    "start_time": "2022-11-10T14:04:18.065Z"
   },
   {
    "duration": 32,
    "start_time": "2022-11-10T14:12:31.927Z"
   },
   {
    "duration": 38,
    "start_time": "2022-11-10T14:12:43.099Z"
   },
   {
    "duration": 51,
    "start_time": "2022-11-10T14:14:34.348Z"
   },
   {
    "duration": 64,
    "start_time": "2022-11-10T14:19:42.489Z"
   },
   {
    "duration": 16,
    "start_time": "2022-11-10T14:19:42.556Z"
   },
   {
    "duration": 33,
    "start_time": "2022-11-10T14:19:42.573Z"
   },
   {
    "duration": 18,
    "start_time": "2022-11-10T14:19:42.608Z"
   },
   {
    "duration": 53,
    "start_time": "2022-11-10T14:19:42.627Z"
   },
   {
    "duration": 4,
    "start_time": "2022-11-10T14:19:42.682Z"
   },
   {
    "duration": 38,
    "start_time": "2022-11-10T14:19:42.687Z"
   },
   {
    "duration": 18,
    "start_time": "2022-11-10T14:19:42.726Z"
   },
   {
    "duration": 39,
    "start_time": "2022-11-10T14:19:42.745Z"
   },
   {
    "duration": 28,
    "start_time": "2022-11-10T14:19:42.787Z"
   },
   {
    "duration": 85,
    "start_time": "2022-11-10T14:19:42.816Z"
   },
   {
    "duration": 31,
    "start_time": "2022-11-10T14:19:42.903Z"
   },
   {
    "duration": 18,
    "start_time": "2022-11-10T14:19:42.936Z"
   },
   {
    "duration": 23,
    "start_time": "2022-11-10T14:19:42.956Z"
   },
   {
    "duration": 45,
    "start_time": "2022-11-10T14:19:42.981Z"
   },
   {
    "duration": 21,
    "start_time": "2022-11-10T14:19:43.028Z"
   },
   {
    "duration": 4,
    "start_time": "2022-11-10T14:19:43.051Z"
   },
   {
    "duration": 30,
    "start_time": "2022-11-10T14:19:43.057Z"
   },
   {
    "duration": 19,
    "start_time": "2022-11-10T14:19:43.088Z"
   },
   {
    "duration": 37,
    "start_time": "2022-11-10T14:19:43.109Z"
   },
   {
    "duration": 24,
    "start_time": "2022-11-10T14:19:43.148Z"
   },
   {
    "duration": 50,
    "start_time": "2022-11-10T14:19:43.174Z"
   },
   {
    "duration": 21,
    "start_time": "2022-11-10T14:19:43.226Z"
   },
   {
    "duration": 52,
    "start_time": "2022-11-10T14:19:43.248Z"
   },
   {
    "duration": 31,
    "start_time": "2022-11-10T14:19:43.301Z"
   },
   {
    "duration": 60,
    "start_time": "2022-11-10T14:19:43.333Z"
   },
   {
    "duration": 30,
    "start_time": "2022-11-10T14:19:43.395Z"
   },
   {
    "duration": 15,
    "start_time": "2022-11-10T14:19:43.429Z"
   },
   {
    "duration": 47,
    "start_time": "2022-11-10T14:19:43.445Z"
   },
   {
    "duration": 32,
    "start_time": "2022-11-10T14:19:43.494Z"
   },
   {
    "duration": 15,
    "start_time": "2022-11-10T14:19:43.527Z"
   },
   {
    "duration": 26,
    "start_time": "2022-11-10T14:19:43.545Z"
   },
   {
    "duration": 8,
    "start_time": "2022-11-10T14:22:25.622Z"
   },
   {
    "duration": 15,
    "start_time": "2022-11-10T14:22:44.948Z"
   },
   {
    "duration": 31,
    "start_time": "2022-11-10T14:23:02.854Z"
   },
   {
    "duration": 73,
    "start_time": "2022-11-10T14:23:32.450Z"
   },
   {
    "duration": 66,
    "start_time": "2022-11-10T14:23:36.315Z"
   },
   {
    "duration": 69,
    "start_time": "2022-11-10T14:23:43.687Z"
   },
   {
    "duration": 70,
    "start_time": "2022-11-10T14:23:55.520Z"
   },
   {
    "duration": 78,
    "start_time": "2022-11-10T14:24:07.399Z"
   },
   {
    "duration": 66,
    "start_time": "2022-11-10T14:24:27.814Z"
   },
   {
    "duration": 67,
    "start_time": "2022-11-10T14:24:40.213Z"
   },
   {
    "duration": 73,
    "start_time": "2022-11-10T14:25:24.175Z"
   },
   {
    "duration": 64,
    "start_time": "2022-11-10T14:25:33.952Z"
   },
   {
    "duration": 16,
    "start_time": "2022-11-10T14:25:34.018Z"
   },
   {
    "duration": 38,
    "start_time": "2022-11-10T14:25:34.035Z"
   },
   {
    "duration": 15,
    "start_time": "2022-11-10T14:25:34.076Z"
   },
   {
    "duration": 57,
    "start_time": "2022-11-10T14:25:34.093Z"
   },
   {
    "duration": 12,
    "start_time": "2022-11-10T14:25:34.152Z"
   },
   {
    "duration": 27,
    "start_time": "2022-11-10T14:25:34.167Z"
   },
   {
    "duration": 22,
    "start_time": "2022-11-10T14:25:34.196Z"
   },
   {
    "duration": 41,
    "start_time": "2022-11-10T14:25:34.220Z"
   },
   {
    "duration": 28,
    "start_time": "2022-11-10T14:25:34.264Z"
   },
   {
    "duration": 80,
    "start_time": "2022-11-10T14:25:34.294Z"
   },
   {
    "duration": 12,
    "start_time": "2022-11-10T14:25:34.376Z"
   },
   {
    "duration": 45,
    "start_time": "2022-11-10T14:25:34.390Z"
   },
   {
    "duration": 22,
    "start_time": "2022-11-10T14:25:34.439Z"
   },
   {
    "duration": 50,
    "start_time": "2022-11-10T14:25:34.463Z"
   },
   {
    "duration": 20,
    "start_time": "2022-11-10T14:25:34.515Z"
   },
   {
    "duration": 3,
    "start_time": "2022-11-10T14:25:34.537Z"
   },
   {
    "duration": 29,
    "start_time": "2022-11-10T14:25:34.542Z"
   },
   {
    "duration": 37,
    "start_time": "2022-11-10T14:25:34.573Z"
   },
   {
    "duration": 20,
    "start_time": "2022-11-10T14:25:34.612Z"
   },
   {
    "duration": 49,
    "start_time": "2022-11-10T14:25:34.634Z"
   },
   {
    "duration": 66,
    "start_time": "2022-11-10T14:25:34.685Z"
   },
   {
    "duration": 44,
    "start_time": "2022-11-10T14:25:34.753Z"
   },
   {
    "duration": 29,
    "start_time": "2022-11-10T14:25:34.798Z"
   },
   {
    "duration": 32,
    "start_time": "2022-11-10T14:25:34.829Z"
   },
   {
    "duration": 65,
    "start_time": "2022-11-10T14:25:34.863Z"
   },
   {
    "duration": 0,
    "start_time": "2022-11-10T14:25:34.929Z"
   },
   {
    "duration": 0,
    "start_time": "2022-11-10T14:25:34.930Z"
   },
   {
    "duration": 0,
    "start_time": "2022-11-10T14:25:34.931Z"
   },
   {
    "duration": 0,
    "start_time": "2022-11-10T14:25:34.933Z"
   },
   {
    "duration": 0,
    "start_time": "2022-11-10T14:25:34.934Z"
   },
   {
    "duration": 0,
    "start_time": "2022-11-10T14:25:34.935Z"
   },
   {
    "duration": 34,
    "start_time": "2022-11-10T14:25:45.776Z"
   },
   {
    "duration": 15,
    "start_time": "2022-11-10T14:25:53.118Z"
   },
   {
    "duration": 1122,
    "start_time": "2022-11-10T14:30:24.317Z"
   },
   {
    "duration": 1121,
    "start_time": "2022-11-10T14:30:28.981Z"
   },
   {
    "duration": 1157,
    "start_time": "2022-11-10T14:30:54.103Z"
   },
   {
    "duration": 1149,
    "start_time": "2022-11-10T14:30:57.003Z"
   },
   {
    "duration": 1288,
    "start_time": "2022-11-10T14:31:30.235Z"
   },
   {
    "duration": 11,
    "start_time": "2022-11-10T14:32:06.382Z"
   },
   {
    "duration": 13,
    "start_time": "2022-11-10T14:33:13.083Z"
   },
   {
    "duration": 19,
    "start_time": "2022-11-10T14:33:22.622Z"
   },
   {
    "duration": 14,
    "start_time": "2022-11-10T14:33:26.627Z"
   },
   {
    "duration": 13,
    "start_time": "2022-11-10T14:33:35.337Z"
   },
   {
    "duration": 71,
    "start_time": "2022-11-10T14:33:41.241Z"
   },
   {
    "duration": 16,
    "start_time": "2022-11-10T14:33:41.315Z"
   },
   {
    "duration": 17,
    "start_time": "2022-11-10T14:33:41.333Z"
   },
   {
    "duration": 10,
    "start_time": "2022-11-10T14:33:41.352Z"
   },
   {
    "duration": 60,
    "start_time": "2022-11-10T14:33:41.364Z"
   },
   {
    "duration": 4,
    "start_time": "2022-11-10T14:33:41.425Z"
   },
   {
    "duration": 14,
    "start_time": "2022-11-10T14:33:41.431Z"
   },
   {
    "duration": 4,
    "start_time": "2022-11-10T14:33:41.447Z"
   },
   {
    "duration": 13,
    "start_time": "2022-11-10T14:33:41.453Z"
   },
   {
    "duration": 12,
    "start_time": "2022-11-10T14:33:41.469Z"
   },
   {
    "duration": 54,
    "start_time": "2022-11-10T14:33:41.483Z"
   },
   {
    "duration": 11,
    "start_time": "2022-11-10T14:33:41.538Z"
   },
   {
    "duration": 144,
    "start_time": "2022-11-10T14:33:41.551Z"
   },
   {
    "duration": 13,
    "start_time": "2022-11-10T14:33:41.699Z"
   },
   {
    "duration": 25,
    "start_time": "2022-11-10T14:33:41.713Z"
   },
   {
    "duration": 20,
    "start_time": "2022-11-10T14:33:41.740Z"
   },
   {
    "duration": 4,
    "start_time": "2022-11-10T14:33:41.764Z"
   },
   {
    "duration": 15,
    "start_time": "2022-11-10T14:33:41.770Z"
   },
   {
    "duration": 11,
    "start_time": "2022-11-10T14:33:41.787Z"
   },
   {
    "duration": 26,
    "start_time": "2022-11-10T14:33:41.800Z"
   },
   {
    "duration": 35,
    "start_time": "2022-11-10T14:33:41.828Z"
   },
   {
    "duration": 75,
    "start_time": "2022-11-10T14:33:41.865Z"
   },
   {
    "duration": 16,
    "start_time": "2022-11-10T14:33:41.941Z"
   },
   {
    "duration": 20,
    "start_time": "2022-11-10T14:33:41.959Z"
   },
   {
    "duration": 18,
    "start_time": "2022-11-10T14:33:41.981Z"
   },
   {
    "duration": 16,
    "start_time": "2022-11-10T14:33:42.023Z"
   },
   {
    "duration": 40,
    "start_time": "2022-11-10T14:33:42.041Z"
   },
   {
    "duration": 41,
    "start_time": "2022-11-10T14:33:42.083Z"
   },
   {
    "duration": 22,
    "start_time": "2022-11-10T14:33:42.125Z"
   },
   {
    "duration": 15,
    "start_time": "2022-11-10T14:33:42.149Z"
   },
   {
    "duration": 10,
    "start_time": "2022-11-10T14:33:42.165Z"
   },
   {
    "duration": 5,
    "start_time": "2022-11-10T14:33:42.177Z"
   },
   {
    "duration": 14,
    "start_time": "2022-11-10T14:33:59.650Z"
   },
   {
    "duration": 40,
    "start_time": "2022-11-10T15:05:01.673Z"
   },
   {
    "duration": 63,
    "start_time": "2022-11-10T15:05:33.905Z"
   },
   {
    "duration": 17,
    "start_time": "2022-11-10T15:05:33.970Z"
   },
   {
    "duration": 36,
    "start_time": "2022-11-10T15:05:33.988Z"
   },
   {
    "duration": 10,
    "start_time": "2022-11-10T15:05:34.026Z"
   },
   {
    "duration": 42,
    "start_time": "2022-11-10T15:05:34.037Z"
   },
   {
    "duration": 4,
    "start_time": "2022-11-10T15:05:34.081Z"
   },
   {
    "duration": 40,
    "start_time": "2022-11-10T15:05:34.087Z"
   },
   {
    "duration": 10,
    "start_time": "2022-11-10T15:05:34.129Z"
   },
   {
    "duration": 8,
    "start_time": "2022-11-10T15:05:34.140Z"
   },
   {
    "duration": 11,
    "start_time": "2022-11-10T15:05:34.152Z"
   },
   {
    "duration": 65,
    "start_time": "2022-11-10T15:05:34.165Z"
   },
   {
    "duration": 12,
    "start_time": "2022-11-10T15:05:34.232Z"
   },
   {
    "duration": 6,
    "start_time": "2022-11-10T15:05:34.247Z"
   },
   {
    "duration": 18,
    "start_time": "2022-11-10T15:05:34.255Z"
   },
   {
    "duration": 32,
    "start_time": "2022-11-10T15:05:34.275Z"
   },
   {
    "duration": 27,
    "start_time": "2022-11-10T15:05:34.322Z"
   },
   {
    "duration": 4,
    "start_time": "2022-11-10T15:05:34.351Z"
   },
   {
    "duration": 14,
    "start_time": "2022-11-10T15:05:34.357Z"
   },
   {
    "duration": 10,
    "start_time": "2022-11-10T15:05:34.373Z"
   },
   {
    "duration": 5,
    "start_time": "2022-11-10T15:05:34.385Z"
   },
   {
    "duration": 12,
    "start_time": "2022-11-10T15:05:34.391Z"
   },
   {
    "duration": 43,
    "start_time": "2022-11-10T15:05:34.405Z"
   },
   {
    "duration": 15,
    "start_time": "2022-11-10T15:05:34.449Z"
   },
   {
    "duration": 18,
    "start_time": "2022-11-10T15:05:34.465Z"
   },
   {
    "duration": 13,
    "start_time": "2022-11-10T15:05:34.484Z"
   },
   {
    "duration": 12,
    "start_time": "2022-11-10T15:05:34.523Z"
   },
   {
    "duration": 31,
    "start_time": "2022-11-10T15:05:34.537Z"
   },
   {
    "duration": 15,
    "start_time": "2022-11-10T15:05:34.572Z"
   },
   {
    "duration": 51,
    "start_time": "2022-11-10T15:05:34.589Z"
   },
   {
    "duration": 14,
    "start_time": "2022-11-10T15:05:34.642Z"
   },
   {
    "duration": 38,
    "start_time": "2022-11-10T15:05:34.658Z"
   },
   {
    "duration": 3,
    "start_time": "2022-11-10T15:05:34.722Z"
   },
   {
    "duration": 37,
    "start_time": "2022-11-10T15:05:46.111Z"
   },
   {
    "duration": 43,
    "start_time": "2022-11-10T15:05:55.485Z"
   },
   {
    "duration": 42,
    "start_time": "2022-11-10T15:07:02.568Z"
   },
   {
    "duration": 40,
    "start_time": "2022-11-10T15:07:15.700Z"
   },
   {
    "duration": 6,
    "start_time": "2022-11-10T15:23:21.334Z"
   },
   {
    "duration": 33,
    "start_time": "2022-11-10T15:26:45.004Z"
   },
   {
    "duration": 98,
    "start_time": "2022-11-11T08:51:06.206Z"
   },
   {
    "duration": 594,
    "start_time": "2022-11-11T08:51:09.705Z"
   },
   {
    "duration": 28,
    "start_time": "2022-11-11T08:51:10.301Z"
   },
   {
    "duration": 17,
    "start_time": "2022-11-11T08:51:10.331Z"
   },
   {
    "duration": 12,
    "start_time": "2022-11-11T08:51:10.350Z"
   },
   {
    "duration": 56,
    "start_time": "2022-11-11T08:51:10.364Z"
   },
   {
    "duration": 4,
    "start_time": "2022-11-11T08:51:10.422Z"
   },
   {
    "duration": 30,
    "start_time": "2022-11-11T08:51:10.428Z"
   },
   {
    "duration": 5,
    "start_time": "2022-11-11T08:51:10.460Z"
   },
   {
    "duration": 14,
    "start_time": "2022-11-11T08:51:10.467Z"
   },
   {
    "duration": 6,
    "start_time": "2022-11-11T08:51:10.484Z"
   },
   {
    "duration": 78,
    "start_time": "2022-11-11T08:51:10.492Z"
   },
   {
    "duration": 15,
    "start_time": "2022-11-11T08:51:10.573Z"
   },
   {
    "duration": 17,
    "start_time": "2022-11-11T08:51:10.590Z"
   },
   {
    "duration": 22,
    "start_time": "2022-11-11T08:51:10.609Z"
   },
   {
    "duration": 32,
    "start_time": "2022-11-11T08:51:10.633Z"
   },
   {
    "duration": 22,
    "start_time": "2022-11-11T08:51:10.667Z"
   },
   {
    "duration": 6,
    "start_time": "2022-11-11T08:51:10.691Z"
   },
   {
    "duration": 25,
    "start_time": "2022-11-11T08:51:10.699Z"
   },
   {
    "duration": 28,
    "start_time": "2022-11-11T08:51:10.726Z"
   },
   {
    "duration": 4,
    "start_time": "2022-11-11T08:51:10.757Z"
   },
   {
    "duration": 15,
    "start_time": "2022-11-11T08:51:10.763Z"
   },
   {
    "duration": 53,
    "start_time": "2022-11-11T08:51:10.781Z"
   },
   {
    "duration": 18,
    "start_time": "2022-11-11T08:51:10.850Z"
   },
   {
    "duration": 22,
    "start_time": "2022-11-11T08:51:10.870Z"
   },
   {
    "duration": 16,
    "start_time": "2022-11-11T08:51:10.894Z"
   },
   {
    "duration": 39,
    "start_time": "2022-11-11T08:51:10.912Z"
   },
   {
    "duration": 34,
    "start_time": "2022-11-11T08:51:10.953Z"
   },
   {
    "duration": 15,
    "start_time": "2022-11-11T08:51:10.991Z"
   },
   {
    "duration": 54,
    "start_time": "2022-11-11T08:51:11.009Z"
   },
   {
    "duration": 18,
    "start_time": "2022-11-11T08:51:11.065Z"
   },
   {
    "duration": 34,
    "start_time": "2022-11-11T08:51:11.086Z"
   },
   {
    "duration": 58,
    "start_time": "2022-11-11T08:51:11.122Z"
   },
   {
    "duration": 33,
    "start_time": "2022-11-11T08:52:24.087Z"
   },
   {
    "duration": 17,
    "start_time": "2022-11-11T08:56:29.393Z"
   },
   {
    "duration": 34,
    "start_time": "2022-11-11T08:56:36.372Z"
   },
   {
    "duration": 21,
    "start_time": "2022-11-11T08:56:39.000Z"
   },
   {
    "duration": 91,
    "start_time": "2022-11-11T08:56:41.964Z"
   },
   {
    "duration": 20,
    "start_time": "2022-11-11T08:56:42.064Z"
   },
   {
    "duration": 41,
    "start_time": "2022-11-11T08:56:42.085Z"
   },
   {
    "duration": 42,
    "start_time": "2022-11-11T08:56:42.129Z"
   },
   {
    "duration": 66,
    "start_time": "2022-11-11T08:56:42.173Z"
   },
   {
    "duration": 5,
    "start_time": "2022-11-11T08:56:42.241Z"
   },
   {
    "duration": 64,
    "start_time": "2022-11-11T08:56:42.248Z"
   },
   {
    "duration": 28,
    "start_time": "2022-11-11T08:56:42.314Z"
   },
   {
    "duration": 37,
    "start_time": "2022-11-11T08:56:42.344Z"
   },
   {
    "duration": 48,
    "start_time": "2022-11-11T08:56:42.384Z"
   },
   {
    "duration": 67,
    "start_time": "2022-11-11T08:56:42.434Z"
   },
   {
    "duration": 12,
    "start_time": "2022-11-11T08:56:42.502Z"
   },
   {
    "duration": 19,
    "start_time": "2022-11-11T08:56:42.516Z"
   },
   {
    "duration": 58,
    "start_time": "2022-11-11T08:56:42.537Z"
   },
   {
    "duration": 39,
    "start_time": "2022-11-11T08:56:42.597Z"
   },
   {
    "duration": 31,
    "start_time": "2022-11-11T08:56:42.638Z"
   },
   {
    "duration": 14,
    "start_time": "2022-11-11T08:56:42.671Z"
   },
   {
    "duration": 30,
    "start_time": "2022-11-11T08:56:42.686Z"
   },
   {
    "duration": 19,
    "start_time": "2022-11-11T08:56:42.719Z"
   },
   {
    "duration": 34,
    "start_time": "2022-11-11T08:56:42.742Z"
   },
   {
    "duration": 24,
    "start_time": "2022-11-11T08:56:42.778Z"
   },
   {
    "duration": 50,
    "start_time": "2022-11-11T08:56:42.805Z"
   },
   {
    "duration": 23,
    "start_time": "2022-11-11T08:56:42.856Z"
   },
   {
    "duration": 26,
    "start_time": "2022-11-11T08:56:42.881Z"
   },
   {
    "duration": 23,
    "start_time": "2022-11-11T08:56:42.908Z"
   },
   {
    "duration": 35,
    "start_time": "2022-11-11T08:56:42.935Z"
   },
   {
    "duration": 60,
    "start_time": "2022-11-11T08:56:42.975Z"
   },
   {
    "duration": 22,
    "start_time": "2022-11-11T08:56:43.039Z"
   },
   {
    "duration": 51,
    "start_time": "2022-11-11T08:56:43.065Z"
   },
   {
    "duration": 17,
    "start_time": "2022-11-11T08:56:43.117Z"
   },
   {
    "duration": 53,
    "start_time": "2022-11-11T08:56:43.135Z"
   },
   {
    "duration": 15,
    "start_time": "2022-11-11T08:56:43.190Z"
   },
   {
    "duration": 65,
    "start_time": "2022-11-11T08:56:43.208Z"
   },
   {
    "duration": 16,
    "start_time": "2022-11-11T08:57:04.266Z"
   },
   {
    "duration": 18,
    "start_time": "2022-11-11T08:57:21.224Z"
   },
   {
    "duration": 85,
    "start_time": "2022-11-11T08:57:30.312Z"
   },
   {
    "duration": 18,
    "start_time": "2022-11-11T08:57:30.400Z"
   },
   {
    "duration": 59,
    "start_time": "2022-11-11T08:57:30.421Z"
   },
   {
    "duration": 61,
    "start_time": "2022-11-11T08:57:30.482Z"
   },
   {
    "duration": 81,
    "start_time": "2022-11-11T08:57:30.545Z"
   },
   {
    "duration": 3,
    "start_time": "2022-11-11T08:57:30.629Z"
   },
   {
    "duration": 72,
    "start_time": "2022-11-11T08:57:30.634Z"
   },
   {
    "duration": 20,
    "start_time": "2022-11-11T08:57:30.708Z"
   },
   {
    "duration": 54,
    "start_time": "2022-11-11T08:57:30.730Z"
   },
   {
    "duration": 57,
    "start_time": "2022-11-11T08:57:30.785Z"
   },
   {
    "duration": 71,
    "start_time": "2022-11-11T08:57:30.843Z"
   },
   {
    "duration": 18,
    "start_time": "2022-11-11T08:57:30.917Z"
   },
   {
    "duration": 69,
    "start_time": "2022-11-11T08:57:30.937Z"
   },
   {
    "duration": 35,
    "start_time": "2022-11-11T08:57:31.011Z"
   },
   {
    "duration": 43,
    "start_time": "2022-11-11T08:57:31.048Z"
   },
   {
    "duration": 30,
    "start_time": "2022-11-11T08:57:31.093Z"
   },
   {
    "duration": 24,
    "start_time": "2022-11-11T08:57:31.125Z"
   },
   {
    "duration": 44,
    "start_time": "2022-11-11T08:57:31.151Z"
   },
   {
    "duration": 27,
    "start_time": "2022-11-11T08:57:31.196Z"
   },
   {
    "duration": 50,
    "start_time": "2022-11-11T08:57:31.225Z"
   },
   {
    "duration": 54,
    "start_time": "2022-11-11T08:57:31.276Z"
   },
   {
    "duration": 43,
    "start_time": "2022-11-11T08:57:31.332Z"
   },
   {
    "duration": 27,
    "start_time": "2022-11-11T08:57:31.377Z"
   },
   {
    "duration": 26,
    "start_time": "2022-11-11T08:57:31.406Z"
   },
   {
    "duration": 19,
    "start_time": "2022-11-11T08:57:31.433Z"
   },
   {
    "duration": 55,
    "start_time": "2022-11-11T08:57:31.457Z"
   },
   {
    "duration": 35,
    "start_time": "2022-11-11T08:57:31.514Z"
   },
   {
    "duration": 27,
    "start_time": "2022-11-11T08:57:31.553Z"
   },
   {
    "duration": 24,
    "start_time": "2022-11-11T08:57:31.583Z"
   },
   {
    "duration": 14,
    "start_time": "2022-11-11T08:57:31.609Z"
   },
   {
    "duration": 66,
    "start_time": "2022-11-11T08:57:31.625Z"
   },
   {
    "duration": 16,
    "start_time": "2022-11-11T08:57:31.693Z"
   },
   {
    "duration": 54,
    "start_time": "2022-11-11T08:57:31.711Z"
   },
   {
    "duration": 19,
    "start_time": "2022-11-11T08:59:46.537Z"
   },
   {
    "duration": 15,
    "start_time": "2022-11-11T09:00:42.980Z"
   },
   {
    "duration": 36,
    "start_time": "2022-11-11T09:24:02.685Z"
   },
   {
    "duration": 19,
    "start_time": "2022-11-11T09:39:49.551Z"
   },
   {
    "duration": 25,
    "start_time": "2022-11-11T09:41:03.751Z"
   },
   {
    "duration": 15,
    "start_time": "2022-11-11T09:42:03.786Z"
   },
   {
    "duration": 14,
    "start_time": "2022-11-11T09:42:21.193Z"
   },
   {
    "duration": 80,
    "start_time": "2022-11-11T09:42:28.235Z"
   },
   {
    "duration": 19,
    "start_time": "2022-11-11T09:42:28.317Z"
   },
   {
    "duration": 41,
    "start_time": "2022-11-11T09:42:28.338Z"
   },
   {
    "duration": 18,
    "start_time": "2022-11-11T09:42:28.382Z"
   },
   {
    "duration": 61,
    "start_time": "2022-11-11T09:42:28.402Z"
   },
   {
    "duration": 4,
    "start_time": "2022-11-11T09:42:28.465Z"
   },
   {
    "duration": 25,
    "start_time": "2022-11-11T09:42:28.471Z"
   },
   {
    "duration": 8,
    "start_time": "2022-11-11T09:42:28.498Z"
   },
   {
    "duration": 24,
    "start_time": "2022-11-11T09:42:28.508Z"
   },
   {
    "duration": 7,
    "start_time": "2022-11-11T09:42:28.535Z"
   },
   {
    "duration": 46,
    "start_time": "2022-11-11T09:42:28.545Z"
   },
   {
    "duration": 12,
    "start_time": "2022-11-11T09:42:28.593Z"
   },
   {
    "duration": 10,
    "start_time": "2022-11-11T09:42:28.607Z"
   },
   {
    "duration": 35,
    "start_time": "2022-11-11T09:42:28.619Z"
   },
   {
    "duration": 25,
    "start_time": "2022-11-11T09:42:28.662Z"
   },
   {
    "duration": 20,
    "start_time": "2022-11-11T09:42:28.688Z"
   },
   {
    "duration": 4,
    "start_time": "2022-11-11T09:42:28.710Z"
   },
   {
    "duration": 14,
    "start_time": "2022-11-11T09:42:28.715Z"
   },
   {
    "duration": 24,
    "start_time": "2022-11-11T09:42:28.731Z"
   },
   {
    "duration": 26,
    "start_time": "2022-11-11T09:42:28.759Z"
   },
   {
    "duration": 20,
    "start_time": "2022-11-11T09:42:28.787Z"
   },
   {
    "duration": 40,
    "start_time": "2022-11-11T09:42:28.809Z"
   },
   {
    "duration": 23,
    "start_time": "2022-11-11T09:42:28.851Z"
   },
   {
    "duration": 18,
    "start_time": "2022-11-11T09:42:28.876Z"
   },
   {
    "duration": 15,
    "start_time": "2022-11-11T09:42:28.896Z"
   },
   {
    "duration": 13,
    "start_time": "2022-11-11T09:42:28.913Z"
   },
   {
    "duration": 60,
    "start_time": "2022-11-11T09:42:28.928Z"
   },
   {
    "duration": 16,
    "start_time": "2022-11-11T09:42:28.992Z"
   },
   {
    "duration": 49,
    "start_time": "2022-11-11T09:42:29.010Z"
   },
   {
    "duration": 15,
    "start_time": "2022-11-11T09:42:29.065Z"
   },
   {
    "duration": 32,
    "start_time": "2022-11-11T09:42:29.082Z"
   },
   {
    "duration": 17,
    "start_time": "2022-11-11T09:42:29.116Z"
   },
   {
    "duration": 34,
    "start_time": "2022-11-11T09:42:29.136Z"
   },
   {
    "duration": 15,
    "start_time": "2022-11-11T09:42:29.173Z"
   },
   {
    "duration": 39,
    "start_time": "2022-11-11T09:42:29.190Z"
   },
   {
    "duration": 17,
    "start_time": "2022-11-11T09:42:29.256Z"
   },
   {
    "duration": 21,
    "start_time": "2022-11-11T09:42:29.276Z"
   },
   {
    "duration": 14,
    "start_time": "2022-11-11T09:42:29.299Z"
   },
   {
    "duration": 80,
    "start_time": "2022-11-11T09:43:39.426Z"
   },
   {
    "duration": 19,
    "start_time": "2022-11-11T09:43:39.508Z"
   },
   {
    "duration": 51,
    "start_time": "2022-11-11T09:43:39.530Z"
   },
   {
    "duration": 36,
    "start_time": "2022-11-11T09:43:39.583Z"
   },
   {
    "duration": 58,
    "start_time": "2022-11-11T09:43:39.622Z"
   },
   {
    "duration": 4,
    "start_time": "2022-11-11T09:43:39.682Z"
   },
   {
    "duration": 19,
    "start_time": "2022-11-11T09:43:39.688Z"
   },
   {
    "duration": 11,
    "start_time": "2022-11-11T09:43:39.709Z"
   },
   {
    "duration": 10,
    "start_time": "2022-11-11T09:43:39.722Z"
   },
   {
    "duration": 24,
    "start_time": "2022-11-11T09:43:39.751Z"
   },
   {
    "duration": 46,
    "start_time": "2022-11-11T09:43:39.778Z"
   },
   {
    "duration": 17,
    "start_time": "2022-11-11T09:43:39.827Z"
   },
   {
    "duration": 24,
    "start_time": "2022-11-11T09:43:39.861Z"
   },
   {
    "duration": 18,
    "start_time": "2022-11-11T09:43:39.890Z"
   },
   {
    "duration": 47,
    "start_time": "2022-11-11T09:43:39.910Z"
   },
   {
    "duration": 22,
    "start_time": "2022-11-11T09:43:39.961Z"
   },
   {
    "duration": 5,
    "start_time": "2022-11-11T09:43:39.985Z"
   },
   {
    "duration": 22,
    "start_time": "2022-11-11T09:43:39.992Z"
   },
   {
    "duration": 22,
    "start_time": "2022-11-11T09:43:40.016Z"
   },
   {
    "duration": 47,
    "start_time": "2022-11-11T09:43:40.039Z"
   },
   {
    "duration": 30,
    "start_time": "2022-11-11T09:43:40.088Z"
   },
   {
    "duration": 48,
    "start_time": "2022-11-11T09:43:40.120Z"
   },
   {
    "duration": 22,
    "start_time": "2022-11-11T09:43:40.170Z"
   },
   {
    "duration": 22,
    "start_time": "2022-11-11T09:43:40.194Z"
   },
   {
    "duration": 26,
    "start_time": "2022-11-11T09:43:40.218Z"
   },
   {
    "duration": 34,
    "start_time": "2022-11-11T09:43:40.253Z"
   },
   {
    "duration": 35,
    "start_time": "2022-11-11T09:43:40.289Z"
   },
   {
    "duration": 18,
    "start_time": "2022-11-11T09:43:40.325Z"
   },
   {
    "duration": 25,
    "start_time": "2022-11-11T09:43:40.355Z"
   },
   {
    "duration": 15,
    "start_time": "2022-11-11T09:43:40.382Z"
   },
   {
    "duration": 33,
    "start_time": "2022-11-11T09:43:40.399Z"
   },
   {
    "duration": 34,
    "start_time": "2022-11-11T09:43:40.434Z"
   },
   {
    "duration": 18,
    "start_time": "2022-11-11T09:43:40.470Z"
   },
   {
    "duration": 14,
    "start_time": "2022-11-11T09:43:40.490Z"
   },
   {
    "duration": 68,
    "start_time": "2022-11-11T09:43:40.506Z"
   },
   {
    "duration": 15,
    "start_time": "2022-11-11T09:43:40.576Z"
   },
   {
    "duration": 54,
    "start_time": "2022-11-11T09:43:40.593Z"
   },
   {
    "duration": 26,
    "start_time": "2022-11-11T09:43:40.649Z"
   },
   {
    "duration": 21,
    "start_time": "2022-11-11T09:44:33.277Z"
   },
   {
    "duration": 104,
    "start_time": "2022-11-11T09:44:39.864Z"
   },
   {
    "duration": 21,
    "start_time": "2022-11-11T09:44:39.972Z"
   },
   {
    "duration": 37,
    "start_time": "2022-11-11T09:44:39.996Z"
   },
   {
    "duration": 26,
    "start_time": "2022-11-11T09:44:40.036Z"
   },
   {
    "duration": 39,
    "start_time": "2022-11-11T09:44:40.065Z"
   },
   {
    "duration": 4,
    "start_time": "2022-11-11T09:44:40.106Z"
   },
   {
    "duration": 12,
    "start_time": "2022-11-11T09:44:40.112Z"
   },
   {
    "duration": 26,
    "start_time": "2022-11-11T09:44:40.126Z"
   },
   {
    "duration": 24,
    "start_time": "2022-11-11T09:44:40.154Z"
   },
   {
    "duration": 12,
    "start_time": "2022-11-11T09:44:40.181Z"
   },
   {
    "duration": 60,
    "start_time": "2022-11-11T09:44:40.195Z"
   },
   {
    "duration": 15,
    "start_time": "2022-11-11T09:44:40.264Z"
   },
   {
    "duration": 9,
    "start_time": "2022-11-11T09:44:40.281Z"
   },
   {
    "duration": 16,
    "start_time": "2022-11-11T09:44:40.294Z"
   },
   {
    "duration": 94,
    "start_time": "2022-11-11T09:44:40.312Z"
   },
   {
    "duration": 21,
    "start_time": "2022-11-11T09:44:40.408Z"
   },
   {
    "duration": 19,
    "start_time": "2022-11-11T09:44:40.431Z"
   },
   {
    "duration": 26,
    "start_time": "2022-11-11T09:44:40.458Z"
   },
   {
    "duration": 24,
    "start_time": "2022-11-11T09:44:40.486Z"
   },
   {
    "duration": 6,
    "start_time": "2022-11-11T09:44:40.512Z"
   },
   {
    "duration": 14,
    "start_time": "2022-11-11T09:44:40.520Z"
   },
   {
    "duration": 39,
    "start_time": "2022-11-11T09:44:40.536Z"
   },
   {
    "duration": 19,
    "start_time": "2022-11-11T09:44:40.577Z"
   },
   {
    "duration": 27,
    "start_time": "2022-11-11T09:44:40.599Z"
   },
   {
    "duration": 33,
    "start_time": "2022-11-11T09:44:40.628Z"
   },
   {
    "duration": 29,
    "start_time": "2022-11-11T09:44:40.663Z"
   },
   {
    "duration": 46,
    "start_time": "2022-11-11T09:44:40.695Z"
   },
   {
    "duration": 25,
    "start_time": "2022-11-11T09:44:40.744Z"
   },
   {
    "duration": 25,
    "start_time": "2022-11-11T09:44:40.771Z"
   },
   {
    "duration": 19,
    "start_time": "2022-11-11T09:44:40.798Z"
   },
   {
    "duration": 51,
    "start_time": "2022-11-11T09:44:40.819Z"
   },
   {
    "duration": 27,
    "start_time": "2022-11-11T09:44:40.873Z"
   },
   {
    "duration": 25,
    "start_time": "2022-11-11T09:44:40.902Z"
   },
   {
    "duration": 39,
    "start_time": "2022-11-11T09:44:40.929Z"
   },
   {
    "duration": 40,
    "start_time": "2022-11-11T09:44:40.969Z"
   },
   {
    "duration": 19,
    "start_time": "2022-11-11T09:44:41.011Z"
   },
   {
    "duration": 27,
    "start_time": "2022-11-11T09:44:41.051Z"
   },
   {
    "duration": 15,
    "start_time": "2022-11-11T09:44:41.080Z"
   },
   {
    "duration": 552,
    "start_time": "2022-11-11T12:38:53.210Z"
   },
   {
    "duration": 25,
    "start_time": "2022-11-11T12:38:53.765Z"
   },
   {
    "duration": 17,
    "start_time": "2022-11-11T12:38:53.791Z"
   },
   {
    "duration": 11,
    "start_time": "2022-11-11T12:38:53.809Z"
   },
   {
    "duration": 56,
    "start_time": "2022-11-11T12:38:53.822Z"
   },
   {
    "duration": 4,
    "start_time": "2022-11-11T12:38:53.880Z"
   },
   {
    "duration": 15,
    "start_time": "2022-11-11T12:38:53.886Z"
   },
   {
    "duration": 10,
    "start_time": "2022-11-11T12:38:53.903Z"
   },
   {
    "duration": 11,
    "start_time": "2022-11-11T12:38:53.915Z"
   },
   {
    "duration": 8,
    "start_time": "2022-11-11T12:38:53.928Z"
   },
   {
    "duration": 68,
    "start_time": "2022-11-11T12:38:53.938Z"
   },
   {
    "duration": 15,
    "start_time": "2022-11-11T12:38:54.009Z"
   },
   {
    "duration": 6,
    "start_time": "2022-11-11T12:38:54.027Z"
   },
   {
    "duration": 18,
    "start_time": "2022-11-11T12:38:54.037Z"
   },
   {
    "duration": 28,
    "start_time": "2022-11-11T12:38:54.079Z"
   },
   {
    "duration": 22,
    "start_time": "2022-11-11T12:38:54.110Z"
   },
   {
    "duration": 5,
    "start_time": "2022-11-11T12:38:54.135Z"
   },
   {
    "duration": 42,
    "start_time": "2022-11-11T12:38:54.142Z"
   },
   {
    "duration": 11,
    "start_time": "2022-11-11T12:38:54.186Z"
   },
   {
    "duration": 10,
    "start_time": "2022-11-11T12:38:54.199Z"
   },
   {
    "duration": 21,
    "start_time": "2022-11-11T12:38:54.211Z"
   },
   {
    "duration": 34,
    "start_time": "2022-11-11T12:38:54.234Z"
   },
   {
    "duration": 16,
    "start_time": "2022-11-11T12:38:54.277Z"
   },
   {
    "duration": 18,
    "start_time": "2022-11-11T12:38:54.294Z"
   },
   {
    "duration": 14,
    "start_time": "2022-11-11T12:38:54.314Z"
   },
   {
    "duration": 12,
    "start_time": "2022-11-11T12:38:54.329Z"
   },
   {
    "duration": 65,
    "start_time": "2022-11-11T12:38:54.343Z"
   },
   {
    "duration": 16,
    "start_time": "2022-11-11T12:38:54.410Z"
   },
   {
    "duration": 18,
    "start_time": "2022-11-11T12:38:54.428Z"
   },
   {
    "duration": 40,
    "start_time": "2022-11-11T12:38:54.448Z"
   },
   {
    "duration": 35,
    "start_time": "2022-11-11T12:38:54.490Z"
   },
   {
    "duration": 17,
    "start_time": "2022-11-11T12:38:54.527Z"
   },
   {
    "duration": 49,
    "start_time": "2022-11-11T12:38:54.546Z"
   },
   {
    "duration": 17,
    "start_time": "2022-11-11T12:38:54.597Z"
   },
   {
    "duration": 37,
    "start_time": "2022-11-11T12:38:54.616Z"
   },
   {
    "duration": 38,
    "start_time": "2022-11-11T12:38:54.655Z"
   },
   {
    "duration": 18,
    "start_time": "2022-11-11T12:38:54.695Z"
   },
   {
    "duration": 15,
    "start_time": "2022-11-11T12:38:54.715Z"
   },
   {
    "duration": 13,
    "start_time": "2022-11-12T12:26:41.332Z"
   },
   {
    "duration": 737,
    "start_time": "2022-11-12T12:29:35.346Z"
   },
   {
    "duration": 24,
    "start_time": "2022-11-12T12:29:36.085Z"
   },
   {
    "duration": 16,
    "start_time": "2022-11-12T12:29:36.111Z"
   },
   {
    "duration": 10,
    "start_time": "2022-11-12T12:29:36.130Z"
   },
   {
    "duration": 38,
    "start_time": "2022-11-12T12:29:36.142Z"
   },
   {
    "duration": 4,
    "start_time": "2022-11-12T12:29:36.182Z"
   },
   {
    "duration": 13,
    "start_time": "2022-11-12T12:29:36.187Z"
   },
   {
    "duration": 5,
    "start_time": "2022-11-12T12:29:36.220Z"
   },
   {
    "duration": 12,
    "start_time": "2022-11-12T12:29:36.226Z"
   },
   {
    "duration": 4,
    "start_time": "2022-11-12T12:29:36.242Z"
   },
   {
    "duration": 40,
    "start_time": "2022-11-12T12:29:36.248Z"
   },
   {
    "duration": 29,
    "start_time": "2022-11-12T12:29:36.292Z"
   },
   {
    "duration": 7,
    "start_time": "2022-11-12T12:29:36.323Z"
   },
   {
    "duration": 27,
    "start_time": "2022-11-12T12:29:36.331Z"
   },
   {
    "duration": 29,
    "start_time": "2022-11-12T12:29:36.360Z"
   },
   {
    "duration": 49,
    "start_time": "2022-11-12T12:29:36.391Z"
   },
   {
    "duration": 5,
    "start_time": "2022-11-12T12:29:36.442Z"
   },
   {
    "duration": 20,
    "start_time": "2022-11-12T12:29:36.450Z"
   },
   {
    "duration": 17,
    "start_time": "2022-11-12T12:29:36.473Z"
   },
   {
    "duration": 13,
    "start_time": "2022-11-12T12:29:36.492Z"
   },
   {
    "duration": 37,
    "start_time": "2022-11-12T12:29:36.508Z"
   },
   {
    "duration": 8,
    "start_time": "2022-11-12T12:29:36.547Z"
   },
   {
    "duration": 32,
    "start_time": "2022-11-12T12:29:36.558Z"
   },
   {
    "duration": 52,
    "start_time": "2022-11-12T12:29:36.592Z"
   },
   {
    "duration": 17,
    "start_time": "2022-11-12T12:29:36.647Z"
   },
   {
    "duration": 22,
    "start_time": "2022-11-12T12:29:36.667Z"
   },
   {
    "duration": 33,
    "start_time": "2022-11-12T12:29:36.691Z"
   },
   {
    "duration": 15,
    "start_time": "2022-11-12T12:29:36.727Z"
   },
   {
    "duration": 34,
    "start_time": "2022-11-12T12:29:36.744Z"
   },
   {
    "duration": 43,
    "start_time": "2022-11-12T12:29:36.780Z"
   },
   {
    "duration": 25,
    "start_time": "2022-11-12T12:29:36.826Z"
   },
   {
    "duration": 14,
    "start_time": "2022-11-12T12:29:36.853Z"
   },
   {
    "duration": 52,
    "start_time": "2022-11-12T12:29:36.868Z"
   },
   {
    "duration": 14,
    "start_time": "2022-11-12T12:29:36.922Z"
   },
   {
    "duration": 18,
    "start_time": "2022-11-12T12:29:36.938Z"
   },
   {
    "duration": 13,
    "start_time": "2022-11-12T12:29:36.958Z"
   },
   {
    "duration": 65,
    "start_time": "2022-11-12T12:29:36.973Z"
   },
   {
    "duration": 14,
    "start_time": "2022-11-12T12:29:37.040Z"
   },
   {
    "duration": 19,
    "start_time": "2022-11-12T12:29:37.055Z"
   },
   {
    "duration": 14,
    "start_time": "2022-11-12T12:29:37.075Z"
   },
   {
    "duration": 34,
    "start_time": "2022-11-12T12:30:43.119Z"
   },
   {
    "duration": 3,
    "start_time": "2022-11-12T12:31:31.651Z"
   },
   {
    "duration": 9,
    "start_time": "2022-11-12T12:31:33.202Z"
   },
   {
    "duration": 33,
    "start_time": "2022-11-12T12:31:34.882Z"
   },
   {
    "duration": 75,
    "start_time": "2022-11-12T12:31:41.429Z"
   },
   {
    "duration": 19,
    "start_time": "2022-11-12T12:31:41.506Z"
   },
   {
    "duration": 24,
    "start_time": "2022-11-12T12:31:41.527Z"
   },
   {
    "duration": 10,
    "start_time": "2022-11-12T12:31:41.554Z"
   },
   {
    "duration": 59,
    "start_time": "2022-11-12T12:31:41.566Z"
   },
   {
    "duration": 3,
    "start_time": "2022-11-12T12:31:41.627Z"
   },
   {
    "duration": 12,
    "start_time": "2022-11-12T12:31:41.631Z"
   },
   {
    "duration": 4,
    "start_time": "2022-11-12T12:31:41.645Z"
   },
   {
    "duration": 7,
    "start_time": "2022-11-12T12:31:41.651Z"
   },
   {
    "duration": 12,
    "start_time": "2022-11-12T12:31:41.660Z"
   },
   {
    "duration": 65,
    "start_time": "2022-11-12T12:31:41.673Z"
   },
   {
    "duration": 10,
    "start_time": "2022-11-12T12:31:41.740Z"
   },
   {
    "duration": 6,
    "start_time": "2022-11-12T12:31:41.751Z"
   },
   {
    "duration": 17,
    "start_time": "2022-11-12T12:31:41.758Z"
   },
   {
    "duration": 42,
    "start_time": "2022-11-12T12:31:41.777Z"
   },
   {
    "duration": 20,
    "start_time": "2022-11-12T12:31:41.821Z"
   },
   {
    "duration": 4,
    "start_time": "2022-11-12T12:31:41.843Z"
   },
   {
    "duration": 13,
    "start_time": "2022-11-12T12:31:41.849Z"
   },
   {
    "duration": 7,
    "start_time": "2022-11-12T12:31:41.863Z"
   },
   {
    "duration": 5,
    "start_time": "2022-11-12T12:31:41.872Z"
   },
   {
    "duration": 40,
    "start_time": "2022-11-12T12:31:41.879Z"
   },
   {
    "duration": 5,
    "start_time": "2022-11-12T12:31:41.921Z"
   },
   {
    "duration": 11,
    "start_time": "2022-11-12T12:31:41.928Z"
   },
   {
    "duration": 36,
    "start_time": "2022-11-12T12:31:41.941Z"
   },
   {
    "duration": 14,
    "start_time": "2022-11-12T12:31:41.979Z"
   },
   {
    "duration": 18,
    "start_time": "2022-11-12T12:31:42.020Z"
   },
   {
    "duration": 15,
    "start_time": "2022-11-12T12:31:42.039Z"
   },
   {
    "duration": 14,
    "start_time": "2022-11-12T12:31:42.057Z"
   },
   {
    "duration": 62,
    "start_time": "2022-11-12T12:31:42.073Z"
   },
   {
    "duration": 15,
    "start_time": "2022-11-12T12:31:42.137Z"
   },
   {
    "duration": 20,
    "start_time": "2022-11-12T12:31:42.153Z"
   },
   {
    "duration": 13,
    "start_time": "2022-11-12T12:31:42.175Z"
   },
   {
    "duration": 57,
    "start_time": "2022-11-12T12:31:42.190Z"
   },
   {
    "duration": 13,
    "start_time": "2022-11-12T12:31:42.249Z"
   },
   {
    "duration": 16,
    "start_time": "2022-11-12T12:31:42.264Z"
   },
   {
    "duration": 37,
    "start_time": "2022-11-12T12:31:42.282Z"
   },
   {
    "duration": 34,
    "start_time": "2022-11-12T12:31:42.321Z"
   },
   {
    "duration": 14,
    "start_time": "2022-11-12T12:31:42.357Z"
   },
   {
    "duration": 46,
    "start_time": "2022-11-12T12:31:42.373Z"
   },
   {
    "duration": 15,
    "start_time": "2022-11-12T12:31:42.421Z"
   },
   {
    "duration": 3,
    "start_time": "2022-11-12T12:33:58.738Z"
   },
   {
    "duration": 9,
    "start_time": "2022-11-12T12:34:00.080Z"
   },
   {
    "duration": 32,
    "start_time": "2022-11-12T12:34:02.559Z"
   },
   {
    "duration": 70,
    "start_time": "2022-11-12T12:34:19.819Z"
   },
   {
    "duration": 16,
    "start_time": "2022-11-12T12:34:19.891Z"
   },
   {
    "duration": 21,
    "start_time": "2022-11-12T12:34:19.908Z"
   },
   {
    "duration": 10,
    "start_time": "2022-11-12T12:34:19.931Z"
   },
   {
    "duration": 48,
    "start_time": "2022-11-12T12:34:19.942Z"
   },
   {
    "duration": 3,
    "start_time": "2022-11-12T12:34:19.992Z"
   },
   {
    "duration": 29,
    "start_time": "2022-11-12T12:34:19.997Z"
   },
   {
    "duration": 18,
    "start_time": "2022-11-12T12:34:20.028Z"
   },
   {
    "duration": 14,
    "start_time": "2022-11-12T12:34:20.047Z"
   },
   {
    "duration": 16,
    "start_time": "2022-11-12T12:34:20.063Z"
   },
   {
    "duration": 48,
    "start_time": "2022-11-12T12:34:20.080Z"
   },
   {
    "duration": 10,
    "start_time": "2022-11-12T12:34:20.130Z"
   },
   {
    "duration": 7,
    "start_time": "2022-11-12T12:34:20.142Z"
   },
   {
    "duration": 15,
    "start_time": "2022-11-12T12:34:20.150Z"
   },
   {
    "duration": 25,
    "start_time": "2022-11-12T12:34:20.166Z"
   },
   {
    "duration": 29,
    "start_time": "2022-11-12T12:34:20.193Z"
   },
   {
    "duration": 4,
    "start_time": "2022-11-12T12:34:20.223Z"
   },
   {
    "duration": 26,
    "start_time": "2022-11-12T12:34:20.228Z"
   },
   {
    "duration": 15,
    "start_time": "2022-11-12T12:34:20.256Z"
   },
   {
    "duration": 9,
    "start_time": "2022-11-12T12:34:20.272Z"
   },
   {
    "duration": 14,
    "start_time": "2022-11-12T12:34:20.282Z"
   },
   {
    "duration": 81,
    "start_time": "2022-11-12T12:34:20.297Z"
   },
   {
    "duration": 0,
    "start_time": "2022-11-12T12:34:20.381Z"
   },
   {
    "duration": 0,
    "start_time": "2022-11-12T12:34:20.383Z"
   },
   {
    "duration": 0,
    "start_time": "2022-11-12T12:34:20.384Z"
   },
   {
    "duration": 0,
    "start_time": "2022-11-12T12:34:20.385Z"
   },
   {
    "duration": 0,
    "start_time": "2022-11-12T12:34:20.387Z"
   },
   {
    "duration": 0,
    "start_time": "2022-11-12T12:34:20.388Z"
   },
   {
    "duration": 0,
    "start_time": "2022-11-12T12:34:20.389Z"
   },
   {
    "duration": 0,
    "start_time": "2022-11-12T12:34:20.391Z"
   },
   {
    "duration": 0,
    "start_time": "2022-11-12T12:34:20.393Z"
   },
   {
    "duration": 0,
    "start_time": "2022-11-12T12:34:20.394Z"
   },
   {
    "duration": 0,
    "start_time": "2022-11-12T12:34:20.395Z"
   },
   {
    "duration": 0,
    "start_time": "2022-11-12T12:34:20.420Z"
   },
   {
    "duration": 0,
    "start_time": "2022-11-12T12:34:20.421Z"
   },
   {
    "duration": 0,
    "start_time": "2022-11-12T12:34:20.422Z"
   },
   {
    "duration": 0,
    "start_time": "2022-11-12T12:34:20.423Z"
   },
   {
    "duration": 0,
    "start_time": "2022-11-12T12:34:20.425Z"
   },
   {
    "duration": 26,
    "start_time": "2022-11-12T12:34:35.316Z"
   },
   {
    "duration": 69,
    "start_time": "2022-11-12T12:34:51.734Z"
   },
   {
    "duration": 15,
    "start_time": "2022-11-12T12:34:51.805Z"
   },
   {
    "duration": 17,
    "start_time": "2022-11-12T12:34:51.822Z"
   },
   {
    "duration": 9,
    "start_time": "2022-11-12T12:34:51.841Z"
   },
   {
    "duration": 50,
    "start_time": "2022-11-12T12:34:51.852Z"
   },
   {
    "duration": 18,
    "start_time": "2022-11-12T12:34:51.903Z"
   },
   {
    "duration": 22,
    "start_time": "2022-11-12T12:34:51.923Z"
   },
   {
    "duration": 10,
    "start_time": "2022-11-12T12:34:51.947Z"
   },
   {
    "duration": 16,
    "start_time": "2022-11-12T12:34:51.959Z"
   },
   {
    "duration": 16,
    "start_time": "2022-11-12T12:34:51.980Z"
   },
   {
    "duration": 64,
    "start_time": "2022-11-12T12:34:51.998Z"
   },
   {
    "duration": 13,
    "start_time": "2022-11-12T12:34:52.063Z"
   },
   {
    "duration": 10,
    "start_time": "2022-11-12T12:34:52.078Z"
   },
   {
    "duration": 35,
    "start_time": "2022-11-12T12:34:52.089Z"
   },
   {
    "duration": 47,
    "start_time": "2022-11-12T12:34:52.126Z"
   },
   {
    "duration": 18,
    "start_time": "2022-11-12T12:34:52.174Z"
   },
   {
    "duration": 6,
    "start_time": "2022-11-12T12:34:52.194Z"
   },
   {
    "duration": 16,
    "start_time": "2022-11-12T12:34:52.201Z"
   },
   {
    "duration": 32,
    "start_time": "2022-11-12T12:34:52.219Z"
   },
   {
    "duration": 17,
    "start_time": "2022-11-12T12:34:52.252Z"
   },
   {
    "duration": 43,
    "start_time": "2022-11-12T12:34:52.271Z"
   },
   {
    "duration": 95,
    "start_time": "2022-11-12T12:34:52.316Z"
   },
   {
    "duration": 15,
    "start_time": "2022-11-12T12:34:52.413Z"
   },
   {
    "duration": 34,
    "start_time": "2022-11-12T12:34:52.430Z"
   },
   {
    "duration": 0,
    "start_time": "2022-11-12T12:34:52.466Z"
   },
   {
    "duration": 0,
    "start_time": "2022-11-12T12:34:52.467Z"
   },
   {
    "duration": 0,
    "start_time": "2022-11-12T12:34:52.468Z"
   },
   {
    "duration": 0,
    "start_time": "2022-11-12T12:34:52.469Z"
   },
   {
    "duration": 0,
    "start_time": "2022-11-12T12:34:52.471Z"
   },
   {
    "duration": 0,
    "start_time": "2022-11-12T12:34:52.471Z"
   },
   {
    "duration": 0,
    "start_time": "2022-11-12T12:34:52.472Z"
   },
   {
    "duration": 0,
    "start_time": "2022-11-12T12:34:52.473Z"
   },
   {
    "duration": 0,
    "start_time": "2022-11-12T12:34:52.474Z"
   },
   {
    "duration": 1,
    "start_time": "2022-11-12T12:34:52.475Z"
   },
   {
    "duration": 0,
    "start_time": "2022-11-12T12:34:52.476Z"
   },
   {
    "duration": 0,
    "start_time": "2022-11-12T12:34:52.477Z"
   },
   {
    "duration": 0,
    "start_time": "2022-11-12T12:34:52.479Z"
   },
   {
    "duration": 0,
    "start_time": "2022-11-12T12:34:52.480Z"
   },
   {
    "duration": 17,
    "start_time": "2022-11-12T12:35:05.749Z"
   },
   {
    "duration": 14,
    "start_time": "2022-11-12T12:35:13.313Z"
   },
   {
    "duration": 13,
    "start_time": "2022-11-12T12:43:31.211Z"
   },
   {
    "duration": 33,
    "start_time": "2022-11-12T12:43:34.032Z"
   },
   {
    "duration": 18,
    "start_time": "2022-11-12T12:43:36.459Z"
   },
   {
    "duration": 24,
    "start_time": "2022-11-12T12:43:38.822Z"
   },
   {
    "duration": 15,
    "start_time": "2022-11-12T12:43:40.822Z"
   },
   {
    "duration": 33,
    "start_time": "2022-11-12T12:48:07.845Z"
   },
   {
    "duration": 16,
    "start_time": "2022-11-12T12:48:09.564Z"
   },
   {
    "duration": 24,
    "start_time": "2022-11-12T12:48:11.892Z"
   },
   {
    "duration": 15,
    "start_time": "2022-11-12T12:48:14.142Z"
   },
   {
    "duration": 34,
    "start_time": "2022-11-12T12:48:29.879Z"
   },
   {
    "duration": 14,
    "start_time": "2022-11-12T12:48:31.700Z"
   },
   {
    "duration": 19,
    "start_time": "2022-11-12T12:48:33.906Z"
   },
   {
    "duration": 19,
    "start_time": "2022-11-12T12:48:35.834Z"
   },
   {
    "duration": 761,
    "start_time": "2022-11-12T13:22:06.109Z"
   },
   {
    "duration": 704,
    "start_time": "2022-11-12T13:22:10.018Z"
   },
   {
    "duration": 1047,
    "start_time": "2022-11-12T13:22:22.834Z"
   },
   {
    "duration": 1142,
    "start_time": "2022-11-12T13:22:24.345Z"
   },
   {
    "duration": 779,
    "start_time": "2022-11-12T13:22:32.390Z"
   },
   {
    "duration": 72,
    "start_time": "2022-11-12T13:23:40.417Z"
   },
   {
    "duration": 17,
    "start_time": "2022-11-12T13:23:40.491Z"
   },
   {
    "duration": 29,
    "start_time": "2022-11-12T13:23:40.510Z"
   },
   {
    "duration": 10,
    "start_time": "2022-11-12T13:23:40.541Z"
   },
   {
    "duration": 39,
    "start_time": "2022-11-12T13:23:40.553Z"
   },
   {
    "duration": 25,
    "start_time": "2022-11-12T13:23:40.593Z"
   },
   {
    "duration": 15,
    "start_time": "2022-11-12T13:23:40.620Z"
   },
   {
    "duration": 5,
    "start_time": "2022-11-12T13:23:40.637Z"
   },
   {
    "duration": 14,
    "start_time": "2022-11-12T13:23:40.643Z"
   },
   {
    "duration": 6,
    "start_time": "2022-11-12T13:23:40.661Z"
   },
   {
    "duration": 56,
    "start_time": "2022-11-12T13:23:40.669Z"
   },
   {
    "duration": 10,
    "start_time": "2022-11-12T13:23:40.726Z"
   },
   {
    "duration": 11,
    "start_time": "2022-11-12T13:23:40.738Z"
   },
   {
    "duration": 17,
    "start_time": "2022-11-12T13:23:40.750Z"
   },
   {
    "duration": 25,
    "start_time": "2022-11-12T13:23:40.768Z"
   },
   {
    "duration": 69,
    "start_time": "2022-11-12T13:23:40.795Z"
   },
   {
    "duration": 3,
    "start_time": "2022-11-12T13:23:40.866Z"
   },
   {
    "duration": 19,
    "start_time": "2022-11-12T13:23:40.871Z"
   },
   {
    "duration": 6,
    "start_time": "2022-11-12T13:23:40.892Z"
   },
   {
    "duration": 7,
    "start_time": "2022-11-12T13:23:40.900Z"
   },
   {
    "duration": 9,
    "start_time": "2022-11-12T13:23:40.920Z"
   },
   {
    "duration": 30,
    "start_time": "2022-11-12T13:23:40.931Z"
   },
   {
    "duration": 15,
    "start_time": "2022-11-12T13:23:40.963Z"
   },
   {
    "duration": 41,
    "start_time": "2022-11-12T13:23:40.979Z"
   },
   {
    "duration": 20,
    "start_time": "2022-11-12T13:23:41.022Z"
   },
   {
    "duration": 14,
    "start_time": "2022-11-12T13:23:41.043Z"
   },
   {
    "duration": 33,
    "start_time": "2022-11-12T13:23:41.059Z"
   },
   {
    "duration": 19,
    "start_time": "2022-11-12T13:23:41.119Z"
   },
   {
    "duration": 21,
    "start_time": "2022-11-12T13:23:41.140Z"
   },
   {
    "duration": 17,
    "start_time": "2022-11-12T13:23:41.163Z"
   },
   {
    "duration": 91,
    "start_time": "2022-11-12T13:23:41.182Z"
   },
   {
    "duration": 0,
    "start_time": "2022-11-12T13:23:41.274Z"
   },
   {
    "duration": 0,
    "start_time": "2022-11-12T13:23:41.276Z"
   },
   {
    "duration": 0,
    "start_time": "2022-11-12T13:23:41.278Z"
   },
   {
    "duration": 0,
    "start_time": "2022-11-12T13:23:41.279Z"
   },
   {
    "duration": 0,
    "start_time": "2022-11-12T13:23:41.280Z"
   },
   {
    "duration": 0,
    "start_time": "2022-11-12T13:23:41.281Z"
   },
   {
    "duration": 0,
    "start_time": "2022-11-12T13:23:41.283Z"
   },
   {
    "duration": 0,
    "start_time": "2022-11-12T13:23:41.285Z"
   },
   {
    "duration": 0,
    "start_time": "2022-11-12T13:23:41.286Z"
   },
   {
    "duration": 31,
    "start_time": "2022-11-12T13:23:50.296Z"
   },
   {
    "duration": 52,
    "start_time": "2022-11-12T13:24:11.561Z"
   },
   {
    "duration": 46,
    "start_time": "2022-11-12T13:24:47.828Z"
   },
   {
    "duration": 4,
    "start_time": "2022-11-12T13:25:00.929Z"
   },
   {
    "duration": 4,
    "start_time": "2022-11-12T13:25:03.992Z"
   },
   {
    "duration": 697,
    "start_time": "2022-11-12T13:25:09.782Z"
   },
   {
    "duration": 785,
    "start_time": "2022-11-12T13:26:17.455Z"
   },
   {
    "duration": 25,
    "start_time": "2022-11-12T13:26:43.165Z"
   },
   {
    "duration": 76,
    "start_time": "2022-11-12T13:27:05.469Z"
   },
   {
    "duration": 16,
    "start_time": "2022-11-12T13:27:05.548Z"
   },
   {
    "duration": 19,
    "start_time": "2022-11-12T13:27:05.566Z"
   },
   {
    "duration": 33,
    "start_time": "2022-11-12T13:27:05.587Z"
   },
   {
    "duration": 35,
    "start_time": "2022-11-12T13:27:05.622Z"
   },
   {
    "duration": 3,
    "start_time": "2022-11-12T13:27:05.659Z"
   },
   {
    "duration": 16,
    "start_time": "2022-11-12T13:27:05.664Z"
   },
   {
    "duration": 38,
    "start_time": "2022-11-12T13:27:05.681Z"
   },
   {
    "duration": 6,
    "start_time": "2022-11-12T13:27:05.721Z"
   },
   {
    "duration": 33,
    "start_time": "2022-11-12T13:27:05.730Z"
   },
   {
    "duration": 39,
    "start_time": "2022-11-12T13:27:05.764Z"
   },
   {
    "duration": 9,
    "start_time": "2022-11-12T13:27:05.805Z"
   },
   {
    "duration": 6,
    "start_time": "2022-11-12T13:27:05.816Z"
   },
   {
    "duration": 64,
    "start_time": "2022-11-12T13:27:05.824Z"
   },
   {
    "duration": 37,
    "start_time": "2022-11-12T13:27:05.890Z"
   },
   {
    "duration": 22,
    "start_time": "2022-11-12T13:27:05.929Z"
   },
   {
    "duration": 25,
    "start_time": "2022-11-12T13:27:05.953Z"
   },
   {
    "duration": 31,
    "start_time": "2022-11-12T13:27:05.979Z"
   },
   {
    "duration": 13,
    "start_time": "2022-11-12T13:27:06.012Z"
   },
   {
    "duration": 11,
    "start_time": "2022-11-12T13:27:06.027Z"
   },
   {
    "duration": 14,
    "start_time": "2022-11-12T13:27:06.040Z"
   },
   {
    "duration": 37,
    "start_time": "2022-11-12T13:27:06.056Z"
   },
   {
    "duration": 14,
    "start_time": "2022-11-12T13:27:06.095Z"
   },
   {
    "duration": 25,
    "start_time": "2022-11-12T13:27:06.111Z"
   },
   {
    "duration": 14,
    "start_time": "2022-11-12T13:27:06.138Z"
   },
   {
    "duration": 18,
    "start_time": "2022-11-12T13:27:06.153Z"
   },
   {
    "duration": 50,
    "start_time": "2022-11-12T13:27:06.173Z"
   },
   {
    "duration": 20,
    "start_time": "2022-11-12T13:27:06.228Z"
   },
   {
    "duration": 35,
    "start_time": "2022-11-12T13:27:06.250Z"
   },
   {
    "duration": 18,
    "start_time": "2022-11-12T13:27:06.286Z"
   },
   {
    "duration": 14,
    "start_time": "2022-11-12T13:27:06.306Z"
   },
   {
    "duration": 32,
    "start_time": "2022-11-12T13:27:06.322Z"
   },
   {
    "duration": 37,
    "start_time": "2022-11-12T13:27:06.356Z"
   },
   {
    "duration": 39,
    "start_time": "2022-11-12T13:27:06.395Z"
   },
   {
    "duration": 23,
    "start_time": "2022-11-12T13:27:06.435Z"
   },
   {
    "duration": 30,
    "start_time": "2022-11-12T13:27:06.460Z"
   },
   {
    "duration": 61,
    "start_time": "2022-11-12T13:27:06.493Z"
   },
   {
    "duration": 20,
    "start_time": "2022-11-12T13:27:06.556Z"
   },
   {
    "duration": 45,
    "start_time": "2022-11-12T13:27:06.578Z"
   },
   {
    "duration": 19,
    "start_time": "2022-11-12T13:27:06.625Z"
   },
   {
    "duration": 19,
    "start_time": "2022-11-12T13:28:21.622Z"
   },
   {
    "duration": 57,
    "start_time": "2022-11-12T13:28:41.126Z"
   },
   {
    "duration": 5,
    "start_time": "2022-11-12T13:29:24.644Z"
   },
   {
    "duration": 9,
    "start_time": "2022-11-12T13:29:26.776Z"
   },
   {
    "duration": 66,
    "start_time": "2022-11-12T13:29:27.878Z"
   },
   {
    "duration": 47,
    "start_time": "2022-11-12T13:29:44.953Z"
   },
   {
    "duration": 72,
    "start_time": "2022-11-12T13:31:15.735Z"
   },
   {
    "duration": 21,
    "start_time": "2022-11-12T13:31:15.810Z"
   },
   {
    "duration": 24,
    "start_time": "2022-11-12T13:31:15.835Z"
   },
   {
    "duration": 9,
    "start_time": "2022-11-12T13:31:15.862Z"
   },
   {
    "duration": 60,
    "start_time": "2022-11-12T13:31:15.873Z"
   },
   {
    "duration": 5,
    "start_time": "2022-11-12T13:31:15.935Z"
   },
   {
    "duration": 36,
    "start_time": "2022-11-12T13:31:15.942Z"
   },
   {
    "duration": 6,
    "start_time": "2022-11-12T13:31:15.980Z"
   },
   {
    "duration": 22,
    "start_time": "2022-11-12T13:31:15.988Z"
   },
   {
    "duration": 5,
    "start_time": "2022-11-12T13:31:16.014Z"
   },
   {
    "duration": 50,
    "start_time": "2022-11-12T13:31:16.020Z"
   },
   {
    "duration": 10,
    "start_time": "2022-11-12T13:31:16.072Z"
   },
   {
    "duration": 11,
    "start_time": "2022-11-12T13:31:16.083Z"
   },
   {
    "duration": 14,
    "start_time": "2022-11-12T13:31:16.096Z"
   },
   {
    "duration": 28,
    "start_time": "2022-11-12T13:31:16.112Z"
   },
   {
    "duration": 19,
    "start_time": "2022-11-12T13:31:16.142Z"
   },
   {
    "duration": 3,
    "start_time": "2022-11-12T13:31:16.163Z"
   },
   {
    "duration": 16,
    "start_time": "2022-11-12T13:31:16.168Z"
   },
   {
    "duration": 6,
    "start_time": "2022-11-12T13:31:16.185Z"
   },
   {
    "duration": 14,
    "start_time": "2022-11-12T13:31:16.193Z"
   },
   {
    "duration": 9,
    "start_time": "2022-11-12T13:31:16.230Z"
   },
   {
    "duration": 34,
    "start_time": "2022-11-12T13:31:16.241Z"
   },
   {
    "duration": 14,
    "start_time": "2022-11-12T13:31:16.277Z"
   },
   {
    "duration": 37,
    "start_time": "2022-11-12T13:31:16.293Z"
   },
   {
    "duration": 14,
    "start_time": "2022-11-12T13:31:16.332Z"
   },
   {
    "duration": 66,
    "start_time": "2022-11-12T13:31:16.348Z"
   },
   {
    "duration": 57,
    "start_time": "2022-11-12T13:31:16.415Z"
   },
   {
    "duration": 19,
    "start_time": "2022-11-12T13:31:16.476Z"
   },
   {
    "duration": 39,
    "start_time": "2022-11-12T13:31:16.497Z"
   },
   {
    "duration": 20,
    "start_time": "2022-11-12T13:31:16.538Z"
   },
   {
    "duration": 13,
    "start_time": "2022-11-12T13:31:16.560Z"
   },
   {
    "duration": 19,
    "start_time": "2022-11-12T13:31:16.575Z"
   },
   {
    "duration": 45,
    "start_time": "2022-11-12T13:31:16.596Z"
   },
   {
    "duration": 32,
    "start_time": "2022-11-12T13:31:16.643Z"
   },
   {
    "duration": 16,
    "start_time": "2022-11-12T13:31:16.676Z"
   },
   {
    "duration": 45,
    "start_time": "2022-11-12T13:31:16.695Z"
   },
   {
    "duration": 25,
    "start_time": "2022-11-12T13:31:16.742Z"
   },
   {
    "duration": 41,
    "start_time": "2022-11-12T13:31:16.769Z"
   },
   {
    "duration": 23,
    "start_time": "2022-11-12T13:31:16.820Z"
   },
   {
    "duration": 26,
    "start_time": "2022-11-12T13:31:16.844Z"
   },
   {
    "duration": 13,
    "start_time": "2022-11-12T13:31:16.871Z"
   },
   {
    "duration": 14,
    "start_time": "2022-11-12T13:31:55.918Z"
   },
   {
    "duration": 33,
    "start_time": "2022-11-12T13:32:02.974Z"
   },
   {
    "duration": 15,
    "start_time": "2022-11-12T13:33:05.147Z"
   },
   {
    "duration": 77,
    "start_time": "2022-11-12T13:36:52.168Z"
   },
   {
    "duration": 16,
    "start_time": "2022-11-12T13:36:52.247Z"
   },
   {
    "duration": 19,
    "start_time": "2022-11-12T13:36:52.264Z"
   },
   {
    "duration": 11,
    "start_time": "2022-11-12T13:36:52.285Z"
   },
   {
    "duration": 38,
    "start_time": "2022-11-12T13:36:52.320Z"
   },
   {
    "duration": 4,
    "start_time": "2022-11-12T13:36:52.360Z"
   },
   {
    "duration": 20,
    "start_time": "2022-11-12T13:36:52.366Z"
   },
   {
    "duration": 6,
    "start_time": "2022-11-12T13:36:52.387Z"
   },
   {
    "duration": 6,
    "start_time": "2022-11-12T13:36:52.420Z"
   },
   {
    "duration": 12,
    "start_time": "2022-11-12T13:36:52.428Z"
   },
   {
    "duration": 36,
    "start_time": "2022-11-12T13:36:52.442Z"
   },
   {
    "duration": 10,
    "start_time": "2022-11-12T13:36:52.480Z"
   },
   {
    "duration": 7,
    "start_time": "2022-11-12T13:36:52.491Z"
   },
   {
    "duration": 31,
    "start_time": "2022-11-12T13:36:52.499Z"
   },
   {
    "duration": 32,
    "start_time": "2022-11-12T13:36:52.532Z"
   },
   {
    "duration": 21,
    "start_time": "2022-11-12T13:36:52.566Z"
   },
   {
    "duration": 4,
    "start_time": "2022-11-12T13:36:52.589Z"
   },
   {
    "duration": 25,
    "start_time": "2022-11-12T13:36:52.595Z"
   },
   {
    "duration": 10,
    "start_time": "2022-11-12T13:36:52.622Z"
   },
   {
    "duration": 5,
    "start_time": "2022-11-12T13:36:52.633Z"
   },
   {
    "duration": 22,
    "start_time": "2022-11-12T13:36:52.639Z"
   },
   {
    "duration": 33,
    "start_time": "2022-11-12T13:36:52.663Z"
   },
   {
    "duration": 30,
    "start_time": "2022-11-12T13:36:52.698Z"
   },
   {
    "duration": 24,
    "start_time": "2022-11-12T13:36:52.730Z"
   },
   {
    "duration": 13,
    "start_time": "2022-11-12T13:36:52.756Z"
   },
   {
    "duration": 21,
    "start_time": "2022-11-12T13:36:52.771Z"
   },
   {
    "duration": 56,
    "start_time": "2022-11-12T13:36:52.793Z"
   },
   {
    "duration": 15,
    "start_time": "2022-11-12T13:36:52.853Z"
   },
   {
    "duration": 38,
    "start_time": "2022-11-12T13:36:52.870Z"
   },
   {
    "duration": 14,
    "start_time": "2022-11-12T13:36:52.919Z"
   },
   {
    "duration": 11,
    "start_time": "2022-11-12T13:36:52.935Z"
   },
   {
    "duration": 41,
    "start_time": "2022-11-12T13:36:52.947Z"
   },
   {
    "duration": 30,
    "start_time": "2022-11-12T13:36:52.990Z"
   },
   {
    "duration": 29,
    "start_time": "2022-11-12T13:36:53.021Z"
   },
   {
    "duration": 15,
    "start_time": "2022-11-12T13:36:53.051Z"
   },
   {
    "duration": 16,
    "start_time": "2022-11-12T13:36:53.067Z"
   },
   {
    "duration": 44,
    "start_time": "2022-11-12T13:36:53.084Z"
   },
   {
    "duration": 71,
    "start_time": "2022-11-12T13:36:53.130Z"
   },
   {
    "duration": 21,
    "start_time": "2022-11-12T13:36:53.203Z"
   },
   {
    "duration": 16,
    "start_time": "2022-11-12T13:36:53.226Z"
   },
   {
    "duration": 13,
    "start_time": "2022-11-12T13:36:53.243Z"
   },
   {
    "duration": 522,
    "start_time": "2023-01-25T16:30:22.381Z"
   },
   {
    "duration": 30,
    "start_time": "2023-01-25T16:30:22.905Z"
   },
   {
    "duration": 18,
    "start_time": "2023-01-25T16:30:22.937Z"
   },
   {
    "duration": 11,
    "start_time": "2023-01-25T16:30:22.957Z"
   },
   {
    "duration": 55,
    "start_time": "2023-01-25T16:30:22.971Z"
   },
   {
    "duration": 4,
    "start_time": "2023-01-25T16:30:23.028Z"
   },
   {
    "duration": 11,
    "start_time": "2023-01-25T16:30:23.034Z"
   },
   {
    "duration": 8,
    "start_time": "2023-01-25T16:30:23.047Z"
   },
   {
    "duration": 13,
    "start_time": "2023-01-25T16:30:23.057Z"
   },
   {
    "duration": 23,
    "start_time": "2023-01-25T16:30:23.072Z"
   },
   {
    "duration": 63,
    "start_time": "2023-01-25T16:30:23.097Z"
   },
   {
    "duration": 9,
    "start_time": "2023-01-25T16:30:23.162Z"
   },
   {
    "duration": 11,
    "start_time": "2023-01-25T16:30:23.172Z"
   },
   {
    "duration": 13,
    "start_time": "2023-01-25T16:30:23.186Z"
   },
   {
    "duration": 54,
    "start_time": "2023-01-25T16:30:23.200Z"
   },
   {
    "duration": 17,
    "start_time": "2023-01-25T16:30:23.256Z"
   },
   {
    "duration": 3,
    "start_time": "2023-01-25T16:30:23.275Z"
   },
   {
    "duration": 26,
    "start_time": "2023-01-25T16:30:23.279Z"
   },
   {
    "duration": 18,
    "start_time": "2023-01-25T16:30:23.309Z"
   },
   {
    "duration": 11,
    "start_time": "2023-01-25T16:30:23.329Z"
   },
   {
    "duration": 22,
    "start_time": "2023-01-25T16:30:23.341Z"
   },
   {
    "duration": 65,
    "start_time": "2023-01-25T16:30:23.365Z"
   },
   {
    "duration": 16,
    "start_time": "2023-01-25T16:30:23.431Z"
   },
   {
    "duration": 15,
    "start_time": "2023-01-25T16:30:23.448Z"
   },
   {
    "duration": 28,
    "start_time": "2023-01-25T16:30:23.465Z"
   },
   {
    "duration": 13,
    "start_time": "2023-01-25T16:30:23.497Z"
   },
   {
    "duration": 40,
    "start_time": "2023-01-25T16:30:23.512Z"
   },
   {
    "duration": 14,
    "start_time": "2023-01-25T16:30:23.554Z"
   },
   {
    "duration": 43,
    "start_time": "2023-01-25T16:30:23.570Z"
   },
   {
    "duration": 15,
    "start_time": "2023-01-25T16:30:23.615Z"
   },
   {
    "duration": 8,
    "start_time": "2023-01-25T16:30:23.632Z"
   },
   {
    "duration": 60,
    "start_time": "2023-01-25T16:30:23.642Z"
   },
   {
    "duration": 22,
    "start_time": "2023-01-25T16:30:23.705Z"
   },
   {
    "duration": 27,
    "start_time": "2023-01-25T16:30:23.728Z"
   },
   {
    "duration": 41,
    "start_time": "2023-01-25T16:30:23.757Z"
   },
   {
    "duration": 24,
    "start_time": "2023-01-25T16:30:23.801Z"
   },
   {
    "duration": 12,
    "start_time": "2023-01-25T16:30:23.827Z"
   },
   {
    "duration": 57,
    "start_time": "2023-01-25T16:30:23.841Z"
   },
   {
    "duration": 19,
    "start_time": "2023-01-25T16:30:23.902Z"
   },
   {
    "duration": 32,
    "start_time": "2023-01-25T16:30:23.922Z"
   },
   {
    "duration": 17,
    "start_time": "2023-01-25T16:30:23.959Z"
   }
  ],
  "colab": {
   "name": "dpp_template_part2.ipynb",
   "provenance": []
  },
  "kernelspec": {
   "display_name": "Python 3 (ipykernel)",
   "language": "python",
   "name": "python3"
  },
  "language_info": {
   "codemirror_mode": {
    "name": "ipython",
    "version": 3
   },
   "file_extension": ".py",
   "mimetype": "text/x-python",
   "name": "python",
   "nbconvert_exporter": "python",
   "pygments_lexer": "ipython3",
   "version": "3.9.13"
  },
  "toc": {
   "base_numbering": 1,
   "nav_menu": {},
   "number_sections": true,
   "sideBar": true,
   "skip_h1_title": true,
   "title_cell": "Table of Contents",
   "title_sidebar": "Contents",
   "toc_cell": false,
   "toc_position": {},
   "toc_section_display": true,
   "toc_window_display": false
  }
 },
 "nbformat": 4,
 "nbformat_minor": 5
}
